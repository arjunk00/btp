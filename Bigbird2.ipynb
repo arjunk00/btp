{
 "cells": [
  {
   "cell_type": "code",
   "execution_count": 1,
   "metadata": {
    "id": "DDLBgnaxxUfa"
   },
   "outputs": [
    {
     "name": "stderr",
     "output_type": "stream",
     "text": [
      "2023-11-21 14:55:39.412421: I tensorflow/core/platform/cpu_feature_guard.cc:182] This TensorFlow binary is optimized to use available CPU instructions in performance-critical operations.\n",
      "To enable the following instructions: AVX2 FMA, in other operations, rebuild TensorFlow with the appropriate compiler flags.\n",
      "2023-11-21 14:55:40.474259: W tensorflow/compiler/tf2tensorrt/utils/py_utils.cc:38] TF-TRT Warning: Could not find TensorRT\n"
     ]
    }
   ],
   "source": [
    "import tensorflow as tf\n",
    "from tensorflow.keras.models import Model\n",
    "from tensorflow.keras.layers import Input, Embedding, Bidirectional, GRU, Dense, Dropout, LayerNormalization, MultiHeadAttention\n",
    "from tensorflow.keras.preprocessing.text import Tokenizer\n",
    "from tensorflow.keras.preprocessing.sequence import pad_sequences\n",
    "from tensorflow.keras.optimizers.legacy import Adam\n",
    "from tensorflow.keras.callbacks import ModelCheckpoint\n",
    "from tensorflow.keras.layers import Layer\n",
    "\n",
    "import numpy as np"
   ]
  },
  {
   "cell_type": "code",
   "execution_count": 2,
   "metadata": {
    "id": "8BoK73xsx1um"
   },
   "outputs": [],
   "source": [
    "class Attention(Layer):\n",
    "    def __init__(self, d_model):\n",
    "        super(Attention, self).__init__()\n",
    "        self.d_model = d_model\n",
    "        self.dense_attention = MultiHeadAttention(num_heads=8, key_dim=d_model)\n",
    "        self.dense_layernorm = LayerNormalization(epsilon=1e-6)\n",
    "\n",
    "    def call(self, inputs):\n",
    "        x, attention_mask = inputs\n",
    "        attention_output = self.dense_attention(x, x, attention_mask=attention_mask)\n",
    "        attention_output = self.dense_layernorm(attention_output + x)\n",
    "        return attention_output"
   ]
  },
  {
   "cell_type": "code",
   "execution_count": 3,
   "metadata": {
    "id": "9U2c_8ZDx1xT"
   },
   "outputs": [],
   "source": [
    "class BigBird(Model):\n",
    "    def __init__(self, vocab_size, d_model, n_heads, num_layers, dff, rate=0.1):\n",
    "        super(BigBird, self).__init__()\n",
    "        self.embedding = Embedding(vocab_size, d_model)\n",
    "        self.position_embedding = Embedding(5000, d_model)\n",
    "        self.attention_layers = [Attention(d_model) for _ in range(num_layers)]\n",
    "        self.ffn_layers = [Dense(dff, activation='relu') for _ in range(num_layers)]\n",
    "        self.layernorm_layers = [LayerNormalization(epsilon=1e-6) for _ in range(num_layers)]\n",
    "        self.fc = Dense(vocab_size)\n",
    "        self.dropout = Dropout(rate)\n",
    "\n",
    "    def call(self, inputs, training=False):\n",
    "        x, attention_mask = inputs\n",
    "        seq_len = tf.shape(x)[1]\n",
    "        position_ids = tf.range(0, seq_len, delta=1, dtype=tf.int32)\n",
    "        position_ids = tf.expand_dims(position_ids, axis=0)\n",
    "\n",
    "        x = self.embedding(x)\n",
    "        position_embedding = self.position_embedding(position_ids)\n",
    "        x += position_embedding\n",
    "        x = self.dropout(x, training=training)\n",
    "\n",
    "        for i in range(len(self.attention_layers)):\n",
    "            x = self.attention_layers[i]([x, attention_mask], training=training)\n",
    "            x = self.ffn_layers[i](x, training=training)\n",
    "            x = self.layernorm_layers[i](x + x, training=training)\n",
    "            x = self.dropout(x, training=training)\n",
    "\n",
    "        return self.fc(x)"
   ]
  },
  {
   "cell_type": "code",
   "execution_count": 7,
   "metadata": {
    "colab": {
     "base_uri": "https://localhost:8080/",
     "height": 73
    },
    "id": "DkT8egMlx1zi",
    "outputId": "57aceb59-d12a-47fa-8857-1ca9dcb4103e"
   },
   "outputs": [],
   "source": [
    "import pandas as pd\n",
    "from sklearn.model_selection import train_test_split\n",
    "\n",
    "# from google.colab import files\n",
    "\n",
    "\n",
    "# uploaded = files.upload()"
   ]
  },
  {
   "cell_type": "code",
   "execution_count": 8,
   "metadata": {
    "colab": {
     "base_uri": "https://localhost:8080/",
     "height": 363
    },
    "id": "Th0Gn9Qxx112",
    "outputId": "7b691df8-f2fa-4b37-9df4-3d1865d4efd5"
   },
   "outputs": [
    {
     "data": {
      "text/html": [
       "<div>\n",
       "<style scoped>\n",
       "    .dataframe tbody tr th:only-of-type {\n",
       "        vertical-align: middle;\n",
       "    }\n",
       "\n",
       "    .dataframe tbody tr th {\n",
       "        vertical-align: top;\n",
       "    }\n",
       "\n",
       "    .dataframe thead th {\n",
       "        text-align: right;\n",
       "    }\n",
       "</style>\n",
       "<table border=\"1\" class=\"dataframe\">\n",
       "  <thead>\n",
       "    <tr style=\"text-align: right;\">\n",
       "      <th></th>\n",
       "      <th>speech</th>\n",
       "      <th>psychological_state</th>\n",
       "    </tr>\n",
       "  </thead>\n",
       "  <tbody>\n",
       "    <tr>\n",
       "      <th>0</th>\n",
       "      <td>From the moment that the French defenses at Se...</td>\n",
       "      <td>dominance</td>\n",
       "    </tr>\n",
       "    <tr>\n",
       "      <th>1</th>\n",
       "      <td>We observe today not a victory of party but a ...</td>\n",
       "      <td>hope</td>\n",
       "    </tr>\n",
       "    <tr>\n",
       "      <th>2</th>\n",
       "      <td>Your Majesties, Your Highnesses, Distinguished...</td>\n",
       "      <td>love</td>\n",
       "    </tr>\n",
       "    <tr>\n",
       "      <th>3</th>\n",
       "      <td>I am honored to be with you today at your comm...</td>\n",
       "      <td>love</td>\n",
       "    </tr>\n",
       "    <tr>\n",
       "      <th>4</th>\n",
       "      <td>Honorable UN Secretary General Mr Ban Ki-moon,...</td>\n",
       "      <td>hope</td>\n",
       "    </tr>\n",
       "    <tr>\n",
       "      <th>5</th>\n",
       "      <td>It is with a profound sense of humility that I...</td>\n",
       "      <td>sentimentality</td>\n",
       "    </tr>\n",
       "    <tr>\n",
       "      <th>6</th>\n",
       "      <td>My message is that we'll be watching you.\\n\\n\"...</td>\n",
       "      <td>dispair</td>\n",
       "    </tr>\n",
       "    <tr>\n",
       "      <th>7</th>\n",
       "      <td>Hello everybody. You know, Michelle and I have...</td>\n",
       "      <td>love</td>\n",
       "    </tr>\n",
       "    <tr>\n",
       "      <th>8</th>\n",
       "      <td>Your Majesties, Your Royal Highness, Excellenc...</td>\n",
       "      <td>optimism</td>\n",
       "    </tr>\n",
       "    <tr>\n",
       "      <th>9</th>\n",
       "      <td>Five score years ago, a great American, in who...</td>\n",
       "      <td>shame</td>\n",
       "    </tr>\n",
       "  </tbody>\n",
       "</table>\n",
       "</div>"
      ],
      "text/plain": [
       "                                              speech psychological_state\n",
       "0  From the moment that the French defenses at Se...           dominance\n",
       "1  We observe today not a victory of party but a ...                hope\n",
       "2  Your Majesties, Your Highnesses, Distinguished...                love\n",
       "3  I am honored to be with you today at your comm...                love\n",
       "4  Honorable UN Secretary General Mr Ban Ki-moon,...                hope\n",
       "5  It is with a profound sense of humility that I...      sentimentality\n",
       "6  My message is that we'll be watching you.\\n\\n\"...             dispair\n",
       "7  Hello everybody. You know, Michelle and I have...                love\n",
       "8  Your Majesties, Your Royal Highness, Excellenc...            optimism\n",
       "9  Five score years ago, a great American, in who...               shame"
      ]
     },
     "execution_count": 8,
     "metadata": {},
     "output_type": "execute_result"
    }
   ],
   "source": [
    "import io\n",
    "\n",
    "data = pd.read_csv('dataset.csv')\n",
    "data"
   ]
  },
  {
   "cell_type": "code",
   "execution_count": 9,
   "metadata": {
    "colab": {
     "base_uri": "https://localhost:8080/"
    },
    "id": "9g6f7Jcfx14G",
    "outputId": "bfa1b019-1b19-4353-c7fb-ab490cc92fbc"
   },
   "outputs": [
    {
     "data": {
      "text/plain": [
       "0    From the moment that the French defenses at Se...\n",
       "1    We observe today not a victory of party but a ...\n",
       "2    Your Majesties, Your Highnesses, Distinguished...\n",
       "3    I am honored to be with you today at your comm...\n",
       "4    Honorable UN Secretary General Mr Ban Ki-moon,...\n",
       "5    It is with a profound sense of humility that I...\n",
       "6    My message is that we'll be watching you.\\n\\n\"...\n",
       "7    Hello everybody. You know, Michelle and I have...\n",
       "8    Your Majesties, Your Royal Highness, Excellenc...\n",
       "9    Five score years ago, a great American, in who...\n",
       "Name: speech, dtype: object"
      ]
     },
     "execution_count": 9,
     "metadata": {},
     "output_type": "execute_result"
    }
   ],
   "source": [
    "data_f = data[\"speech\"]\n",
    "data_f"
   ]
  },
  {
   "cell_type": "code",
   "execution_count": 12,
   "metadata": {
    "id": "UQ8jV5Frx16X"
   },
   "outputs": [],
   "source": [
    "X_train, X_test, y_train, y_test = train_test_split(data['speech'], data['psychological_state'], test_size=0.2, random_state=42)"
   ]
  },
  {
   "cell_type": "code",
   "execution_count": 13,
   "metadata": {
    "colab": {
     "base_uri": "https://localhost:8080/"
    },
    "id": "q485_jJp1A5j",
    "outputId": "1b32a69f-a662-4695-f1db-73ec15210e3d"
   },
   "outputs": [
    {
     "data": {
      "text/plain": [
       "5    It is with a profound sense of humility that I...\n",
       "0    From the moment that the French defenses at Se...\n",
       "7    Hello everybody. You know, Michelle and I have...\n",
       "2    Your Majesties, Your Highnesses, Distinguished...\n",
       "9    Five score years ago, a great American, in who...\n",
       "4    Honorable UN Secretary General Mr Ban Ki-moon,...\n",
       "3    I am honored to be with you today at your comm...\n",
       "6    My message is that we'll be watching you.\\n\\n\"...\n",
       "Name: speech, dtype: object"
      ]
     },
     "execution_count": 13,
     "metadata": {},
     "output_type": "execute_result"
    }
   ],
   "source": [
    "X_train"
   ]
  },
  {
   "cell_type": "code",
   "execution_count": 14,
   "metadata": {
    "colab": {
     "base_uri": "https://localhost:8080/"
    },
    "id": "PJTh2MkH1BDv",
    "outputId": "f4c2077b-dfb5-4ab3-d63f-06c49fbb71ea"
   },
   "outputs": [
    {
     "data": {
      "text/plain": [
       "8    Your Majesties, Your Royal Highness, Excellenc...\n",
       "1    We observe today not a victory of party but a ...\n",
       "Name: speech, dtype: object"
      ]
     },
     "execution_count": 14,
     "metadata": {},
     "output_type": "execute_result"
    }
   ],
   "source": [
    "X_test"
   ]
  },
  {
   "cell_type": "code",
   "execution_count": 12,
   "metadata": {
    "id": "xO35v4lox198"
   },
   "outputs": [],
   "source": [
    "# import nltk\n",
    "# nltk.download('stopwords')\n",
    "# nltk.download('punkt')"
   ]
  },
  {
   "cell_type": "code",
   "execution_count": 13,
   "metadata": {
    "id": "MheTunRn0rhc"
   },
   "outputs": [],
   "source": [
    "# from nltk.corpus import stopwords\n",
    "# from nltk.tokenize import word_tokenize\n",
    "# import string\n",
    "\n",
    "# stop_words=set(stopwords.words('english'))\n",
    "# def preprocess_speech(text):\n",
    "#     text=text.lower()\n",
    "#     text=''.join([word for word in text if word not in string.punctuation])\n",
    "#     tokens=word_tokenize(text)\n",
    "#     tokens=[word for word in tokens if word not in stop_words]\n",
    "#     return ' '.join(tokens)"
   ]
  },
  {
   "cell_type": "code",
   "execution_count": 16,
   "metadata": {
    "id": "V-cjO1DG0rjl"
   },
   "outputs": [],
   "source": [
    "# Prepare your text data here and split it into training and validation sets.\n",
    "# Assuming 'train_text' and 'val_text' are your text datasets.\n",
    "\n",
    "# Create a Tokenizer instance\n",
    "tokenizer = Tokenizer(num_words=5000, oov_token=\"<OOV>\")\n",
    "tokenizer.fit_on_texts(X_train)\n",
    "\n",
    "# Convert your text data into sequences\n",
    "train_seq = tokenizer.texts_to_sequences(X_train)\n",
    "val_seq = tokenizer.texts_to_sequences(X_test)"
   ]
  },
  {
   "cell_type": "code",
   "execution_count": 17,
   "metadata": {
    "id": "FaZbsy1c0rls"
   },
   "outputs": [],
   "source": [
    "# Pad your sequences\n",
    "train_padded = pad_sequences(train_seq, maxlen=4000, padding='post')\n",
    "val_padded = pad_sequences(val_seq, maxlen=4000, padding='post')"
   ]
  },
  {
   "cell_type": "code",
   "execution_count": 18,
   "metadata": {
    "id": "G-Y-66j90rn5"
   },
   "outputs": [],
   "source": [
    "# Create attention masks\n",
    "def create_mask(x):\n",
    "    mask = tf.cast(tf.math.equal(x, 0), tf.float32)\n",
    "    return mask[:, tf.newaxis]\n",
    "\n",
    "train_mask = create_mask(train_padded)\n",
    "val_mask = create_mask(val_padded)"
   ]
  },
  {
   "cell_type": "code",
   "execution_count": 23,
   "metadata": {
    "colab": {
     "base_uri": "https://localhost:8080/"
    },
    "id": "TftHXSiG2NI3",
    "outputId": "84c28182-0294-4156-f206-fd98b7b2ab2c"
   },
   "outputs": [
    {
     "data": {
      "text/plain": [
       "array([[  17,   11,   23, ...,    0,    0,    0],\n",
       "       [  30,    2,  119, ...,    0,    0,    0],\n",
       "       [1545,  782,   18, ...,    0,    0,    0],\n",
       "       ...,\n",
       "       [ 554,  306,  865, ...,    0,    0,    0],\n",
       "       [  10,  106, 2160, ...,    0,    0,    0],\n",
       "       [  32,  924,   11, ...,    0,    0,    0]], dtype=int32)"
      ]
     },
     "execution_count": 23,
     "metadata": {},
     "output_type": "execute_result"
    }
   ],
   "source": [
    "train_padded"
   ]
  },
  {
   "cell_type": "code",
   "execution_count": 24,
   "metadata": {
    "colab": {
     "base_uri": "https://localhost:8080/"
    },
    "id": "87SQjYiy2avu",
    "outputId": "4080e4d5-4b3b-4a36-9f3c-d285e783e935"
   },
   "outputs": [
    {
     "data": {
      "text/plain": [
       "array([[  66, 1633,   66, ...,    0,    0,    0],\n",
       "       [   7, 1476,   59, ...,    0,    0,    0]], dtype=int32)"
      ]
     },
     "execution_count": 24,
     "metadata": {},
     "output_type": "execute_result"
    }
   ],
   "source": [
    "val_padded"
   ]
  },
  {
   "cell_type": "code",
   "execution_count": 31,
   "metadata": {
    "colab": {
     "base_uri": "https://localhost:8080/"
    },
    "id": "6aAFkGE-2a3d",
    "outputId": "44e0aea6-f5b1-495d-f8da-d64a6b2ebfb5"
   },
   "outputs": [
    {
     "name": "stdout",
     "output_type": "stream",
     "text": [
      "Original labels: 0         dominance\n",
      "1              hope\n",
      "2              love\n",
      "3              love\n",
      "4              hope\n",
      "5    sentimentality\n",
      "6           dispair\n",
      "7              love\n",
      "8          optimism\n",
      "9             shame\n",
      "Name: psychological_state, dtype: object\n",
      "Numerical labels: [1 2 3 3 2 5 0 3 4 6]\n"
     ]
    }
   ],
   "source": [
    "from sklearn.preprocessing import LabelEncoder\n",
    "\n",
    "# Sample non-numerical labels\n",
    "original_labels = data['psychological_state']\n",
    "\n",
    "# Use LabelEncoder to convert non-numerical labels to numerical labels\n",
    "label_encoder = LabelEncoder()\n",
    "numerical_labels = label_encoder.fit_transform(original_labels)\n",
    "\n",
    "print(\"Original labels:\", original_labels)\n",
    "print(\"Numerical labels:\", numerical_labels)\n"
   ]
  },
  {
   "cell_type": "code",
   "execution_count": 32,
   "metadata": {
    "id": "CSTFbNLJ2a61"
   },
   "outputs": [],
   "source": [
    "X_train, X_test, y_train, y_test = train_test_split(data['speech'], numerical_labels, test_size=0.2, random_state=42)"
   ]
  },
  {
   "cell_type": "code",
   "execution_count": 33,
   "metadata": {
    "colab": {
     "base_uri": "https://localhost:8080/"
    },
    "id": "n9Q1wSYu7mhF",
    "outputId": "26c56091-f1c5-4e48-d8b0-f1170817d4ce"
   },
   "outputs": [
    {
     "name": "stdout",
     "output_type": "stream",
     "text": [
      "5    It is with a profound sense of humility that I...\n",
      "0    From the moment that the French defenses at Se...\n",
      "7    Hello everybody. You know, Michelle and I have...\n",
      "2    Your Majesties, Your Highnesses, Distinguished...\n",
      "9    Five score years ago, a great American, in who...\n",
      "4    Honorable UN Secretary General Mr Ban Ki-moon,...\n",
      "3    I am honored to be with you today at your comm...\n",
      "6    My message is that we'll be watching you.\\n\\n\"...\n",
      "Name: speech, dtype: object\n",
      "8    Your Majesties, Your Royal Highness, Excellenc...\n",
      "1    We observe today not a victory of party but a ...\n",
      "Name: speech, dtype: object\n",
      "[5 1 3 3 6 2 3 0]\n",
      "[4 2]\n"
     ]
    }
   ],
   "source": [
    "print(X_train)\n",
    "print(X_test)\n",
    "print(y_train)\n",
    "print(y_test)"
   ]
  },
  {
   "cell_type": "code",
   "execution_count": null,
   "metadata": {
    "id": "fesSD-GL7mkq"
   },
   "outputs": [],
   "source": []
  },
  {
   "cell_type": "code",
   "execution_count": 25,
   "metadata": {
    "id": "x315NZFK0rp6"
   },
   "outputs": [],
   "source": [
    "vocab_size = 5000  # Assuming you have a vocabulary of 5000 words\n",
    "d_model = 128  # Adjust this based on your requirements\n",
    "n_heads = 8\n",
    "num_layers = 4\n",
    "dff = 512\n",
    "rate = 0.1\n",
    "\n",
    "bigbird_model = BigBird(vocab_size, d_model, n_heads, num_layers, dff, rate)\n"
   ]
  },
  {
   "cell_type": "code",
   "execution_count": 26,
   "metadata": {
    "id": "NdEsgF8X29pp"
   },
   "outputs": [],
   "source": [
    "bigbird_model.compile(optimizer=Adam(), loss='sparse_categorical_crossentropy', metrics=['accuracy'])\n"
   ]
  },
  {
   "cell_type": "code",
   "execution_count": 35,
   "metadata": {
    "colab": {
     "base_uri": "https://localhost:8080/",
     "height": 1000
    },
    "id": "Yao0IOfh29rw",
    "outputId": "f08911d1-7145-48d3-ee58-46605c670f79"
   },
   "outputs": [
    {
     "name": "stdout",
     "output_type": "stream",
     "text": [
      "Epoch 1/10\n"
     ]
    },
    {
     "ename": "ResourceExhaustedError",
     "evalue": "ignored",
     "output_type": "error",
     "traceback": [
      "\u001b[0;31m---------------------------------------------------------------------------\u001b[0m",
      "\u001b[0;31mResourceExhaustedError\u001b[0m                    Traceback (most recent call last)",
      "\u001b[0;32m<ipython-input-35-2f19463eba5d>\u001b[0m in \u001b[0;36m<cell line: 2>\u001b[0;34m()\u001b[0m\n\u001b[1;32m      1\u001b[0m \u001b[0;31m# Assuming you have labels for your training data in train_labels\u001b[0m\u001b[0;34m\u001b[0m\u001b[0;34m\u001b[0m\u001b[0m\n\u001b[0;32m----> 2\u001b[0;31m bigbird_model.fit(\n\u001b[0m\u001b[1;32m      3\u001b[0m     \u001b[0mx\u001b[0m\u001b[0;34m=\u001b[0m\u001b[0;34m[\u001b[0m\u001b[0mtrain_padded\u001b[0m\u001b[0;34m,\u001b[0m \u001b[0mtrain_mask\u001b[0m\u001b[0;34m]\u001b[0m\u001b[0;34m,\u001b[0m\u001b[0;34m\u001b[0m\u001b[0;34m\u001b[0m\u001b[0m\n\u001b[1;32m      4\u001b[0m     \u001b[0my\u001b[0m\u001b[0;34m=\u001b[0m\u001b[0my_train\u001b[0m\u001b[0;34m,\u001b[0m\u001b[0;34m\u001b[0m\u001b[0;34m\u001b[0m\u001b[0m\n\u001b[1;32m      5\u001b[0m     \u001b[0mepochs\u001b[0m\u001b[0;34m=\u001b[0m\u001b[0;36m10\u001b[0m\u001b[0;34m,\u001b[0m  \u001b[0;31m# Adjust the number of epochs as needed\u001b[0m\u001b[0;34m\u001b[0m\u001b[0;34m\u001b[0m\u001b[0m\n",
      "\u001b[0;32m/usr/local/lib/python3.10/dist-packages/keras/src/utils/traceback_utils.py\u001b[0m in \u001b[0;36merror_handler\u001b[0;34m(*args, **kwargs)\u001b[0m\n\u001b[1;32m     68\u001b[0m             \u001b[0;31m# To get the full stack trace, call:\u001b[0m\u001b[0;34m\u001b[0m\u001b[0;34m\u001b[0m\u001b[0m\n\u001b[1;32m     69\u001b[0m             \u001b[0;31m# `tf.debugging.disable_traceback_filtering()`\u001b[0m\u001b[0;34m\u001b[0m\u001b[0;34m\u001b[0m\u001b[0m\n\u001b[0;32m---> 70\u001b[0;31m             \u001b[0;32mraise\u001b[0m \u001b[0me\u001b[0m\u001b[0;34m.\u001b[0m\u001b[0mwith_traceback\u001b[0m\u001b[0;34m(\u001b[0m\u001b[0mfiltered_tb\u001b[0m\u001b[0;34m)\u001b[0m \u001b[0;32mfrom\u001b[0m \u001b[0;32mNone\u001b[0m\u001b[0;34m\u001b[0m\u001b[0;34m\u001b[0m\u001b[0m\n\u001b[0m\u001b[1;32m     71\u001b[0m         \u001b[0;32mfinally\u001b[0m\u001b[0;34m:\u001b[0m\u001b[0;34m\u001b[0m\u001b[0;34m\u001b[0m\u001b[0m\n\u001b[1;32m     72\u001b[0m             \u001b[0;32mdel\u001b[0m \u001b[0mfiltered_tb\u001b[0m\u001b[0;34m\u001b[0m\u001b[0;34m\u001b[0m\u001b[0m\n",
      "\u001b[0;32m/usr/local/lib/python3.10/dist-packages/tensorflow/python/eager/execute.py\u001b[0m in \u001b[0;36mquick_execute\u001b[0;34m(op_name, num_outputs, inputs, attrs, ctx, name)\u001b[0m\n\u001b[1;32m     58\u001b[0m         \u001b[0;32mfor\u001b[0m \u001b[0mt\u001b[0m \u001b[0;32min\u001b[0m \u001b[0minputs\u001b[0m\u001b[0;34m\u001b[0m\u001b[0;34m\u001b[0m\u001b[0m\n\u001b[1;32m     59\u001b[0m     ]\n\u001b[0;32m---> 60\u001b[0;31m     tensors = pywrap_tfe.TFE_Py_Execute(ctx._handle, device_name, op_name,\n\u001b[0m\u001b[1;32m     61\u001b[0m                                         inputs, attrs, num_outputs)\n\u001b[1;32m     62\u001b[0m   \u001b[0;32mexcept\u001b[0m \u001b[0mcore\u001b[0m\u001b[0;34m.\u001b[0m\u001b[0m_NotOkStatusException\u001b[0m \u001b[0;32mas\u001b[0m \u001b[0me\u001b[0m\u001b[0;34m:\u001b[0m\u001b[0;34m\u001b[0m\u001b[0;34m\u001b[0m\u001b[0m\n",
      "\u001b[0;31mResourceExhaustedError\u001b[0m: Graph execution error:\n\nDetected at node big_bird_1/attention_4/multi_head_attention_4/softmax/Softmax defined at (most recent call last):\n  File \"/usr/lib/python3.10/runpy.py\", line 196, in _run_module_as_main\n\n  File \"/usr/lib/python3.10/runpy.py\", line 86, in _run_code\n\n  File \"/usr/local/lib/python3.10/dist-packages/colab_kernel_launcher.py\", line 37, in <module>\n\n  File \"/usr/local/lib/python3.10/dist-packages/traitlets/config/application.py\", line 992, in launch_instance\n\n  File \"/usr/local/lib/python3.10/dist-packages/ipykernel/kernelapp.py\", line 619, in start\n\n  File \"/usr/local/lib/python3.10/dist-packages/tornado/platform/asyncio.py\", line 195, in start\n\n  File \"/usr/lib/python3.10/asyncio/base_events.py\", line 603, in run_forever\n\n  File \"/usr/lib/python3.10/asyncio/base_events.py\", line 1909, in _run_once\n\n  File \"/usr/lib/python3.10/asyncio/events.py\", line 80, in _run\n\n  File \"/usr/local/lib/python3.10/dist-packages/tornado/ioloop.py\", line 685, in <lambda>\n\n  File \"/usr/local/lib/python3.10/dist-packages/tornado/ioloop.py\", line 738, in _run_callback\n\n  File \"/usr/local/lib/python3.10/dist-packages/tornado/gen.py\", line 825, in inner\n\n  File \"/usr/local/lib/python3.10/dist-packages/tornado/gen.py\", line 786, in run\n\n  File \"/usr/local/lib/python3.10/dist-packages/ipykernel/kernelbase.py\", line 361, in process_one\n\n  File \"/usr/local/lib/python3.10/dist-packages/tornado/gen.py\", line 234, in wrapper\n\n  File \"/usr/local/lib/python3.10/dist-packages/ipykernel/kernelbase.py\", line 261, in dispatch_shell\n\n  File \"/usr/local/lib/python3.10/dist-packages/tornado/gen.py\", line 234, in wrapper\n\n  File \"/usr/local/lib/python3.10/dist-packages/ipykernel/kernelbase.py\", line 539, in execute_request\n\n  File \"/usr/local/lib/python3.10/dist-packages/tornado/gen.py\", line 234, in wrapper\n\n  File \"/usr/local/lib/python3.10/dist-packages/ipykernel/ipkernel.py\", line 302, in do_execute\n\n  File \"/usr/local/lib/python3.10/dist-packages/ipykernel/zmqshell.py\", line 539, in run_cell\n\n  File \"/usr/local/lib/python3.10/dist-packages/IPython/core/interactiveshell.py\", line 2975, in run_cell\n\n  File \"/usr/local/lib/python3.10/dist-packages/IPython/core/interactiveshell.py\", line 3030, in _run_cell\n\n  File \"/usr/local/lib/python3.10/dist-packages/IPython/core/async_helpers.py\", line 78, in _pseudo_sync_runner\n\n  File \"/usr/local/lib/python3.10/dist-packages/IPython/core/interactiveshell.py\", line 3257, in run_cell_async\n\n  File \"/usr/local/lib/python3.10/dist-packages/IPython/core/interactiveshell.py\", line 3473, in run_ast_nodes\n\n  File \"/usr/local/lib/python3.10/dist-packages/IPython/core/interactiveshell.py\", line 3553, in run_code\n\n  File \"<ipython-input-34-2f19463eba5d>\", line 2, in <cell line: 2>\n\n  File \"/usr/local/lib/python3.10/dist-packages/keras/src/utils/traceback_utils.py\", line 65, in error_handler\n\n  File \"/usr/local/lib/python3.10/dist-packages/keras/src/engine/training.py\", line 1783, in fit\n\n  File \"/usr/local/lib/python3.10/dist-packages/keras/src/engine/training.py\", line 1377, in train_function\n\n  File \"/usr/local/lib/python3.10/dist-packages/keras/src/engine/training.py\", line 1360, in step_function\n\n  File \"/usr/local/lib/python3.10/dist-packages/keras/src/engine/training.py\", line 1349, in run_step\n\n  File \"/usr/local/lib/python3.10/dist-packages/keras/src/engine/training.py\", line 1126, in train_step\n\n  File \"/usr/local/lib/python3.10/dist-packages/keras/src/utils/traceback_utils.py\", line 65, in error_handler\n\n  File \"/usr/local/lib/python3.10/dist-packages/keras/src/engine/training.py\", line 589, in __call__\n\n  File \"/usr/local/lib/python3.10/dist-packages/keras/src/utils/traceback_utils.py\", line 65, in error_handler\n\n  File \"/usr/local/lib/python3.10/dist-packages/keras/src/engine/base_layer.py\", line 1149, in __call__\n\n  File \"/usr/local/lib/python3.10/dist-packages/keras/src/utils/traceback_utils.py\", line 96, in error_handler\n\n  File \"<ipython-input-5-2523c4f3799a>\", line 23, in call\n\n  File \"<ipython-input-5-2523c4f3799a>\", line 24, in call\n\n  File \"/usr/local/lib/python3.10/dist-packages/keras/src/utils/traceback_utils.py\", line 65, in error_handler\n\n  File \"/usr/local/lib/python3.10/dist-packages/keras/src/engine/base_layer.py\", line 1149, in __call__\n\n  File \"/usr/local/lib/python3.10/dist-packages/keras/src/utils/traceback_utils.py\", line 96, in error_handler\n\n  File \"<ipython-input-4-ef3dda19b534>\", line 10, in call\n\n  File \"/usr/local/lib/python3.10/dist-packages/keras/src/utils/traceback_utils.py\", line 65, in error_handler\n\n  File \"/usr/local/lib/python3.10/dist-packages/keras/src/engine/base_layer.py\", line 1149, in __call__\n\n  File \"/usr/local/lib/python3.10/dist-packages/keras/src/utils/traceback_utils.py\", line 96, in error_handler\n\n  File \"/usr/local/lib/python3.10/dist-packages/keras/src/layers/attention/multi_head_attention.py\", line 600, in call\n\n  File \"/usr/local/lib/python3.10/dist-packages/keras/src/layers/attention/multi_head_attention.py\", line 533, in _compute_attention\n\n  File \"/usr/local/lib/python3.10/dist-packages/keras/src/layers/attention/multi_head_attention.py\", line 499, in _masked_softmax\n\n  File \"/usr/local/lib/python3.10/dist-packages/keras/src/utils/traceback_utils.py\", line 65, in error_handler\n\n  File \"/usr/local/lib/python3.10/dist-packages/keras/src/engine/base_layer.py\", line 1149, in __call__\n\n  File \"/usr/local/lib/python3.10/dist-packages/keras/src/utils/traceback_utils.py\", line 96, in error_handler\n\n  File \"/usr/local/lib/python3.10/dist-packages/keras/src/layers/activation/softmax.py\", line 107, in call\n\n  File \"/usr/local/lib/python3.10/dist-packages/keras/src/backend.py\", line 5450, in softmax\n\nOOM when allocating tensor with shape[8,8,4000,4000] and type float on /job:localhost/replica:0/task:0/device:GPU:0 by allocator GPU_0_bfc\n\t [[{{node big_bird_1/attention_4/multi_head_attention_4/softmax/Softmax}}]]\nHint: If you want to see a list of allocated tensors when OOM happens, add report_tensor_allocations_upon_oom to RunOptions for current allocation info. This isn't available when running in Eager mode.\n [Op:__inference_train_function_9025]"
     ]
    }
   ],
   "source": [
    "# Assuming you have labels for your training data in train_labels\n",
    "bigbird_model.fit(\n",
    "    x=[train_padded, train_mask],\n",
    "    y=y_train,\n",
    "    epochs=10,  # Adjust the number of epochs as needed\n",
    "    validation_data=([val_padded, val_mask], y_test)\n",
    ")\n"
   ]
  },
  {
   "cell_type": "code",
   "execution_count": null,
   "metadata": {
    "id": "OMOmOLQi29vW"
   },
   "outputs": [],
   "source": [
    "predictions = bigbird_model.predict([val_padded, create_mask(val_padded)])\n"
   ]
  },
  {
   "cell_type": "code",
   "execution_count": null,
   "metadata": {
    "id": "roscV3kJ8kFM"
   },
   "outputs": [],
   "source": [
    "eval_results = bigbird_model.evaluate([val_padded, create_mask(val_padded)], val_labels)\n",
    "print(\"Evaluation results:\", eval_results)\n"
   ]
  },
  {
   "cell_type": "code",
   "execution_count": null,
   "metadata": {
    "id": "D45e2i0P0rsL"
   },
   "outputs": [],
   "source": [
    "# Use BigBird model to generate word embeddings\n",
    "# word_embeddings = bigbird.predict([train_padded, train_mask])"
   ]
  },
  {
   "cell_type": "code",
   "execution_count": null,
   "metadata": {
    "id": "LdMl4Sjw1n1t"
   },
   "outputs": [],
   "source": []
  },
  {
   "cell_type": "code",
   "execution_count": null,
   "metadata": {
    "id": "UG0C6hcg1n4A"
   },
   "outputs": [],
   "source": []
  },
  {
   "cell_type": "code",
   "execution_count": null,
   "metadata": {
    "id": "KkrzH6XH1n6K"
   },
   "outputs": [],
   "source": []
  },
  {
   "cell_type": "code",
   "execution_count": null,
   "metadata": {
    "id": "Cz-UL89R1n8i"
   },
   "outputs": [],
   "source": []
  },
  {
   "cell_type": "code",
   "execution_count": null,
   "metadata": {
    "id": "QCTggeJa1n__"
   },
   "outputs": [],
   "source": []
  },
  {
   "cell_type": "code",
   "execution_count": null,
   "metadata": {
    "id": "UO8pDcR00rvk"
   },
   "outputs": [],
   "source": []
  }
 ],
 "metadata": {
  "accelerator": "GPU",
  "colab": {
   "gpuType": "T4",
   "provenance": []
  },
  "kernelspec": {
   "display_name": "Python 3 (ipykernel)",
   "language": "python",
   "name": "python3"
  },
  "language_info": {
   "codemirror_mode": {
    "name": "ipython",
    "version": 3
   },
   "file_extension": ".py",
   "mimetype": "text/x-python",
   "name": "python",
   "nbconvert_exporter": "python",
   "pygments_lexer": "ipython3",
   "version": "3.11.4"
  }
 },
 "nbformat": 4,
 "nbformat_minor": 4
}
