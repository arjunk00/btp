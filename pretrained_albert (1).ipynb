{
 "cells": [
  {
   "cell_type": "code",
   "execution_count": null,
   "id": "2087839d-5d9c-411f-89db-220bfb78de3a",
   "metadata": {
    "id": "2087839d-5d9c-411f-89db-220bfb78de3a",
    "is_executing": true
   },
   "outputs": [],
   "source": [
    "import tensorflow as tf\n",
    "import pandas as pd\n",
    "import numpy as np\n",
    "from transformers import AlbertTokenizer, TFAlbertForSequenceClassification\n",
    "import nltk\n",
    "from nltk.corpus import stopwords\n",
    "from nltk.stem import PorterStemmer\n",
    "from nltk.tokenize import word_tokenize\n",
    "import string"
   ]
  },
  {
   "cell_type": "code",
   "execution_count": null,
   "id": "b5df027a-a521-49d7-9400-2494074b45e9",
   "metadata": {
    "colab": {
     "base_uri": "https://localhost:8080/",
     "height": 363
    },
    "collapsed": true,
    "id": "b5df027a-a521-49d7-9400-2494074b45e9",
    "outputId": "24f7d204-9ac6-43d4-ff33-f25600fd2f38",
    "is_executing": true
   },
   "outputs": [],
   "source": [
    "df=pd.read_csv('one_output_dataset.csv')\n",
    "df"
   ]
  },
  {
   "cell_type": "code",
   "source": [
    "dict={'anger':1.0, 'joy':2.0, 'trust':3.0, 'anticipation':4.0, 'sadness':5.0, 'fear':6.0}\n",
    "df=df.replace(dict)\n",
    "df['emotion'] = df['emotion'].apply(pd.to_numeric)\n",
    "df"
   ],
   "metadata": {
    "colab": {
     "base_uri": "https://localhost:8080/",
     "height": 363
    },
    "id": "fPjNOWUtEnl_",
    "outputId": "3063387a-61af-49ed-bb5c-a5a28236186d"
   },
   "id": "fPjNOWUtEnl_",
   "execution_count": 46,
   "outputs": [
    {
     "output_type": "execute_result",
     "data": {
      "text/plain": [
       "                                              speech  emotion\n",
       "0  moment french defens sedan meus broken end sec...      1.0\n",
       "1  observ today victori parti celebr freedomsymbo...      2.0\n",
       "2  majesti high distinguish guest comrad friend t...      3.0\n",
       "3  honor today commenc one finest univers world n...      4.0\n",
       "4  honor un secretari gener mr ban kimoon respect...      5.0\n",
       "5  profound sens humil accept honor chosen bestow...      5.0\n",
       "6  messag well watch wrong shouldnt back school s...      6.0\n",
       "7  hello everybodi know michel realli milk goodby...      2.0\n",
       "8  majesti royal high excel distinguish member no...      4.0\n",
       "9  five score year ago great american whose symbo...      3.0"
      ],
      "text/html": [
       "\n",
       "  <div id=\"df-3fecea01-5936-4cd9-b071-a28d81c606f1\" class=\"colab-df-container\">\n",
       "    <div>\n",
       "<style scoped>\n",
       "    .dataframe tbody tr th:only-of-type {\n",
       "        vertical-align: middle;\n",
       "    }\n",
       "\n",
       "    .dataframe tbody tr th {\n",
       "        vertical-align: top;\n",
       "    }\n",
       "\n",
       "    .dataframe thead th {\n",
       "        text-align: right;\n",
       "    }\n",
       "</style>\n",
       "<table border=\"1\" class=\"dataframe\">\n",
       "  <thead>\n",
       "    <tr style=\"text-align: right;\">\n",
       "      <th></th>\n",
       "      <th>speech</th>\n",
       "      <th>emotion</th>\n",
       "    </tr>\n",
       "  </thead>\n",
       "  <tbody>\n",
       "    <tr>\n",
       "      <th>0</th>\n",
       "      <td>moment french defens sedan meus broken end sec...</td>\n",
       "      <td>1.0</td>\n",
       "    </tr>\n",
       "    <tr>\n",
       "      <th>1</th>\n",
       "      <td>observ today victori parti celebr freedomsymbo...</td>\n",
       "      <td>2.0</td>\n",
       "    </tr>\n",
       "    <tr>\n",
       "      <th>2</th>\n",
       "      <td>majesti high distinguish guest comrad friend t...</td>\n",
       "      <td>3.0</td>\n",
       "    </tr>\n",
       "    <tr>\n",
       "      <th>3</th>\n",
       "      <td>honor today commenc one finest univers world n...</td>\n",
       "      <td>4.0</td>\n",
       "    </tr>\n",
       "    <tr>\n",
       "      <th>4</th>\n",
       "      <td>honor un secretari gener mr ban kimoon respect...</td>\n",
       "      <td>5.0</td>\n",
       "    </tr>\n",
       "    <tr>\n",
       "      <th>5</th>\n",
       "      <td>profound sens humil accept honor chosen bestow...</td>\n",
       "      <td>5.0</td>\n",
       "    </tr>\n",
       "    <tr>\n",
       "      <th>6</th>\n",
       "      <td>messag well watch wrong shouldnt back school s...</td>\n",
       "      <td>6.0</td>\n",
       "    </tr>\n",
       "    <tr>\n",
       "      <th>7</th>\n",
       "      <td>hello everybodi know michel realli milk goodby...</td>\n",
       "      <td>2.0</td>\n",
       "    </tr>\n",
       "    <tr>\n",
       "      <th>8</th>\n",
       "      <td>majesti royal high excel distinguish member no...</td>\n",
       "      <td>4.0</td>\n",
       "    </tr>\n",
       "    <tr>\n",
       "      <th>9</th>\n",
       "      <td>five score year ago great american whose symbo...</td>\n",
       "      <td>3.0</td>\n",
       "    </tr>\n",
       "  </tbody>\n",
       "</table>\n",
       "</div>\n",
       "    <div class=\"colab-df-buttons\">\n",
       "\n",
       "  <div class=\"colab-df-container\">\n",
       "    <button class=\"colab-df-convert\" onclick=\"convertToInteractive('df-3fecea01-5936-4cd9-b071-a28d81c606f1')\"\n",
       "            title=\"Convert this dataframe to an interactive table.\"\n",
       "            style=\"display:none;\">\n",
       "\n",
       "  <svg xmlns=\"http://www.w3.org/2000/svg\" height=\"24px\" viewBox=\"0 -960 960 960\">\n",
       "    <path d=\"M120-120v-720h720v720H120Zm60-500h600v-160H180v160Zm220 220h160v-160H400v160Zm0 220h160v-160H400v160ZM180-400h160v-160H180v160Zm440 0h160v-160H620v160ZM180-180h160v-160H180v160Zm440 0h160v-160H620v160Z\"/>\n",
       "  </svg>\n",
       "    </button>\n",
       "\n",
       "  <style>\n",
       "    .colab-df-container {\n",
       "      display:flex;\n",
       "      gap: 12px;\n",
       "    }\n",
       "\n",
       "    .colab-df-convert {\n",
       "      background-color: #E8F0FE;\n",
       "      border: none;\n",
       "      border-radius: 50%;\n",
       "      cursor: pointer;\n",
       "      display: none;\n",
       "      fill: #1967D2;\n",
       "      height: 32px;\n",
       "      padding: 0 0 0 0;\n",
       "      width: 32px;\n",
       "    }\n",
       "\n",
       "    .colab-df-convert:hover {\n",
       "      background-color: #E2EBFA;\n",
       "      box-shadow: 0px 1px 2px rgba(60, 64, 67, 0.3), 0px 1px 3px 1px rgba(60, 64, 67, 0.15);\n",
       "      fill: #174EA6;\n",
       "    }\n",
       "\n",
       "    .colab-df-buttons div {\n",
       "      margin-bottom: 4px;\n",
       "    }\n",
       "\n",
       "    [theme=dark] .colab-df-convert {\n",
       "      background-color: #3B4455;\n",
       "      fill: #D2E3FC;\n",
       "    }\n",
       "\n",
       "    [theme=dark] .colab-df-convert:hover {\n",
       "      background-color: #434B5C;\n",
       "      box-shadow: 0px 1px 3px 1px rgba(0, 0, 0, 0.15);\n",
       "      filter: drop-shadow(0px 1px 2px rgba(0, 0, 0, 0.3));\n",
       "      fill: #FFFFFF;\n",
       "    }\n",
       "  </style>\n",
       "\n",
       "    <script>\n",
       "      const buttonEl =\n",
       "        document.querySelector('#df-3fecea01-5936-4cd9-b071-a28d81c606f1 button.colab-df-convert');\n",
       "      buttonEl.style.display =\n",
       "        google.colab.kernel.accessAllowed ? 'block' : 'none';\n",
       "\n",
       "      async function convertToInteractive(key) {\n",
       "        const element = document.querySelector('#df-3fecea01-5936-4cd9-b071-a28d81c606f1');\n",
       "        const dataTable =\n",
       "          await google.colab.kernel.invokeFunction('convertToInteractive',\n",
       "                                                    [key], {});\n",
       "        if (!dataTable) return;\n",
       "\n",
       "        const docLinkHtml = 'Like what you see? Visit the ' +\n",
       "          '<a target=\"_blank\" href=https://colab.research.google.com/notebooks/data_table.ipynb>data table notebook</a>'\n",
       "          + ' to learn more about interactive tables.';\n",
       "        element.innerHTML = '';\n",
       "        dataTable['output_type'] = 'display_data';\n",
       "        await google.colab.output.renderOutput(dataTable, element);\n",
       "        const docLink = document.createElement('div');\n",
       "        docLink.innerHTML = docLinkHtml;\n",
       "        element.appendChild(docLink);\n",
       "      }\n",
       "    </script>\n",
       "  </div>\n",
       "\n",
       "\n",
       "<div id=\"df-56e302bb-53e5-48bb-b25b-8742c5d5ad31\">\n",
       "  <button class=\"colab-df-quickchart\" onclick=\"quickchart('df-56e302bb-53e5-48bb-b25b-8742c5d5ad31')\"\n",
       "            title=\"Suggest charts\"\n",
       "            style=\"display:none;\">\n",
       "\n",
       "<svg xmlns=\"http://www.w3.org/2000/svg\" height=\"24px\"viewBox=\"0 0 24 24\"\n",
       "     width=\"24px\">\n",
       "    <g>\n",
       "        <path d=\"M19 3H5c-1.1 0-2 .9-2 2v14c0 1.1.9 2 2 2h14c1.1 0 2-.9 2-2V5c0-1.1-.9-2-2-2zM9 17H7v-7h2v7zm4 0h-2V7h2v10zm4 0h-2v-4h2v4z\"/>\n",
       "    </g>\n",
       "</svg>\n",
       "  </button>\n",
       "\n",
       "<style>\n",
       "  .colab-df-quickchart {\n",
       "      --bg-color: #E8F0FE;\n",
       "      --fill-color: #1967D2;\n",
       "      --hover-bg-color: #E2EBFA;\n",
       "      --hover-fill-color: #174EA6;\n",
       "      --disabled-fill-color: #AAA;\n",
       "      --disabled-bg-color: #DDD;\n",
       "  }\n",
       "\n",
       "  [theme=dark] .colab-df-quickchart {\n",
       "      --bg-color: #3B4455;\n",
       "      --fill-color: #D2E3FC;\n",
       "      --hover-bg-color: #434B5C;\n",
       "      --hover-fill-color: #FFFFFF;\n",
       "      --disabled-bg-color: #3B4455;\n",
       "      --disabled-fill-color: #666;\n",
       "  }\n",
       "\n",
       "  .colab-df-quickchart {\n",
       "    background-color: var(--bg-color);\n",
       "    border: none;\n",
       "    border-radius: 50%;\n",
       "    cursor: pointer;\n",
       "    display: none;\n",
       "    fill: var(--fill-color);\n",
       "    height: 32px;\n",
       "    padding: 0;\n",
       "    width: 32px;\n",
       "  }\n",
       "\n",
       "  .colab-df-quickchart:hover {\n",
       "    background-color: var(--hover-bg-color);\n",
       "    box-shadow: 0 1px 2px rgba(60, 64, 67, 0.3), 0 1px 3px 1px rgba(60, 64, 67, 0.15);\n",
       "    fill: var(--button-hover-fill-color);\n",
       "  }\n",
       "\n",
       "  .colab-df-quickchart-complete:disabled,\n",
       "  .colab-df-quickchart-complete:disabled:hover {\n",
       "    background-color: var(--disabled-bg-color);\n",
       "    fill: var(--disabled-fill-color);\n",
       "    box-shadow: none;\n",
       "  }\n",
       "\n",
       "  .colab-df-spinner {\n",
       "    border: 2px solid var(--fill-color);\n",
       "    border-color: transparent;\n",
       "    border-bottom-color: var(--fill-color);\n",
       "    animation:\n",
       "      spin 1s steps(1) infinite;\n",
       "  }\n",
       "\n",
       "  @keyframes spin {\n",
       "    0% {\n",
       "      border-color: transparent;\n",
       "      border-bottom-color: var(--fill-color);\n",
       "      border-left-color: var(--fill-color);\n",
       "    }\n",
       "    20% {\n",
       "      border-color: transparent;\n",
       "      border-left-color: var(--fill-color);\n",
       "      border-top-color: var(--fill-color);\n",
       "    }\n",
       "    30% {\n",
       "      border-color: transparent;\n",
       "      border-left-color: var(--fill-color);\n",
       "      border-top-color: var(--fill-color);\n",
       "      border-right-color: var(--fill-color);\n",
       "    }\n",
       "    40% {\n",
       "      border-color: transparent;\n",
       "      border-right-color: var(--fill-color);\n",
       "      border-top-color: var(--fill-color);\n",
       "    }\n",
       "    60% {\n",
       "      border-color: transparent;\n",
       "      border-right-color: var(--fill-color);\n",
       "    }\n",
       "    80% {\n",
       "      border-color: transparent;\n",
       "      border-right-color: var(--fill-color);\n",
       "      border-bottom-color: var(--fill-color);\n",
       "    }\n",
       "    90% {\n",
       "      border-color: transparent;\n",
       "      border-bottom-color: var(--fill-color);\n",
       "    }\n",
       "  }\n",
       "</style>\n",
       "\n",
       "  <script>\n",
       "    async function quickchart(key) {\n",
       "      const quickchartButtonEl =\n",
       "        document.querySelector('#' + key + ' button');\n",
       "      quickchartButtonEl.disabled = true;  // To prevent multiple clicks.\n",
       "      quickchartButtonEl.classList.add('colab-df-spinner');\n",
       "      try {\n",
       "        const charts = await google.colab.kernel.invokeFunction(\n",
       "            'suggestCharts', [key], {});\n",
       "      } catch (error) {\n",
       "        console.error('Error during call to suggestCharts:', error);\n",
       "      }\n",
       "      quickchartButtonEl.classList.remove('colab-df-spinner');\n",
       "      quickchartButtonEl.classList.add('colab-df-quickchart-complete');\n",
       "    }\n",
       "    (() => {\n",
       "      let quickchartButtonEl =\n",
       "        document.querySelector('#df-56e302bb-53e5-48bb-b25b-8742c5d5ad31 button');\n",
       "      quickchartButtonEl.style.display =\n",
       "        google.colab.kernel.accessAllowed ? 'block' : 'none';\n",
       "    })();\n",
       "  </script>\n",
       "</div>\n",
       "    </div>\n",
       "  </div>\n"
      ]
     },
     "metadata": {},
     "execution_count": 46
    }
   ]
  },
  {
   "cell_type": "markdown",
   "source": [
    "# New Section"
   ],
   "metadata": {
    "id": "6_FCLUvYT6y6"
   },
   "id": "6_FCLUvYT6y6"
  },
  {
   "cell_type": "code",
   "execution_count": 47,
   "id": "cb4bcaf4-b4d1-4974-8b2f-0c712520c3b7",
   "metadata": {
    "colab": {
     "base_uri": "https://localhost:8080/"
    },
    "id": "cb4bcaf4-b4d1-4974-8b2f-0c712520c3b7",
    "outputId": "43663784-e523-436d-ef5d-85010c595b68"
   },
   "outputs": [
    {
     "output_type": "stream",
     "name": "stderr",
     "text": [
      "[nltk_data] Downloading package punkt to /root/nltk_data...\n",
      "[nltk_data]   Package punkt is already up-to-date!\n",
      "[nltk_data] Downloading package stopwords to /root/nltk_data...\n",
      "[nltk_data]   Package stopwords is already up-to-date!\n"
     ]
    }
   ],
   "source": [
    "#preprocess transcript\n",
    "\n",
    "# download necessary NLTK data\n",
    "nltk.download('punkt')\n",
    "nltk.download('stopwords')\n",
    "\n",
    "# initialize a PorterStemmer\n",
    "stemmer = PorterStemmer()\n",
    "\n",
    "def preprocess_text(text):\n",
    "    # lowercase the text\n",
    "    text = text.lower()\n",
    "    # remove punctuation\n",
    "    text = text.translate(str.maketrans('', '', string.punctuation))\n",
    "    # tokenize the text\n",
    "    words = word_tokenize(text)\n",
    "    # remove stopwords and stem the words\n",
    "    words = [stemmer.stem(word) for word in words if word not in stopwords.words('english')]\n",
    "    # join the words back into a string\n",
    "    text = ' '.join(words)\n",
    "\n",
    "    return text\n",
    "\n",
    "df['speech'] = df['speech'].apply(preprocess_text)"
   ]
  },
  {
   "cell_type": "code",
   "source": [
    "!pip install sentencepiece"
   ],
   "metadata": {
    "colab": {
     "base_uri": "https://localhost:8080/"
    },
    "id": "wTWI03C7MU22",
    "outputId": "1ecf92ed-0e69-4a34-ad4d-8a381d95658e"
   },
   "id": "wTWI03C7MU22",
   "execution_count": 48,
   "outputs": [
    {
     "output_type": "stream",
     "name": "stdout",
     "text": [
      "Requirement already satisfied: sentencepiece in /usr/local/lib/python3.10/dist-packages (0.1.99)\n"
     ]
    }
   ]
  },
  {
   "cell_type": "code",
   "execution_count": 49,
   "id": "c15a2034-bacc-4684-88e7-1e387b3263f5",
   "metadata": {
    "colab": {
     "base_uri": "https://localhost:8080/"
    },
    "id": "c15a2034-bacc-4684-88e7-1e387b3263f5",
    "outputId": "648d1c36-a65f-4b83-9c77-2a774a133132"
   },
   "outputs": [
    {
     "output_type": "stream",
     "name": "stderr",
     "text": [
      "All PyTorch model weights were used when initializing TFAlbertForSequenceClassification.\n",
      "\n",
      "Some weights or buffers of the TF 2.0 model TFAlbertForSequenceClassification were not initialized from the PyTorch model and are newly initialized: ['classifier.weight', 'classifier.bias']\n",
      "You should probably TRAIN this model on a down-stream task to be able to use it for predictions and inference.\n"
     ]
    }
   ],
   "source": [
    "tokenizer=AlbertTokenizer.from_pretrained('albert-large-v2')\n",
    "\n",
    "model=TFAlbertForSequenceClassification.from_pretrained('albert-large-v2',num_labels=6)"
   ]
  },
  {
   "cell_type": "code",
   "execution_count": 50,
   "id": "ee54acf8-ecf1-492c-8ad7-763b0c5e1d55",
   "metadata": {
    "id": "ee54acf8-ecf1-492c-8ad7-763b0c5e1d55"
   },
   "outputs": [],
   "source": [
    "from sklearn.model_selection import train_test_split\n",
    "\n",
    "train, test = train_test_split(df, test_size=0.2)"
   ]
  },
  {
   "cell_type": "code",
   "execution_count": 51,
   "id": "5d2f45b0-152d-434a-88e9-6e9dc3b414d1",
   "metadata": {
    "id": "5d2f45b0-152d-434a-88e9-6e9dc3b414d1"
   },
   "outputs": [],
   "source": [
    "#split in train and test in text and labels\n",
    "train_texts = train['speech'].tolist()\n",
    "train_labels = train['emotion'].tolist()\n",
    "\n",
    "test_texts = test['speech'].tolist()\n",
    "test_labels = test['emotion'].tolist()"
   ]
  },
  {
   "cell_type": "code",
   "execution_count": 52,
   "id": "57e46441-fe6d-4948-b13c-c0d2dba19664",
   "metadata": {
    "id": "57e46441-fe6d-4948-b13c-c0d2dba19664"
   },
   "outputs": [],
   "source": [
    "#tokenize the texts\n",
    "train_encodings = tokenizer(train_texts, truncation=True, padding=True, max_length=512)\n",
    "test_encodings = tokenizer(test_texts, truncation=True, padding=True, max_length=512)"
   ]
  },
  {
   "cell_type": "code",
   "execution_count": 53,
   "id": "7a560740-c3b5-4781-9c07-b27264980eb4",
   "metadata": {
    "id": "7a560740-c3b5-4781-9c07-b27264980eb4"
   },
   "outputs": [],
   "source": [
    "#convert features and labels to tensors for both train and test\n",
    "train_features = {key: tf.convert_to_tensor(val) for key, val in train_encodings.items()}\n",
    "train_labels = tf.convert_to_tensor(train_labels)\n",
    "\n",
    "test_features = {key: tf.convert_to_tensor(val) for key, val in test_encodings.items()}\n",
    "test_labels = tf.convert_to_tensor(test_labels)"
   ]
  },
  {
   "cell_type": "code",
   "execution_count": 54,
   "id": "028556e4-ebb3-4155-978b-6e41862c0748",
   "metadata": {
    "id": "028556e4-ebb3-4155-978b-6e41862c0748"
   },
   "outputs": [],
   "source": [
    "#prepare the training and testing dataset\n",
    "train_dataset = tf.data.Dataset.from_tensor_slices((train_features, train_labels))\n",
    "train_dataset = train_dataset.shuffle(10000).batch(1)\n",
    "\n",
    "test_dataset = tf.data.Dataset.from_tensor_slices((test_features, test_labels))\n",
    "test_dataset = test_dataset.batch(1)"
   ]
  },
  {
   "cell_type": "code",
   "execution_count": 55,
   "id": "978195e4-9ece-4bb5-b0de-ab44b9c77c1c",
   "metadata": {
    "id": "978195e4-9ece-4bb5-b0de-ab44b9c77c1c"
   },
   "outputs": [],
   "source": [
    "#define model metrics\n",
    "optimizer = tf.keras.optimizers.Adam(learning_rate=3e-5)\n",
    "loss = tf.keras.losses.SparseCategoricalCrossentropy(from_logits=True)\n",
    "metrics = ['accuracy']"
   ]
  },
  {
   "cell_type": "code",
   "execution_count": 56,
   "id": "cdbe304f-aaef-43ea-b7bd-02b72e2a5a72",
   "metadata": {
    "id": "cdbe304f-aaef-43ea-b7bd-02b72e2a5a72"
   },
   "outputs": [],
   "source": [
    "model.compile(optimizer=optimizer, loss=loss, metrics=metrics)"
   ]
  },
  {
   "cell_type": "code",
   "execution_count": 57,
   "id": "9902f105-b9ba-4511-b152-493f9b94ffb3",
   "metadata": {
    "colab": {
     "base_uri": "https://localhost:8080/"
    },
    "id": "9902f105-b9ba-4511-b152-493f9b94ffb3",
    "outputId": "b181508b-1f61-4c38-ae5d-8e199ffb4d5c"
   },
   "outputs": [
    {
     "output_type": "stream",
     "name": "stdout",
     "text": [
      "Model: \"tf_albert_for_sequence_classification_3\"\n",
      "_________________________________________________________________\n",
      " Layer (type)                Output Shape              Param #   \n",
      "=================================================================\n",
      " albert (TFAlbertMainLayer)  multiple                  17683968  \n",
      "                                                                 \n",
      " dropout_19 (Dropout)        multiple                  0         \n",
      "                                                                 \n",
      " classifier (Dense)          multiple                  6150      \n",
      "                                                                 \n",
      "=================================================================\n",
      "Total params: 17690118 (67.48 MB)\n",
      "Trainable params: 17690118 (67.48 MB)\n",
      "Non-trainable params: 0 (0.00 Byte)\n",
      "_________________________________________________________________\n"
     ]
    }
   ],
   "source": [
    "model.summary()"
   ]
  },
  {
   "cell_type": "code",
   "source": [
    "train_labels"
   ],
   "metadata": {
    "colab": {
     "base_uri": "https://localhost:8080/"
    },
    "id": "84G7nNbIQeRd",
    "outputId": "a9a0ca4a-beb5-4187-9856-8961c438b67e"
   },
   "id": "84G7nNbIQeRd",
   "execution_count": 58,
   "outputs": [
    {
     "output_type": "execute_result",
     "data": {
      "text/plain": [
       "<tf.Tensor: shape=(8,), dtype=float32, numpy=array([5., 2., 4., 1., 3., 5., 4., 2.], dtype=float32)>"
      ]
     },
     "metadata": {},
     "execution_count": 58
    }
   ]
  },
  {
   "cell_type": "code",
   "execution_count": 59,
   "id": "5be1e11f-740d-4ac6-8b76-7a355c599b8a",
   "metadata": {
    "colab": {
     "base_uri": "https://localhost:8080/"
    },
    "id": "5be1e11f-740d-4ac6-8b76-7a355c599b8a",
    "outputId": "186ff894-b400-458f-9260-388d10c3de53"
   },
   "outputs": [
    {
     "output_type": "stream",
     "name": "stdout",
     "text": [
      "Epoch 1/3\n",
      "8/8 [==============================] - 56s 2s/step - loss: 1.8783 - accuracy: 0.1250 - val_loss: nan - val_accuracy: 0.0000e+00\n",
      "Epoch 2/3\n",
      "8/8 [==============================] - 4s 445ms/step - loss: 1.6962 - accuracy: 0.1250 - val_loss: nan - val_accuracy: 0.0000e+00\n",
      "Epoch 3/3\n",
      "8/8 [==============================] - 4s 448ms/step - loss: 1.9891 - accuracy: 0.1250 - val_loss: nan - val_accuracy: 0.0000e+00\n"
     ]
    },
    {
     "output_type": "execute_result",
     "data": {
      "text/plain": [
       "<keras.src.callbacks.History at 0x796f49a924a0>"
      ]
     },
     "metadata": {},
     "execution_count": 59
    }
   ],
   "source": [
    "#fit model to train dataset\n",
    "model.fit(train_dataset, epochs=3, validation_data=test_dataset)"
   ]
  },
  {
   "cell_type": "code",
   "execution_count": 60,
   "id": "80396bf4-28cf-42d2-973a-ea5c4732694f",
   "metadata": {
    "colab": {
     "base_uri": "https://localhost:8080/"
    },
    "id": "80396bf4-28cf-42d2-973a-ea5c4732694f",
    "outputId": "f1d05cc6-d5eb-49d5-fee5-c66be52e3070"
   },
   "outputs": [
    {
     "output_type": "stream",
     "name": "stderr",
     "text": [
      "/usr/local/lib/python3.10/dist-packages/transformers/generation/tf_utils.py:465: UserWarning: `seed_generator` is deprecated and will be removed in a future version.\n",
      "  warnings.warn(\"`seed_generator` is deprecated and will be removed in a future version.\", UserWarning)\n"
     ]
    }
   ],
   "source": [
    "model.save('first_model.keras')"
   ]
  },
  {
   "cell_type": "code",
   "source": [
    "df['speech'][0]"
   ],
   "metadata": {
    "colab": {
     "base_uri": "https://localhost:8080/",
     "height": 140
    },
    "id": "7oIEAYEdq4YW",
    "outputId": "5d773e1d-f251-403f-b8ef-758945f97f7e"
   },
   "id": "7oIEAYEdq4YW",
   "execution_count": 61,
   "outputs": [
    {
     "output_type": "execute_result",
     "data": {
      "text/plain": [
       "'moment french defen sedan meu broken end second week may rapid retreat amien south could save british french armi enter belgium appeal belgian king strateg fact immedi realiz french high command hope would abl close gap armi north order moreov retir kind would involv almost certainli destruct fine belgian armi 20 divi abandon whole belgium therefor forc scope german penetr realiz new french generalissimo gener weygand assum command place gener gamelin effort made french british armi belgium keep hold right hand belgian give right hand newli creat french armi advanc across somm great strength grasp howev german erupt swept like sharp scyth around right rear armi north eight nine armor divi four hundr armor vehicl differ kind care assort complementari divi small selfcontain unit cut commun us main french armi sever commun food ammunit ran first amien afterward abbevil shore way coast boulogn calai almost dunkirk behind armor mechan onslaught came number german divi lorri behind plod compar slowli dull brute mass ordinari german armi german peopl alway readi led trampl land liberti comfort never known said armor scythestrok almost reach dunkirkalmost quit boulogn calai scene desper fight guard defend boulogn withdrawn order countri rifl brigad 60th rifl queen victoria ’ rifl battalion british tank 1000 frenchmen four thousand strong defend calai last british brigadi given hour surrend spurn offer four day inten street fight pass silenc reign calai mark end memor resist 30 unwound survivor brought navi know fate comrad sacrif howev vain least two armor divi otherwi would turn british expeditionari forc sent overcom ad anoth page glori light divi time gain enabl gravelin water line flood held french troop thu port dunkirk kept open found imposs armi north reopen commun amien main french armi one choic remain seem ind forlorn belgian british french armi almost surround sole line retreat singl port neighbor beach press everi side heavi attack far outnumb air week ago today ask hou fix afternoon occa statement fear would hard lot announc greatest militari disast long histori thoughtand good judg agr methat perhap 20000 30000 men might reembark certainli seem whole french first armi whole british expeditionari forc north amiensabbevil gap would broken open field el would capitul lack food ammunit hard heavi tide call upon hou nation prepar week ago whole root core brain british armi around build build great british armi later year war seem perish upon field led ignomini starv captiv prospect week ago anoth blow might well prove final yet fall upon us king belgian call upon us come aid ruler govern sever alli rescu countri extinct late war sought refug prove fatal neutral french british armi might well outset save belgium perhap even poland yet last moment belgium alreadi invad king leopold call upon us come aid even last moment came brave effici armi nearli half million strong guard left flank thu kept open line retreat sea suddenli without prior consult least possibl notic without advic minist upon person act sent plenipotentiari german command surrend armi expo whole flank mean retreat ask hou week ago suspend judgment fact clear feel reason exist form opinion upon piti episod surrend belgian armi compel british shortest notic cover flank sea 30 mile length otherwi would cut would share fate king leopold condemn finest armi countri ever form expo flank anyon follow oper map see contact lost british two three corp form first french armi still farther coast seem imposs larg number alli troop could reach coast enemi attack side great strength fierc main power power far numer air forc thrown battl el concentr upon dunkirk beach press upon narrow exit east west enemi began fire cannon upon beach alon ship could approach depart sow magnet mine channel sea sent repeat wave hostil aircraft sometim hundr strong one format cast bomb upon singl pier remain upon sand dune upon troop eye shelter uboat one sunk motor launch took toll vast traffic began four five day inten struggl reign armor divisionsor left themtogeth great mass infantri artilleri hurl vain upon evernarrow evercontract appendix within british french armi fought meanwhil royal navi help countless merchant seamen strain everi nerv embark british alli troop 220 light warship 650 vessel engag oper upon difficult coast often adver weather almost ceaseless hail bomb increa concentr artilleri fire sea said free mine torpedo condit men carri littl rest day night end make trip trip across danger water bring alway men rescu number brought back measur devot courag hospit ship brought mani thousand british french wound plainli mark special target nazi bomb men women board never falter duti meanwhil royal air forc alreadi interven battl far rang would allow home base use part main metropolitan fighter strength struck german bomber fighter larg number protect struggl protract fierc suddenli scene clear crash thunder momentbut momentdi away miracl deliv achiev valor persev perfect disciplin faultless servic resourc skill unconqu fidel manifest us enemi hurl back retreat british french troop roughli handl hurri departur seriou royal air forc engag main strength german air forc inflict upon loss least four one navi use nearli 1000 ship kind carri 335000 men french british jaw death shame nativ land task lie immedi ahead must care assign deliv attribut victori war evacu victori insid deliv note gain air forc mani soldier come back seen air forc work saw bomber escap protect attack underr achiev heard much talk go way say tell great trial strength british german air forc conceiv greater object german air make evacu beach imposs sink ship display almost extent thousand could object greater militari import signif whole purpo war tri hard beaten back frustrat task got armi away paid fourfold loss inflict larg format german aeroplanesand know brave racehav turn sever occa attack onequart number royal air forc disper differ direct twelv aeroplan hunt two one aeroplan driven water cast away mere charg british aeroplan ammunit typesth hurrican spitfir new defiantand pilot vindic superior present face consid much greater would advantag defend air island oversea attack must say find fact sure basi upon practic reassur thought may rest pay tribut young airmen great french armi larg time cast back disturb onrush thousand armor vehicl may also cau civil defend skill devot thousand airmen never suppo world histori war opportun youth knight round tabl crusad fall back pastnot distant prosaic young men go forth everi morn guard nativ land stand hold hand instrument coloss shatter power may said everi morn brought forth nobl chanc everi chanc brought forth nobl knight deserv gratitud brave men mani way mani occa readi continu readi give life nativ land return armi long seri fierc battl front fight three front battl fought two three divi equal somewhat larger number enemi fought fierc old ground mani us knew wellin battl loss men exceed 30000 kill wound miss take occa express sympathi hou suffer bereav still anxiou presid board trade sir andrew duncan today son kill mani hou felt pang afflict sharpest form say miss larg number wound come home safe countri would say miss may mani report miss come back home day one way anoth confu fight inevit mani left posit honor requir resist loss 30000 men set far heavier loss certainli inflict upon enemi loss materi enorm perhap lost onethird men lost open day battl 21st march 1918 lost nearli mani gun — nearli one thousandand transport armor vehicl armi north loss impo delay expan militari strength expan proceed far hope best give gone british expeditionari forc although number tank articl equip desir well fine equip armi firstfruit industri give gone delay long long last depend upon exert make island effort like never seen record made work proceed everywh night day sunday week day capit labor cast asid interest right custom put common stock alreadi flow munit leap forward reason month overtak sudden seriou loss come upon us without retard develop gener program nevertheless thank escap armi mani men whose love one pass agon week must blind us fact happen franc belgium coloss militari disast french armi weaken belgian armi lost larg part fortifi line upon much faith repo gone mani valuabl mine district factori pass enemi ’ possess whole channel port hand tragic consequ follow must expect anoth blow struck almost immedi us franc told herr hitler plan invad british isl often thought napoleon lay boulogn year flatbottom boat grand armi told someon “ bitter weed england ” certainli great mani sinc british expeditionari forc return whole question home defen inva cour power affect fact time island incompar power militari forc ever moment war last continu shall content defen war duti alli reconstitut build british expeditionari forc gallant commanderinchief lord gort train interv must put defen island high state organ fewest possibl number requir give effect secur largest possibl potenti offen effort may realiz engag conveni desir hou enter upon subject secret session govern would necessarili abl reveal great detail militari secret like discuss free without restraint impo fact read next day enemi govern would benefit view freeli express part hou member knowledg mani differ part countri understand request made upon subject readili ac majesti ’ govern found necessari take measur increa stringenc enemi alien suspici charact nation also british subject may becom danger nuisanc war transport unit kingdom know great mani peopl affect order made passion enemi nazi germani sorri present time present stress draw distinct like parachut land attempt fierc fight attend upon follow unfortun peopl would far better way sake well howev anoth class feel slightest sympathi parliament given us power put fifth column activ strong hand shall use power subject supervi correct hou without slightest hesit satisfi satisfi malign midst effect stamp turn time gener question inva would observ never period long centuri boast absolut guarant inva still less seriou raid could given peopl day napoleon wind would carri transport across channel might driven away blockad fleet alway chanc chanc excit befool imagin mani contin tyrant mani tale told assur novel method adopt see origin malic ingenu aggress enemi display may certainli prepar everi kind novel stratagem everi kind brutal treacher maneuv think idea outlandish consid view search time hope steadi eye must never forget solid assur sea power belong air power local exerci full confid duti noth neglect best arrang made made shall prove abl defend island home ride storm war outliv menac tyranni necessari year necessari alon rate go tri resolv majesti ’ governmenteveri man parliament nation british empir french republ link togeth cau need defend death nativ soil aid like good comrad utmost strength even though larg tract europ mani old famou state fallen may fall grip gestapo odiou apparatu nazi rule shall flag fail shall go end shall fight franc shall fight sea ocean shall fight grow confid grow strength air shall defend island whatev cost may shall fight beach shall fight land ground shall fight field street shall fight hill shall never surrend even moment believ island larg part subjug starv empir beyond sea arm guard british fleet would carri struggl god ’ good time new world power might step forth rescu liber old'"
      ],
      "application/vnd.google.colaboratory.intrinsic+json": {
       "type": "string"
      }
     },
     "metadata": {},
     "execution_count": 61
    }
   ]
  },
  {
   "cell_type": "code",
   "source": [
    "new_feature = tokenizer(df['speech'][0], truncation=True, padding=True, return_tensors='tf')"
   ],
   "metadata": {
    "id": "JpLqfs4R4DqY"
   },
   "id": "JpLqfs4R4DqY",
   "execution_count": 62,
   "outputs": []
  },
  {
   "cell_type": "code",
   "source": [
    "predictions = model(new_feature)"
   ],
   "metadata": {
    "id": "XfHKmLn_4NHl"
   },
   "id": "XfHKmLn_4NHl",
   "execution_count": 63,
   "outputs": []
  },
  {
   "cell_type": "code",
   "source": [
    "predictions"
   ],
   "metadata": {
    "colab": {
     "base_uri": "https://localhost:8080/"
    },
    "id": "BfThAe1m4O4v",
    "outputId": "beecdb73-eca3-4ec0-a513-a9c56a402038"
   },
   "id": "BfThAe1m4O4v",
   "execution_count": 64,
   "outputs": [
    {
     "output_type": "execute_result",
     "data": {
      "text/plain": [
       "TFSequenceClassifierOutput(loss=None, logits=<tf.Tensor: shape=(1, 6), dtype=float32, numpy=\n",
       "array([[ 0.02588189,  0.24483255,  0.11712265,  0.04261102, -0.2818564 ,\n",
       "         0.56155694]], dtype=float32)>, hidden_states=None, attentions=None)"
      ]
     },
     "metadata": {},
     "execution_count": 64
    }
   ]
  },
  {
   "cell_type": "code",
   "source": [
    "model.output_shape"
   ],
   "metadata": {
    "colab": {
     "base_uri": "https://localhost:8080/",
     "height": 307
    },
    "id": "YATvjWDZ4R65",
    "outputId": "0508acc4-3407-455a-ef8a-22661a4c74b0"
   },
   "id": "YATvjWDZ4R65",
   "execution_count": null,
   "outputs": [
    {
     "output_type": "error",
     "ename": "AttributeError",
     "evalue": "ignored",
     "traceback": [
      "\u001B[0;31m---------------------------------------------------------------------------\u001B[0m",
      "\u001B[0;31mAttributeError\u001B[0m                            Traceback (most recent call last)",
      "\u001B[0;32m<ipython-input-22-188e4d5e6cd0>\u001B[0m in \u001B[0;36m<cell line: 1>\u001B[0;34m()\u001B[0m\n\u001B[0;32m----> 1\u001B[0;31m \u001B[0mmodel\u001B[0m\u001B[0;34m.\u001B[0m\u001B[0moutput_shape\u001B[0m\u001B[0;34m\u001B[0m\u001B[0;34m\u001B[0m\u001B[0m\n\u001B[0m",
      "\u001B[0;32m/usr/local/lib/python3.10/dist-packages/keras/src/engine/base_layer.py\u001B[0m in \u001B[0;36moutput_shape\u001B[0;34m(self)\u001B[0m\n\u001B[1;32m   2180\u001B[0m         \"\"\"\n\u001B[1;32m   2181\u001B[0m         \u001B[0;32mif\u001B[0m \u001B[0;32mnot\u001B[0m \u001B[0mself\u001B[0m\u001B[0;34m.\u001B[0m\u001B[0m_inbound_nodes\u001B[0m\u001B[0;34m:\u001B[0m\u001B[0;34m\u001B[0m\u001B[0;34m\u001B[0m\u001B[0m\n\u001B[0;32m-> 2182\u001B[0;31m             raise AttributeError(\n\u001B[0m\u001B[1;32m   2183\u001B[0m                 \u001B[0;34mf'The layer \"{self.name}\" has never been called '\u001B[0m\u001B[0;34m\u001B[0m\u001B[0;34m\u001B[0m\u001B[0m\n\u001B[1;32m   2184\u001B[0m                 \u001B[0;34m\"and thus has no defined output shape.\"\u001B[0m\u001B[0;34m\u001B[0m\u001B[0;34m\u001B[0m\u001B[0m\n",
      "\u001B[0;31mAttributeError\u001B[0m: The layer \"tf_albert_for_sequence_classification\" has never been called and thus has no defined output shape."
     ]
    }
   ]
  },
  {
   "cell_type": "code",
   "source": [],
   "metadata": {
    "id": "LLEAK_rd43Io"
   },
   "id": "LLEAK_rd43Io",
   "execution_count": null,
   "outputs": []
  }
 ],
 "metadata": {
  "kernelspec": {
   "name": "python3",
   "language": "python",
   "display_name": "Python 3 (ipykernel)"
  },
  "language_info": {
   "codemirror_mode": {
    "name": "ipython",
    "version": 3
   },
   "file_extension": ".py",
   "mimetype": "text/x-python",
   "name": "python",
   "nbconvert_exporter": "python",
   "pygments_lexer": "ipython3",
   "version": "3.11.4"
  },
  "colab": {
   "provenance": [],
   "gpuType": "T4"
  },
  "accelerator": "GPU"
 },
 "nbformat": 4,
 "nbformat_minor": 5
}
