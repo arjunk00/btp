{
 "cells": [
  {
   "cell_type": "code",
   "execution_count": null,
   "id": "1685f06c-acad-446d-b0b0-158292ae8a32",
   "metadata": {},
   "outputs": [],
   "source": [
    "import gensim\n",
    "from gensim.models import word2vec\n",
    "from gensim.models.word2vec import Word2Vec\n",
    "import numpy as np\n",
    "import pandas as pd\n",
    "import matplotlib.pyplot as plt\n",
    "import spacy\n",
    "import string\n",
    "import tensorflow as tf"
   ]
  },
  {
   "cell_type": "code",
   "execution_count": null,
   "id": "34fe3a7b-4743-4430-9896-04b80e0a429a",
   "metadata": {},
   "outputs": [],
   "source": [
    "gensim.__version__"
   ]
  },
  {
   "cell_type": "code",
   "execution_count": null,
   "id": "af9b4eee-043e-4bf0-a307-b716d0f1bbc6",
   "metadata": {},
   "outputs": [],
   "source": [
    "np.random.seed(42)"
   ]
  },
  {
   "cell_type": "code",
   "execution_count": null,
   "id": "ea4cbf04-9671-4302-a26e-c845f67d4c9a",
   "metadata": {},
   "outputs": [],
   "source": [
    "import gensim.downloader as api\n",
    "print(list(api.info()['models'].keys()))"
   ]
  },
  {
   "cell_type": "code",
   "execution_count": null,
   "id": "bef6d52f-481e-43b5-81f9-2fa20e857997",
   "metadata": {},
   "outputs": [],
   "source": [
    "wv=api.load('word2vec-google-news-300')"
   ]
  },
  {
   "cell_type": "code",
   "execution_count": null,
   "id": "55dd0d36-3fe2-4366-9b24-3c7b39b482fd",
   "metadata": {},
   "outputs": [],
   "source": [
    "wv.save('vectors.kv')"
   ]
  },
  {
   "cell_type": "code",
   "execution_count": null,
   "id": "f0e8eda2-449a-4ebe-a90f-2541e5e23e4d",
   "metadata": {},
   "outputs": [],
   "source": [
    "len(wv['apple'])"
   ]
  },
  {
   "cell_type": "code",
   "execution_count": null,
   "id": "194b094a-e12d-493a-bd70-0928ff74f2ec",
   "metadata": {},
   "outputs": [],
   "source": [
    "wv.similarity(\"phone\", \"macbook\")"
   ]
  },
  {
   "cell_type": "code",
   "execution_count": null,
   "id": "57d18bc6-997c-4111-8690-4a35f7911f49",
   "metadata": {},
   "outputs": [],
   "source": [
    "wv.most_similar(positive=['phone','iphone'], topn=5)"
   ]
  },
  {
   "cell_type": "code",
   "execution_count": null,
   "id": "6798be89-43cc-422d-b91e-028dbfef95ac",
   "metadata": {},
   "outputs": [],
   "source": [
    "data=pd.read_csv('one_output_dataset.csv')"
   ]
  },
  {
   "cell_type": "code",
   "execution_count": null,
   "id": "44cb6e6a-e93e-4859-b32e-3aeae813d63d",
   "metadata": {},
   "outputs": [],
   "source": [
    "data"
   ]
  },
  {
   "cell_type": "code",
   "execution_count": null,
   "id": "2661eda1-f81d-423a-b96c-6ee0250d4156",
   "metadata": {},
   "outputs": [],
   "source": [
    "def sentence_vec(sentence):\n",
    "    vector_size=wv.vector_size\n",
    "    wv_res=np.zeros(vector_size)\n",
    "    ctr=1\n",
    "    for w in sentence:\n",
    "        if w in wv:\n",
    "            ctr+=1\n",
    "            wv_res+=wv[w]\n",
    "        wv_res=wv_res/ctr\n",
    "        return wv_res"
   ]
  },
  {
   "cell_type": "code",
   "execution_count": null,
   "id": "8abea615-232b-4140-9f57-4d31306c6d65",
   "metadata": {},
   "outputs": [],
   "source": [
    "def spacy_tokenizer(sentence):\n",
    "    #creating token object, which is used to create documents with linguistic annotations\n",
    "    doc=nlp(sentence)\n",
    "    #lemmatizing each token and lowercase conversion\n",
    "    mytokens=[word.lemma_.lower().strip() for word in doc]\n",
    "    # removing stop words\n",
    "    mytokens=[word for word in mytokens if word not in stop_words and word not in punctuations]\n",
    "    return mytokens"
   ]
  },
  {
   "cell_type": "code",
   "execution_count": null,
   "id": "bf9a9346-f325-4a0d-a192-41992f6b018c",
   "metadata": {},
   "outputs": [],
   "source": [
    "nlp=spacy.load(\"en_core_web_sm\")\n",
    "stop_words=nlp.Defaults.stop_words\n",
    "punctuations=string.punctuation"
   ]
  },
  {
   "cell_type": "code",
   "execution_count": null,
   "id": "d1733fbb-553b-4c91-9cb5-9cd02afde9e5",
   "metadata": {},
   "outputs": [],
   "source": [
    "data['tokens']=data['speech'].apply(spacy_tokenizer)"
   ]
  },
  {
   "cell_type": "code",
   "execution_count": null,
   "id": "d24b1770-74cd-4c57-b231-56b426f37b87",
   "metadata": {},
   "outputs": [],
   "source": [
    "data.head()"
   ]
  },
  {
   "cell_type": "code",
   "execution_count": null,
   "id": "741d9275-2d8b-4706-a56e-1fabc9759015",
   "metadata": {},
   "outputs": [],
   "source": [
    "len(data['tokens'])"
   ]
  },
  {
   "cell_type": "code",
   "execution_count": null,
   "id": "a99438ae-13ec-4d3e-a644-c97e3b150de3",
   "metadata": {},
   "outputs": [],
   "source": [
    "data['vec']=data['tokens'].apply(sentence_vec)"
   ]
  },
  {
   "cell_type": "code",
   "execution_count": null,
   "id": "6a14deaa-77db-4002-ad06-187e74245df3",
   "metadata": {},
   "outputs": [],
   "source": [
    "data.head()"
   ]
  },
  {
   "cell_type": "code",
   "execution_count": null,
   "id": "ef56b25c-ae1f-4072-9d1a-2619c69d2fb1",
   "metadata": {},
   "outputs": [],
   "source": [
    "speech_vectors=data['vec'].values\n",
    "labels=data['emotion'].values\n"
   ]
  },
  {
   "cell_type": "code",
   "execution_count": null,
   "id": "1277723e-0cd9-4d95-bd02-94c619b440f3",
   "metadata": {},
   "outputs": [],
   "source": [
    "df=data"
   ]
  },
  {
   "cell_type": "code",
   "execution_count": null,
   "id": "4e3cc042-9c5f-485b-9c8c-55e12c4e2495",
   "metadata": {},
   "outputs": [],
   "source": [
    "df.pop('speech')\n",
    "df.pop('tokens')"
   ]
  },
  {
   "cell_type": "code",
   "execution_count": null,
   "id": "f39918a4-be7b-484d-860a-da86b9099625",
   "metadata": {},
   "outputs": [],
   "source": [
    "columns_titles = [\"vec\",\"emotion\"]\n",
    "df=df.reindex(columns=columns_titles)\n",
    "df"
   ]
  },
  {
   "cell_type": "code",
   "execution_count": null,
   "id": "3693a1c2-8d54-4d8a-a989-40c3e413e123",
   "metadata": {},
   "outputs": [],
   "source": [
    "from sklearn.model_selection import train_test_split\n",
    "X_train,X_test,y_train,y_test = train_test_split(speech_vectors,labels,test_size=0.2,random_state=7)"
   ]
  },
  {
   "cell_type": "code",
   "execution_count": null,
   "id": "0977021d-41d8-4927-b41a-3662665cb0e4",
   "metadata": {},
   "outputs": [],
   "source": [
    "X_train=X_train.tolist()\n",
    "X_test=X_test.tolist()\n",
    "y_train=y_train.tolist()\n",
    "y_test=y_test.tolist()"
   ]
  },
  {
   "cell_type": "code",
   "execution_count": null,
   "id": "7037bcdc-53e8-4b64-813a-8bd20090af37",
   "metadata": {},
   "outputs": [],
   "source": [
    "X_train=tf.convert_to_tensor(X_train)\n",
    "X_test=tf.convert_to_tensor(X_test)\n",
    "y_train=tf.convert_to_tensor(y_train)\n",
    "y_test=tf.convert_to_tensor(y_test)"
   ]
  },
  {
   "cell_type": "code",
   "execution_count": null,
   "id": "f48a7bfb-08a6-4694-989f-1c5061a3b3de",
   "metadata": {},
   "outputs": [],
   "source": [
    "X_train"
   ]
  },
  {
   "cell_type": "code",
   "execution_count": null,
   "id": "73287973-876f-49eb-b488-5a7a62ae0802",
   "metadata": {},
   "outputs": [],
   "source": [
    "train_dataset = tf.data.Dataset.from_tensor_slices((X_train, y_train))\n",
    "train_dataset = train_dataset.shuffle(10000).batch(2)"
   ]
  },
  {
   "cell_type": "code",
   "execution_count": null,
   "id": "488ab3ba-ed4d-48bd-b5b5-90d87d494f7b",
   "metadata": {},
   "outputs": [],
   "source": [
    "type(train_dataset)"
   ]
  },
  {
   "cell_type": "code",
   "execution_count": null,
   "id": "ddc32cbe-041c-44a3-8a61-480d6f9b2c0c",
   "metadata": {},
   "outputs": [],
   "source": [
    "test_dataset = tf.data.Dataset.from_tensor_slices((X_test, y_test))\n",
    "test_dataset = test_dataset.shuffle(10000).batch(2)"
   ]
  },
  {
   "cell_type": "code",
   "execution_count": null,
   "id": "5d9879e6-f0bd-421f-8f6f-e81747cdb762",
   "metadata": {},
   "outputs": [],
   "source": [
    "from transformers import AlbertTokenizer, TFAlbertForSequenceClassification, AdamW\n",
    "from tensorflow.keras.utils import to_categorical\n",
    "import tensorflow as tf"
   ]
  },
  {
   "cell_type": "code",
   "execution_count": null,
   "id": "f4b57731-f5ba-4ce4-bafe-3f1ea7c86aa6",
   "metadata": {},
   "outputs": [],
   "source": [
    "model = TFAlbertForSequenceClassification.from_pretrained('albert-large-v2', num_labels=6)"
   ]
  },
  {
   "cell_type": "code",
   "execution_count": null,
   "id": "a011542b-b274-4819-a5c9-cfaa51453483",
   "metadata": {},
   "outputs": [],
   "source": [
    "optimizer = tf.keras.optimizers.Adam(learning_rate=3e-5)\n",
    "loss = tf.keras.losses.SparseCategoricalCrossentropy(from_logits=True)\n",
    "metrics = ['accuracy']"
   ]
  },
  {
   "cell_type": "code",
   "execution_count": null,
   "id": "418de89c-6c3d-49bc-ab33-b71648c233f3",
   "metadata": {},
   "outputs": [],
   "source": [
    "model.compile(optimizer=optimizer, loss=loss, metrics=metrics)"
   ]
  },
  {
   "cell_type": "code",
   "execution_count": null,
   "id": "f2c50c40-b092-4ee4-8158-3a8107e05669",
   "metadata": {},
   "outputs": [],
   "source": [
    "model.summary()"
   ]
  },
  {
   "cell_type": "code",
   "execution_count": null,
   "id": "f3afe400-db96-4c1c-8953-be28ba37299f",
   "metadata": {},
   "outputs": [],
   "source": [
    "model.fit(train_dataset, epochs=3, validation_data=test_dataset)"
   ]
  },
  {
   "cell_type": "code",
   "execution_count": null,
   "id": "60ca750a-bdad-4a98-b638-796c06fafab2",
   "metadata": {},
   "outputs": [],
   "source": []
  }
 ],
 "metadata": {
  "kernelspec": {
   "display_name": "Python 3 (ipykernel)",
   "language": "python",
   "name": "python3"
  },
  "language_info": {
   "codemirror_mode": {
    "name": "ipython",
    "version": 3
   },
   "file_extension": ".py",
   "mimetype": "text/x-python",
   "name": "python",
   "nbconvert_exporter": "python",
   "pygments_lexer": "ipython3",
   "version": "3.11.4"
  }
 },
 "nbformat": 4,
 "nbformat_minor": 5
}
