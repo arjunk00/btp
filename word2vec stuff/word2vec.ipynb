{
 "cells": [
  {
   "cell_type": "code",
   "execution_count": 1,
   "id": "15eab50a-90e1-4885-b779-b8cee0073901",
   "metadata": {},
   "outputs": [],
   "source": [
    "import pandas as pd\n",
    "from sklearn.model_selection import train_test_split"
   ]
  },
  {
   "cell_type": "code",
   "execution_count": 2,
   "id": "89ee6bd1-70d3-4354-9eff-d64e02f1c445",
   "metadata": {},
   "outputs": [
    {
     "data": {
      "text/html": [
       "<div>\n",
       "<style scoped>\n",
       "    .dataframe tbody tr th:only-of-type {\n",
       "        vertical-align: middle;\n",
       "    }\n",
       "\n",
       "    .dataframe tbody tr th {\n",
       "        vertical-align: top;\n",
       "    }\n",
       "\n",
       "    .dataframe thead th {\n",
       "        text-align: right;\n",
       "    }\n",
       "</style>\n",
       "<table border=\"1\" class=\"dataframe\">\n",
       "  <thead>\n",
       "    <tr style=\"text-align: right;\">\n",
       "      <th></th>\n",
       "      <th>speech</th>\n",
       "      <th>psychological_state</th>\n",
       "    </tr>\n",
       "  </thead>\n",
       "  <tbody>\n",
       "    <tr>\n",
       "      <th>0</th>\n",
       "      <td>From the moment that the French defenses at Se...</td>\n",
       "      <td>dominance</td>\n",
       "    </tr>\n",
       "    <tr>\n",
       "      <th>1</th>\n",
       "      <td>We observe today not a victory of party but a ...</td>\n",
       "      <td>hope</td>\n",
       "    </tr>\n",
       "    <tr>\n",
       "      <th>2</th>\n",
       "      <td>Your Majesties, Your Highnesses, Distinguished...</td>\n",
       "      <td>love</td>\n",
       "    </tr>\n",
       "    <tr>\n",
       "      <th>3</th>\n",
       "      <td>I am honored to be with you today at your comm...</td>\n",
       "      <td>love</td>\n",
       "    </tr>\n",
       "    <tr>\n",
       "      <th>4</th>\n",
       "      <td>Honorable UN Secretary General Mr Ban Ki-moon,...</td>\n",
       "      <td>hope</td>\n",
       "    </tr>\n",
       "    <tr>\n",
       "      <th>5</th>\n",
       "      <td>It is with a profound sense of humility that I...</td>\n",
       "      <td>sentimentality</td>\n",
       "    </tr>\n",
       "    <tr>\n",
       "      <th>6</th>\n",
       "      <td>My message is that we'll be watching you.\\n\\n\"...</td>\n",
       "      <td>dispair</td>\n",
       "    </tr>\n",
       "    <tr>\n",
       "      <th>7</th>\n",
       "      <td>Hello everybody. You know, Michelle and I have...</td>\n",
       "      <td>love</td>\n",
       "    </tr>\n",
       "    <tr>\n",
       "      <th>8</th>\n",
       "      <td>Your Majesties, Your Royal Highness, Excellenc...</td>\n",
       "      <td>optimism</td>\n",
       "    </tr>\n",
       "    <tr>\n",
       "      <th>9</th>\n",
       "      <td>Five score years ago, a great American, in who...</td>\n",
       "      <td>shame</td>\n",
       "    </tr>\n",
       "  </tbody>\n",
       "</table>\n",
       "</div>"
      ],
      "text/plain": [
       "                                              speech psychological_state\n",
       "0  From the moment that the French defenses at Se...           dominance\n",
       "1  We observe today not a victory of party but a ...                hope\n",
       "2  Your Majesties, Your Highnesses, Distinguished...                love\n",
       "3  I am honored to be with you today at your comm...                love\n",
       "4  Honorable UN Secretary General Mr Ban Ki-moon,...                hope\n",
       "5  It is with a profound sense of humility that I...      sentimentality\n",
       "6  My message is that we'll be watching you.\\n\\n\"...             dispair\n",
       "7  Hello everybody. You know, Michelle and I have...                love\n",
       "8  Your Majesties, Your Royal Highness, Excellenc...            optimism\n",
       "9  Five score years ago, a great American, in who...               shame"
      ]
     },
     "execution_count": 2,
     "metadata": {},
     "output_type": "execute_result"
    }
   ],
   "source": [
    "data=pd.read_csv('dataset.csv')\n",
    "data"
   ]
  },
  {
   "cell_type": "code",
   "execution_count": 3,
   "id": "d911c42d-6e7f-4a96-91d6-36d60d1eaf1a",
   "metadata": {},
   "outputs": [],
   "source": [
    "X_train, X_test, y_train, y_test = train_test_split(data['speech'], data['psychological_state'], test_size=0.2, random_state=42)"
   ]
  },
  {
   "cell_type": "code",
   "execution_count": 14,
   "id": "b2b9c4fe-d10b-49c9-90f5-bc8bc698c594",
   "metadata": {},
   "outputs": [
    {
     "name": "stderr",
     "output_type": "stream",
     "text": [
      "[nltk_data] Downloading package stopwords to /home/arjun/nltk_data...\n",
      "[nltk_data]   Package stopwords is already up-to-date!\n",
      "[nltk_data] Downloading package punkt to /home/arjun/nltk_data...\n",
      "[nltk_data]   Unzipping tokenizers/punkt.zip.\n"
     ]
    },
    {
     "data": {
      "text/plain": [
       "True"
      ]
     },
     "execution_count": 14,
     "metadata": {},
     "output_type": "execute_result"
    }
   ],
   "source": [
    "import nltk\n",
    "nltk.download('stopwords')\n",
    "nltk.download('punkt')"
   ]
  },
  {
   "cell_type": "code",
   "execution_count": 15,
   "id": "bb45d235-c0af-4766-b6df-9bc9583a8083",
   "metadata": {},
   "outputs": [],
   "source": [
    "from nltk.corpus import stopwords\n",
    "from nltk.tokenize import word_tokenize\n",
    "import string\n",
    "\n",
    "stop_words=set(stopwords.words('english'))\n",
    "def preprocess_speech(text):\n",
    "    text=text.lower()\n",
    "    text=''.join([word for word in text if word not in string.punctuation])\n",
    "    tokens=word_tokenize(text)\n",
    "    tokens=[word for word in tokens if word not in stop_words]\n",
    "    return ' '.join(tokens)"
   ]
  },
  {
   "cell_type": "code",
   "execution_count": 16,
   "id": "343374d0-5e86-4651-9eb0-6514896dcbc2",
   "metadata": {},
   "outputs": [],
   "source": [
    "X_train=X_train.apply(preprocess_speech)\n",
    "X_test=X_test.apply(preprocess_speech)"
   ]
  },
  {
   "cell_type": "code",
   "execution_count": 19,
   "id": "63f0cec9-1fe8-4e66-b234-b7bd37950fec",
   "metadata": {},
   "outputs": [],
   "source": [
    "from gensim.models import Word2Vec\n",
    "\n",
    "sentences=[sentence.split() for sentence in X_train]\n",
    "w2v_model=Word2Vec(sentences,vector_size=100, window=5, min_count=5, workers=4)"
   ]
  },
  {
   "cell_type": "code",
   "execution_count": null,
   "id": "a00484da-0ad7-4498-8f8c-937f5f165d51",
   "metadata": {},
   "outputs": [],
   "source": [
    "import numpy as np\n",
    "\n",
    "def vectorize(sentence):\n",
    "    words=sentence.split()\n",
    "    words_vecs=[w2v_model.wv[word] for word in words if word in w2v_model.wv]\n",
    "    if len(words_vecs)==0:\n",
    "        return np.zeros(100)\n",
    "    words_vecs=np.array(words_vecs)"
   ]
  }
 ],
 "metadata": {
  "kernelspec": {
   "display_name": "Python 3 (ipykernel)",
   "language": "python",
   "name": "python3"
  },
  "language_info": {
   "codemirror_mode": {
    "name": "ipython",
    "version": 3
   },
   "file_extension": ".py",
   "mimetype": "text/x-python",
   "name": "python",
   "nbconvert_exporter": "python",
   "pygments_lexer": "ipython3",
   "version": "3.11.4"
  }
 },
 "nbformat": 4,
 "nbformat_minor": 5
}
