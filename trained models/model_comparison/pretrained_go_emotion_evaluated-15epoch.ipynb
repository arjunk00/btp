{
 "cells": [
  {
   "cell_type": "code",
   "execution_count": 1,
   "id": "2087839d-5d9c-411f-89db-220bfb78de3a",
   "metadata": {
    "ExecuteTime": {
     "end_time": "2023-12-08T10:10:39.841590366Z",
     "start_time": "2023-12-08T10:10:33.813396114Z"
    },
    "id": "2087839d-5d9c-411f-89db-220bfb78de3a"
   },
   "outputs": [
    {
     "name": "stderr",
     "output_type": "stream",
     "text": [
      "2024-03-16 21:36:10.793125: I external/local_tsl/tsl/cuda/cudart_stub.cc:31] Could not find cuda drivers on your machine, GPU will not be used.\n",
      "2024-03-16 21:36:10.823494: E external/local_xla/xla/stream_executor/cuda/cuda_dnn.cc:9261] Unable to register cuDNN factory: Attempting to register factory for plugin cuDNN when one has already been registered\n",
      "2024-03-16 21:36:10.823516: E external/local_xla/xla/stream_executor/cuda/cuda_fft.cc:607] Unable to register cuFFT factory: Attempting to register factory for plugin cuFFT when one has already been registered\n",
      "2024-03-16 21:36:10.824256: E external/local_xla/xla/stream_executor/cuda/cuda_blas.cc:1515] Unable to register cuBLAS factory: Attempting to register factory for plugin cuBLAS when one has already been registered\n",
      "2024-03-16 21:36:10.828871: I external/local_tsl/tsl/cuda/cudart_stub.cc:31] Could not find cuda drivers on your machine, GPU will not be used.\n",
      "2024-03-16 21:36:10.829391: I tensorflow/core/platform/cpu_feature_guard.cc:182] This TensorFlow binary is optimized to use available CPU instructions in performance-critical operations.\n",
      "To enable the following instructions: AVX2 FMA, in other operations, rebuild TensorFlow with the appropriate compiler flags.\n",
      "2024-03-16 21:36:11.451795: W tensorflow/compiler/tf2tensorrt/utils/py_utils.cc:38] TF-TRT Warning: Could not find TensorRT\n",
      "/home/arjun/miniconda3/envs/ml/lib/python3.11/site-packages/tqdm/auto.py:21: TqdmWarning: IProgress not found. Please update jupyter and ipywidgets. See https://ipywidgets.readthedocs.io/en/stable/user_install.html\n",
      "  from .autonotebook import tqdm as notebook_tqdm\n"
     ]
    }
   ],
   "source": [
    "import tensorflow as tf\n",
    "import pandas as pd\n",
    "import numpy as np\n",
    "from transformers import AutoTokenizer, TFRobertaForSequenceClassification\n",
    "import nltk\n",
    "from nltk.corpus import stopwords\n",
    "from nltk.stem import PorterStemmer\n",
    "from nltk.tokenize import word_tokenize\n",
    "import string"
   ]
  },
  {
   "cell_type": "code",
   "execution_count": 2,
   "id": "b5df027a-a521-49d7-9400-2494074b45e9",
   "metadata": {
    "ExecuteTime": {
     "end_time": "2023-12-08T05:42:29.571797377Z",
     "start_time": "2023-12-08T05:42:29.541382938Z"
    },
    "colab": {
     "base_uri": "https://localhost:8080/",
     "height": 363
    },
    "id": "b5df027a-a521-49d7-9400-2494074b45e9",
    "outputId": "b02504e7-4f3a-497f-c619-1fdb140293dc"
   },
   "outputs": [
    {
     "data": {
      "text/html": [
       "<div>\n",
       "<style scoped>\n",
       "    .dataframe tbody tr th:only-of-type {\n",
       "        vertical-align: middle;\n",
       "    }\n",
       "\n",
       "    .dataframe tbody tr th {\n",
       "        vertical-align: top;\n",
       "    }\n",
       "\n",
       "    .dataframe thead th {\n",
       "        text-align: right;\n",
       "    }\n",
       "</style>\n",
       "<table border=\"1\" class=\"dataframe\">\n",
       "  <thead>\n",
       "    <tr style=\"text-align: right;\">\n",
       "      <th></th>\n",
       "      <th>speech</th>\n",
       "      <th>emotion</th>\n",
       "    </tr>\n",
       "  </thead>\n",
       "  <tbody>\n",
       "    <tr>\n",
       "      <th>0</th>\n",
       "      <td>From the moment that the French defenses at Se...</td>\n",
       "      <td>trust</td>\n",
       "    </tr>\n",
       "    <tr>\n",
       "      <th>1</th>\n",
       "      <td>Five score years ago, a great American, in who...</td>\n",
       "      <td>anticipation</td>\n",
       "    </tr>\n",
       "    <tr>\n",
       "      <th>2</th>\n",
       "      <td>The media will not show the magnitude of this ...</td>\n",
       "      <td>anger</td>\n",
       "    </tr>\n",
       "    <tr>\n",
       "      <th>3</th>\n",
       "      <td>Madam Vice President, my fellow Americans: to ...</td>\n",
       "      <td>disgust</td>\n",
       "    </tr>\n",
       "    <tr>\n",
       "      <th>4</th>\n",
       "      <td>My German countrymen, men and women, (long pau...</td>\n",
       "      <td>anger</td>\n",
       "    </tr>\n",
       "    <tr>\n",
       "      <th>5</th>\n",
       "      <td>We observe today not a victory of party but a ...</td>\n",
       "      <td>joy</td>\n",
       "    </tr>\n",
       "    <tr>\n",
       "      <th>6</th>\n",
       "      <td>Your Majesties, Your Highnesses, Distinguished...</td>\n",
       "      <td>trust</td>\n",
       "    </tr>\n",
       "    <tr>\n",
       "      <th>7</th>\n",
       "      <td>I am honored to be with you today at your comm...</td>\n",
       "      <td>anticipation</td>\n",
       "    </tr>\n",
       "    <tr>\n",
       "      <th>8</th>\n",
       "      <td>Honorable UN Secretary General Mr Ban Ki-moon,...</td>\n",
       "      <td>sadness</td>\n",
       "    </tr>\n",
       "    <tr>\n",
       "      <th>9</th>\n",
       "      <td>It is with a profound sense of humility that I...</td>\n",
       "      <td>sadness</td>\n",
       "    </tr>\n",
       "    <tr>\n",
       "      <th>10</th>\n",
       "      <td>My message is that we'll be watching you.\\r\\n\\...</td>\n",
       "      <td>fear</td>\n",
       "    </tr>\n",
       "    <tr>\n",
       "      <th>11</th>\n",
       "      <td>Hello everybody. You know, Michelle and I have...</td>\n",
       "      <td>joy</td>\n",
       "    </tr>\n",
       "    <tr>\n",
       "      <th>12</th>\n",
       "      <td>Your Majesties, Your Royal Highness, Excellenc...</td>\n",
       "      <td>anticipation</td>\n",
       "    </tr>\n",
       "    <tr>\n",
       "      <th>13</th>\n",
       "      <td>Five score years ago, a great American, in who...</td>\n",
       "      <td>trust</td>\n",
       "    </tr>\n",
       "  </tbody>\n",
       "</table>\n",
       "</div>"
      ],
      "text/plain": [
       "                                               speech       emotion\n",
       "0   From the moment that the French defenses at Se...         trust\n",
       "1   Five score years ago, a great American, in who...  anticipation\n",
       "2   The media will not show the magnitude of this ...         anger\n",
       "3   Madam Vice President, my fellow Americans: to ...       disgust\n",
       "4   My German countrymen, men and women, (long pau...         anger\n",
       "5   We observe today not a victory of party but a ...           joy\n",
       "6   Your Majesties, Your Highnesses, Distinguished...         trust\n",
       "7   I am honored to be with you today at your comm...  anticipation\n",
       "8   Honorable UN Secretary General Mr Ban Ki-moon,...       sadness\n",
       "9   It is with a profound sense of humility that I...       sadness\n",
       "10  My message is that we'll be watching you.\\r\\n\\...          fear\n",
       "11  Hello everybody. You know, Michelle and I have...           joy\n",
       "12  Your Majesties, Your Royal Highness, Excellenc...  anticipation\n",
       "13  Five score years ago, a great American, in who...         trust"
      ]
     },
     "execution_count": 2,
     "metadata": {},
     "output_type": "execute_result"
    }
   ],
   "source": [
    "df=pd.read_csv('one_output_dataset_new.csv')\n",
    "df"
   ]
  },
  {
   "cell_type": "code",
   "execution_count": 3,
   "id": "fPjNOWUtEnl_",
   "metadata": {
    "ExecuteTime": {
     "end_time": "2023-12-08T05:42:29.923995967Z",
     "start_time": "2023-12-08T05:42:29.896819865Z"
    },
    "colab": {
     "base_uri": "https://localhost:8080/",
     "height": 363
    },
    "id": "fPjNOWUtEnl_",
    "outputId": "e4ed5c35-6557-41df-a737-78ab1273adbd"
   },
   "outputs": [
    {
     "data": {
      "text/html": [
       "<div>\n",
       "<style scoped>\n",
       "    .dataframe tbody tr th:only-of-type {\n",
       "        vertical-align: middle;\n",
       "    }\n",
       "\n",
       "    .dataframe tbody tr th {\n",
       "        vertical-align: top;\n",
       "    }\n",
       "\n",
       "    .dataframe thead th {\n",
       "        text-align: right;\n",
       "    }\n",
       "</style>\n",
       "<table border=\"1\" class=\"dataframe\">\n",
       "  <thead>\n",
       "    <tr style=\"text-align: right;\">\n",
       "      <th></th>\n",
       "      <th>speech</th>\n",
       "      <th>emotion</th>\n",
       "    </tr>\n",
       "  </thead>\n",
       "  <tbody>\n",
       "    <tr>\n",
       "      <th>0</th>\n",
       "      <td>From the moment that the French defenses at Se...</td>\n",
       "      <td>2.0</td>\n",
       "    </tr>\n",
       "    <tr>\n",
       "      <th>1</th>\n",
       "      <td>Five score years ago, a great American, in who...</td>\n",
       "      <td>3.0</td>\n",
       "    </tr>\n",
       "    <tr>\n",
       "      <th>2</th>\n",
       "      <td>The media will not show the magnitude of this ...</td>\n",
       "      <td>0.0</td>\n",
       "    </tr>\n",
       "    <tr>\n",
       "      <th>3</th>\n",
       "      <td>Madam Vice President, my fellow Americans: to ...</td>\n",
       "      <td>6.0</td>\n",
       "    </tr>\n",
       "    <tr>\n",
       "      <th>4</th>\n",
       "      <td>My German countrymen, men and women, (long pau...</td>\n",
       "      <td>0.0</td>\n",
       "    </tr>\n",
       "    <tr>\n",
       "      <th>5</th>\n",
       "      <td>We observe today not a victory of party but a ...</td>\n",
       "      <td>1.0</td>\n",
       "    </tr>\n",
       "    <tr>\n",
       "      <th>6</th>\n",
       "      <td>Your Majesties, Your Highnesses, Distinguished...</td>\n",
       "      <td>2.0</td>\n",
       "    </tr>\n",
       "    <tr>\n",
       "      <th>7</th>\n",
       "      <td>I am honored to be with you today at your comm...</td>\n",
       "      <td>3.0</td>\n",
       "    </tr>\n",
       "    <tr>\n",
       "      <th>8</th>\n",
       "      <td>Honorable UN Secretary General Mr Ban Ki-moon,...</td>\n",
       "      <td>4.0</td>\n",
       "    </tr>\n",
       "    <tr>\n",
       "      <th>9</th>\n",
       "      <td>It is with a profound sense of humility that I...</td>\n",
       "      <td>4.0</td>\n",
       "    </tr>\n",
       "    <tr>\n",
       "      <th>10</th>\n",
       "      <td>My message is that we'll be watching you.\\r\\n\\...</td>\n",
       "      <td>5.0</td>\n",
       "    </tr>\n",
       "    <tr>\n",
       "      <th>11</th>\n",
       "      <td>Hello everybody. You know, Michelle and I have...</td>\n",
       "      <td>1.0</td>\n",
       "    </tr>\n",
       "    <tr>\n",
       "      <th>12</th>\n",
       "      <td>Your Majesties, Your Royal Highness, Excellenc...</td>\n",
       "      <td>3.0</td>\n",
       "    </tr>\n",
       "    <tr>\n",
       "      <th>13</th>\n",
       "      <td>Five score years ago, a great American, in who...</td>\n",
       "      <td>2.0</td>\n",
       "    </tr>\n",
       "  </tbody>\n",
       "</table>\n",
       "</div>"
      ],
      "text/plain": [
       "                                               speech  emotion\n",
       "0   From the moment that the French defenses at Se...      2.0\n",
       "1   Five score years ago, a great American, in who...      3.0\n",
       "2   The media will not show the magnitude of this ...      0.0\n",
       "3   Madam Vice President, my fellow Americans: to ...      6.0\n",
       "4   My German countrymen, men and women, (long pau...      0.0\n",
       "5   We observe today not a victory of party but a ...      1.0\n",
       "6   Your Majesties, Your Highnesses, Distinguished...      2.0\n",
       "7   I am honored to be with you today at your comm...      3.0\n",
       "8   Honorable UN Secretary General Mr Ban Ki-moon,...      4.0\n",
       "9   It is with a profound sense of humility that I...      4.0\n",
       "10  My message is that we'll be watching you.\\r\\n\\...      5.0\n",
       "11  Hello everybody. You know, Michelle and I have...      1.0\n",
       "12  Your Majesties, Your Royal Highness, Excellenc...      3.0\n",
       "13  Five score years ago, a great American, in who...      2.0"
      ]
     },
     "execution_count": 3,
     "metadata": {},
     "output_type": "execute_result"
    }
   ],
   "source": [
    "dict={'anger':0.0, 'joy':1.0, 'trust':2.0, 'anticipation':3.0, 'sadness':4.0, 'fear':5.0, 'disgust':6.0}\n",
    "df=df.replace(dict)\n",
    "df['emotion'] = df['emotion'].apply(pd.to_numeric)\n",
    "df"
   ]
  },
  {
   "cell_type": "markdown",
   "id": "6_FCLUvYT6y6",
   "metadata": {
    "id": "6_FCLUvYT6y6"
   },
   "source": [
    "# New Section"
   ]
  },
  {
   "cell_type": "code",
   "execution_count": 4,
   "id": "cb4bcaf4-b4d1-4974-8b2f-0c712520c3b7",
   "metadata": {
    "ExecuteTime": {
     "end_time": "2023-12-08T05:42:33.008172047Z",
     "start_time": "2023-12-08T05:42:31.757012474Z"
    },
    "colab": {
     "base_uri": "https://localhost:8080/"
    },
    "id": "cb4bcaf4-b4d1-4974-8b2f-0c712520c3b7",
    "outputId": "a4687d8e-b055-435f-b185-9bf7ea287301"
   },
   "outputs": [
    {
     "name": "stderr",
     "output_type": "stream",
     "text": [
      "[nltk_data] Downloading package punkt to /home/arjun/nltk_data...\n",
      "[nltk_data]   Package punkt is already up-to-date!\n",
      "[nltk_data] Downloading package stopwords to /home/arjun/nltk_data...\n",
      "[nltk_data]   Package stopwords is already up-to-date!\n"
     ]
    }
   ],
   "source": [
    "#preprocess transcript\n",
    "\n",
    "# download necessary NLTK data\n",
    "nltk.download('punkt')\n",
    "nltk.download('stopwords')\n",
    "\n",
    "# initialize a PorterStemmer\n",
    "stemmer = PorterStemmer()\n",
    "\n",
    "def preprocess_text(text):\n",
    "    # lowercase the text\n",
    "    text = text.lower()\n",
    "    # remove punctuation\n",
    "    text = text.translate(str.maketrans('', '', string.punctuation))\n",
    "    # tokenize the text\n",
    "    words = word_tokenize(text)\n",
    "    # remove stopwords and stem the words\n",
    "    words = [stemmer.stem(word) for word in words if word not in stopwords.words('english')]\n",
    "    # join the words back into a string\n",
    "    text = ' '.join(words)\n",
    "\n",
    "    return text\n",
    "\n",
    "df['speech'] = df['speech'].apply(preprocess_text)"
   ]
  },
  {
   "cell_type": "code",
   "execution_count": 5,
   "id": "wTWI03C7MU22",
   "metadata": {
    "colab": {
     "base_uri": "https://localhost:8080/"
    },
    "id": "wTWI03C7MU22",
    "outputId": "50498c85-c287-4c45-95f0-69bda03b0c11"
   },
   "outputs": [
    {
     "name": "stdout",
     "output_type": "stream",
     "text": [
      "/usr/bin/zsh: /home/arjun/miniconda3/envs/ml/lib/libncursesw.so.6: no version information available (required by /usr/bin/zsh)\n",
      "Requirement already satisfied: sentencepiece in /home/arjun/miniconda3/envs/ml/lib/python3.11/site-packages (0.1.99)\n",
      "\n",
      "\u001b[1m[\u001b[0m\u001b[34;49mnotice\u001b[0m\u001b[1;39;49m]\u001b[0m\u001b[39;49m A new release of pip is available: \u001b[0m\u001b[31;49m23.3.2\u001b[0m\u001b[39;49m -> \u001b[0m\u001b[32;49m24.0\u001b[0m\n",
      "\u001b[1m[\u001b[0m\u001b[34;49mnotice\u001b[0m\u001b[1;39;49m]\u001b[0m\u001b[39;49m To update, run: \u001b[0m\u001b[32;49mpip install --upgrade pip\u001b[0m\n"
     ]
    }
   ],
   "source": [
    "!pip install sentencepiece"
   ]
  },
  {
   "cell_type": "code",
   "execution_count": 6,
   "id": "c15a2034-bacc-4684-88e7-1e387b3263f5",
   "metadata": {
    "ExecuteTime": {
     "end_time": "2023-12-08T05:42:44.332883575Z",
     "start_time": "2023-12-08T05:42:41.215318159Z"
    },
    "colab": {
     "base_uri": "https://localhost:8080/"
    },
    "id": "c15a2034-bacc-4684-88e7-1e387b3263f5",
    "outputId": "8c9b578d-08d0-4125-c085-b3616502e04c"
   },
   "outputs": [
    {
     "name": "stderr",
     "output_type": "stream",
     "text": [
      "2024-03-16 21:36:26.555476: I external/local_xla/xla/stream_executor/cuda/cuda_executor.cc:901] successful NUMA node read from SysFS had negative value (-1), but there must be at least one NUMA node, so returning NUMA node zero. See more at https://github.com/torvalds/linux/blob/v6.0/Documentation/ABI/testing/sysfs-bus-pci#L344-L355\n",
      "2024-03-16 21:36:26.556371: W tensorflow/core/common_runtime/gpu/gpu_device.cc:2256] Cannot dlopen some GPU libraries. Please make sure the missing libraries mentioned above are installed properly if you would like to use GPU. Follow the guide at https://www.tensorflow.org/install/gpu for how to download and setup the required libraries for your platform.\n",
      "Skipping registering GPU devices...\n",
      "Some weights of the PyTorch model were not used when initializing the TF 2.0 model TFRobertaForSequenceClassification: ['roberta.embeddings.position_ids']\n",
      "- This IS expected if you are initializing TFRobertaForSequenceClassification from a PyTorch model trained on another task or with another architecture (e.g. initializing a TFBertForSequenceClassification model from a BertForPreTraining model).\n",
      "- This IS NOT expected if you are initializing TFRobertaForSequenceClassification from a PyTorch model that you expect to be exactly identical (e.g. initializing a TFBertForSequenceClassification model from a BertForSequenceClassification model).\n",
      "All the weights of TFRobertaForSequenceClassification were initialized from the PyTorch model.\n",
      "If your task is similar to the task the model of the checkpoint was trained on, you can already use TFRobertaForSequenceClassification for predictions without further training.\n"
     ]
    }
   ],
   "source": [
    "tokenizer=AutoTokenizer.from_pretrained(\"SamLowe/roberta-base-go_emotions\")\n",
    "model=TFRobertaForSequenceClassification.from_pretrained(\"SamLowe/roberta-base-go_emotions\")"
   ]
  },
  {
   "cell_type": "code",
   "execution_count": 7,
   "id": "_MMOBWVM4Htm",
   "metadata": {
    "ExecuteTime": {
     "end_time": "2023-12-08T05:42:45.404371205Z",
     "start_time": "2023-12-08T05:42:45.359995906Z"
    },
    "colab": {
     "base_uri": "https://localhost:8080/",
     "height": 363
    },
    "id": "_MMOBWVM4Htm",
    "outputId": "71935e7a-5d62-463f-b207-36dbca601a9d"
   },
   "outputs": [
    {
     "data": {
      "text/html": [
       "<div>\n",
       "<style scoped>\n",
       "    .dataframe tbody tr th:only-of-type {\n",
       "        vertical-align: middle;\n",
       "    }\n",
       "\n",
       "    .dataframe tbody tr th {\n",
       "        vertical-align: top;\n",
       "    }\n",
       "\n",
       "    .dataframe thead th {\n",
       "        text-align: right;\n",
       "    }\n",
       "</style>\n",
       "<table border=\"1\" class=\"dataframe\">\n",
       "  <thead>\n",
       "    <tr style=\"text-align: right;\">\n",
       "      <th></th>\n",
       "      <th>speech</th>\n",
       "      <th>emotion</th>\n",
       "    </tr>\n",
       "  </thead>\n",
       "  <tbody>\n",
       "    <tr>\n",
       "      <th>0</th>\n",
       "      <td>moment french defens sedan meus broken end sec...</td>\n",
       "      <td>2.0</td>\n",
       "    </tr>\n",
       "    <tr>\n",
       "      <th>1</th>\n",
       "      <td>five score year ago great american whose symbo...</td>\n",
       "      <td>3.0</td>\n",
       "    </tr>\n",
       "    <tr>\n",
       "      <th>2</th>\n",
       "      <td>media show magnitud crowd even turn today look...</td>\n",
       "      <td>0.0</td>\n",
       "    </tr>\n",
       "    <tr>\n",
       "      <th>3</th>\n",
       "      <td>madam vice presid fellow american state obviou...</td>\n",
       "      <td>6.0</td>\n",
       "    </tr>\n",
       "    <tr>\n",
       "      <th>4</th>\n",
       "      <td>german countrymen men women long paus chang go...</td>\n",
       "      <td>0.0</td>\n",
       "    </tr>\n",
       "    <tr>\n",
       "      <th>5</th>\n",
       "      <td>observ today victori parti celebr freedomsymbo...</td>\n",
       "      <td>1.0</td>\n",
       "    </tr>\n",
       "    <tr>\n",
       "      <th>6</th>\n",
       "      <td>majesti high distinguish guest comrad friend t...</td>\n",
       "      <td>2.0</td>\n",
       "    </tr>\n",
       "    <tr>\n",
       "      <th>7</th>\n",
       "      <td>honor today commenc one finest univers world n...</td>\n",
       "      <td>3.0</td>\n",
       "    </tr>\n",
       "    <tr>\n",
       "      <th>8</th>\n",
       "      <td>honor un secretari gener mr ban kimoon respect...</td>\n",
       "      <td>4.0</td>\n",
       "    </tr>\n",
       "    <tr>\n",
       "      <th>9</th>\n",
       "      <td>profound sens humil accept honor chosen bestow...</td>\n",
       "      <td>4.0</td>\n",
       "    </tr>\n",
       "    <tr>\n",
       "      <th>10</th>\n",
       "      <td>messag well watch wrong shouldnt back school s...</td>\n",
       "      <td>5.0</td>\n",
       "    </tr>\n",
       "    <tr>\n",
       "      <th>11</th>\n",
       "      <td>hello everybodi know michel realli milk goodby...</td>\n",
       "      <td>1.0</td>\n",
       "    </tr>\n",
       "    <tr>\n",
       "      <th>12</th>\n",
       "      <td>majesti royal high excel distinguish member no...</td>\n",
       "      <td>3.0</td>\n",
       "    </tr>\n",
       "    <tr>\n",
       "      <th>13</th>\n",
       "      <td>five score year ago great american whose symbo...</td>\n",
       "      <td>2.0</td>\n",
       "    </tr>\n",
       "  </tbody>\n",
       "</table>\n",
       "</div>"
      ],
      "text/plain": [
       "                                               speech  emotion\n",
       "0   moment french defens sedan meus broken end sec...      2.0\n",
       "1   five score year ago great american whose symbo...      3.0\n",
       "2   media show magnitud crowd even turn today look...      0.0\n",
       "3   madam vice presid fellow american state obviou...      6.0\n",
       "4   german countrymen men women long paus chang go...      0.0\n",
       "5   observ today victori parti celebr freedomsymbo...      1.0\n",
       "6   majesti high distinguish guest comrad friend t...      2.0\n",
       "7   honor today commenc one finest univers world n...      3.0\n",
       "8   honor un secretari gener mr ban kimoon respect...      4.0\n",
       "9   profound sens humil accept honor chosen bestow...      4.0\n",
       "10  messag well watch wrong shouldnt back school s...      5.0\n",
       "11  hello everybodi know michel realli milk goodby...      1.0\n",
       "12  majesti royal high excel distinguish member no...      3.0\n",
       "13  five score year ago great american whose symbo...      2.0"
      ]
     },
     "execution_count": 7,
     "metadata": {},
     "output_type": "execute_result"
    }
   ],
   "source": [
    "df\n"
   ]
  },
  {
   "cell_type": "code",
   "execution_count": 8,
   "id": "ee54acf8-ecf1-492c-8ad7-763b0c5e1d55",
   "metadata": {
    "ExecuteTime": {
     "end_time": "2023-12-08T05:42:48.770699328Z",
     "start_time": "2023-12-08T05:42:48.764789271Z"
    },
    "id": "ee54acf8-ecf1-492c-8ad7-763b0c5e1d55"
   },
   "outputs": [],
   "source": [
    "from sklearn.model_selection import train_test_split\n",
    "\n",
    "train, test = train_test_split(df, test_size=0.2)"
   ]
  },
  {
   "cell_type": "code",
   "execution_count": 9,
   "id": "5d2f45b0-152d-434a-88e9-6e9dc3b414d1",
   "metadata": {
    "ExecuteTime": {
     "end_time": "2023-12-08T05:42:48.963119143Z",
     "start_time": "2023-12-08T05:42:48.956450730Z"
    },
    "id": "5d2f45b0-152d-434a-88e9-6e9dc3b414d1"
   },
   "outputs": [],
   "source": [
    "#split in train and test in text and labels\n",
    "train_texts = train['speech'].tolist()\n",
    "train_labels = train['emotion'].tolist()\n",
    "\n",
    "test_texts = test['speech'].tolist()\n",
    "test_labels = test['emotion'].tolist()"
   ]
  },
  {
   "cell_type": "code",
   "execution_count": 10,
   "id": "57e46441-fe6d-4948-b13c-c0d2dba19664",
   "metadata": {
    "ExecuteTime": {
     "end_time": "2023-12-08T05:42:49.439641468Z",
     "start_time": "2023-12-08T05:42:49.367863726Z"
    },
    "id": "57e46441-fe6d-4948-b13c-c0d2dba19664"
   },
   "outputs": [],
   "source": [
    "#tokenize the texts\n",
    "train_encodings = tokenizer(train_texts, truncation=True, padding=True, max_length=512)\n",
    "test_encodings = tokenizer(test_texts, truncation=True, padding=True, max_length=512)"
   ]
  },
  {
   "cell_type": "code",
   "execution_count": 11,
   "id": "7a560740-c3b5-4781-9c07-b27264980eb4",
   "metadata": {
    "ExecuteTime": {
     "end_time": "2023-12-08T05:42:49.932692366Z",
     "start_time": "2023-12-08T05:42:49.922415361Z"
    },
    "id": "7a560740-c3b5-4781-9c07-b27264980eb4"
   },
   "outputs": [],
   "source": [
    "#convert features and labels to tensors for both train and test\n",
    "train_features = {key: tf.convert_to_tensor(val) for key, val in train_encodings.items()}\n",
    "train_labels = tf.convert_to_tensor(train_labels)\n",
    "\n",
    "test_features = {key: tf.convert_to_tensor(val) for key, val in test_encodings.items()}\n",
    "test_labels = tf.convert_to_tensor(test_labels)"
   ]
  },
  {
   "cell_type": "code",
   "execution_count": 12,
   "id": "028556e4-ebb3-4155-978b-6e41862c0748",
   "metadata": {
    "ExecuteTime": {
     "end_time": "2023-12-08T05:42:52.413687631Z",
     "start_time": "2023-12-08T05:42:52.401647193Z"
    },
    "id": "028556e4-ebb3-4155-978b-6e41862c0748"
   },
   "outputs": [],
   "source": [
    "#prepare the training and testing dataset\n",
    "train_dataset = tf.data.Dataset.from_tensor_slices((train_features, train_labels))\n",
    "train_dataset = train_dataset.shuffle(10000).batch(1)\n",
    "\n",
    "test_dataset = tf.data.Dataset.from_tensor_slices((test_features, test_labels))\n",
    "test_dataset = test_dataset.batch(1)"
   ]
  },
  {
   "cell_type": "code",
   "execution_count": 13,
   "id": "978195e4-9ece-4bb5-b0de-ab44b9c77c1c",
   "metadata": {
    "id": "978195e4-9ece-4bb5-b0de-ab44b9c77c1c"
   },
   "outputs": [],
   "source": [
    "#define model metrics\n",
    "from tensorflow import keras\n",
    "optimizer = tf.keras.optimizers.Adam(learning_rate=3e-5)\n",
    "loss = tf.keras.losses.SparseCategoricalCrossentropy(from_logits=True)\n",
    "metrics = ['accuracy']"
   ]
  },
  {
   "cell_type": "code",
   "execution_count": 14,
   "id": "cdbe304f-aaef-43ea-b7bd-02b72e2a5a72",
   "metadata": {
    "id": "cdbe304f-aaef-43ea-b7bd-02b72e2a5a72"
   },
   "outputs": [],
   "source": [
    "model.compile(optimizer=optimizer, loss=loss, metrics=metrics)"
   ]
  },
  {
   "cell_type": "code",
   "execution_count": 15,
   "id": "9902f105-b9ba-4511-b152-493f9b94ffb3",
   "metadata": {
    "colab": {
     "base_uri": "https://localhost:8080/"
    },
    "id": "9902f105-b9ba-4511-b152-493f9b94ffb3",
    "outputId": "fc3d4f38-2e9c-42be-ae73-e097d31fa96b"
   },
   "outputs": [
    {
     "name": "stdout",
     "output_type": "stream",
     "text": [
      "Model: \"tf_roberta_for_sequence_classification\"\n",
      "_________________________________________________________________\n",
      " Layer (type)                Output Shape              Param #   \n",
      "=================================================================\n",
      " roberta (TFRobertaMainLaye  multiple                  124055040 \n",
      " r)                                                              \n",
      "                                                                 \n",
      " classifier (TFRobertaClass  multiple                  612124    \n",
      " ificationHead)                                                  \n",
      "                                                                 \n",
      "=================================================================\n",
      "Total params: 124667164 (475.57 MB)\n",
      "Trainable params: 124667164 (475.57 MB)\n",
      "Non-trainable params: 0 (0.00 Byte)\n",
      "_________________________________________________________________\n"
     ]
    }
   ],
   "source": [
    "model.summary()"
   ]
  },
  {
   "cell_type": "code",
   "execution_count": 16,
   "id": "84G7nNbIQeRd",
   "metadata": {
    "colab": {
     "base_uri": "https://localhost:8080/"
    },
    "id": "84G7nNbIQeRd",
    "outputId": "07aabdeb-c2d2-484e-a68f-242150841db6"
   },
   "outputs": [
    {
     "data": {
      "text/plain": [
       "<tf.Tensor: shape=(11,), dtype=float32, numpy=array([1., 3., 2., 3., 1., 3., 5., 0., 2., 2., 6.], dtype=float32)>"
      ]
     },
     "execution_count": 16,
     "metadata": {},
     "output_type": "execute_result"
    }
   ],
   "source": [
    "train_labels"
   ]
  },
  {
   "cell_type": "code",
   "execution_count": 17,
   "id": "5be1e11f-740d-4ac6-8b76-7a355c599b8a",
   "metadata": {
    "colab": {
     "base_uri": "https://localhost:8080/"
    },
    "id": "5be1e11f-740d-4ac6-8b76-7a355c599b8a",
    "outputId": "a75fb4a2-d8d7-48fc-c112-187412592cdf"
   },
   "outputs": [
    {
     "name": "stdout",
     "output_type": "stream",
     "text": [
      "Epoch 1/15\n",
      "11/11 [==============================] - 59s 4s/step - loss: 4.7072 - accuracy: 0.0909 - val_loss: 4.7230 - val_accuracy: 0.0000e+00\n",
      "Epoch 2/15\n",
      "11/11 [==============================] - 36s 3s/step - loss: 2.4416 - accuracy: 0.1818 - val_loss: 5.2077 - val_accuracy: 0.0000e+00\n",
      "Epoch 3/15\n",
      "11/11 [==============================] - 35s 3s/step - loss: 2.0985 - accuracy: 0.1818 - val_loss: 4.8220 - val_accuracy: 0.0000e+00\n",
      "Epoch 4/15\n",
      "11/11 [==============================] - 34s 3s/step - loss: 1.4188 - accuracy: 0.4545 - val_loss: 5.3458 - val_accuracy: 0.0000e+00\n",
      "Epoch 5/15\n",
      "11/11 [==============================] - 34s 3s/step - loss: 1.0927 - accuracy: 0.6364 - val_loss: 5.6007 - val_accuracy: 0.0000e+00\n",
      "Epoch 6/15\n",
      "11/11 [==============================] - 30s 3s/step - loss: 0.5129 - accuracy: 0.8182 - val_loss: 5.4573 - val_accuracy: 0.0000e+00\n",
      "Epoch 7/15\n",
      "11/11 [==============================] - 30s 3s/step - loss: 0.2952 - accuracy: 0.9091 - val_loss: 5.6996 - val_accuracy: 0.0000e+00\n",
      "Epoch 8/15\n",
      "11/11 [==============================] - 36s 3s/step - loss: 0.2211 - accuracy: 1.0000 - val_loss: 5.5129 - val_accuracy: 0.0000e+00\n",
      "Epoch 9/15\n",
      "11/11 [==============================] - 36s 3s/step - loss: 0.3011 - accuracy: 0.8182 - val_loss: 5.6269 - val_accuracy: 0.0000e+00\n",
      "Epoch 10/15\n",
      "11/11 [==============================] - 36s 3s/step - loss: 0.2836 - accuracy: 0.8182 - val_loss: 5.7820 - val_accuracy: 0.0000e+00\n",
      "Epoch 11/15\n",
      "11/11 [==============================] - 36s 3s/step - loss: 0.2047 - accuracy: 0.9091 - val_loss: 5.4584 - val_accuracy: 0.0000e+00\n",
      "Epoch 12/15\n",
      "11/11 [==============================] - 34s 3s/step - loss: 0.1974 - accuracy: 0.9091 - val_loss: 5.8224 - val_accuracy: 0.0000e+00\n",
      "Epoch 13/15\n",
      "11/11 [==============================] - 36s 3s/step - loss: 0.1635 - accuracy: 1.0000 - val_loss: 6.1626 - val_accuracy: 0.0000e+00\n",
      "Epoch 14/15\n",
      "11/11 [==============================] - 32s 3s/step - loss: 0.2618 - accuracy: 0.8182 - val_loss: 6.0092 - val_accuracy: 0.0000e+00\n",
      "Epoch 15/15\n",
      "11/11 [==============================] - 29s 3s/step - loss: 0.1697 - accuracy: 0.9091 - val_loss: 5.9973 - val_accuracy: 0.0000e+00\n"
     ]
    },
    {
     "data": {
      "text/plain": [
       "<keras.src.callbacks.History at 0x749ffbfb5b90>"
      ]
     },
     "execution_count": 17,
     "metadata": {},
     "output_type": "execute_result"
    }
   ],
   "source": [
    "#fit model to train dataset\n",
    "model.fit(train_dataset, epochs=15, validation_data=test_dataset)"
   ]
  },
  {
   "cell_type": "code",
   "execution_count": 18,
   "id": "80396bf4-28cf-42d2-973a-ea5c4732694f",
   "metadata": {
    "id": "80396bf4-28cf-42d2-973a-ea5c4732694f"
   },
   "outputs": [],
   "source": [
    "model.save_weights('roberta_go_model_15epochs.h5')"
   ]
  },
  {
   "cell_type": "code",
   "execution_count": 19,
   "id": "svguKr7ZbmXh",
   "metadata": {
    "ExecuteTime": {
     "end_time": "2023-12-08T05:43:05.682192393Z",
     "start_time": "2023-12-08T05:43:04.641977944Z"
    },
    "colab": {
     "base_uri": "https://localhost:8080/"
    },
    "id": "svguKr7ZbmXh",
    "outputId": "53edc6b9-c3fd-4ea1-ce6e-bb4a31b96c8a"
   },
   "outputs": [
    {
     "name": "stderr",
     "output_type": "stream",
     "text": [
      "'(ReadTimeoutError(\"HTTPSConnectionPool(host='huggingface.co', port=443): Read timed out. (read timeout=10)\"), '(Request ID: af890f43-bd80-483f-99c5-2fddb6a8e7d6)')' thrown while requesting HEAD https://huggingface.co/SamLowe/roberta-base-go_emotions/resolve/main/config.json\n",
      "Some weights of the PyTorch model were not used when initializing the TF 2.0 model TFRobertaForSequenceClassification: ['roberta.embeddings.position_ids']\n",
      "- This IS expected if you are initializing TFRobertaForSequenceClassification from a PyTorch model trained on another task or with another architecture (e.g. initializing a TFBertForSequenceClassification model from a BertForPreTraining model).\n",
      "- This IS NOT expected if you are initializing TFRobertaForSequenceClassification from a PyTorch model that you expect to be exactly identical (e.g. initializing a TFBertForSequenceClassification model from a BertForSequenceClassification model).\n",
      "All the weights of TFRobertaForSequenceClassification were initialized from the PyTorch model.\n",
      "If your task is similar to the task the model of the checkpoint was trained on, you can already use TFRobertaForSequenceClassification for predictions without further training.\n"
     ]
    }
   ],
   "source": [
    "new_model=TFRobertaForSequenceClassification.from_pretrained(\"SamLowe/roberta-base-go_emotions\")"
   ]
  },
  {
   "cell_type": "code",
   "execution_count": 20,
   "id": "6wBZvvjhbtpo",
   "metadata": {
    "ExecuteTime": {
     "end_time": "2023-12-08T05:43:07.368780231Z",
     "start_time": "2023-12-08T05:43:07.280635859Z"
    },
    "id": "6wBZvvjhbtpo"
   },
   "outputs": [],
   "source": [
    "new_model.load_weights('roberta_go_model_15epochs.h5')"
   ]
  },
  {
   "cell_type": "code",
   "execution_count": 14,
   "id": "7oIEAYEdq4YW",
   "metadata": {
    "ExecuteTime": {
     "end_time": "2023-12-08T05:43:10.367628258Z",
     "start_time": "2023-12-08T05:43:10.324189690Z"
    },
    "colab": {
     "base_uri": "https://localhost:8080/",
     "height": 163
    },
    "id": "7oIEAYEdq4YW",
    "outputId": "156e7468-a7a6-4232-ad0d-c0434903cd35"
   },
   "outputs": [
    {
     "data": {
      "text/plain": [
       "'media show magnitud crowd even turn today look saw thousand peopl ’ see hundr thousand peopl behind ’ want show hundr thousand peopl want recogn fake news media turn camera pleas show ’ realli happen peopl go take longer ’ go take longer go ahead turn camera pleas would show came world actual came countri realli want see want see cover ’ never seen anyth like would realli great could cover fairli media media biggest problem far ’ concern singl biggest problem fake news big tech big tech come beat four year ago surpris took surpris year rig elect rig like ’ never rig elect way last night ’ bad job either notic ’ honest want thank ’ great honor kind crowd hundr thousand american patriot commit honesti elect integr gloriou republ us today want see elect victori stolen embolden radic left democrat ’ stolen fake news media ’ ’ done ’ never give never conced ’ happen ’ conced ’ theft involv donald trump 0442 countri enough take anymor ’ use favorit term peopl realli came stop steal today lay evid prove elect landslid close elect say sometim jokingli ’ joke ’ two elect second one much bigger first almost 75 million peopl vote campaign incumb presid far histori countri 12 million peopl four year ago told real pollster real pollster know go well go win told went 63 million four year ago 66 million chanc lose well ’ go 66 went 75 million say lost ’ lose donald trump 0608 way anybodi believ joe 80 million vote anybodi believ 80 million comput vote ’ disgrac ’ never anyth like could take third world countri take look take third world countri elect honest ’ go countri ’ disgrac ’ disgrac even look last night ’ run around like chicken head cut box nobodi know hell go ’ never anyth like let silenc voic ’ go let happen go let happen crowd 0711 fight trump fight trump fight trump donald trump 0711 thank ’ love ten thousand peopl would allow militari secret servic want thank polic law enforc great ’ great job ’ love could allow come us possibl let come pleas rudi great job ’ got gut know ’ got gut unlik lot peopl republican parti ’ got gut fight fight ’ tell thank much john fantast job watch ’ tough act follow two john one brilliant lawyer countri look said ” absolut disgrac could happen constitut ” look mike penc hope mike go right thing donald trump 0809 hope hope mike penc right thing win elect number one certainli one top constitut lawyer countri absolut right ’ suppos protect countri support countri support constitut protect constitut state want revot state got defraud given fals inform vote want recertifi want back vicepresid penc send back state recertifi becom presid happiest peopl donald trump 0908 spoke mike said “ mike ’ take courag take courag noth take courag ” ’ stuck presid lost elect lot live four year ’ go let happen mani travel across nation want thank extraordinari love ’ ’ never movement like ever ever extraordinari love amaz countri amaz movement thank crowd 0944 love trump love trump love trump donald trump 0959 way goe way back past washington monument believ look unfortun gave press prime seat ’ stand look behind wish ’ flip camera look behind amaz sight make mistak get see televis amaz amaz way back ’ worri take name washington monument cancel cultur want get rid jefferson memori either take put somebodi els ’ think ’ go happen damn well better although administr happen could happen ’ see realli bad thing happen donald trump 1054 ’ knock lincoln way ’ take statu sign littl law hurt monument hurt hero go jail 10 year everyth stop notic stop stop could use rudi back new york citi rudi could use citi go hell want rudi giuliani back new york ’ get littl younger version rudi okay rudi donald trump 1125 ’ gather togeth heart nation ’ capitol one basic simpl reason save democraci candid elect even cours thing goe long still ’ idea vote still congression seat review idea ’ total lost control ’ use pandem way defraud peopl proper elect see see ’ happen number one say “ sir ’ never let happen ” said “ ’ good eight week ago ” tri get go say “ sir four year ’ guarante ” said “ ’ interest right favor go back eight week want go back eight week let ’ go back eight week ” want go back want get right ’ go somebodi countri destroy ’ go stand donald trump 1234 year democrat gotten away elect fraud weak republican ’ ’ mani weak republican great one jim jordan guy ’ fight hous guy fight ’ incred mani republican help get help get elect help mitch get elect could name 24 let ’ say ’ bore sudden someth like ’ like “ gee mayb ’ talk presid sometim later ” ’ amaz weak republican ’ pathet republican ’ happen happen democrat ’ hell countri go ’ hell countri rememb ’ stronger ’ smarter ’ got go anybodi tri demean everybodi us ’ real peopl ’ peopl built nation ’ peopl tore nation donald trump 1345 weak republican ’ realli believ think ’ go use term weak republican got lot got lot great one got lot weak one ’ turn blind eye even democrat enact polici chip away job weaken militari threw open border put america last see day joe biden said “ want get rid america first polici ” ’ get rid … say “ want get rid america first ” even ’ go ’ talk unbeliev go go get peopl fight ’ fight primari hell one ’ fight primari ’ go let know alreadi tell frankli donald trump 1439 year use pretext china viru scam mailin ballot democrat attempt brazen outrag elect theft ’ never anyth like ’ pure theft american histori everybodi know elect elect 1000 even ’ lead pennsylvania michigan georgia hundr thousand vote late even earli morn boom explos bullshit sudden sudden start happen crowd 1525 inaud 001525 donald trump 1535 ’ forget romney got beat romney wonder enjoy flight last night romney got beaten stand like ’ typic well ’ like congratul victor victor victor mitt ’ like congratul ’ go look fact ’ know got slaughter probabl mayb okay mayb ’ happen look fact lectur corrupt histori countri ’ never seen anyth like go way back america bless elect world talk elect know world say us said ’ free fair elect know els ’ free fair press donald trump 1625 media free ’ fair suppress thought suppress speech ’ becom enemi peopl ’ becom enemi peopl ’ biggest problem countri third world countri would even attempt caught ’ hear minut republican constantli fight like boxer hand tie behind back ’ like boxer want nice want respect everybodi includ bad peopl ’ go fight much harder mike penc go come us ’ sad day countri ’ sworn uphold constitut congress confront egregi assault democraci ’ go walk ’ ’ go walk ’ go walk one want think right ’ go walk capitol ’ go cheer brave senat congressmen women ’ probabl go cheer much ’ never take back countri weak show strength strong donald trump 1816 come demand congress right thing count elector law slate law slate know everyon soon march capitol build peac patriot make voic heard today see whether republican stand strong integr elect whether stand strong countri countri countri sieg long time far longer fouryear period ’ set much straighter cours much … thought four year thought would easi creat donald trump 1903 four year thought would easi creat greatest economi histori rebuilt militari get biggest tax cut histori got biggest regul cut ’ presid whether ’ four year eight year one case got anywher near regul cut use take 20 year get highway approv ’ two want get one ’ two may get reject environment safeti reason got safeti creat space forc look militari total rebuilt creat space forc major achiev administr us ’ one mani differ thing donald trump 1952 right tri everybodi know right tri thing nobodi ever thought possibl took care vet vet va highest rate 91 highest rate ’ begin 91 approv rate alway watch va televis everi night peopl live horribl horribl manner got done got account done got va ’ wait four week six week eight week four month see doctor ’ get doctor go outsid get doctor taken care pay doctor ’ made life wonder mani peopl ’ save tremend amount money far secondarili ’ save lot money donald trump 2049 right fire bad peopl va 9000 peopl treat veteran horribl primetim would treat veteran badli treat veteran horribl ’ call va account act account say see somebodi ’ treat vet well steal rob thing badli say “ joe ’ fire get ” ’ ’ donald trump 2124 ’ taken care thing ’ done thing like nobodi ’ ever thought possibl ’ part reason mani peopl ’ like us ’ done much ’ done quickli go sit home watch big victori everybodi us victori go great ’ fight said somebodi go take day relax big elector victori ten ’ clock go take day donald trump 2152 say sinc elect believ catastroph watch even guy knew happen know happen ’ say “ wow pennsylvania ’ insurmount wow wisconsin look big lead ” even though press said go lose wisconsin 17 point even though press said ohio go close set record florida ’ go close set record texa go close texa go close set record set record hispan black commun set record everybodi donald trump 2236 today see import event though right right see event go take place ’ go watch histori go made ’ go see whether great courag leader whether leader asham throughout histori throughout etern ’ asham know wrong thing never ever forget never forget never ever forget three seven state question win presid unit state donald trump 2321 way ’ much import today 24 hour ago spoke david perdu great person kelli loeffler two great peopl setup said “ back line anymor ” back line line demarc line veto presid unit state ’ far import elect two day ago donald trump 2359 want thank 140 member hous warrior ’ work like ’ never seen studi talk actual go way back studi root constitut know right send bad vote illeg got gave peopl bad thing vote vote know found week later… took four year devis histori unhappi person unit state singl unhappi hillari clinton said “ ’ four year ago ’ four year ago chang vote 10000 michigan could chang whole thing ” ’ happi notic ’ see anymor happen hillari donald trump 2457 want thank congressmen women also want thank 13 courag member us senat senat ted cruz senat ron johnson senat shadowless kelli loeffler kelli loeffler ’ tell ’ great work hard let ’ give david littl special head rig let ’ give david kelli loeffler david perdu fought good race never shot equip never allow use tell peopl ’ let use stuff marsha blackburn terrif person mike braun indiana disinvest great guy bill hagerti john kennedi jame lankford cynthia lummi tommi tubervil coach roger marshal want thank senat step want thank donald trump 2604 actual think though take courag step think lot peopl go find better start look leadership leadership led tube “ ’ want give 2000 peopl want give 600 ” oh great play polit pretti good noth polit play polit china destroy peopl ’ destroy china destroy total destroy want give 600 ’ chang said “ give 2000 ’ pay back ’ pay back fast alreadi owe 26 trillion give coupl buck let live give coupl buck ” donald trump 2657 peopl disagre say look got let peopl live play though okay number one ’ right thing play polit think ’ primari reason one primari reason pure cheat super primari reason ’ got use head donald trump 2719 know media constantli assert outrag lie evid widespread fraud ever see peopl “ evid fraud… ” oh realli well ’ go read page hope ’ get bore listen promis ’ get bore listen hundr thousand peopl back move pleas yeah peopl ’ get bore ’ get angri ’ go get bore ’ much american peopl believ corrupt fake news anymor ruin reput donald trump 2757 use ’ argu ’ fight ’ fight ’ fight ’ fight ’ fight boopboop ’ believ ’ believ somebodi come point view point view ’ argument go silent ’ call suppress ’ happen communist countri ’ suppress ’ fight anymor unless ’ bad littl bad stori ’ make 10 time wors ’ major headlin hunter biden ’ talk happen hunter ’ hunter hunter ’ talk donald trump 2834 watch set go well ’ get good rate rate good hunter come joe allow give billion dollar money get rid prosecutor ukrain happen ’ ask question happen imagin said said would whole differ ball game come hunter get three half million dollar mayor moscow ’ wife get hundr thousand dollar sit energi board even though admit knowledg energi million dollar front come go china leav billion dollar manag “ manag money ” “ ’ ” “ oh ’ good ’ 3 billion ” donald trump 2929 ’ talk corrupt media ’ gone silent ’ gone dead realiz good go back 10 year realiz good even though ’ necessarili love realiz good like cleans motion ’ anymor ’ fair media anymor ’ suppress care ’ lost credibl countri intimid accept hoax lie ’ forc believ past sever week ’ amass overwhelm evid fake elect presidenti elect last night littl bit better fact lot eye watch one specif state cheat like hell anyway donald trump 3027 one dumbest governor unit state endors ’ know guy request david perdu said “ friend mine run governor ’ name ” know rest fourth place fifth place ’ know way… poorli endors went like rocket ship beat stacey abram guy brian kemp beat stacey abram beat oprah use friend mine last show last week pick five outstand peopl ’ think think anymor ran presid ’ notic mani call come oprah believ use like one five outstand peopl donald trump 3117 campaign michel obama barack hussein obama stacey brian kemp weigh 130 pound said play offens line footbal ’ tri figur ’ still tri figur said night “ offens lineman ” ’ say “ realli must ’ realli small team ” look look ’ happen turn disast stuff happen donald trump 3150 look ’ happi suprem court love rule pick three peopl fought like hell one particular fought said “ sir cut loos ’ kill us ” senat loyal senat ’ loyal peopl “ sir cut loos ’ kill us sir cut loos sir ” must ’ gotten half senat said “ ’ ’ unfair ’ unfair famili ’ anyth wrong ’ made stori ” made stori ’ anyth wrong “ cut loos sir ” said “ ’ ” got know ’ give damn ’ give damn let rule right way almost seem ’ go way hurt us hurt countri hurt countri donald trump 3240 read stori one newspap recent control three suprem court justic control ’ puppet read bill barr ’ person attorney ’ anyth said “ realli geniu ” make realli imposs ever give victori sudden bill barr chang ’ notic like bill barr chang ’ want consid person attorney suprem court rule much know stori ’ spoken sinc virtual got stori ’ puppet ’ puppet way get hate ’ good social circuit way get rule trump let ’ rule trump want congratul donald trump 3341 show media ’ geniu fact probabl media ’ way hate say got get straighten today sake democraci sake constitut sake children lay case entir world hear want hear crowd 3404 ye donald trump 3406 everi singl swing state local offici state offici almost democrat made illeg unconstitut chang elect procedur without mandat approv state legislatur chang pave way fraud scale never seen think ’ go long way outsid countri say donald trump 3434 nutshel ’ make chang vote feder elect unless state legislatur approv judg nobodi legislatur exampl pennsylvania whatev republican legislatur democrat mayor lot democrat place go legislatur legislatur laugh say “ ’ go ” say “ thank much ” go make chang anyway ’ total illeg ’ total illeg ’ donald trump 3513 pennsylvania democrat secretari state democrat state suprem court justic illeg abolish signatur verif requir 11 day prior elect think longer signatur verif oh ’ okay want voter id way longer signatur verif 11 day elect say “ ’ want ” know ’ want want cheat ’ reason would even think ’ want verifi signatur 205000 ballot count pennsylvania think 205000 ballot voter mean 200… come know came somebodi ’ imagin whatev need pennsylvania 205000 vote voter ’ number actual much greater week ago mathemat imposs unless want say ’ total fraud pennsylvania defraud donald trump 3635 8000 ballot pennsylvania cast peopl whose name date birth match individu die 2020 prior elect think dead peopl lot dead peopl thousand dead peopl actual request applic bother even vote want applic vote one 29 year ago die ’ incred donald trump 3705 14000 ballot cast outofst voter voter ’ live state way number call outcom determin mean number far surpass… lost littl bit number massiv massiv 10000 vote pennsylvania illeg count even though receiv elect day word “ receiv elect day let ’ count anyway ” mani case fraud took date move back longer elect day 60000 ballot pennsylvania report receiv back got back ever supposedli mail word got ballot back mail donald trump 3803 … supposedli mail word got ballot back mail also logic logist imposs think one got ballot back let ’ send ballot oh ’ alreadi sent got ballot back sent ’ think ’ good donald trump 3823 twentyf thousand ballot pennsylvania request nurs home resid singl giant batch legal indic enorm illeg ballot harvest oper ’ allow ’ law day elect state pennsylvania report number absente ballot sent yet number suddenli drastic increas 400000 peopl increas nobodi know came 400000 ballot one day elect remain total unexplain said “ well ’ figur ” ’ mani mani time would take overthrow state one element 400000 ballot appear nowher right elect donald trump 3916 way pennsylvania seen ’ know quick vote vote see stuff ’ come light ’ happen fast want certifi vote want certifi way happen mike penc agre send back donald trump 3943 mike penc agre send back mani peopl congress want sent back take ’ let ’ say ’ somebodi say “ well obey constitut ” ’ protect countri ’ protect constitut think happen let ’ say ’ stiff ’ stupid peopl say “ well realli choic ” even though pennsylvania state want redo vote want see number alreadi number go quickli want redo legislatur mani vote taken said ’ approv legislatur illeg scam ’ thing ’ talk think ’ mean presid unit state four year wonder son donald trump 4050 presid lost state presid put anoth way vote bunch stupid peopl lost thing illegitim presid ’ ’ ’ let happen fact ’ hear fake news media ’ part suppress effort ’ want talk ’ want talk fact start talk guarante lot televis set lot camera went ’ lot camera back lot went thing ’ hear ’ hear heard ’ go go state ’ hear peopl want deceiv demor control big tech media donald trump 4148 like suppress poll said ’ go lose wisconsin 17 point well wisconsin ’ way lose littl sliver day washington post abc poll 17 point call real pollster said “ ” “ sir ’ call suppress poll think ’ go win wisconsin sir ” said “ make four five point ” “ peopl vote ’ 17 say ‘ hey ’ go wast time love presid ’ way ” despit wisconsin ’ see ’ call suppress lot peopl see ’ interest pollster said “ sir ’ three four five peopl vote go 17 say ‘ let ’ save let ’ go dinner let ’ watch presidenti defeat tonight televis darl ” donald trump 4249 like radic left tri blacklist social media everi time put tweet even ’ total correct total correct get flag get flag also ’ let get twitter ’ hard come account ’ hard get messag ’ let messag get nearli like ’ mani peopl say “ ’ get twitter ” ’ care twitter twitter bad news ’ bad news know want get messag want go big tech social media realli ’ conserv ’ republican big voic guess call shadow ban shadow ban shadow ban illeg ’ tell republican get rid section 230 donald trump 4347 reason mitch group ’ want put ’ realiz ’ go end republican parti know ’ never go end us never let get let weak one get time strength also want indoctrin children school teach thing ’ want indoctrin children ’ part comprehens assault democraci american peopl final stand say “ ” crowd testament advertis noth group big support want thank ami everybodi incred support incred ’ anyth happen donald trump 4439 two month ago massiv crowd come washington said “ ” “ sir ’ ” noth group ’ form unit state got rememb year ’ go start work congress got get rid weak congresspeopl one ’ good liz cheney world got get rid got get rid never want soldier brought home ’ brought lot soldier home ’ know like ’ countri nobodi even know name nobodi know ’ die ’ great ’ die ’ lose arm leg face brought back home larg back home afghanistan iraq rememb use say old day “ ’ go iraq go keep oil ” ’ keep oil stupid stupid peopl iraq billion billion dollar bank get noth never get actual kept oil good got rid isi caliph got rid plenti differ thing everybodi know rebuild militari three year peopl said ’ done made usa made usa best equip world wisconsin corrupt democrat run citi deploy 500 illeg unman unsecur drop box collect minimum 91000 unlaw vote razor thin loss one thing alon much would need mani thing donald trump 4629 lockbox pick disappear two day peopl would say “ ’ box ” disappear nobodi even knew hell addit 170000 absente vote count wisconsin without valid absente ballot applic vote applic ’ illeg wisconsin mean vote blatantli done opposit state law came 100 democrat area milwauke madison 100 madison 17000 vote deposit socal human drop box know right oper stuff thousand unsecur ballot duffel bag park bench across citi complet defianc ceas desist letter state legislatur state legislatur said “ ’ ” ’ one could approv gave ten thousand vote donald trump 4737 came duffel bag hell come accord eyewit testimoni postal servic worker wisconsin also instruct illeg backdat approxim 100000 ballot margin differ wisconsin less 20000 vote one thing alon win us state great state love state state georgia secretari state ’ believ guy ’ republican love record telephon convers thought great convers person lot … peopl love convers say ’ go peopl crook ’ 100 opinion one corrupt governor secretari state last night take look happen mess democrat parti oper enter illeg unconstitut settlement agreement drastic weaken signatur verif elect secur procedur donald trump 4853 stacey abram took lunch beat two year ago bad candid brian kemp democrat took republican lunch secretari state clue hell happen unless clue ’ interest mayb side ’ tri get verif signatur fulton counti ’ let us reason ’ ’ find thing hundr thousand ’ let us verifi signatur fulton counti known corrupt ’ go counti would live said “ ’ problem problem fulton counti ” home stacey abram good job congratul done way ’ let stuff happen donald trump 4953 ’ countri happen result georgia ’ absente ballot reject rate 10 time lower previou level criteria 48 counti georgia thousand thousand vote reject zero ballot ’ one ballot word year mailin ballot sent ever peopl vote mail first time reject rate drastic lower ever way explain ten thousand illegitim vote ad talli ’ way could explain way ’ talk ten thousand georgia mere reject number unlaw ballot year approxim 45000 ballot reject far need win 11000 donald trump 5059 find vote absolut find 11000 vote ’ need defraud us win georgia ’ go forget ’ one reason democrat could possibl want elimin signatur match oppos voter id stop citizenship confirm citizenship ’ allow ask question want steal elect radic left know exactli ’ ’ ruthless ’ time somebodi someth mike penc hope ’ go stand good constitut good countri ’ ’ go disappoint tell right ’ hear good stori fulton counti republican poll watcher reject case physic room fals pretens pipe burst donald trump 5203 water main burst everybodi leav know total lie elect offici pull box democrat suitcas ballot tabl saw televis total fraudul illeg scan nearli two hour total unsupervis ten thousand vote coincid mysteri vote dump 100000 vote joe biden almost none trump oh sound fair 134 georgia secretari state pathet governor georgia … although say ’ great presid sort mayb chang said day “ ye disagre presid ’ great presid ” oh good thank thank much other brian kemp vote hell offic pleas donald trump 5305 well rate low approv rate think reach record low ’ reject five separ appeal independ comprehens audit signatur fulton counti even without audit number fraudul ballot ’ identifi across state stagger 10300 ballot georgia cast individu whose name date birth match georgia resid die 2020 prior elect 2500 ballot cast individu whose name date birth match incarcer felon georgia prison peopl allow vote 4500 illeg ballot cast individu appear state ’ voter roll 18000 illeg ballot cast individu regist vote use address list vacant accord postal servic least 88000 ballot georgia cast peopl whose registr illeg backdat donald trump 5418 one far need 66000 vote georgia cast individu legal vote age least 15000 ballot cast individu move state prior novemb 3rd elect say move right back move right back oh move move right back okay miss georgia much love georgia ’ corrupt system despit margin georgia 11779 vote everi one issu enough give us victori georgia big beauti victori make mistak select stolen countri singl swing state conduct comprehens audit remov illeg ballot absolut occur everi singl contest state elect certifi donald trump 5521 state arizona 36000 ballot illeg cast noncitizen 2000 ballot return address 22000 ballot return ever supposedli mail return ’ mail yet 11600 ballot vote count actual voter see vote voter donald trump 5551 150000 peopl regist maya copa counti registr deadlin 103000 ballot counti sent electron adjud republican observ clark counti nevada accuraci set signatur verif machin purpos lower use count 130000 ballot sign name santa clau would go also 42000 doubl vote nevada 150 000 peopl hurt badli took place 1500 ballot cast individu whose name date birth match nevada resid die 2020 prior novemb 3rd elect 8000 vote cast individu address probabl ’ live margin nevada low number thing would taken care situat would donald trump 5703 thing would taken care situat would nevada also everi one ’ go win michigan quickli secretari state real great one flood state unsolicit mailin ballot applic sent everi person roll direct violat state law 17000 michigan ballot cast individu whose name date birth match peopl deceas wayn counti ’ great one ’ detroit 174000 ballot count without tie actual regist voter nobodi know came also wayn counti poll watch observ canvass rescan batch ballot three four five time detroit turnout 139 regist voter think 139 peopl detroit vote michigan detroit michigan donald trump 5808 career employe detroit citi detroit testifi penalti perjuri wit citi worker coach voter vote straight democrat accompani watch vote republican came ’ talk worker instruct ask voter id attempt valid signatur democrat also told illeg told backdat ballot receiv deadlin report thousand thousand ballot improperli backdat ’ michigan four wit testifi penalti perjuri offici detroit announc last vote count ten thousand addit ballot arriv without requir envelop everi singl one democrat got vote donald trump 5910 631 earli morn hour vote end michigan suddenli report 147000 vote astound 94 went joe biden campaign brilliantli basement coupl percentag point went trump gigant onesid vote dump observ swing state observ state necessari know ’ interest presid obama beat biden everi state swing state biden kill swing state one matter alway enough push joe biden bare lead ahead lot within number hour lose littl donald trump 010003 addit highli troubl matter dominion vote system one michigan counti alon 6000 vote switch trump biden system use major state countri senat william ligon great gentleman chairman georgia senat judiciari subcommitte senat ligon highli respect elect written letter describ concern dominion georgia donald trump 010040 wrote quot “ dominion vote machin employ fulton counti astronom astound 9367 error rate ” ’ wrong 93 time “ scan ballot requir review panel adjud determin voter ’ interest 106000 ballot total 113000 ” think go vote tell peopl ’ suppos vote make whatev want nobodi ’ ever even heard adjud vote say “ well ’ think trump want vote trump think want vote biden put biden ” nation averag error rate far less 1 yet ’ 93 ” sourc astronom error rate must identifi determin machin set destroy allow third parti disregard actual ballot cast regist voter ” donald trump 010144 letter continu “ clear evid ten thousand vote switch presid trump former vice presid biden sever counti georgia exampl bibb counti presid trump report 29 391 vote 911 pm eastern time simultan vice presid joe biden report 17213 minut later minut next updat vote number switch presid trump go way 17000 biden go way 29391 ” quick 12000 vote switch mr biden ’ favor donald trump 010231 mean could go fraud took place everi state legislatur want back ’ want love ’ freez could go forev tell this… speaker 1 010252 love love love love love love love love donald trump 010303 hear hear “ evid prove wrongdo ” fraudul thing anybodi ’ s… crimin enterpris crimin enterpris press say ’ sure ’ put ’ good ever see “ evid back presid trump ’ assert ” could go anoth hour read stuff tell ’ never anyth like think detroit vote voter pennsylvania 205000 vote ’ go any… think ’ almost better dead peopl think right vote voter mani state also donald trump 010356 ’ disgrac unit state america ten million peopl allow go vote without much even show identif state question effort made verifi ident citizenship resid elig vote cast republican get tougher ’ go republican parti ’ get tougher want play straight want play “ sir ye unit state constitut ’ allow send back state ” well say “ ye constitut say protect countri protect constitut ’ vote fraud ” fraud break everyth ’ catch somebodi fraud ’ allow go differ rule hope mike courag hope ’ listen rino stupid peopl ’ listen also wide understood voter roll cram full noncitizen felon peopl move state individu otherwis inelig vote yet democrat oppos everi effort clean voter roll ’ want clean load mani peopl know peopl hundr thousand million ballot got sent got three four five six heard one got seven ballot say “ ’ quit make sir ” landslid landslid donald trump 010543 said “ ’ american challeng elect ” corrupt elect histori mayb world know could go third world countri ’ think hundr thousand vote ’ voter mean matter go nobodi would think fact ’ egregi ’ bad lot peopl ’ even believ ’ crazi peopl ’ even believ ’ true ’ believ matter domest polit matter nation secur today addit challeng certif elect ’ call congress state legislatur quickli pass sweep elect reform better countri left today end ’ begin donald trump 010637 help last four year built greatest polit movement histori countri nobodi even challeng say never get challeng fake news challeng almost everyth say fight big donor big media big tech other get start greatest histori ’ never movement like look back way washington monument ’ hard believ must stop steal must ensur outrag elect fraud never happen never allow happen ’ go forward ’ take care go forward got take care go back ’ let talk “ okay well promis ” ’ lot peopl “ sir ’ 96 four year ” said “ ’ interest right ’ interest right ” donald trump 010733 help final pass power requir voter id need id cash check need id go bank buy alcohol drive car everi person need show id order cast import thing vote also requir proof american citizenship order vote american elect good victori court one actual ban ballot harvest prohibit use unsecur drop box commit rampant fraud drop box fraudul get… disappear sudden show ’ fraudul stop practic univers unsolicit mailin ballot clean voter roll ensur everi singl person cast vote citizen countri resid state vote vote cast law honest manner restor vital civic tradit inperson vote elect day voter fulli inform make choic final hold big tech account peopl courag gut would get rid section 230 someth compani person america world donald trump 010910 tech monopoli go abus power interfer elect stop republican get lot tougher democrat regul investig brought justic fullest extent law ’ total break law togeth drain washington swamp clean corrupt nation ’ capit done big job think ’ easi ’ dirti busi ’ dirti busi lot bad peopl despit everyth ’ look countri see fantast crowd although think time record think 250 000 peopl 250000 donald trump 011005 look amaz patriot today never confid nation ’ futur well say littl bit care ’ nice statement littl care statement allow group peopl illeg take countri ’ illeg vote illeg way got illeg state vote given fals fraudul inform greatest countri earth head head right direct know wall built ’ record number wall want take wall let ’ let everyon flow let ’ let everybodi flow donald trump 011052 great job wall rememb wall said could never done one largest infrastructur project ’ ever countri ’ tremend impact got rid catch releas got rid stuff live caravan think biden ’ get caravan form want come rip countri ’ let happen enorm crowd show truth justic side deep endur love america heart love countri overwhelm pride great countri deep soul togeth determin defend preserv govern peopl peopl peopl donald trump 011144 brightest day us greatest achiev still wait think one great achiev elect secur nobodi came along idea corrupt elect peopl would stand 900 even say “ want thank much ” go life said “ someth ’ wrong someth ’ realli wrong ’ happen ” fight fight like hell ’ fight like hell ’ go countri anymor donald trump 011221 excit adventur boldest endeavor yet begun fellow american movement children belov countri say despit ’ happen best yet come donald trump 011243 ’ go ’ go walk pennsylvania avenu love pennsylvania avenu ’ go capitol ’ go tri give… democrat hopeless ’ never vote anyth even one vote ’ go tri give republican weak one strong one ’ need help ’ go tri give kind pride bold need take back countri donald trump 011319 let ’ walk pennsylvania avenu want thank god bless god bless america thank incred thank much thank'"
      ]
     },
     "execution_count": 14,
     "metadata": {},
     "output_type": "execute_result"
    }
   ],
   "source": [
    "df['speech'][2]"
   ]
  },
  {
   "cell_type": "code",
   "execution_count": 47,
   "id": "JpLqfs4R4DqY",
   "metadata": {
    "ExecuteTime": {
     "end_time": "2023-12-08T05:43:17.136731312Z",
     "start_time": "2023-12-08T05:43:17.113231147Z"
    },
    "id": "JpLqfs4R4DqY"
   },
   "outputs": [],
   "source": [
    "new_feature = tokenizer(df['speech'][9], truncation=True, padding=True, return_tensors='tf')"
   ]
  },
  {
   "cell_type": "code",
   "execution_count": 48,
   "id": "XfHKmLn_4NHl",
   "metadata": {
    "ExecuteTime": {
     "end_time": "2023-12-08T05:43:20.956221486Z",
     "start_time": "2023-12-08T05:43:18.422687750Z"
    },
    "id": "XfHKmLn_4NHl"
   },
   "outputs": [],
   "source": [
    "predictions = new_model(new_feature)"
   ]
  },
  {
   "cell_type": "code",
   "execution_count": 49,
   "id": "BfThAe1m4O4v",
   "metadata": {
    "ExecuteTime": {
     "end_time": "2023-12-08T05:43:22.036339745Z",
     "start_time": "2023-12-08T05:43:22.015961473Z"
    },
    "colab": {
     "base_uri": "https://localhost:8080/"
    },
    "id": "BfThAe1m4O4v",
    "outputId": "d24bf121-7cb6-48c1-fa50-e0bb66df1b02"
   },
   "outputs": [
    {
     "data": {
      "text/plain": [
       "TFSequenceClassifierOutput(loss=None, logits=<tf.Tensor: shape=(1, 28), dtype=float32, numpy=\n",
       "array([[-2.9816113, -5.145647 , -4.4226794, -3.0032942,  1.1485186,\n",
       "        -3.4937344, -3.0204716, -4.6419854, -6.758581 , -5.943504 ,\n",
       "        -4.0906286, -4.8644805, -6.0789547, -5.9933467, -3.908621 ,\n",
       "        -4.9299016, -7.4755077, -5.997533 , -5.285138 , -5.4682746,\n",
       "        -5.5212655, -6.623746 , -4.4897084, -6.1963825, -7.0786285,\n",
       "        -5.9929347, -7.5903897, -4.068809 ]], dtype=float32)>, hidden_states=None, attentions=None)"
      ]
     },
     "execution_count": 49,
     "metadata": {},
     "output_type": "execute_result"
    }
   ],
   "source": [
    "predictions"
   ]
  },
  {
   "cell_type": "code",
   "execution_count": 50,
   "id": "YATvjWDZ4R65",
   "metadata": {
    "ExecuteTime": {
     "end_time": "2023-12-08T05:43:25.069176637Z",
     "start_time": "2023-12-08T05:43:25.050575179Z"
    },
    "id": "YATvjWDZ4R65"
   },
   "outputs": [],
   "source": [
    "probabilities = tf.nn.softmax(predictions.logits, axis=-1)"
   ]
  },
  {
   "cell_type": "code",
   "execution_count": 51,
   "id": "LLEAK_rd43Io",
   "metadata": {
    "ExecuteTime": {
     "end_time": "2023-12-08T05:43:25.229930384Z",
     "start_time": "2023-12-08T05:43:25.224513759Z"
    },
    "colab": {
     "base_uri": "https://localhost:8080/"
    },
    "id": "LLEAK_rd43Io",
    "outputId": "84e98606-2ae7-4d36-bd5d-7a2083c3b688"
   },
   "outputs": [
    {
     "data": {
      "text/plain": [
       "<tf.Tensor: shape=(1, 28), dtype=float32, numpy=\n",
       "array([[1.4602942e-02, 1.6773032e-03, 3.4561488e-03, 1.4289719e-02,\n",
       "        9.0809852e-01, 8.7504052e-03, 1.4046352e-02, 2.7755499e-03,\n",
       "        3.3428986e-04, 7.5527787e-04, 4.8172618e-03, 2.2218802e-03,\n",
       "        6.5960089e-04, 7.1855547e-04, 5.7789008e-03, 2.0811751e-03,\n",
       "        1.6321721e-04, 7.1555376e-04, 1.4589197e-03, 1.2147761e-03,\n",
       "        1.1520798e-03, 3.8254401e-04, 3.2320800e-03, 5.8652018e-04,\n",
       "        2.4273276e-04, 7.1885157e-04, 1.4550339e-04, 4.9235276e-03]],\n",
       "      dtype=float32)>"
      ]
     },
     "execution_count": 51,
     "metadata": {},
     "output_type": "execute_result"
    }
   ],
   "source": [
    "probabilities"
   ]
  },
  {
   "cell_type": "code",
   "execution_count": 52,
   "id": "tSmmx_Sf8Cbj",
   "metadata": {
    "ExecuteTime": {
     "end_time": "2023-12-08T05:47:33.652940716Z",
     "start_time": "2023-12-08T05:47:33.619745992Z"
    },
    "id": "tSmmx_Sf8Cbj"
   },
   "outputs": [],
   "source": [
    "np_probabilities=probabilities.numpy()"
   ]
  },
  {
   "cell_type": "code",
   "execution_count": 53,
   "id": "uN9WlIcPcKoT",
   "metadata": {
    "ExecuteTime": {
     "end_time": "2023-12-08T05:47:35.056609139Z",
     "start_time": "2023-12-08T05:47:35.050507333Z"
    },
    "colab": {
     "base_uri": "https://localhost:8080/"
    },
    "id": "uN9WlIcPcKoT",
    "outputId": "65ce56f2-dd34-4095-ba13-12a80790f90a"
   },
   "outputs": [
    {
     "data": {
      "text/plain": [
       "array([[1.4602942e-02, 1.6773032e-03, 3.4561488e-03, 1.4289719e-02,\n",
       "        9.0809852e-01, 8.7504052e-03, 1.4046352e-02, 2.7755499e-03,\n",
       "        3.3428986e-04, 7.5527787e-04, 4.8172618e-03, 2.2218802e-03,\n",
       "        6.5960089e-04, 7.1855547e-04, 5.7789008e-03, 2.0811751e-03,\n",
       "        1.6321721e-04, 7.1555376e-04, 1.4589197e-03, 1.2147761e-03,\n",
       "        1.1520798e-03, 3.8254401e-04, 3.2320800e-03, 5.8652018e-04,\n",
       "        2.4273276e-04, 7.1885157e-04, 1.4550339e-04, 4.9235276e-03]],\n",
       "      dtype=float32)"
      ]
     },
     "execution_count": 53,
     "metadata": {},
     "output_type": "execute_result"
    }
   ],
   "source": [
    "np_probabilities"
   ]
  },
  {
   "cell_type": "code",
   "execution_count": 54,
   "id": "0C8kFta_dDna",
   "metadata": {
    "ExecuteTime": {
     "end_time": "2023-12-08T05:47:38.706278641Z",
     "start_time": "2023-12-08T05:47:38.660429998Z"
    },
    "id": "0C8kFta_dDna"
   },
   "outputs": [],
   "source": [
    "prob=np_probabilities.tolist()[0]"
   ]
  },
  {
   "cell_type": "code",
   "execution_count": 55,
   "id": "SOs8c5jZdShl",
   "metadata": {
    "ExecuteTime": {
     "end_time": "2023-12-08T05:47:39.119907682Z",
     "start_time": "2023-12-08T05:47:39.108096123Z"
    },
    "colab": {
     "base_uri": "https://localhost:8080/"
    },
    "id": "SOs8c5jZdShl",
    "outputId": "c5e6de10-8762-4259-b5ec-fc5ed84e6bbd"
   },
   "outputs": [
    {
     "data": {
      "text/plain": [
       "[0.014602942392230034,\n",
       " 0.0016773032257333398,\n",
       " 0.003456148784607649,\n",
       " 0.014289719052612782,\n",
       " 0.9080985188484192,\n",
       " 0.00875040516257286,\n",
       " 0.014046352356672287,\n",
       " 0.00277554988861084,\n",
       " 0.0003342898562550545,\n",
       " 0.0007552778697572649,\n",
       " 0.004817261826246977,\n",
       " 0.0022218802478164434,\n",
       " 0.000659600889775902,\n",
       " 0.000718555471394211,\n",
       " 0.005778900813311338,\n",
       " 0.0020811751019209623,\n",
       " 0.0001632172061363235,\n",
       " 0.0007155537605285645,\n",
       " 0.0014589197235181928,\n",
       " 0.0012147760717198253,\n",
       " 0.0011520797852426767,\n",
       " 0.00038254400715231895,\n",
       " 0.0032320800237357616,\n",
       " 0.0005865201819688082,\n",
       " 0.00024273275630548596,\n",
       " 0.0007188515737652779,\n",
       " 0.0001455033925594762,\n",
       " 0.004923527594655752]"
      ]
     },
     "execution_count": 55,
     "metadata": {},
     "output_type": "execute_result"
    }
   ],
   "source": [
    "prob"
   ]
  },
  {
   "cell_type": "code",
   "execution_count": 56,
   "id": "goJnFqWAdbM9",
   "metadata": {
    "ExecuteTime": {
     "end_time": "2023-12-08T05:47:45.202974743Z",
     "start_time": "2023-12-08T05:47:45.174699032Z"
    },
    "colab": {
     "base_uri": "https://localhost:8080/"
    },
    "id": "goJnFqWAdbM9",
    "outputId": "138336ba-a9e7-4ba4-dd83-127cae783104"
   },
   "outputs": [
    {
     "data": {
      "text/plain": [
       "[4, 0]"
      ]
     },
     "execution_count": 56,
     "metadata": {},
     "output_type": "execute_result"
    }
   ],
   "source": [
    "max_two=[prob.index(x) for x in sorted(prob, reverse=True)[:2]]\n",
    "max_two"
   ]
  },
  {
   "cell_type": "code",
   "execution_count": 38,
   "id": "Nlj-X_vhf3qV",
   "metadata": {
    "ExecuteTime": {
     "end_time": "2023-12-08T05:47:50.224770593Z",
     "start_time": "2023-12-08T05:47:50.207788373Z"
    },
    "id": "Nlj-X_vhf3qV"
   },
   "outputs": [],
   "source": [
    "indices_to_emotion={0:'anger', 1:'joy', 2:'trust', 3:'anticipation',4:'sadness',5:'fear',6:'disgust'}"
   ]
  },
  {
   "cell_type": "code",
   "execution_count": 39,
   "id": "_XcOJ6Eagp9J",
   "metadata": {
    "ExecuteTime": {
     "end_time": "2023-12-08T05:47:53.478154301Z",
     "start_time": "2023-12-08T05:47:53.473081609Z"
    },
    "id": "_XcOJ6Eagp9J"
   },
   "outputs": [],
   "source": [
    "emotion1=indices_to_emotion[max_two[0]]\n",
    "emotion2=indices_to_emotion[max_two[1]]"
   ]
  },
  {
   "cell_type": "code",
   "execution_count": 40,
   "id": "cVIgdhn0iDiI",
   "metadata": {
    "ExecuteTime": {
     "end_time": "2023-12-08T05:47:55.615078719Z",
     "start_time": "2023-12-08T05:47:55.590391232Z"
    },
    "id": "cVIgdhn0iDiI"
   },
   "outputs": [],
   "source": [
    "primary_dyads = {('joy','trust'): 'love', ('fear','trust'): 'submission', ('fear','surprise'): 'alarm',\n",
    "                 ('sadness','surprise'): 'disappointment', ('disgust','sadness'): 'remorse', ('anger','disgust'): 'contempt',\n",
    "                 ('anger','anticipation'): 'aggressiveness', ('anticipation','joy'): 'optimism'}\n",
    "\n",
    "secondary_dyads = {('anticipation','trust'):'hope',('fear','joy'):'guilt',('surprise','trust'):'curiosity',('fear','sadness'):'dispair',\n",
    "                   ('anger','sadness'):'envy',('anticipation','disgust'):'cynism',('anger','joy'):'pride'}\n",
    "\n",
    "tertiary_dyads = {('anger','trust'):'dominance',('anticipation','fear'):'anxiety',('joy','surprise'):'delight',\n",
    "                  ('sadness','trust'):'sentimentality',('disgust','fear'):'shame',('anger','surprise'):'outrage',\n",
    "                  ('anticipation','sadness'):'pessimism',('disgust','joy'):'morbidness'}\n",
    "\n",
    "opposite_dyads = {('joy','sadness'):'bittersweetness',('disgust','trust'):'ambivalence',('anger','fear'):'frozenness',\n",
    "                  ('anticipation','surprise'):'confusion'}\n",
    "plutchik_wheel = ['joy', 'trust', 'fear', 'surprise', 'sadness', 'disgust', 'anger', 'anticipation']"
   ]
  },
  {
   "cell_type": "code",
   "execution_count": 41,
   "id": "30WX4k-yiO2J",
   "metadata": {
    "ExecuteTime": {
     "end_time": "2023-12-08T05:48:07.889420817Z",
     "start_time": "2023-12-08T05:48:07.886048657Z"
    },
    "id": "30WX4k-yiO2J"
   },
   "outputs": [],
   "source": [
    "def find_state(emotion1, emotion2):\n",
    "    if emotion1<emotion2:\n",
    "        emo1=emotion1\n",
    "        emo2=emotion2\n",
    "    else:\n",
    "        emo1=emotion2\n",
    "        emo2=emotion1\n",
    "    index1=plutchik_wheel.index(emo1)\n",
    "    index2=plutchik_wheel.index(emo2)\n",
    "    distance=abs(index1-index2) % 8\n",
    "\n",
    "    if distance>4:\n",
    "        distance=8-distance\n",
    "    if distance==1:\n",
    "        print(primary_dyads[(emo1, emo2)])\n",
    "    elif distance==2:\n",
    "        print(secondary_dyads[(emo1, emo2)])\n",
    "    elif distance==3:\n",
    "        print(tertiary_dyads[(emo1, emo2)])\n",
    "    elif distance==4:\n",
    "        print(opposite_dyads[(emo1, emo2)])\n",
    "    else:\n",
    "        print(\"error\")"
   ]
  },
  {
   "cell_type": "code",
   "execution_count": 42,
   "id": "aJN5PAiiiQrp",
   "metadata": {
    "ExecuteTime": {
     "end_time": "2023-12-08T05:48:10.127387646Z",
     "start_time": "2023-12-08T05:48:10.122054153Z"
    },
    "colab": {
     "base_uri": "https://localhost:8080/"
    },
    "id": "aJN5PAiiiQrp",
    "outputId": "e784a149-36c8-48a0-da1a-d42d278418eb"
   },
   "outputs": [
    {
     "name": "stdout",
     "output_type": "stream",
     "text": [
      "aggressiveness\n"
     ]
    }
   ],
   "source": [
    "find_state(emotion1, emotion2)"
   ]
  },
  {
   "cell_type": "code",
   "execution_count": 43,
   "id": "86119e223f9c9d4d",
   "metadata": {
    "ExecuteTime": {
     "end_time": "2023-12-08T05:48:14.674638719Z",
     "start_time": "2023-12-08T05:48:14.189258059Z"
    },
    "collapsed": false,
    "jupyter": {
     "outputs_hidden": false
    }
   },
   "outputs": [
    {
     "data": {
      "text/plain": [
       "<Axes: >"
      ]
     },
     "execution_count": 43,
     "metadata": {},
     "output_type": "execute_result"
    },
    {
     "data": {
      "image/png": "[encoded data removed]",
      "text/plain": [
       "<Figure size 800x800 with 1 Axes>"
      ]
     },
     "metadata": {},
     "output_type": "display_data"
    }
   ],
   "source": [
    "#plot wheel\n",
    "from pyplutchik import plutchik\n",
    "emotions={\n",
    "    'joy':prob[1],\n",
    "    'trust':prob[2],\n",
    "    'fear':prob[5],\n",
    "    'surprise':0,\n",
    "    'sadness':prob[4],\n",
    "    'disgust':prob[6],\n",
    "    'anger':prob[0],\n",
    "    'anticipation':prob[3]\n",
    "}\n",
    "plutchik(emotions)"
   ]
  },
  {
   "cell_type": "code",
   "execution_count": 22,
   "id": "aHqI60vSib8Q",
   "metadata": {
    "ExecuteTime": {
     "end_time": "2023-12-08T05:48:31.583270449Z",
     "start_time": "2023-12-08T05:48:31.110034047Z"
    },
    "colab": {
     "base_uri": "https://localhost:8080/"
    },
    "id": "aHqI60vSib8Q",
    "outputId": "547c6a5f-896b-4452-8c9c-2f0ee7bc8c28"
   },
   "outputs": [
    {
     "name": "stdout",
     "output_type": "stream",
     "text": [
      " Accuracy: {'model': [0.10719717293977737, 1.0]}\n"
     ]
    }
   ],
   "source": [
    "test_results = {}\n",
    "\n",
    "test_results['model'] = model.evaluate(\n",
    "    train_features, train_labels, verbose=0)\n",
    "\n",
    "print(f\" Accuracy: {test_results}\")"
   ]
  },
  {
   "cell_type": "code",
   "execution_count": 59,
   "id": "NbI58cqlk7Q5",
   "metadata": {
    "ExecuteTime": {
     "end_time": "2023-12-08T05:55:25.147672741Z",
     "start_time": "2023-12-08T05:55:15.727643673Z"
    },
    "id": "NbI58cqlk7Q5"
   },
   "outputs": [
    {
     "name": "stdout",
     "output_type": "stream",
     "text": [
      "1/1 [==============================] - 3s 3s/step\n"
     ]
    },
    {
     "data": {
      "text/plain": [
       "TFSequenceClassifierOutput(loss=None, logits=array([[-2.0886822 , -0.68211037, -2.0695648 , -1.5220561 , -3.3068013 ,\n",
       "        -3.9501617 , -4.2687874 , -5.0835834 , -5.23907   , -5.2923403 ,\n",
       "        -4.61742   , -5.19663   , -6.4556255 , -5.2728953 , -7.3247614 ,\n",
       "        -6.4844604 , -7.278107  , -2.7757201 , -4.9888887 , -6.550074  ,\n",
       "        -6.1120405 , -6.342682  , -5.757272  , -6.7677445 , -7.7105784 ,\n",
       "        -5.526007  , -7.2528996 , -4.311238  ],\n",
       "       [-0.02955658, -5.024634  , -2.425058  , -2.234465  , -1.4495924 ,\n",
       "        -2.9225805 , -3.5708928 , -4.660211  , -6.741105  , -5.645524  ,\n",
       "        -4.03358   , -5.4304805 , -7.0226426 , -6.1149364 , -6.544037  ,\n",
       "        -5.1971006 , -7.549796  , -5.57464   , -3.792236  , -6.806533  ,\n",
       "        -5.77519   , -6.4063954 , -5.805564  , -7.1647754 , -7.799985  ,\n",
       "        -6.102068  , -7.5176353 , -4.606337  ],\n",
       "       [-3.6221864 , -1.9485664 , -1.7219267 , -2.3343668 , -3.0139532 ,\n",
       "         0.80949306, -3.6683538 , -4.468814  , -4.62323   , -5.910153  ,\n",
       "        -4.20936   , -6.2475343 , -6.712103  , -5.215737  , -5.156974  ,\n",
       "        -4.7138066 , -6.2397714 , -2.4725308 , -4.0169706 , -5.1231403 ,\n",
       "        -1.5049505 , -5.8570533 , -5.6321125 , -5.4677896 , -6.020169  ,\n",
       "        -5.308928  , -6.989994  , -4.4436803 ]], dtype=float32), hidden_states=None, attentions=None)"
      ]
     },
     "execution_count": 59,
     "metadata": {},
     "output_type": "execute_result"
    }
   ],
   "source": [
    "model.predict(test_features)"
   ]
  },
  {
   "cell_type": "code",
   "execution_count": 30,
   "id": "9e410c3adcb78b01",
   "metadata": {
    "collapsed": false,
    "jupyter": {
     "outputs_hidden": false
    }
   },
   "outputs": [],
   "source": [
    "from sklearn.metrics import classification_report"
   ]
  },
  {
   "cell_type": "code",
   "execution_count": 38,
   "id": "9e299b65-9667-4cbb-8586-61910c68122a",
   "metadata": {},
   "outputs": [
    {
     "name": "stdout",
     "output_type": "stream",
     "text": [
      "1/1 [==============================] - 2s 2s/step\n"
     ]
    },
    {
     "data": {
      "text/plain": [
       "TFSequenceClassifierOutput(loss=None, logits=array([[-4.8574266 , -4.705292  , -0.31210148, -1.8045306 , -4.6179347 ,\n",
       "        -3.6691163 , -2.6248677 , -4.451815  , -6.691037  , -5.463469  ,\n",
       "        -3.9925892 , -5.1185308 , -6.6771507 , -6.8197823 , -5.346372  ,\n",
       "        -6.9718943 , -7.5991106 , -6.5793076 , -6.1020155 , -6.4470167 ,\n",
       "        -5.614679  , -7.9332867 , -6.1585803 , -8.41181   , -7.620013  ,\n",
       "        -5.552787  , -7.0779905 , -3.6663377 ],\n",
       "       [-4.332655  , -4.383984  , -2.7910316 , -2.7034938 , -3.011818  ,\n",
       "        -2.9767678 ,  0.04758678, -3.2216103 , -6.457123  , -5.4549165 ,\n",
       "        -3.4669788 , -5.1078234 , -5.711306  , -5.9575806 , -2.3346188 ,\n",
       "        -5.9198704 , -6.827373  , -5.5454946 , -5.0565615 , -3.8274074 ,\n",
       "        -5.284352  , -7.2601094 , -4.7640543 , -6.8248744 , -6.8324747 ,\n",
       "        -5.4056354 , -6.6975765 , -3.7115452 ],\n",
       "       [-3.6221864 , -1.9485664 , -1.7219267 , -2.3343668 , -3.0139532 ,\n",
       "         0.80949306, -3.6683538 , -4.468814  , -4.62323   , -5.910153  ,\n",
       "        -4.20936   , -6.2475343 , -6.712103  , -5.215737  , -5.156974  ,\n",
       "        -4.7138066 , -6.2397714 , -2.4725308 , -4.0169706 , -5.1231403 ,\n",
       "        -1.5049505 , -5.8570533 , -5.6321125 , -5.4677896 , -6.020169  ,\n",
       "        -5.308928  , -6.989994  , -4.4436803 ]], dtype=float32), hidden_states=None, attentions=None)"
      ]
     },
     "execution_count": 38,
     "metadata": {},
     "output_type": "execute_result"
    }
   ],
   "source": [
    "pred = new_model.predict(test_features, verbose=1)\n",
    "pred"
   ]
  },
  {
   "cell_type": "code",
   "execution_count": 45,
   "id": "25bc6896-3dd9-4717-a68f-550eb3b8ac43",
   "metadata": {},
   "outputs": [
    {
     "data": {
      "text/plain": [
       "<tf.Tensor: shape=(3, 28), dtype=float32, numpy=\n",
       "array([[6.9780187e-03, 8.1246244e-03, 6.5726697e-01, 1.4777061e-01,\n",
       "        8.8662943e-03, 2.2898598e-02, 6.5060928e-02, 1.0468560e-02,\n",
       "        1.1153346e-03, 3.8065477e-03, 1.6570147e-02, 5.3744754e-03,\n",
       "        1.1309307e-03, 9.8060002e-04, 4.2794286e-03, 8.4222964e-04,\n",
       "        4.4981498e-04, 1.2471789e-03, 2.0100833e-03, 1.4235802e-03,\n",
       "        3.2723646e-03, 3.2203505e-04, 1.8995393e-03, 1.9956441e-04,\n",
       "        4.4051025e-04, 3.4812968e-03, 7.5744919e-04, 2.2962311e-02],\n",
       "       [8.3593419e-03, 7.9410905e-03, 3.9056268e-02, 4.2629268e-02,\n",
       "        3.1318750e-02, 3.2435942e-02, 6.6755486e-01, 2.5391756e-02,\n",
       "        9.9891250e-04, 2.7213232e-03, 1.9866923e-02, 3.8505318e-03,\n",
       "        2.1058698e-03, 1.6461745e-03, 6.1646476e-02, 1.7094372e-03,\n",
       "        6.8981049e-04, 2.4856646e-03, 4.0530642e-03, 1.3854742e-02,\n",
       "        3.2274192e-03, 4.4750181e-04, 5.4302239e-03, 6.9153623e-04,\n",
       "        6.8630028e-04, 2.8587927e-03, 7.8541588e-04, 1.5556673e-02],\n",
       "       [8.3738966e-03, 4.4644881e-02, 5.6001548e-02, 3.0354332e-02,\n",
       "        1.5384383e-02, 7.0401460e-01, 7.9960842e-03, 3.5912208e-03,\n",
       "        3.0773724e-03, 8.4972125e-04, 4.6550184e-03, 6.0639228e-04,\n",
       "        3.8106058e-04, 1.7016004e-03, 1.8045878e-03, 2.8108850e-03,\n",
       "        6.1111792e-04, 2.6437281e-02, 5.6425459e-03, 1.8666879e-03,\n",
       "        6.9571540e-02, 8.9606061e-04, 1.1220906e-03, 1.3224900e-03,\n",
       "        7.6119730e-04, 1.5501908e-03, 2.8860738e-04, 3.6826245e-03]],\n",
       "      dtype=float32)>"
      ]
     },
     "execution_count": 45,
     "metadata": {},
     "output_type": "execute_result"
    }
   ],
   "source": [
    "probabilities = tf.nn.softmax(pred.logits, axis=-1)\n",
    "probabilities"
   ]
  },
  {
   "cell_type": "code",
   "execution_count": 46,
   "id": "90f629a6-f9bc-403b-b074-aaefddba470f",
   "metadata": {},
   "outputs": [
    {
     "data": {
      "text/plain": [
       "array([[6.9780187e-03, 8.1246244e-03, 6.5726697e-01, 1.4777061e-01,\n",
       "        8.8662943e-03, 2.2898598e-02, 6.5060928e-02, 1.0468560e-02,\n",
       "        1.1153346e-03, 3.8065477e-03, 1.6570147e-02, 5.3744754e-03,\n",
       "        1.1309307e-03, 9.8060002e-04, 4.2794286e-03, 8.4222964e-04,\n",
       "        4.4981498e-04, 1.2471789e-03, 2.0100833e-03, 1.4235802e-03,\n",
       "        3.2723646e-03, 3.2203505e-04, 1.8995393e-03, 1.9956441e-04,\n",
       "        4.4051025e-04, 3.4812968e-03, 7.5744919e-04, 2.2962311e-02],\n",
       "       [8.3593419e-03, 7.9410905e-03, 3.9056268e-02, 4.2629268e-02,\n",
       "        3.1318750e-02, 3.2435942e-02, 6.6755486e-01, 2.5391756e-02,\n",
       "        9.9891250e-04, 2.7213232e-03, 1.9866923e-02, 3.8505318e-03,\n",
       "        2.1058698e-03, 1.6461745e-03, 6.1646476e-02, 1.7094372e-03,\n",
       "        6.8981049e-04, 2.4856646e-03, 4.0530642e-03, 1.3854742e-02,\n",
       "        3.2274192e-03, 4.4750181e-04, 5.4302239e-03, 6.9153623e-04,\n",
       "        6.8630028e-04, 2.8587927e-03, 7.8541588e-04, 1.5556673e-02],\n",
       "       [8.3738966e-03, 4.4644881e-02, 5.6001548e-02, 3.0354332e-02,\n",
       "        1.5384383e-02, 7.0401460e-01, 7.9960842e-03, 3.5912208e-03,\n",
       "        3.0773724e-03, 8.4972125e-04, 4.6550184e-03, 6.0639228e-04,\n",
       "        3.8106058e-04, 1.7016004e-03, 1.8045878e-03, 2.8108850e-03,\n",
       "        6.1111792e-04, 2.6437281e-02, 5.6425459e-03, 1.8666879e-03,\n",
       "        6.9571540e-02, 8.9606061e-04, 1.1220906e-03, 1.3224900e-03,\n",
       "        7.6119730e-04, 1.5501908e-03, 2.8860738e-04, 3.6826245e-03]],\n",
       "      dtype=float32)"
      ]
     },
     "execution_count": 46,
     "metadata": {},
     "output_type": "execute_result"
    }
   ],
   "source": [
    "np_probabilities=probabilities.numpy()\n",
    "np_probabilities"
   ]
  },
  {
   "cell_type": "code",
   "execution_count": 48,
   "id": "5b97f251-5828-4801-8359-f5ffa45364f2",
   "metadata": {},
   "outputs": [],
   "source": [
    "predicted = np.amax(np_probabilities, axis=1)\n",
    "# report = classification_report(np.argmax(test_labels, axis=1), predicted)\n",
    "# print(report)"
   ]
  },
  {
   "cell_type": "code",
   "execution_count": 49,
   "id": "507e45b0-102b-4643-be4a-7f21cad2b62a",
   "metadata": {},
   "outputs": [
    {
     "data": {
      "text/plain": [
       "array([0.657267  , 0.66755486, 0.7040146 ], dtype=float32)"
      ]
     },
     "execution_count": 49,
     "metadata": {},
     "output_type": "execute_result"
    }
   ],
   "source": [
    "predicted"
   ]
  },
  {
   "cell_type": "code",
   "execution_count": 52,
   "id": "833d075e-c859-4f83-b757-e0e642a4d686",
   "metadata": {},
   "outputs": [
    {
     "ename": "ValueError",
     "evalue": "Classification metrics can't handle a mix of binary and continuous targets",
     "output_type": "error",
     "traceback": [
      "\u001b[0;31m---------------------------------------------------------------------------\u001b[0m",
      "\u001b[0;31mValueError\u001b[0m                                Traceback (most recent call last)",
      "Cell \u001b[0;32mIn[52], line 1\u001b[0m\n\u001b[0;32m----> 1\u001b[0m report \u001b[38;5;241m=\u001b[39m \u001b[43mclassification_report\u001b[49m\u001b[43m(\u001b[49m\u001b[43mtest_labels\u001b[49m\u001b[43m,\u001b[49m\u001b[43m \u001b[49m\u001b[43mpredicted\u001b[49m\u001b[43m)\u001b[49m\n",
      "File \u001b[0;32m~/miniconda3/envs/ml/lib/python3.11/site-packages/sklearn/utils/_param_validation.py:214\u001b[0m, in \u001b[0;36mvalidate_params.<locals>.decorator.<locals>.wrapper\u001b[0;34m(*args, **kwargs)\u001b[0m\n\u001b[1;32m    208\u001b[0m \u001b[38;5;28;01mtry\u001b[39;00m:\n\u001b[1;32m    209\u001b[0m     \u001b[38;5;28;01mwith\u001b[39;00m config_context(\n\u001b[1;32m    210\u001b[0m         skip_parameter_validation\u001b[38;5;241m=\u001b[39m(\n\u001b[1;32m    211\u001b[0m             prefer_skip_nested_validation \u001b[38;5;129;01mor\u001b[39;00m global_skip_validation\n\u001b[1;32m    212\u001b[0m         )\n\u001b[1;32m    213\u001b[0m     ):\n\u001b[0;32m--> 214\u001b[0m         \u001b[38;5;28;01mreturn\u001b[39;00m \u001b[43mfunc\u001b[49m\u001b[43m(\u001b[49m\u001b[38;5;241;43m*\u001b[39;49m\u001b[43margs\u001b[49m\u001b[43m,\u001b[49m\u001b[43m \u001b[49m\u001b[38;5;241;43m*\u001b[39;49m\u001b[38;5;241;43m*\u001b[39;49m\u001b[43mkwargs\u001b[49m\u001b[43m)\u001b[49m\n\u001b[1;32m    215\u001b[0m \u001b[38;5;28;01mexcept\u001b[39;00m InvalidParameterError \u001b[38;5;28;01mas\u001b[39;00m e:\n\u001b[1;32m    216\u001b[0m     \u001b[38;5;66;03m# When the function is just a wrapper around an estimator, we allow\u001b[39;00m\n\u001b[1;32m    217\u001b[0m     \u001b[38;5;66;03m# the function to delegate validation to the estimator, but we replace\u001b[39;00m\n\u001b[1;32m    218\u001b[0m     \u001b[38;5;66;03m# the name of the estimator by the name of the function in the error\u001b[39;00m\n\u001b[1;32m    219\u001b[0m     \u001b[38;5;66;03m# message to avoid confusion.\u001b[39;00m\n\u001b[1;32m    220\u001b[0m     msg \u001b[38;5;241m=\u001b[39m re\u001b[38;5;241m.\u001b[39msub(\n\u001b[1;32m    221\u001b[0m         \u001b[38;5;124mr\u001b[39m\u001b[38;5;124m\"\u001b[39m\u001b[38;5;124mparameter of \u001b[39m\u001b[38;5;124m\\\u001b[39m\u001b[38;5;124mw+ must be\u001b[39m\u001b[38;5;124m\"\u001b[39m,\n\u001b[1;32m    222\u001b[0m         \u001b[38;5;124mf\u001b[39m\u001b[38;5;124m\"\u001b[39m\u001b[38;5;124mparameter of \u001b[39m\u001b[38;5;132;01m{\u001b[39;00mfunc\u001b[38;5;241m.\u001b[39m\u001b[38;5;18m__qualname__\u001b[39m\u001b[38;5;132;01m}\u001b[39;00m\u001b[38;5;124m must be\u001b[39m\u001b[38;5;124m\"\u001b[39m,\n\u001b[1;32m    223\u001b[0m         \u001b[38;5;28mstr\u001b[39m(e),\n\u001b[1;32m    224\u001b[0m     )\n",
      "File \u001b[0;32m~/miniconda3/envs/ml/lib/python3.11/site-packages/sklearn/metrics/_classification.py:2545\u001b[0m, in \u001b[0;36mclassification_report\u001b[0;34m(y_true, y_pred, labels, target_names, sample_weight, digits, output_dict, zero_division)\u001b[0m\n\u001b[1;32m   2410\u001b[0m \u001b[38;5;129m@validate_params\u001b[39m(\n\u001b[1;32m   2411\u001b[0m     {\n\u001b[1;32m   2412\u001b[0m         \u001b[38;5;124m\"\u001b[39m\u001b[38;5;124my_true\u001b[39m\u001b[38;5;124m\"\u001b[39m: [\u001b[38;5;124m\"\u001b[39m\u001b[38;5;124marray-like\u001b[39m\u001b[38;5;124m\"\u001b[39m, \u001b[38;5;124m\"\u001b[39m\u001b[38;5;124msparse matrix\u001b[39m\u001b[38;5;124m\"\u001b[39m],\n\u001b[0;32m   (...)\u001b[0m\n\u001b[1;32m   2436\u001b[0m     zero_division\u001b[38;5;241m=\u001b[39m\u001b[38;5;124m\"\u001b[39m\u001b[38;5;124mwarn\u001b[39m\u001b[38;5;124m\"\u001b[39m,\n\u001b[1;32m   2437\u001b[0m ):\n\u001b[1;32m   2438\u001b[0m \u001b[38;5;250m    \u001b[39m\u001b[38;5;124;03m\"\"\"Build a text report showing the main classification metrics.\u001b[39;00m\n\u001b[1;32m   2439\u001b[0m \n\u001b[1;32m   2440\u001b[0m \u001b[38;5;124;03m    Read more in the :ref:`User Guide <classification_report>`.\u001b[39;00m\n\u001b[0;32m   (...)\u001b[0m\n\u001b[1;32m   2542\u001b[0m \u001b[38;5;124;03m    <BLANKLINE>\u001b[39;00m\n\u001b[1;32m   2543\u001b[0m \u001b[38;5;124;03m    \"\"\"\u001b[39;00m\n\u001b[0;32m-> 2545\u001b[0m     y_type, y_true, y_pred \u001b[38;5;241m=\u001b[39m \u001b[43m_check_targets\u001b[49m\u001b[43m(\u001b[49m\u001b[43my_true\u001b[49m\u001b[43m,\u001b[49m\u001b[43m \u001b[49m\u001b[43my_pred\u001b[49m\u001b[43m)\u001b[49m\n\u001b[1;32m   2547\u001b[0m     \u001b[38;5;28;01mif\u001b[39;00m labels \u001b[38;5;129;01mis\u001b[39;00m \u001b[38;5;28;01mNone\u001b[39;00m:\n\u001b[1;32m   2548\u001b[0m         labels \u001b[38;5;241m=\u001b[39m unique_labels(y_true, y_pred)\n",
      "File \u001b[0;32m~/miniconda3/envs/ml/lib/python3.11/site-packages/sklearn/metrics/_classification.py:93\u001b[0m, in \u001b[0;36m_check_targets\u001b[0;34m(y_true, y_pred)\u001b[0m\n\u001b[1;32m     90\u001b[0m     y_type \u001b[38;5;241m=\u001b[39m {\u001b[38;5;124m\"\u001b[39m\u001b[38;5;124mmulticlass\u001b[39m\u001b[38;5;124m\"\u001b[39m}\n\u001b[1;32m     92\u001b[0m \u001b[38;5;28;01mif\u001b[39;00m \u001b[38;5;28mlen\u001b[39m(y_type) \u001b[38;5;241m>\u001b[39m \u001b[38;5;241m1\u001b[39m:\n\u001b[0;32m---> 93\u001b[0m     \u001b[38;5;28;01mraise\u001b[39;00m \u001b[38;5;167;01mValueError\u001b[39;00m(\n\u001b[1;32m     94\u001b[0m         \u001b[38;5;124m\"\u001b[39m\u001b[38;5;124mClassification metrics can\u001b[39m\u001b[38;5;124m'\u001b[39m\u001b[38;5;124mt handle a mix of \u001b[39m\u001b[38;5;132;01m{0}\u001b[39;00m\u001b[38;5;124m and \u001b[39m\u001b[38;5;132;01m{1}\u001b[39;00m\u001b[38;5;124m targets\u001b[39m\u001b[38;5;124m\"\u001b[39m\u001b[38;5;241m.\u001b[39mformat(\n\u001b[1;32m     95\u001b[0m             type_true, type_pred\n\u001b[1;32m     96\u001b[0m         )\n\u001b[1;32m     97\u001b[0m     )\n\u001b[1;32m     99\u001b[0m \u001b[38;5;66;03m# We can't have more than one value on y_type => The set is no more needed\u001b[39;00m\n\u001b[1;32m    100\u001b[0m y_type \u001b[38;5;241m=\u001b[39m y_type\u001b[38;5;241m.\u001b[39mpop()\n",
      "\u001b[0;31mValueError\u001b[0m: Classification metrics can't handle a mix of binary and continuous targets"
     ]
    }
   ],
   "source": [
    "\n"
   ]
  },
  {
   "cell_type": "code",
   "execution_count": null,
   "id": "5461a955-d2c5-49e0-b548-52154caf6317",
   "metadata": {},
   "outputs": [],
   "source": []
  }
 ],
 "metadata": {
  "accelerator": "GPU",
  "colab": {
   "gpuType": "T4",
   "provenance": []
  },
  "kernelspec": {
   "display_name": "Python 3 (ipykernel)",
   "language": "python",
   "name": "python3"
  },
  "language_info": {
   "codemirror_mode": {
    "name": "ipython",
    "version": 3
   },
   "file_extension": ".py",
   "mimetype": "text/x-python",
   "name": "python",
   "nbconvert_exporter": "python",
   "pygments_lexer": "ipython3",
   "version": "3.11.4"
  }
 },
 "nbformat": 4,
 "nbformat_minor": 5
}
