{
 "cells": [
  {
   "cell_type": "code",
   "execution_count": 3,
   "id": "e3d64809-a6e7-4b68-8f57-5b25b594ebf9",
   "metadata": {},
   "outputs": [
    {
     "name": "stderr",
     "output_type": "stream",
     "text": [
      "2024-03-11 15:03:38.199874: I external/local_tsl/tsl/cuda/cudart_stub.cc:31] Could not find cuda drivers on your machine, GPU will not be used.\n",
      "2024-03-11 15:03:38.233642: E external/local_xla/xla/stream_executor/cuda/cuda_dnn.cc:9261] Unable to register cuDNN factory: Attempting to register factory for plugin cuDNN when one has already been registered\n",
      "2024-03-11 15:03:38.233675: E external/local_xla/xla/stream_executor/cuda/cuda_fft.cc:607] Unable to register cuFFT factory: Attempting to register factory for plugin cuFFT when one has already been registered\n",
      "2024-03-11 15:03:38.234514: E external/local_xla/xla/stream_executor/cuda/cuda_blas.cc:1515] Unable to register cuBLAS factory: Attempting to register factory for plugin cuBLAS when one has already been registered\n",
      "2024-03-11 15:03:38.239943: I tensorflow/core/platform/cpu_feature_guard.cc:182] This TensorFlow binary is optimized to use available CPU instructions in performance-critical operations.\n",
      "To enable the following instructions: AVX2 FMA, in other operations, rebuild TensorFlow with the appropriate compiler flags.\n",
      "2024-03-11 15:03:39.114547: W tensorflow/compiler/tf2tensorrt/utils/py_utils.cc:38] TF-TRT Warning: Could not find TensorRT\n"
     ]
    }
   ],
   "source": [
    "import gensim\n",
    "from gensim.models import word2vec\n",
    "from gensim.models.word2vec import Word2Vec\n",
    "import numpy as np\n",
    "import pandas as pd\n",
    "import matplotlib.pyplot as plt\n",
    "import spacy\n",
    "import string\n",
    "import gensim.downloader as api\n",
    "from sklearn.preprocessing import LabelEncoder\n",
    "from keras.models import Sequential\n",
    "from keras.layers import Dense, Embedding, LSTM\n",
    "from sklearn.model_selection import train_test_split\n",
    "from keras.models import Sequential\n",
    "from keras.layers import Dense, Embedding, LSTM\n",
    "from tensorflow import keras\n",
    "from sklearn.metrics import classification_report, confusion_matrix\n",
    "import tensorflow as tf"
   ]
  },
  {
   "cell_type": "code",
   "execution_count": 4,
   "id": "6c1de96e-f3b7-4b92-8d7c-19d61e131456",
   "metadata": {},
   "outputs": [
    {
     "data": {
      "text/html": [
       "<div>\n",
       "<style scoped>\n",
       "    .dataframe tbody tr th:only-of-type {\n",
       "        vertical-align: middle;\n",
       "    }\n",
       "\n",
       "    .dataframe tbody tr th {\n",
       "        vertical-align: top;\n",
       "    }\n",
       "\n",
       "    .dataframe thead th {\n",
       "        text-align: right;\n",
       "    }\n",
       "</style>\n",
       "<table border=\"1\" class=\"dataframe\">\n",
       "  <thead>\n",
       "    <tr style=\"text-align: right;\">\n",
       "      <th></th>\n",
       "      <th>speech</th>\n",
       "      <th>emotion</th>\n",
       "    </tr>\n",
       "  </thead>\n",
       "  <tbody>\n",
       "    <tr>\n",
       "      <th>0</th>\n",
       "      <td>From the moment that the French defenses at Se...</td>\n",
       "      <td>trust</td>\n",
       "    </tr>\n",
       "    <tr>\n",
       "      <th>1</th>\n",
       "      <td>Five score years ago, a great American, in who...</td>\n",
       "      <td>anticipation</td>\n",
       "    </tr>\n",
       "    <tr>\n",
       "      <th>2</th>\n",
       "      <td>The media will not show the magnitude of this ...</td>\n",
       "      <td>anger</td>\n",
       "    </tr>\n",
       "    <tr>\n",
       "      <th>3</th>\n",
       "      <td>Madam Vice President, my fellow Americans: to ...</td>\n",
       "      <td>disgust</td>\n",
       "    </tr>\n",
       "    <tr>\n",
       "      <th>4</th>\n",
       "      <td>My German countrymen, men and women, (long pau...</td>\n",
       "      <td>anger</td>\n",
       "    </tr>\n",
       "    <tr>\n",
       "      <th>5</th>\n",
       "      <td>We observe today not a victory of party but a ...</td>\n",
       "      <td>joy</td>\n",
       "    </tr>\n",
       "    <tr>\n",
       "      <th>6</th>\n",
       "      <td>Your Majesties, Your Highnesses, Distinguished...</td>\n",
       "      <td>trust</td>\n",
       "    </tr>\n",
       "    <tr>\n",
       "      <th>7</th>\n",
       "      <td>I am honored to be with you today at your comm...</td>\n",
       "      <td>anticipation</td>\n",
       "    </tr>\n",
       "    <tr>\n",
       "      <th>8</th>\n",
       "      <td>Honorable UN Secretary General Mr Ban Ki-moon,...</td>\n",
       "      <td>sadness</td>\n",
       "    </tr>\n",
       "    <tr>\n",
       "      <th>9</th>\n",
       "      <td>It is with a profound sense of humility that I...</td>\n",
       "      <td>sadness</td>\n",
       "    </tr>\n",
       "    <tr>\n",
       "      <th>10</th>\n",
       "      <td>My message is that we'll be watching you.\\r\\n\\...</td>\n",
       "      <td>fear</td>\n",
       "    </tr>\n",
       "    <tr>\n",
       "      <th>11</th>\n",
       "      <td>Hello everybody. You know, Michelle and I have...</td>\n",
       "      <td>joy</td>\n",
       "    </tr>\n",
       "    <tr>\n",
       "      <th>12</th>\n",
       "      <td>Your Majesties, Your Royal Highness, Excellenc...</td>\n",
       "      <td>anticipation</td>\n",
       "    </tr>\n",
       "    <tr>\n",
       "      <th>13</th>\n",
       "      <td>Five score years ago, a great American, in who...</td>\n",
       "      <td>trust</td>\n",
       "    </tr>\n",
       "  </tbody>\n",
       "</table>\n",
       "</div>"
      ],
      "text/plain": [
       "                                               speech       emotion\n",
       "0   From the moment that the French defenses at Se...         trust\n",
       "1   Five score years ago, a great American, in who...  anticipation\n",
       "2   The media will not show the magnitude of this ...         anger\n",
       "3   Madam Vice President, my fellow Americans: to ...       disgust\n",
       "4   My German countrymen, men and women, (long pau...         anger\n",
       "5   We observe today not a victory of party but a ...           joy\n",
       "6   Your Majesties, Your Highnesses, Distinguished...         trust\n",
       "7   I am honored to be with you today at your comm...  anticipation\n",
       "8   Honorable UN Secretary General Mr Ban Ki-moon,...       sadness\n",
       "9   It is with a profound sense of humility that I...       sadness\n",
       "10  My message is that we'll be watching you.\\r\\n\\...          fear\n",
       "11  Hello everybody. You know, Michelle and I have...           joy\n",
       "12  Your Majesties, Your Royal Highness, Excellenc...  anticipation\n",
       "13  Five score years ago, a great American, in who...         trust"
      ]
     },
     "execution_count": 4,
     "metadata": {},
     "output_type": "execute_result"
    }
   ],
   "source": [
    "df=pd.read_csv('one_output_dataset_new.csv')\n",
    "df"
   ]
  },
  {
   "cell_type": "code",
   "execution_count": 5,
   "id": "e525317c-98bd-47d7-a46c-74417c6048b9",
   "metadata": {},
   "outputs": [
    {
     "name": "stdout",
     "output_type": "stream",
     "text": [
      "['fasttext-wiki-news-subwords-300', 'conceptnet-numberbatch-17-06-300', 'word2vec-ruscorpora-300', 'word2vec-google-news-300', 'glove-wiki-gigaword-50', 'glove-wiki-gigaword-100', 'glove-wiki-gigaword-200', 'glove-wiki-gigaword-300', 'glove-twitter-25', 'glove-twitter-50', 'glove-twitter-100', 'glove-twitter-200', '__testing_word2vec-matrix-synopsis']\n"
     ]
    }
   ],
   "source": [
    "print(list(api.info()['models'].keys()))"
   ]
  },
  {
   "cell_type": "code",
   "execution_count": 6,
   "id": "95a024d0-b6f1-422e-94ef-96ae209e18bd",
   "metadata": {},
   "outputs": [],
   "source": [
    "wv=api.load('word2vec-google-news-300')"
   ]
  },
  {
   "cell_type": "code",
   "execution_count": null,
   "id": "52d584db-9b49-4da3-a3d9-228bef59a916",
   "metadata": {},
   "outputs": [],
   "source": [
    "# wv.save('vectors.kv')"
   ]
  },
  {
   "cell_type": "code",
   "execution_count": 7,
   "id": "ac10e015-04f1-4e81-8fe7-2eead10cb4e2",
   "metadata": {},
   "outputs": [],
   "source": [
    "def sentence_vec(sentence):\n",
    "    vector_size=wv.vector_size\n",
    "    wv_res=np.zeros(vector_size)\n",
    "    ctr=1\n",
    "    for w in sentence:\n",
    "        if w in wv:\n",
    "            ctr+=1\n",
    "            wv_res+=wv[w]\n",
    "        wv_res=wv_res/ctr\n",
    "        return wv_res"
   ]
  },
  {
   "cell_type": "code",
   "execution_count": 8,
   "id": "389503b6-7742-4bb8-9669-3020ebeabd84",
   "metadata": {},
   "outputs": [],
   "source": [
    "def spacy_tokenizer(sentence):\n",
    "    #creating token object, which is used to create documents with linguistic annotations\n",
    "    doc=nlp(sentence)\n",
    "    #lemmatizing each token and lowercase conversion\n",
    "    mytokens=[word.lemma_.lower().strip() for word in doc]\n",
    "    # removing stop words\n",
    "    mytokens=[word for word in mytokens if word not in stop_words and word not in punctuations]\n",
    "    return mytokens"
   ]
  },
  {
   "cell_type": "code",
   "execution_count": 9,
   "id": "edf1006c-ec42-46f6-90e5-02d71244720e",
   "metadata": {},
   "outputs": [],
   "source": [
    "nlp=spacy.load(\"en_core_web_sm\")\n",
    "stop_words=nlp.Defaults.stop_words\n",
    "punctuations=string.punctuation"
   ]
  },
  {
   "cell_type": "code",
   "execution_count": 10,
   "id": "49af4d69-4d88-488a-ada8-062033810a9b",
   "metadata": {},
   "outputs": [],
   "source": [
    "df['tokens']=df['speech'].apply(spacy_tokenizer)"
   ]
  },
  {
   "cell_type": "code",
   "execution_count": 11,
   "id": "0f45b54d-17cd-411f-9936-a92fe6bdba09",
   "metadata": {},
   "outputs": [],
   "source": [
    "df['vec']=df['tokens'].apply(sentence_vec)"
   ]
  },
  {
   "cell_type": "code",
   "execution_count": 12,
   "id": "88cfdd01-821c-4eb9-b5aa-ba8ea9e401c3",
   "metadata": {},
   "outputs": [
    {
     "data": {
      "text/html": [
       "<div>\n",
       "<style scoped>\n",
       "    .dataframe tbody tr th:only-of-type {\n",
       "        vertical-align: middle;\n",
       "    }\n",
       "\n",
       "    .dataframe tbody tr th {\n",
       "        vertical-align: top;\n",
       "    }\n",
       "\n",
       "    .dataframe thead th {\n",
       "        text-align: right;\n",
       "    }\n",
       "</style>\n",
       "<table border=\"1\" class=\"dataframe\">\n",
       "  <thead>\n",
       "    <tr style=\"text-align: right;\">\n",
       "      <th></th>\n",
       "      <th>speech</th>\n",
       "      <th>emotion</th>\n",
       "      <th>tokens</th>\n",
       "      <th>vec</th>\n",
       "    </tr>\n",
       "  </thead>\n",
       "  <tbody>\n",
       "    <tr>\n",
       "      <th>0</th>\n",
       "      <td>From the moment that the French defenses at Se...</td>\n",
       "      <td>trust</td>\n",
       "      <td>[moment, french, defense, sedan, meuse, break,...</td>\n",
       "      <td>[0.08154296875, 0.0135498046875, 0.072265625, ...</td>\n",
       "    </tr>\n",
       "    <tr>\n",
       "      <th>1</th>\n",
       "      <td>Five score years ago, a great American, in who...</td>\n",
       "      <td>anticipation</td>\n",
       "      <td>[score, year, ago, great, american, symbolic, ...</td>\n",
       "      <td>[-0.006866455078125, -0.037109375, 0.008666992...</td>\n",
       "    </tr>\n",
       "    <tr>\n",
       "      <th>2</th>\n",
       "      <td>The media will not show the magnitude of this ...</td>\n",
       "      <td>anger</td>\n",
       "      <td>[medium, magnitude, crowd, turn, today, look, ...</td>\n",
       "      <td>[0.01373291015625, 0.0498046875, -0.0698242187...</td>\n",
       "    </tr>\n",
       "    <tr>\n",
       "      <th>3</th>\n",
       "      <td>Madam Vice President, my fellow Americans: to ...</td>\n",
       "      <td>disgust</td>\n",
       "      <td>[madam, vice, president, fellow, americans, st...</td>\n",
       "      <td>[-0.0002727508544921875, -0.04736328125, -0.01...</td>\n",
       "    </tr>\n",
       "    <tr>\n",
       "      <th>4</th>\n",
       "      <td>My German countrymen, men and women, (long pau...</td>\n",
       "      <td>anger</td>\n",
       "      <td>[german, countryman, man, woman, long, pause, ...</td>\n",
       "      <td>[0.033203125, 0.1474609375, -0.0233154296875, ...</td>\n",
       "    </tr>\n",
       "    <tr>\n",
       "      <th>5</th>\n",
       "      <td>We observe today not a victory of party but a ...</td>\n",
       "      <td>joy</td>\n",
       "      <td>[observe, today, victory, party, celebration, ...</td>\n",
       "      <td>[-0.05517578125, -0.0069580078125, 0.056884765...</td>\n",
       "    </tr>\n",
       "    <tr>\n",
       "      <th>6</th>\n",
       "      <td>Your Majesties, Your Highnesses, Distinguished...</td>\n",
       "      <td>trust</td>\n",
       "      <td>[majesties, highnesses, distinguished, guests,...</td>\n",
       "      <td>[-0.045166015625, 0.05517578125, 0.02416992187...</td>\n",
       "    </tr>\n",
       "    <tr>\n",
       "      <th>7</th>\n",
       "      <td>I am honored to be with you today at your comm...</td>\n",
       "      <td>anticipation</td>\n",
       "      <td>[honor, today, commencement, fine, university,...</td>\n",
       "      <td>[-0.0208740234375, 0.0228271484375, 0.1328125,...</td>\n",
       "    </tr>\n",
       "    <tr>\n",
       "      <th>8</th>\n",
       "      <td>Honorable UN Secretary General Mr Ban Ki-moon,...</td>\n",
       "      <td>sadness</td>\n",
       "      <td>[honorable, un, secretary, general, mr, ban, k...</td>\n",
       "      <td>[0.02392578125, 0.061767578125, 0.012878417968...</td>\n",
       "    </tr>\n",
       "    <tr>\n",
       "      <th>9</th>\n",
       "      <td>It is with a profound sense of humility that I...</td>\n",
       "      <td>sadness</td>\n",
       "      <td>[profound, sense, humility, accept, honor, cho...</td>\n",
       "      <td>[0.11181640625, -0.0277099609375, 0.0140991210...</td>\n",
       "    </tr>\n",
       "    <tr>\n",
       "      <th>10</th>\n",
       "      <td>My message is that we'll be watching you.\\r\\n\\...</td>\n",
       "      <td>fear</td>\n",
       "      <td>[message, watch, wrong, school, ocean, come, y...</td>\n",
       "      <td>[0.058837890625, 0.04541015625, 0.009887695312...</td>\n",
       "    </tr>\n",
       "    <tr>\n",
       "      <th>11</th>\n",
       "      <td>Hello everybody. You know, Michelle and I have...</td>\n",
       "      <td>joy</td>\n",
       "      <td>[hello, everybody, know, michelle, milk, goodb...</td>\n",
       "      <td>[-0.027099609375, 0.008544921875, -0.002639770...</td>\n",
       "    </tr>\n",
       "    <tr>\n",
       "      <th>12</th>\n",
       "      <td>Your Majesties, Your Royal Highness, Excellenc...</td>\n",
       "      <td>anticipation</td>\n",
       "      <td>[majesties, royal, highness, excellencies, dis...</td>\n",
       "      <td>[-0.045166015625, 0.05517578125, 0.02416992187...</td>\n",
       "    </tr>\n",
       "    <tr>\n",
       "      <th>13</th>\n",
       "      <td>Five score years ago, a great American, in who...</td>\n",
       "      <td>trust</td>\n",
       "      <td>[score, year, ago, great, american, symbolic, ...</td>\n",
       "      <td>[-0.006866455078125, -0.037109375, 0.008666992...</td>\n",
       "    </tr>\n",
       "  </tbody>\n",
       "</table>\n",
       "</div>"
      ],
      "text/plain": [
       "                                               speech       emotion  \\\n",
       "0   From the moment that the French defenses at Se...         trust   \n",
       "1   Five score years ago, a great American, in who...  anticipation   \n",
       "2   The media will not show the magnitude of this ...         anger   \n",
       "3   Madam Vice President, my fellow Americans: to ...       disgust   \n",
       "4   My German countrymen, men and women, (long pau...         anger   \n",
       "5   We observe today not a victory of party but a ...           joy   \n",
       "6   Your Majesties, Your Highnesses, Distinguished...         trust   \n",
       "7   I am honored to be with you today at your comm...  anticipation   \n",
       "8   Honorable UN Secretary General Mr Ban Ki-moon,...       sadness   \n",
       "9   It is with a profound sense of humility that I...       sadness   \n",
       "10  My message is that we'll be watching you.\\r\\n\\...          fear   \n",
       "11  Hello everybody. You know, Michelle and I have...           joy   \n",
       "12  Your Majesties, Your Royal Highness, Excellenc...  anticipation   \n",
       "13  Five score years ago, a great American, in who...         trust   \n",
       "\n",
       "                                               tokens  \\\n",
       "0   [moment, french, defense, sedan, meuse, break,...   \n",
       "1   [score, year, ago, great, american, symbolic, ...   \n",
       "2   [medium, magnitude, crowd, turn, today, look, ...   \n",
       "3   [madam, vice, president, fellow, americans, st...   \n",
       "4   [german, countryman, man, woman, long, pause, ...   \n",
       "5   [observe, today, victory, party, celebration, ...   \n",
       "6   [majesties, highnesses, distinguished, guests,...   \n",
       "7   [honor, today, commencement, fine, university,...   \n",
       "8   [honorable, un, secretary, general, mr, ban, k...   \n",
       "9   [profound, sense, humility, accept, honor, cho...   \n",
       "10  [message, watch, wrong, school, ocean, come, y...   \n",
       "11  [hello, everybody, know, michelle, milk, goodb...   \n",
       "12  [majesties, royal, highness, excellencies, dis...   \n",
       "13  [score, year, ago, great, american, symbolic, ...   \n",
       "\n",
       "                                                  vec  \n",
       "0   [0.08154296875, 0.0135498046875, 0.072265625, ...  \n",
       "1   [-0.006866455078125, -0.037109375, 0.008666992...  \n",
       "2   [0.01373291015625, 0.0498046875, -0.0698242187...  \n",
       "3   [-0.0002727508544921875, -0.04736328125, -0.01...  \n",
       "4   [0.033203125, 0.1474609375, -0.0233154296875, ...  \n",
       "5   [-0.05517578125, -0.0069580078125, 0.056884765...  \n",
       "6   [-0.045166015625, 0.05517578125, 0.02416992187...  \n",
       "7   [-0.0208740234375, 0.0228271484375, 0.1328125,...  \n",
       "8   [0.02392578125, 0.061767578125, 0.012878417968...  \n",
       "9   [0.11181640625, -0.0277099609375, 0.0140991210...  \n",
       "10  [0.058837890625, 0.04541015625, 0.009887695312...  \n",
       "11  [-0.027099609375, 0.008544921875, -0.002639770...  \n",
       "12  [-0.045166015625, 0.05517578125, 0.02416992187...  \n",
       "13  [-0.006866455078125, -0.037109375, 0.008666992...  "
      ]
     },
     "execution_count": 12,
     "metadata": {},
     "output_type": "execute_result"
    }
   ],
   "source": [
    "df"
   ]
  },
  {
   "cell_type": "code",
   "execution_count": 13,
   "id": "32f27870-b9e6-4108-950d-cf61b1fe871f",
   "metadata": {},
   "outputs": [
    {
     "data": {
      "text/plain": [
       "300"
      ]
     },
     "execution_count": 13,
     "metadata": {},
     "output_type": "execute_result"
    }
   ],
   "source": [
    "len(df['vec'][2])"
   ]
  },
  {
   "cell_type": "code",
   "execution_count": 14,
   "id": "7a2ecc31-7a21-489f-b2d6-34460cda58d0",
   "metadata": {},
   "outputs": [],
   "source": [
    "speech_vectors=df['vec'].values\n",
    "labels=df['emotion'].values"
   ]
  },
  {
   "cell_type": "code",
   "execution_count": 15,
   "id": "46e7ac1a-eecc-4dd5-a790-110bb44c0b13",
   "metadata": {},
   "outputs": [
    {
     "data": {
      "text/plain": [
       "array(['trust', 'anticipation', 'anger', 'disgust', 'anger', 'joy',\n",
       "       'trust', 'anticipation', 'sadness', 'sadness', 'fear', 'joy',\n",
       "       'anticipation', 'trust'], dtype=object)"
      ]
     },
     "execution_count": 15,
     "metadata": {},
     "output_type": "execute_result"
    }
   ],
   "source": [
    "labels"
   ]
  },
  {
   "cell_type": "code",
   "execution_count": 16,
   "id": "65cb8cb2-f739-458b-8055-a5b98806b1e5",
   "metadata": {},
   "outputs": [],
   "source": [
    "encoder = LabelEncoder()\n",
    "labels = encoder.fit_transform(labels)"
   ]
  },
  {
   "cell_type": "code",
   "execution_count": 17,
   "id": "2ec3f007-3dc1-4c35-af6a-fb774c620fa2",
   "metadata": {},
   "outputs": [
    {
     "data": {
      "text/plain": [
       "array([6, 1, 0, 2, 0, 4, 6, 1, 5, 5, 3, 4, 1, 6])"
      ]
     },
     "execution_count": 17,
     "metadata": {},
     "output_type": "execute_result"
    }
   ],
   "source": [
    "labels"
   ]
  },
  {
   "cell_type": "code",
   "execution_count": 18,
   "id": "cb38c161-212a-4a71-9c2d-924863540525",
   "metadata": {},
   "outputs": [
    {
     "data": {
      "text/plain": [
       "14"
      ]
     },
     "execution_count": 18,
     "metadata": {},
     "output_type": "execute_result"
    }
   ],
   "source": [
    "speech_vectors.shape[0]"
   ]
  },
  {
   "cell_type": "code",
   "execution_count": 19,
   "id": "e11f307f-6a0d-4ac9-9bab-f99e417e4582",
   "metadata": {},
   "outputs": [],
   "source": [
    "\n",
    "X_train,X_test,y_train,y_test = train_test_split(speech_vectors,labels,test_size=0.2,random_state=7)"
   ]
  },
  {
   "cell_type": "code",
   "execution_count": 20,
   "id": "972050b7-c0d5-419c-ac1b-7deb45769bb7",
   "metadata": {},
   "outputs": [],
   "source": [
    "Y_test=y_test"
   ]
  },
  {
   "cell_type": "code",
   "execution_count": 21,
   "id": "f7588427-893e-459b-b925-cda32b2db93f",
   "metadata": {},
   "outputs": [],
   "source": [
    "y_train = np.asarray(y_train).astype('float32').reshape((-1,1))\n",
    "y_test = np.asarray(y_test).astype('float32').reshape((-1,1))"
   ]
  },
  {
   "cell_type": "code",
   "execution_count": 22,
   "id": "8c99e4da-d9af-46fc-9e7d-c984e5533cc5",
   "metadata": {},
   "outputs": [],
   "source": [
    "X_train=X_train.tolist()\n",
    "X_test=X_test.tolist()\n",
    "y_train=y_train.tolist()\n",
    "y_test=y_test.tolist()"
   ]
  },
  {
   "cell_type": "code",
   "execution_count": 23,
   "id": "5186c183-4dcb-42f1-9efc-1ca5f50a9a52",
   "metadata": {},
   "outputs": [
    {
     "name": "stderr",
     "output_type": "stream",
     "text": [
      "2024-03-11 15:05:38.306759: I external/local_xla/xla/stream_executor/cuda/cuda_executor.cc:901] successful NUMA node read from SysFS had negative value (-1), but there must be at least one NUMA node, so returning NUMA node zero. See more at https://github.com/torvalds/linux/blob/v6.0/Documentation/ABI/testing/sysfs-bus-pci#L344-L355\n",
      "2024-03-11 15:05:38.311424: W tensorflow/core/common_runtime/gpu/gpu_device.cc:2256] Cannot dlopen some GPU libraries. Please make sure the missing libraries mentioned above are installed properly if you would like to use GPU. Follow the guide at https://www.tensorflow.org/install/gpu for how to download and setup the required libraries for your platform.\n",
      "Skipping registering GPU devices...\n"
     ]
    }
   ],
   "source": [
    "\n",
    "X_train=tf.convert_to_tensor(X_train)\n",
    "X_test=tf.convert_to_tensor(X_test)\n",
    "y_train=tf.convert_to_tensor(y_train)\n",
    "y_test=tf.convert_to_tensor(y_test)"
   ]
  },
  {
   "cell_type": "code",
   "execution_count": 24,
   "id": "218b7962-669f-4350-be9c-18f3e5954d54",
   "metadata": {},
   "outputs": [
    {
     "data": {
      "text/plain": [
       "<tf.Tensor: shape=(11, 1), dtype=float32, numpy=\n",
       "array([[4.],\n",
       "       [6.],\n",
       "       [1.],\n",
       "       [6.],\n",
       "       [5.],\n",
       "       [1.],\n",
       "       [3.],\n",
       "       [2.],\n",
       "       [6.],\n",
       "       [5.],\n",
       "       [0.]], dtype=float32)>"
      ]
     },
     "execution_count": 24,
     "metadata": {},
     "output_type": "execute_result"
    }
   ],
   "source": [
    "y_train"
   ]
  },
  {
   "cell_type": "code",
   "execution_count": 25,
   "id": "7ad769b9-7e7f-4f15-9417-559dafdbdebb",
   "metadata": {},
   "outputs": [],
   "source": [
    "train_dataset = tf.data.Dataset.from_tensor_slices((X_train, y_train))\n",
    "train_dataset = train_dataset.shuffle(10000).batch(2)"
   ]
  },
  {
   "cell_type": "code",
   "execution_count": 26,
   "id": "37f2a59e-2a3b-4894-a645-8854a432e986",
   "metadata": {},
   "outputs": [],
   "source": [
    "test_dataset = tf.data.Dataset.from_tensor_slices((X_test, y_test))\n",
    "test_dataset = test_dataset.shuffle(10000).batch(2)"
   ]
  },
  {
   "cell_type": "code",
   "execution_count": 27,
   "id": "b90ed537-5cf8-435e-b895-daa1f7a84a59",
   "metadata": {},
   "outputs": [
    {
     "data": {
      "text/plain": [
       "<tf.Tensor: shape=(3, 1), dtype=float32, numpy=\n",
       "array([[1.],\n",
       "       [4.],\n",
       "       [0.]], dtype=float32)>"
      ]
     },
     "execution_count": 27,
     "metadata": {},
     "output_type": "execute_result"
    }
   ],
   "source": [
    "y_test"
   ]
  },
  {
   "cell_type": "code",
   "execution_count": null,
   "id": "d119b6fd-7ed7-434c-a5df-dacd4d55262d",
   "metadata": {},
   "outputs": [],
   "source": []
  },
  {
   "cell_type": "code",
   "execution_count": null,
   "id": "5c913e30-3e66-4319-96e3-77b2c7bf61af",
   "metadata": {},
   "outputs": [],
   "source": []
  },
  {
   "cell_type": "code",
   "execution_count": 28,
   "id": "7e07fc66-44b1-47a4-90b1-fcd440b3ca27",
   "metadata": {},
   "outputs": [],
   "source": [
    "model = Sequential()\n",
    "model.add(Embedding(input_dim=speech_vectors.shape[0], output_dim=300, trainable=False))\n",
    "model.add(LSTM(units=300))\n",
    "model.add(Dense(units=7, activation='sigmoid'))\n",
    "model.compile(optimizer='adam', loss=keras.losses.sparse_categorical_crossentropy, metrics=['accuracy'])"
   ]
  },
  {
   "cell_type": "code",
   "execution_count": 29,
   "id": "b6304354-c432-4d06-82d0-c671af67f320",
   "metadata": {},
   "outputs": [
    {
     "name": "stdout",
     "output_type": "stream",
     "text": [
      "Epoch 1/10\n",
      "6/6 [==============================] - 4s 366ms/step - loss: 2.0052 - accuracy: 0.0909 - val_loss: 1.9537 - val_accuracy: 0.0000e+00\n",
      "Epoch 2/10\n",
      "6/6 [==============================] - 2s 316ms/step - loss: 1.9187 - accuracy: 0.2727 - val_loss: 2.0858 - val_accuracy: 0.0000e+00\n",
      "Epoch 3/10\n",
      "6/6 [==============================] - 2s 291ms/step - loss: 1.9015 - accuracy: 0.1818 - val_loss: 2.0660 - val_accuracy: 0.0000e+00\n",
      "Epoch 4/10\n",
      "6/6 [==============================] - 2s 289ms/step - loss: 1.8989 - accuracy: 0.2727 - val_loss: 2.1716 - val_accuracy: 0.0000e+00\n",
      "Epoch 5/10\n",
      "6/6 [==============================] - 2s 304ms/step - loss: 1.9144 - accuracy: 0.2727 - val_loss: 2.2201 - val_accuracy: 0.0000e+00\n",
      "Epoch 6/10\n",
      "6/6 [==============================] - 2s 292ms/step - loss: 1.8472 - accuracy: 0.2727 - val_loss: 2.0652 - val_accuracy: 0.0000e+00\n",
      "Epoch 7/10\n",
      "6/6 [==============================] - 2s 298ms/step - loss: 1.8709 - accuracy: 0.2727 - val_loss: 2.0330 - val_accuracy: 0.0000e+00\n",
      "Epoch 8/10\n",
      "6/6 [==============================] - 2s 288ms/step - loss: 1.8727 - accuracy: 0.2727 - val_loss: 2.0330 - val_accuracy: 0.0000e+00\n",
      "Epoch 9/10\n",
      "6/6 [==============================] - 2s 286ms/step - loss: 1.8656 - accuracy: 0.2727 - val_loss: 2.0458 - val_accuracy: 0.0000e+00\n",
      "Epoch 10/10\n",
      "6/6 [==============================] - 2s 311ms/step - loss: 1.8669 - accuracy: 0.2727 - val_loss: 2.0815 - val_accuracy: 0.0000e+00\n"
     ]
    },
    {
     "data": {
      "text/plain": [
       "<keras.src.callbacks.History at 0x7495ee3b2250>"
      ]
     },
     "execution_count": 29,
     "metadata": {},
     "output_type": "execute_result"
    }
   ],
   "source": [
    "model.fit(train_dataset, validation_data=test_dataset, epochs=10)"
   ]
  },
  {
   "cell_type": "code",
   "execution_count": 30,
   "id": "40ba311a-a09a-4fbb-adf2-bb8cf1a804d3",
   "metadata": {},
   "outputs": [
    {
     "name": "stdout",
     "output_type": "stream",
     "text": [
      "1/1 [==============================] - 0s 353ms/step\n"
     ]
    }
   ],
   "source": [
    "y_pred = model.predict(X_test)\n",
    "y_pred = np.argmax(y_pred,axis=1)"
   ]
  },
  {
   "cell_type": "code",
   "execution_count": 31,
   "id": "bb517f55-43c8-4093-beef-ae5758f5ec7c",
   "metadata": {},
   "outputs": [
    {
     "data": {
      "text/plain": [
       "array([6, 6, 6])"
      ]
     },
     "execution_count": 31,
     "metadata": {},
     "output_type": "execute_result"
    }
   ],
   "source": [
    "y_pred"
   ]
  },
  {
   "cell_type": "code",
   "execution_count": null,
   "id": "59d4b34e-1501-47e0-9724-182f2a8a14fd",
   "metadata": {},
   "outputs": [],
   "source": []
  },
  {
   "cell_type": "code",
   "execution_count": 32,
   "id": "e7e4c4dc-d99c-4484-9a70-92b1ed024891",
   "metadata": {},
   "outputs": [
    {
     "name": "stdout",
     "output_type": "stream",
     "text": [
      "[[0 0 0 1]\n",
      " [0 0 0 1]\n",
      " [0 0 0 1]\n",
      " [0 0 0 0]]\n",
      "              precision    recall  f1-score   support\n",
      "\n",
      "           0       0.00      0.00      0.00       1.0\n",
      "           1       0.00      0.00      0.00       1.0\n",
      "           4       0.00      0.00      0.00       1.0\n",
      "           6       0.00      0.00      0.00       0.0\n",
      "\n",
      "    accuracy                           0.00       3.0\n",
      "   macro avg       0.00      0.00      0.00       3.0\n",
      "weighted avg       0.00      0.00      0.00       3.0\n",
      "\n"
     ]
    },
    {
     "name": "stderr",
     "output_type": "stream",
     "text": [
      "/home/arjun/miniconda3/envs/ml/lib/python3.11/site-packages/sklearn/metrics/_classification.py:1471: UndefinedMetricWarning: Precision and F-score are ill-defined and being set to 0.0 in labels with no predicted samples. Use `zero_division` parameter to control this behavior.\n",
      "  _warn_prf(average, modifier, msg_start, len(result))\n",
      "/home/arjun/miniconda3/envs/ml/lib/python3.11/site-packages/sklearn/metrics/_classification.py:1471: UndefinedMetricWarning: Recall and F-score are ill-defined and being set to 0.0 in labels with no true samples. Use `zero_division` parameter to control this behavior.\n",
      "  _warn_prf(average, modifier, msg_start, len(result))\n",
      "/home/arjun/miniconda3/envs/ml/lib/python3.11/site-packages/sklearn/metrics/_classification.py:1471: UndefinedMetricWarning: Precision and F-score are ill-defined and being set to 0.0 in labels with no predicted samples. Use `zero_division` parameter to control this behavior.\n",
      "  _warn_prf(average, modifier, msg_start, len(result))\n",
      "/home/arjun/miniconda3/envs/ml/lib/python3.11/site-packages/sklearn/metrics/_classification.py:1471: UndefinedMetricWarning: Recall and F-score are ill-defined and being set to 0.0 in labels with no true samples. Use `zero_division` parameter to control this behavior.\n",
      "  _warn_prf(average, modifier, msg_start, len(result))\n",
      "/home/arjun/miniconda3/envs/ml/lib/python3.11/site-packages/sklearn/metrics/_classification.py:1471: UndefinedMetricWarning: Precision and F-score are ill-defined and being set to 0.0 in labels with no predicted samples. Use `zero_division` parameter to control this behavior.\n",
      "  _warn_prf(average, modifier, msg_start, len(result))\n",
      "/home/arjun/miniconda3/envs/ml/lib/python3.11/site-packages/sklearn/metrics/_classification.py:1471: UndefinedMetricWarning: Recall and F-score are ill-defined and being set to 0.0 in labels with no true samples. Use `zero_division` parameter to control this behavior.\n",
      "  _warn_prf(average, modifier, msg_start, len(result))\n"
     ]
    }
   ],
   "source": [
    "print(confusion_matrix([1,4,0], y_pred))\n",
    "print(classification_report([1,4,0], y_pred))"
   ]
  },
  {
   "cell_type": "code",
   "execution_count": null,
   "id": "3d4783a9-fc85-4445-8944-84d5a1db75c0",
   "metadata": {},
   "outputs": [],
   "source": []
  }
 ],
 "metadata": {
  "kernelspec": {
   "display_name": "Python 3 (ipykernel)",
   "language": "python",
   "name": "python3"
  },
  "language_info": {
   "codemirror_mode": {
    "name": "ipython",
    "version": 3
   },
   "file_extension": ".py",
   "mimetype": "text/x-python",
   "name": "python",
   "nbconvert_exporter": "python",
   "pygments_lexer": "ipython3",
   "version": "3.11.4"
  }
 },
 "nbformat": 4,
 "nbformat_minor": 5
}
