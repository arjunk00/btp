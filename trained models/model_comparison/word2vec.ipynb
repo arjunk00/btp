{
 "cells": [
  {
   "cell_type": "code",
   "execution_count": 1,
   "id": "e3d64809-a6e7-4b68-8f57-5b25b594ebf9",
   "metadata": {},
   "outputs": [
    {
     "name": "stderr",
     "output_type": "stream",
     "text": [
      "2024-03-11 15:49:11.778778: I external/local_tsl/tsl/cuda/cudart_stub.cc:31] Could not find cuda drivers on your machine, GPU will not be used.\n",
      "2024-03-11 15:49:11.808103: E external/local_xla/xla/stream_executor/cuda/cuda_dnn.cc:9261] Unable to register cuDNN factory: Attempting to register factory for plugin cuDNN when one has already been registered\n",
      "2024-03-11 15:49:11.808130: E external/local_xla/xla/stream_executor/cuda/cuda_fft.cc:607] Unable to register cuFFT factory: Attempting to register factory for plugin cuFFT when one has already been registered\n",
      "2024-03-11 15:49:11.808863: E external/local_xla/xla/stream_executor/cuda/cuda_blas.cc:1515] Unable to register cuBLAS factory: Attempting to register factory for plugin cuBLAS when one has already been registered\n",
      "2024-03-11 15:49:11.813821: I tensorflow/core/platform/cpu_feature_guard.cc:182] This TensorFlow binary is optimized to use available CPU instructions in performance-critical operations.\n",
      "To enable the following instructions: AVX2 FMA, in other operations, rebuild TensorFlow with the appropriate compiler flags.\n",
      "2024-03-11 15:49:12.558858: W tensorflow/compiler/tf2tensorrt/utils/py_utils.cc:38] TF-TRT Warning: Could not find TensorRT\n"
     ]
    }
   ],
   "source": [
    "import gensim\n",
    "from gensim.models import word2vec\n",
    "from gensim.models.word2vec import Word2Vec\n",
    "import numpy as np\n",
    "import pandas as pd\n",
    "import matplotlib.pyplot as plt\n",
    "import spacy\n",
    "import string\n",
    "import gensim.downloader as api\n",
    "from sklearn.preprocessing import LabelEncoder\n",
    "from keras.models import Sequential\n",
    "from keras.layers import Dense, Embedding, LSTM\n",
    "from sklearn.model_selection import train_test_split\n",
    "from keras.models import Sequential\n",
    "from keras.layers import Dense, Embedding, LSTM\n",
    "from tensorflow import keras\n",
    "from sklearn.metrics import classification_report, confusion_matrix\n",
    "import tensorflow as tf"
   ]
  },
  {
   "cell_type": "code",
   "execution_count": 2,
   "id": "6c1de96e-f3b7-4b92-8d7c-19d61e131456",
   "metadata": {},
   "outputs": [
    {
     "data": {
      "text/html": [
       "<div>\n",
       "<style scoped>\n",
       "    .dataframe tbody tr th:only-of-type {\n",
       "        vertical-align: middle;\n",
       "    }\n",
       "\n",
       "    .dataframe tbody tr th {\n",
       "        vertical-align: top;\n",
       "    }\n",
       "\n",
       "    .dataframe thead th {\n",
       "        text-align: right;\n",
       "    }\n",
       "</style>\n",
       "<table border=\"1\" class=\"dataframe\">\n",
       "  <thead>\n",
       "    <tr style=\"text-align: right;\">\n",
       "      <th></th>\n",
       "      <th>speech</th>\n",
       "      <th>emotion</th>\n",
       "    </tr>\n",
       "  </thead>\n",
       "  <tbody>\n",
       "    <tr>\n",
       "      <th>0</th>\n",
       "      <td>From the moment that the French defenses at Se...</td>\n",
       "      <td>trust</td>\n",
       "    </tr>\n",
       "    <tr>\n",
       "      <th>1</th>\n",
       "      <td>Five score years ago, a great American, in who...</td>\n",
       "      <td>anticipation</td>\n",
       "    </tr>\n",
       "    <tr>\n",
       "      <th>2</th>\n",
       "      <td>The media will not show the magnitude of this ...</td>\n",
       "      <td>anger</td>\n",
       "    </tr>\n",
       "    <tr>\n",
       "      <th>3</th>\n",
       "      <td>Madam Vice President, my fellow Americans: to ...</td>\n",
       "      <td>disgust</td>\n",
       "    </tr>\n",
       "    <tr>\n",
       "      <th>4</th>\n",
       "      <td>My German countrymen, men and women, (long pau...</td>\n",
       "      <td>anger</td>\n",
       "    </tr>\n",
       "    <tr>\n",
       "      <th>5</th>\n",
       "      <td>We observe today not a victory of party but a ...</td>\n",
       "      <td>joy</td>\n",
       "    </tr>\n",
       "    <tr>\n",
       "      <th>6</th>\n",
       "      <td>Your Majesties, Your Highnesses, Distinguished...</td>\n",
       "      <td>trust</td>\n",
       "    </tr>\n",
       "    <tr>\n",
       "      <th>7</th>\n",
       "      <td>I am honored to be with you today at your comm...</td>\n",
       "      <td>anticipation</td>\n",
       "    </tr>\n",
       "    <tr>\n",
       "      <th>8</th>\n",
       "      <td>Honorable UN Secretary General Mr Ban Ki-moon,...</td>\n",
       "      <td>sadness</td>\n",
       "    </tr>\n",
       "    <tr>\n",
       "      <th>9</th>\n",
       "      <td>It is with a profound sense of humility that I...</td>\n",
       "      <td>sadness</td>\n",
       "    </tr>\n",
       "    <tr>\n",
       "      <th>10</th>\n",
       "      <td>My message is that we'll be watching you.\\r\\n\\...</td>\n",
       "      <td>fear</td>\n",
       "    </tr>\n",
       "    <tr>\n",
       "      <th>11</th>\n",
       "      <td>Hello everybody. You know, Michelle and I have...</td>\n",
       "      <td>joy</td>\n",
       "    </tr>\n",
       "    <tr>\n",
       "      <th>12</th>\n",
       "      <td>Your Majesties, Your Royal Highness, Excellenc...</td>\n",
       "      <td>anticipation</td>\n",
       "    </tr>\n",
       "    <tr>\n",
       "      <th>13</th>\n",
       "      <td>Five score years ago, a great American, in who...</td>\n",
       "      <td>trust</td>\n",
       "    </tr>\n",
       "  </tbody>\n",
       "</table>\n",
       "</div>"
      ],
      "text/plain": [
       "                                               speech       emotion\n",
       "0   From the moment that the French defenses at Se...         trust\n",
       "1   Five score years ago, a great American, in who...  anticipation\n",
       "2   The media will not show the magnitude of this ...         anger\n",
       "3   Madam Vice President, my fellow Americans: to ...       disgust\n",
       "4   My German countrymen, men and women, (long pau...         anger\n",
       "5   We observe today not a victory of party but a ...           joy\n",
       "6   Your Majesties, Your Highnesses, Distinguished...         trust\n",
       "7   I am honored to be with you today at your comm...  anticipation\n",
       "8   Honorable UN Secretary General Mr Ban Ki-moon,...       sadness\n",
       "9   It is with a profound sense of humility that I...       sadness\n",
       "10  My message is that we'll be watching you.\\r\\n\\...          fear\n",
       "11  Hello everybody. You know, Michelle and I have...           joy\n",
       "12  Your Majesties, Your Royal Highness, Excellenc...  anticipation\n",
       "13  Five score years ago, a great American, in who...         trust"
      ]
     },
     "execution_count": 2,
     "metadata": {},
     "output_type": "execute_result"
    }
   ],
   "source": [
    "df=pd.read_csv('one_output_dataset_new.csv')\n",
    "df"
   ]
  },
  {
   "cell_type": "code",
   "execution_count": 3,
   "id": "e525317c-98bd-47d7-a46c-74417c6048b9",
   "metadata": {},
   "outputs": [
    {
     "name": "stdout",
     "output_type": "stream",
     "text": [
      "['fasttext-wiki-news-subwords-300', 'conceptnet-numberbatch-17-06-300', 'word2vec-ruscorpora-300', 'word2vec-google-news-300', 'glove-wiki-gigaword-50', 'glove-wiki-gigaword-100', 'glove-wiki-gigaword-200', 'glove-wiki-gigaword-300', 'glove-twitter-25', 'glove-twitter-50', 'glove-twitter-100', 'glove-twitter-200', '__testing_word2vec-matrix-synopsis']\n"
     ]
    }
   ],
   "source": [
    "print(list(api.info()['models'].keys()))"
   ]
  },
  {
   "cell_type": "code",
   "execution_count": 4,
   "id": "95a024d0-b6f1-422e-94ef-96ae209e18bd",
   "metadata": {},
   "outputs": [],
   "source": [
    "wv=api.load('word2vec-google-news-300')"
   ]
  },
  {
   "cell_type": "code",
   "execution_count": 5,
   "id": "52d584db-9b49-4da3-a3d9-228bef59a916",
   "metadata": {},
   "outputs": [],
   "source": [
    "# wv.save('vectors.kv')"
   ]
  },
  {
   "cell_type": "code",
   "execution_count": 6,
   "id": "ac10e015-04f1-4e81-8fe7-2eead10cb4e2",
   "metadata": {},
   "outputs": [],
   "source": [
    "def sentence_vec(sentence):\n",
    "    vector_size=wv.vector_size\n",
    "    wv_res=np.zeros(vector_size)\n",
    "    ctr=1\n",
    "    for w in sentence:\n",
    "        if w in wv:\n",
    "            ctr+=1\n",
    "            wv_res+=wv[w]\n",
    "        wv_res=wv_res/ctr\n",
    "        return wv_res"
   ]
  },
  {
   "cell_type": "code",
   "execution_count": 7,
   "id": "389503b6-7742-4bb8-9669-3020ebeabd84",
   "metadata": {},
   "outputs": [],
   "source": [
    "def spacy_tokenizer(sentence):\n",
    "    #creating token object, which is used to create documents with linguistic annotations\n",
    "    doc=nlp(sentence)\n",
    "    #lemmatizing each token and lowercase conversion\n",
    "    mytokens=[word.lemma_.lower().strip() for word in doc]\n",
    "    # removing stop words\n",
    "    mytokens=[word for word in mytokens if word not in stop_words and word not in punctuations]\n",
    "    return mytokens"
   ]
  },
  {
   "cell_type": "code",
   "execution_count": 8,
   "id": "edf1006c-ec42-46f6-90e5-02d71244720e",
   "metadata": {},
   "outputs": [],
   "source": [
    "nlp=spacy.load(\"en_core_web_sm\")\n",
    "stop_words=nlp.Defaults.stop_words\n",
    "punctuations=string.punctuation"
   ]
  },
  {
   "cell_type": "code",
   "execution_count": 9,
   "id": "49af4d69-4d88-488a-ada8-062033810a9b",
   "metadata": {},
   "outputs": [],
   "source": [
    "df['tokens']=df['speech'].apply(spacy_tokenizer)"
   ]
  },
  {
   "cell_type": "code",
   "execution_count": 10,
   "id": "0f45b54d-17cd-411f-9936-a92fe6bdba09",
   "metadata": {},
   "outputs": [],
   "source": [
    "df['vec']=df['tokens'].apply(sentence_vec)"
   ]
  },
  {
   "cell_type": "code",
   "execution_count": 11,
   "id": "88cfdd01-821c-4eb9-b5aa-ba8ea9e401c3",
   "metadata": {},
   "outputs": [
    {
     "data": {
      "text/html": [
       "<div>\n",
       "<style scoped>\n",
       "    .dataframe tbody tr th:only-of-type {\n",
       "        vertical-align: middle;\n",
       "    }\n",
       "\n",
       "    .dataframe tbody tr th {\n",
       "        vertical-align: top;\n",
       "    }\n",
       "\n",
       "    .dataframe thead th {\n",
       "        text-align: right;\n",
       "    }\n",
       "</style>\n",
       "<table border=\"1\" class=\"dataframe\">\n",
       "  <thead>\n",
       "    <tr style=\"text-align: right;\">\n",
       "      <th></th>\n",
       "      <th>speech</th>\n",
       "      <th>emotion</th>\n",
       "      <th>tokens</th>\n",
       "      <th>vec</th>\n",
       "    </tr>\n",
       "  </thead>\n",
       "  <tbody>\n",
       "    <tr>\n",
       "      <th>0</th>\n",
       "      <td>From the moment that the French defenses at Se...</td>\n",
       "      <td>trust</td>\n",
       "      <td>[moment, french, defense, sedan, meuse, break,...</td>\n",
       "      <td>[0.08154296875, 0.0135498046875, 0.072265625, ...</td>\n",
       "    </tr>\n",
       "    <tr>\n",
       "      <th>1</th>\n",
       "      <td>Five score years ago, a great American, in who...</td>\n",
       "      <td>anticipation</td>\n",
       "      <td>[score, year, ago, great, american, symbolic, ...</td>\n",
       "      <td>[-0.006866455078125, -0.037109375, 0.008666992...</td>\n",
       "    </tr>\n",
       "    <tr>\n",
       "      <th>2</th>\n",
       "      <td>The media will not show the magnitude of this ...</td>\n",
       "      <td>anger</td>\n",
       "      <td>[medium, magnitude, crowd, turn, today, look, ...</td>\n",
       "      <td>[0.01373291015625, 0.0498046875, -0.0698242187...</td>\n",
       "    </tr>\n",
       "    <tr>\n",
       "      <th>3</th>\n",
       "      <td>Madam Vice President, my fellow Americans: to ...</td>\n",
       "      <td>disgust</td>\n",
       "      <td>[madam, vice, president, fellow, americans, st...</td>\n",
       "      <td>[-0.0002727508544921875, -0.04736328125, -0.01...</td>\n",
       "    </tr>\n",
       "    <tr>\n",
       "      <th>4</th>\n",
       "      <td>My German countrymen, men and women, (long pau...</td>\n",
       "      <td>anger</td>\n",
       "      <td>[german, countryman, man, woman, long, pause, ...</td>\n",
       "      <td>[0.033203125, 0.1474609375, -0.0233154296875, ...</td>\n",
       "    </tr>\n",
       "    <tr>\n",
       "      <th>5</th>\n",
       "      <td>We observe today not a victory of party but a ...</td>\n",
       "      <td>joy</td>\n",
       "      <td>[observe, today, victory, party, celebration, ...</td>\n",
       "      <td>[-0.05517578125, -0.0069580078125, 0.056884765...</td>\n",
       "    </tr>\n",
       "    <tr>\n",
       "      <th>6</th>\n",
       "      <td>Your Majesties, Your Highnesses, Distinguished...</td>\n",
       "      <td>trust</td>\n",
       "      <td>[majesties, highnesses, distinguished, guests,...</td>\n",
       "      <td>[-0.045166015625, 0.05517578125, 0.02416992187...</td>\n",
       "    </tr>\n",
       "    <tr>\n",
       "      <th>7</th>\n",
       "      <td>I am honored to be with you today at your comm...</td>\n",
       "      <td>anticipation</td>\n",
       "      <td>[honor, today, commencement, fine, university,...</td>\n",
       "      <td>[-0.0208740234375, 0.0228271484375, 0.1328125,...</td>\n",
       "    </tr>\n",
       "    <tr>\n",
       "      <th>8</th>\n",
       "      <td>Honorable UN Secretary General Mr Ban Ki-moon,...</td>\n",
       "      <td>sadness</td>\n",
       "      <td>[honorable, un, secretary, general, mr, ban, k...</td>\n",
       "      <td>[0.02392578125, 0.061767578125, 0.012878417968...</td>\n",
       "    </tr>\n",
       "    <tr>\n",
       "      <th>9</th>\n",
       "      <td>It is with a profound sense of humility that I...</td>\n",
       "      <td>sadness</td>\n",
       "      <td>[profound, sense, humility, accept, honor, cho...</td>\n",
       "      <td>[0.11181640625, -0.0277099609375, 0.0140991210...</td>\n",
       "    </tr>\n",
       "    <tr>\n",
       "      <th>10</th>\n",
       "      <td>My message is that we'll be watching you.\\r\\n\\...</td>\n",
       "      <td>fear</td>\n",
       "      <td>[message, watch, wrong, school, ocean, come, y...</td>\n",
       "      <td>[0.058837890625, 0.04541015625, 0.009887695312...</td>\n",
       "    </tr>\n",
       "    <tr>\n",
       "      <th>11</th>\n",
       "      <td>Hello everybody. You know, Michelle and I have...</td>\n",
       "      <td>joy</td>\n",
       "      <td>[hello, everybody, know, michelle, milk, goodb...</td>\n",
       "      <td>[-0.027099609375, 0.008544921875, -0.002639770...</td>\n",
       "    </tr>\n",
       "    <tr>\n",
       "      <th>12</th>\n",
       "      <td>Your Majesties, Your Royal Highness, Excellenc...</td>\n",
       "      <td>anticipation</td>\n",
       "      <td>[majesties, royal, highness, excellencies, dis...</td>\n",
       "      <td>[-0.045166015625, 0.05517578125, 0.02416992187...</td>\n",
       "    </tr>\n",
       "    <tr>\n",
       "      <th>13</th>\n",
       "      <td>Five score years ago, a great American, in who...</td>\n",
       "      <td>trust</td>\n",
       "      <td>[score, year, ago, great, american, symbolic, ...</td>\n",
       "      <td>[-0.006866455078125, -0.037109375, 0.008666992...</td>\n",
       "    </tr>\n",
       "  </tbody>\n",
       "</table>\n",
       "</div>"
      ],
      "text/plain": [
       "                                               speech       emotion  \\\n",
       "0   From the moment that the French defenses at Se...         trust   \n",
       "1   Five score years ago, a great American, in who...  anticipation   \n",
       "2   The media will not show the magnitude of this ...         anger   \n",
       "3   Madam Vice President, my fellow Americans: to ...       disgust   \n",
       "4   My German countrymen, men and women, (long pau...         anger   \n",
       "5   We observe today not a victory of party but a ...           joy   \n",
       "6   Your Majesties, Your Highnesses, Distinguished...         trust   \n",
       "7   I am honored to be with you today at your comm...  anticipation   \n",
       "8   Honorable UN Secretary General Mr Ban Ki-moon,...       sadness   \n",
       "9   It is with a profound sense of humility that I...       sadness   \n",
       "10  My message is that we'll be watching you.\\r\\n\\...          fear   \n",
       "11  Hello everybody. You know, Michelle and I have...           joy   \n",
       "12  Your Majesties, Your Royal Highness, Excellenc...  anticipation   \n",
       "13  Five score years ago, a great American, in who...         trust   \n",
       "\n",
       "                                               tokens  \\\n",
       "0   [moment, french, defense, sedan, meuse, break,...   \n",
       "1   [score, year, ago, great, american, symbolic, ...   \n",
       "2   [medium, magnitude, crowd, turn, today, look, ...   \n",
       "3   [madam, vice, president, fellow, americans, st...   \n",
       "4   [german, countryman, man, woman, long, pause, ...   \n",
       "5   [observe, today, victory, party, celebration, ...   \n",
       "6   [majesties, highnesses, distinguished, guests,...   \n",
       "7   [honor, today, commencement, fine, university,...   \n",
       "8   [honorable, un, secretary, general, mr, ban, k...   \n",
       "9   [profound, sense, humility, accept, honor, cho...   \n",
       "10  [message, watch, wrong, school, ocean, come, y...   \n",
       "11  [hello, everybody, know, michelle, milk, goodb...   \n",
       "12  [majesties, royal, highness, excellencies, dis...   \n",
       "13  [score, year, ago, great, american, symbolic, ...   \n",
       "\n",
       "                                                  vec  \n",
       "0   [0.08154296875, 0.0135498046875, 0.072265625, ...  \n",
       "1   [-0.006866455078125, -0.037109375, 0.008666992...  \n",
       "2   [0.01373291015625, 0.0498046875, -0.0698242187...  \n",
       "3   [-0.0002727508544921875, -0.04736328125, -0.01...  \n",
       "4   [0.033203125, 0.1474609375, -0.0233154296875, ...  \n",
       "5   [-0.05517578125, -0.0069580078125, 0.056884765...  \n",
       "6   [-0.045166015625, 0.05517578125, 0.02416992187...  \n",
       "7   [-0.0208740234375, 0.0228271484375, 0.1328125,...  \n",
       "8   [0.02392578125, 0.061767578125, 0.012878417968...  \n",
       "9   [0.11181640625, -0.0277099609375, 0.0140991210...  \n",
       "10  [0.058837890625, 0.04541015625, 0.009887695312...  \n",
       "11  [-0.027099609375, 0.008544921875, -0.002639770...  \n",
       "12  [-0.045166015625, 0.05517578125, 0.02416992187...  \n",
       "13  [-0.006866455078125, -0.037109375, 0.008666992...  "
      ]
     },
     "execution_count": 11,
     "metadata": {},
     "output_type": "execute_result"
    }
   ],
   "source": [
    "df"
   ]
  },
  {
   "cell_type": "code",
   "execution_count": 12,
   "id": "32f27870-b9e6-4108-950d-cf61b1fe871f",
   "metadata": {},
   "outputs": [
    {
     "data": {
      "text/plain": [
       "300"
      ]
     },
     "execution_count": 12,
     "metadata": {},
     "output_type": "execute_result"
    }
   ],
   "source": [
    "len(df['vec'][2])"
   ]
  },
  {
   "cell_type": "code",
   "execution_count": 13,
   "id": "7a2ecc31-7a21-489f-b2d6-34460cda58d0",
   "metadata": {},
   "outputs": [],
   "source": [
    "speech_vectors=df['vec'].values\n",
    "labels=df['emotion'].values"
   ]
  },
  {
   "cell_type": "code",
   "execution_count": 14,
   "id": "46e7ac1a-eecc-4dd5-a790-110bb44c0b13",
   "metadata": {},
   "outputs": [
    {
     "data": {
      "text/plain": [
       "array(['trust', 'anticipation', 'anger', 'disgust', 'anger', 'joy',\n",
       "       'trust', 'anticipation', 'sadness', 'sadness', 'fear', 'joy',\n",
       "       'anticipation', 'trust'], dtype=object)"
      ]
     },
     "execution_count": 14,
     "metadata": {},
     "output_type": "execute_result"
    }
   ],
   "source": [
    "labels"
   ]
  },
  {
   "cell_type": "code",
   "execution_count": 15,
   "id": "65cb8cb2-f739-458b-8055-a5b98806b1e5",
   "metadata": {},
   "outputs": [],
   "source": [
    "encoder = LabelEncoder()\n",
    "labels = encoder.fit_transform(labels)"
   ]
  },
  {
   "cell_type": "code",
   "execution_count": 16,
   "id": "2ec3f007-3dc1-4c35-af6a-fb774c620fa2",
   "metadata": {},
   "outputs": [
    {
     "data": {
      "text/plain": [
       "array([6, 1, 0, 2, 0, 4, 6, 1, 5, 5, 3, 4, 1, 6])"
      ]
     },
     "execution_count": 16,
     "metadata": {},
     "output_type": "execute_result"
    }
   ],
   "source": [
    "labels"
   ]
  },
  {
   "cell_type": "code",
   "execution_count": 17,
   "id": "cb38c161-212a-4a71-9c2d-924863540525",
   "metadata": {},
   "outputs": [
    {
     "data": {
      "text/plain": [
       "14"
      ]
     },
     "execution_count": 17,
     "metadata": {},
     "output_type": "execute_result"
    }
   ],
   "source": [
    "speech_vectors.shape[0]"
   ]
  },
  {
   "cell_type": "code",
   "execution_count": 18,
   "id": "e11f307f-6a0d-4ac9-9bab-f99e417e4582",
   "metadata": {},
   "outputs": [],
   "source": [
    "\n",
    "X_train,X_test,y_train,y_test = train_test_split(speech_vectors,labels,test_size=0.2,random_state=7)"
   ]
  },
  {
   "cell_type": "code",
   "execution_count": 19,
   "id": "972050b7-c0d5-419c-ac1b-7deb45769bb7",
   "metadata": {},
   "outputs": [],
   "source": [
    "Y_test=y_test"
   ]
  },
  {
   "cell_type": "code",
   "execution_count": 20,
   "id": "f7588427-893e-459b-b925-cda32b2db93f",
   "metadata": {},
   "outputs": [],
   "source": [
    "y_train = np.asarray(y_train).astype('float32').reshape((-1,1))\n",
    "y_test = np.asarray(y_test).astype('float32').reshape((-1,1))"
   ]
  },
  {
   "cell_type": "code",
   "execution_count": 21,
   "id": "8c99e4da-d9af-46fc-9e7d-c984e5533cc5",
   "metadata": {},
   "outputs": [],
   "source": [
    "X_train=X_train.tolist()\n",
    "X_test=X_test.tolist()\n",
    "y_train=y_train.tolist()\n",
    "y_test=y_test.tolist()"
   ]
  },
  {
   "cell_type": "code",
   "execution_count": 22,
   "id": "5186c183-4dcb-42f1-9efc-1ca5f50a9a52",
   "metadata": {},
   "outputs": [
    {
     "name": "stderr",
     "output_type": "stream",
     "text": [
      "2024-03-11 15:49:53.419873: I external/local_xla/xla/stream_executor/cuda/cuda_executor.cc:901] successful NUMA node read from SysFS had negative value (-1), but there must be at least one NUMA node, so returning NUMA node zero. See more at https://github.com/torvalds/linux/blob/v6.0/Documentation/ABI/testing/sysfs-bus-pci#L344-L355\n",
      "2024-03-11 15:49:53.421559: W tensorflow/core/common_runtime/gpu/gpu_device.cc:2256] Cannot dlopen some GPU libraries. Please make sure the missing libraries mentioned above are installed properly if you would like to use GPU. Follow the guide at https://www.tensorflow.org/install/gpu for how to download and setup the required libraries for your platform.\n",
      "Skipping registering GPU devices...\n"
     ]
    }
   ],
   "source": [
    "\n",
    "X_train=tf.convert_to_tensor(X_train)\n",
    "X_test=tf.convert_to_tensor(X_test)\n",
    "y_train=tf.convert_to_tensor(y_train)\n",
    "y_test=tf.convert_to_tensor(y_test)"
   ]
  },
  {
   "cell_type": "code",
   "execution_count": 23,
   "id": "218b7962-669f-4350-be9c-18f3e5954d54",
   "metadata": {},
   "outputs": [
    {
     "data": {
      "text/plain": [
       "<tf.Tensor: shape=(11, 1), dtype=float32, numpy=\n",
       "array([[4.],\n",
       "       [6.],\n",
       "       [1.],\n",
       "       [6.],\n",
       "       [5.],\n",
       "       [1.],\n",
       "       [3.],\n",
       "       [2.],\n",
       "       [6.],\n",
       "       [5.],\n",
       "       [0.]], dtype=float32)>"
      ]
     },
     "execution_count": 23,
     "metadata": {},
     "output_type": "execute_result"
    }
   ],
   "source": [
    "y_train"
   ]
  },
  {
   "cell_type": "code",
   "execution_count": 24,
   "id": "7ad769b9-7e7f-4f15-9417-559dafdbdebb",
   "metadata": {},
   "outputs": [],
   "source": [
    "train_dataset = tf.data.Dataset.from_tensor_slices((X_train, y_train))\n",
    "train_dataset = train_dataset.shuffle(10000).batch(2)"
   ]
  },
  {
   "cell_type": "code",
   "execution_count": 25,
   "id": "37f2a59e-2a3b-4894-a645-8854a432e986",
   "metadata": {},
   "outputs": [],
   "source": [
    "test_dataset = tf.data.Dataset.from_tensor_slices((X_test, y_test))\n",
    "test_dataset = test_dataset.shuffle(10000).batch(2)"
   ]
  },
  {
   "cell_type": "code",
   "execution_count": 26,
   "id": "b90ed537-5cf8-435e-b895-daa1f7a84a59",
   "metadata": {},
   "outputs": [
    {
     "data": {
      "text/plain": [
       "<tf.Tensor: shape=(3, 1), dtype=float32, numpy=\n",
       "array([[1.],\n",
       "       [4.],\n",
       "       [0.]], dtype=float32)>"
      ]
     },
     "execution_count": 26,
     "metadata": {},
     "output_type": "execute_result"
    }
   ],
   "source": [
    "y_test"
   ]
  },
  {
   "cell_type": "code",
   "execution_count": null,
   "id": "d119b6fd-7ed7-434c-a5df-dacd4d55262d",
   "metadata": {},
   "outputs": [],
   "source": []
  },
  {
   "cell_type": "code",
   "execution_count": 27,
   "id": "5c913e30-3e66-4319-96e3-77b2c7bf61af",
   "metadata": {},
   "outputs": [],
   "source": [
    "opt = keras.optimizers.Adam(learning_rate=0.00001)"
   ]
  },
  {
   "cell_type": "code",
   "execution_count": 28,
   "id": "7e07fc66-44b1-47a4-90b1-fcd440b3ca27",
   "metadata": {},
   "outputs": [],
   "source": [
    "model = Sequential()\n",
    "model.add(Embedding(input_dim=speech_vectors.shape[0], output_dim=300, trainable=False))\n",
    "model.add(LSTM(units=300))\n",
    "model.add(Dense(units=7, activation='sigmoid'))\n",
    "model.compile(optimizer=opt, loss=keras.losses.sparse_categorical_crossentropy, metrics=['accuracy'])"
   ]
  },
  {
   "cell_type": "code",
   "execution_count": 29,
   "id": "b6304354-c432-4d06-82d0-c671af67f320",
   "metadata": {},
   "outputs": [
    {
     "name": "stdout",
     "output_type": "stream",
     "text": [
      "Epoch 1/10\n",
      "6/6 [==============================] - 4s 401ms/step - loss: 1.9459 - accuracy: 0.1818 - val_loss: 1.9419 - val_accuracy: 0.0000e+00\n",
      "Epoch 2/10\n",
      "6/6 [==============================] - 2s 311ms/step - loss: 1.9448 - accuracy: 0.2727 - val_loss: 1.9431 - val_accuracy: 0.0000e+00\n",
      "Epoch 3/10\n",
      "6/6 [==============================] - 2s 309ms/step - loss: 1.9431 - accuracy: 0.2727 - val_loss: 1.9442 - val_accuracy: 0.0000e+00\n",
      "Epoch 4/10\n",
      "6/6 [==============================] - 2s 336ms/step - loss: 1.9423 - accuracy: 0.2727 - val_loss: 1.9448 - val_accuracy: 0.0000e+00\n",
      "Epoch 5/10\n",
      "6/6 [==============================] - 2s 313ms/step - loss: 1.9414 - accuracy: 0.2727 - val_loss: 1.9455 - val_accuracy: 0.0000e+00\n",
      "Epoch 6/10\n",
      "6/6 [==============================] - 2s 333ms/step - loss: 1.9404 - accuracy: 0.2727 - val_loss: 1.9457 - val_accuracy: 0.0000e+00\n",
      "Epoch 7/10\n",
      "6/6 [==============================] - 2s 313ms/step - loss: 1.9396 - accuracy: 0.2727 - val_loss: 1.9464 - val_accuracy: 0.0000e+00\n",
      "Epoch 8/10\n",
      "6/6 [==============================] - 2s 313ms/step - loss: 1.9387 - accuracy: 0.2727 - val_loss: 1.9471 - val_accuracy: 0.0000e+00\n",
      "Epoch 9/10\n",
      "6/6 [==============================] - 2s 338ms/step - loss: 1.9378 - accuracy: 0.2727 - val_loss: 1.9478 - val_accuracy: 0.0000e+00\n",
      "Epoch 10/10\n",
      "6/6 [==============================] - 2s 314ms/step - loss: 1.9371 - accuracy: 0.2727 - val_loss: 1.9491 - val_accuracy: 0.0000e+00\n"
     ]
    },
    {
     "data": {
      "text/plain": [
       "<keras.src.callbacks.History at 0x7176ce122650>"
      ]
     },
     "execution_count": 29,
     "metadata": {},
     "output_type": "execute_result"
    }
   ],
   "source": [
    "model.fit(train_dataset, validation_data=test_dataset, epochs=10, batch_size=2)"
   ]
  },
  {
   "cell_type": "code",
   "execution_count": 38,
   "id": "320c2243-5c28-474d-bf18-cd064bb3bdbf",
   "metadata": {},
   "outputs": [
    {
     "data": {
      "text/plain": [
       "<tf.Tensor: shape=(3, 300), dtype=float64, numpy=\n",
       "array([[-0.04516602,  0.05517578,  0.02416992,  0.07421875, -0.03417969,\n",
       "        -0.13476562,  0.00430298, -0.09863281,  0.0402832 ,  0.15917969,\n",
       "         0.08154297, -0.03979492, -0.02282715,  0.07958984, -0.00735474,\n",
       "        -0.03393555,  0.05908203,  0.01281738,  0.03393555,  0.06103516,\n",
       "         0.15136719, -0.00084686,  0.04272461, -0.01074219,  0.0559082 ,\n",
       "        -0.04296875, -0.03613281,  0.05175781, -0.02172852, -0.08642578,\n",
       "        -0.09472656, -0.09667969, -0.02075195,  0.15429688, -0.15722656,\n",
       "        -0.05688477,  0.1796875 , -0.07177734,  0.0480957 , -0.03222656,\n",
       "         0.03149414, -0.03271484,  0.0859375 ,  0.01519775,  0.20214844,\n",
       "        -0.03662109,  0.00976562,  0.04321289, -0.140625  , -0.06054688,\n",
       "        -0.17382812,  0.02929688,  0.11279297,  0.1171875 , -0.03369141,\n",
       "         0.06103516, -0.19824219, -0.04760742,  0.00946045, -0.06298828,\n",
       "         0.05883789,  0.01348877,  0.13085938, -0.05615234, -0.00878906,\n",
       "        -0.06030273, -0.08154297,  0.03491211, -0.03173828, -0.0456543 ,\n",
       "         0.08496094,  0.02453613, -0.00915527,  0.0378418 ,  0.00756836,\n",
       "        -0.09033203, -0.05712891, -0.03491211,  0.00121307,  0.07714844,\n",
       "        -0.08154297, -0.00083923, -0.02087402, -0.01757812,  0.01550293,\n",
       "         0.11132812, -0.00854492, -0.12695312,  0.04956055,  0.09960938,\n",
       "        -0.02685547, -0.08886719, -0.06591797,  0.08886719,  0.00610352,\n",
       "        -0.01672363,  0.03015137, -0.0703125 ,  0.16308594, -0.140625  ,\n",
       "         0.02893066, -0.03076172,  0.11279297, -0.02099609, -0.07666016,\n",
       "        -0.02258301, -0.03759766,  0.11328125,  0.09423828,  0.09570312,\n",
       "         0.00909424,  0.08398438,  0.13085938,  0.06201172,  0.09130859,\n",
       "        -0.08056641,  0.05371094, -0.05444336, -0.04199219,  0.00060654,\n",
       "         0.02563477, -0.00576782, -0.078125  , -0.06054688, -0.09228516,\n",
       "         0.10595703, -0.03442383, -0.06030273, -0.00141907, -0.00976562,\n",
       "        -0.14355469,  0.06787109, -0.06494141,  0.03173828, -0.00717163,\n",
       "         0.02905273, -0.13183594, -0.00157928,  0.09716797,  0.06640625,\n",
       "         0.05712891,  0.05249023, -0.14160156,  0.00146484,  0.1328125 ,\n",
       "         0.11914062, -0.02990723, -0.03100586, -0.05200195,  0.06933594,\n",
       "         0.03808594,  0.11572266, -0.0112915 , -0.01159668,  0.01611328,\n",
       "        -0.09130859, -0.06445312, -0.0123291 , -0.04052734, -0.10888672,\n",
       "        -0.08007812, -0.01141357,  0.06738281,  0.02880859, -0.03466797,\n",
       "        -0.12011719, -0.04248047,  0.03295898, -0.14453125,  0.04833984,\n",
       "        -0.04370117,  0.00939941,  0.09375   ,  0.04492188, -0.07666016,\n",
       "        -0.03173828, -0.04980469,  0.03051758, -0.03833008, -0.12792969,\n",
       "        -0.18457031,  0.00872803,  0.00946045, -0.08300781,  0.00165558,\n",
       "         0.00056839,  0.01879883, -0.09814453, -0.11083984,  0.11230469,\n",
       "        -0.00720215, -0.02038574,  0.0088501 ,  0.02001953,  0.08935547,\n",
       "         0.1171875 ,  0.03393555,  0.09667969, -0.04418945,  0.00964355,\n",
       "        -0.01831055,  0.01916504, -0.06884766, -0.08642578,  0.06689453,\n",
       "         0.02429199,  0.04443359,  0.07519531, -0.03491211,  0.08544922,\n",
       "        -0.05419922,  0.0480957 , -0.0145874 , -0.08056641, -0.03710938,\n",
       "         0.02319336, -0.03686523,  0.0625    , -0.0390625 ,  0.00378418,\n",
       "         0.04125977, -0.02514648,  0.01721191, -0.08349609, -0.0402832 ,\n",
       "        -0.08935547,  0.01867676, -0.03063965, -0.01385498,  0.05249023,\n",
       "        -0.03344727,  0.00262451, -0.07958984,  0.01794434,  0.12597656,\n",
       "        -0.02185059,  0.07910156,  0.05859375,  0.13378906, -0.04931641,\n",
       "         0.00891113, -0.04663086, -0.05810547, -0.01043701,  0.01599121,\n",
       "        -0.05078125,  0.04833984, -0.05981445,  0.01806641,  0.01495361,\n",
       "         0.10498047,  0.05175781,  0.10302734,  0.01025391, -0.12402344,\n",
       "        -0.08544922, -0.13476562, -0.04223633, -0.0222168 , -0.04272461,\n",
       "         0.04589844,  0.05419922, -0.04370117, -0.00872803,  0.01147461,\n",
       "         0.00113678, -0.03466797,  0.01989746, -0.03369141,  0.0546875 ,\n",
       "        -0.05566406,  0.10986328,  0.09179688,  0.13085938,  0.11132812,\n",
       "        -0.09423828, -0.10351562,  0.06738281, -0.09082031,  0.09960938,\n",
       "         0.13964844, -0.10791016,  0.09765625, -0.06835938,  0.11328125,\n",
       "         0.10742188,  0.03588867,  0.02832031, -0.0534668 ,  0.06884766,\n",
       "        -0.02270508, -0.00970459, -0.00891113, -0.06396484, -0.04736328,\n",
       "         0.06640625, -0.05981445, -0.05541992,  0.02282715,  0.10839844],\n",
       "       [-0.02709961,  0.00854492, -0.00263977,  0.16601562, -0.125     ,\n",
       "        -0.00698853, -0.07519531, -0.1328125 ,  0.00823975,  0.19140625,\n",
       "        -0.01647949, -0.04858398, -0.08154297, -0.0222168 ,  0.00473022,\n",
       "         0.09228516,  0.01818848,  0.08300781,  0.18164062, -0.12792969,\n",
       "         0.1875    ,  0.0859375 ,  0.10693359, -0.09960938,  0.06542969,\n",
       "        -0.03637695, -0.01409912,  0.05810547,  0.07666016,  0.04541016,\n",
       "         0.03393555, -0.01501465, -0.08447266, -0.10400391, -0.01855469,\n",
       "        -0.11376953,  0.13183594,  0.006073  ,  0.09179688,  0.15527344,\n",
       "        -0.05395508, -0.09570312,  0.10791016,  0.06591797, -0.01757812,\n",
       "         0.09277344, -0.15429688,  0.02392578, -0.05493164,  0.07177734,\n",
       "        -0.21777344, -0.0189209 ,  0.05419922,  0.0703125 , -0.05297852,\n",
       "         0.13085938, -0.08544922,  0.19726562,  0.06298828, -0.13867188,\n",
       "        -0.140625  ,  0.07373047, -0.10498047,  0.01177979,  0.09228516,\n",
       "         0.00222778, -0.13964844, -0.01818848, -0.14648438,  0.09814453,\n",
       "         0.10351562,  0.14453125, -0.10253906,  0.03393555, -0.21582031,\n",
       "        -0.05493164, -0.12890625, -0.01165771,  0.05664062,  0.11572266,\n",
       "        -0.02209473,  0.05419922, -0.14453125, -0.04760742, -0.05175781,\n",
       "        -0.01623535,  0.03881836, -0.06689453,  0.11474609,  0.03149414,\n",
       "         0.04174805,  0.01464844, -0.05737305,  0.00267029, -0.06494141,\n",
       "         0.01257324,  0.04394531,  0.12255859, -0.05737305, -0.1484375 ,\n",
       "        -0.296875  , -0.14746094, -0.06689453,  0.13867188, -0.02087402,\n",
       "         0.05810547,  0.14160156,  0.00120544,  0.06933594, -0.00341797,\n",
       "        -0.15039062,  0.08105469,  0.00585938, -0.06933594,  0.24414062,\n",
       "         0.0144043 ,  0.01208496,  0.02368164,  0.02929688, -0.11914062,\n",
       "         0.01379395,  0.02990723, -0.01928711,  0.03466797,  0.07470703,\n",
       "        -0.05444336, -0.03662109,  0.04394531,  0.13574219,  0.03295898,\n",
       "        -0.18945312, -0.13085938, -0.06591797,  0.04785156, -0.15625   ,\n",
       "         0.05102539,  0.01531982,  0.11816406,  0.00291443,  0.13867188,\n",
       "         0.10253906, -0.08935547, -0.15722656, -0.00793457,  0.06982422,\n",
       "         0.06787109,  0.01953125, -0.14648438,  0.1171875 , -0.16992188,\n",
       "        -0.05908203,  0.05322266, -0.09228516, -0.01049805,  0.01281738,\n",
       "         0.12695312,  0.03637695,  0.06787109, -0.00069046, -0.12890625,\n",
       "        -0.14453125,  0.05053711,  0.09619141, -0.02441406,  0.13964844,\n",
       "        -0.16796875, -0.03686523,  0.00939941, -0.05493164, -0.02307129,\n",
       "         0.07861328,  0.03344727, -0.01708984,  0.08154297,  0.04321289,\n",
       "         0.22363281,  0.01013184, -0.0098877 ,  0.03979492,  0.08886719,\n",
       "        -0.02185059, -0.00476074,  0.08251953,  0.08642578,  0.11572266,\n",
       "        -0.0213623 ,  0.01177979,  0.09179688, -0.20800781, -0.00872803,\n",
       "         0.08398438,  0.02368164,  0.07128906,  0.04248047,  0.16992188,\n",
       "         0.07421875, -0.171875  , -0.07080078, -0.03417969, -0.07324219,\n",
       "        -0.01422119,  0.03710938, -0.03833008,  0.06347656,  0.02929688,\n",
       "        -0.0378418 , -0.01672363,  0.11816406, -0.08154297,  0.08251953,\n",
       "         0.07421875, -0.12109375, -0.17578125, -0.15332031,  0.00245667,\n",
       "         0.08837891,  0.23144531,  0.07128906, -0.125     , -0.12988281,\n",
       "         0.02185059,  0.17480469,  0.02978516,  0.03808594, -0.01434326,\n",
       "        -0.04833984, -0.00640869,  0.02929688, -0.11474609, -0.09765625,\n",
       "        -0.06103516,  0.10058594, -0.21191406,  0.0300293 ,  0.25195312,\n",
       "         0.10449219,  0.05615234, -0.03027344,  0.16601562,  0.03710938,\n",
       "        -0.02893066,  0.05541992, -0.0324707 ,  0.02819824,  0.00878906,\n",
       "         0.04199219,  0.06884766,  0.12890625,  0.08398438, -0.08447266,\n",
       "         0.00897217,  0.08007812,  0.13085938,  0.15820312, -0.12402344,\n",
       "         0.02685547, -0.04296875,  0.08544922, -0.19726562, -0.00078201,\n",
       "        -0.03662109, -0.02307129, -0.08105469, -0.07861328,  0.10644531,\n",
       "        -0.07910156,  0.02197266,  0.14257812,  0.00598145, -0.13476562,\n",
       "        -0.02185059,  0.18554688,  0.02331543, -0.09863281,  0.15234375,\n",
       "        -0.18261719, -0.11816406,  0.0402832 , -0.02124023, -0.07324219,\n",
       "        -0.03112793, -0.0267334 , -0.02832031,  0.09472656,  0.18554688,\n",
       "        -0.11035156,  0.02319336,  0.01306152, -0.05737305,  0.1328125 ,\n",
       "        -0.01226807,  0.05541992, -0.01257324, -0.06030273,  0.02648926,\n",
       "         0.03564453,  0.00031853, -0.18261719, -0.06884766, -0.06445312],\n",
       "       [ 0.01373291,  0.04980469, -0.06982422,  0.10986328,  0.01928711,\n",
       "        -0.09863281,  0.15917969, -0.0456543 ,  0.07275391,  0.03076172,\n",
       "        -0.05737305, -0.09326172,  0.06835938, -0.03588867, -0.0703125 ,\n",
       "        -0.00421143, -0.06396484,  0.13867188, -0.0859375 , -0.10253906,\n",
       "        -0.04223633, -0.09082031,  0.05566406, -0.02453613, -0.0030365 ,\n",
       "        -0.17871094, -0.03076172, -0.02514648,  0.01318359, -0.07080078,\n",
       "        -0.03417969, -0.09521484, -0.13183594, -0.07519531, -0.03173828,\n",
       "        -0.05029297,  0.0168457 , -0.0145874 ,  0.05419922, -0.01696777,\n",
       "        -0.046875  ,  0.22753906,  0.03063965,  0.10400391, -0.03369141,\n",
       "         0.00267029,  0.01556396, -0.07080078, -0.00674438,  0.04980469,\n",
       "        -0.03735352,  0.04736328, -0.07177734,  0.00750732,  0.00552368,\n",
       "        -0.01660156,  0.06396484,  0.03759766, -0.07080078, -0.13769531,\n",
       "         0.00769043,  0.08007812, -0.13867188, -0.0625    , -0.14160156,\n",
       "         0.12255859, -0.125     ,  0.01068115,  0.17480469,  0.08789062,\n",
       "        -0.16601562, -0.06591797,  0.01544189,  0.11523438, -0.04785156,\n",
       "         0.02978516, -0.13671875,  0.02746582,  0.00415039, -0.08642578,\n",
       "         0.12109375, -0.06982422,  0.02722168,  0.06298828,  0.12695312,\n",
       "         0.03686523, -0.125     ,  0.07763672,  0.21972656,  0.11914062,\n",
       "         0.00546265, -0.13671875, -0.05664062,  0.07128906, -0.02954102,\n",
       "        -0.06005859,  0.03881836, -0.0378418 ,  0.07373047, -0.00068283,\n",
       "        -0.01373291,  0.12304688, -0.12402344, -0.17871094, -0.05541992,\n",
       "        -0.078125  , -0.01635742,  0.04199219,  0.07861328, -0.05029297,\n",
       "        -0.11181641, -0.07324219, -0.10400391,  0.04882812,  0.1171875 ,\n",
       "         0.02746582, -0.07177734, -0.0390625 ,  0.01843262,  0.109375  ,\n",
       "         0.0009079 , -0.09863281, -0.04858398,  0.09228516, -0.0612793 ,\n",
       "         0.12109375,  0.01293945,  0.05908203, -0.02685547, -0.01483154,\n",
       "         0.07470703,  0.14746094,  0.03369141,  0.03076172, -0.12158203,\n",
       "         0.05810547,  0.06542969, -0.11083984,  0.19628906,  0.01965332,\n",
       "         0.10644531, -0.11376953,  0.01062012,  0.10253906, -0.04516602,\n",
       "        -0.16210938, -0.11474609, -0.08447266,  0.0065918 , -0.0534668 ,\n",
       "        -0.0300293 ,  0.02807617, -0.10839844, -0.00674438, -0.04272461,\n",
       "         0.01708984, -0.07080078, -0.05688477, -0.09960938, -0.02197266,\n",
       "        -0.0703125 ,  0.11816406, -0.04370117, -0.01043701,  0.12695312,\n",
       "         0.12988281, -0.05175781,  0.03857422,  0.07958984, -0.10498047,\n",
       "        -0.03857422, -0.0123291 ,  0.0390625 ,  0.02905273,  0.00588989,\n",
       "         0.0123291 ,  0.03759766, -0.125     , -0.06884766,  0.11474609,\n",
       "         0.00704956, -0.13769531, -0.06225586, -0.12207031, -0.0255127 ,\n",
       "        -0.22753906,  0.00101471, -0.04711914,  0.01464844,  0.08007812,\n",
       "        -0.01977539, -0.0065918 , -0.07958984, -0.11523438, -0.03930664,\n",
       "        -0.02099609, -0.04589844,  0.02331543,  0.05566406, -0.13378906,\n",
       "         0.13867188, -0.04589844,  0.02978516,  0.01818848, -0.01574707,\n",
       "        -0.08398438, -0.13085938,  0.04394531, -0.06201172, -0.07714844,\n",
       "         0.00378418, -0.04907227, -0.02856445, -0.06225586, -0.12011719,\n",
       "        -0.05175781,  0.09228516, -0.02880859, -0.15527344, -0.03027344,\n",
       "         0.04345703,  0.1484375 , -0.17285156, -0.02612305,  0.04174805,\n",
       "        -0.00674438,  0.02734375, -0.09667969, -0.06591797, -0.13964844,\n",
       "        -0.1328125 , -0.12695312,  0.04907227,  0.09033203, -0.0703125 ,\n",
       "         0.03149414, -0.01831055,  0.02111816, -0.01495361,  0.03344727,\n",
       "         0.0324707 ,  0.05151367,  0.03662109,  0.0009079 ,  0.09277344,\n",
       "        -0.17675781, -0.17480469,  0.11425781,  0.09375   ,  0.02661133,\n",
       "         0.12988281, -0.02233887, -0.0010376 ,  0.15136719,  0.06640625,\n",
       "         0.01928711, -0.12695312,  0.02819824,  0.07324219,  0.02111816,\n",
       "        -0.01306152,  0.04223633, -0.09960938,  0.03295898, -0.01647949,\n",
       "         0.0402832 , -0.05200195, -0.04296875, -0.04614258, -0.09082031,\n",
       "         0.03198242, -0.05517578, -0.04003906, -0.16699219,  0.02416992,\n",
       "        -0.02966309,  0.04272461, -0.02990723, -0.05834961,  0.06152344,\n",
       "         0.00665283,  0.09521484,  0.15527344, -0.05273438, -0.05810547,\n",
       "        -0.12792969, -0.04956055, -0.01239014, -0.13574219,  0.03857422,\n",
       "        -0.17382812,  0.01275635, -0.04345703, -0.11962891, -0.0135498 ,\n",
       "        -0.1328125 ,  0.00735474,  0.10449219, -0.07763672, -0.02478027]])>"
      ]
     },
     "execution_count": 38,
     "metadata": {},
     "output_type": "execute_result"
    }
   ],
   "source": [
    "X_test"
   ]
  },
  {
   "cell_type": "code",
   "execution_count": 39,
   "id": "40ba311a-a09a-4fbb-adf2-bb8cf1a804d3",
   "metadata": {},
   "outputs": [
    {
     "name": "stdout",
     "output_type": "stream",
     "text": [
      "1/1 [==============================] - 0s 37ms/step\n"
     ]
    }
   ],
   "source": [
    "y_pred = model.predict(X_test)\n",
    "# y_pred = np.argmax(y_pred,axis=1)"
   ]
  },
  {
   "cell_type": "code",
   "execution_count": 40,
   "id": "bb517f55-43c8-4093-beef-ae5758f5ec7c",
   "metadata": {},
   "outputs": [
    {
     "data": {
      "text/plain": [
       "array([[0.49449053, 0.51131207, 0.4892127 , 0.48533365, 0.493694  ,\n",
       "        0.5095649 , 0.5043288 ],\n",
       "       [0.49449053, 0.51131207, 0.4892127 , 0.48533365, 0.493694  ,\n",
       "        0.5095649 , 0.5043288 ],\n",
       "       [0.49449053, 0.51131207, 0.4892127 , 0.48533365, 0.493694  ,\n",
       "        0.5095649 , 0.5043288 ]], dtype=float32)"
      ]
     },
     "execution_count": 40,
     "metadata": {},
     "output_type": "execute_result"
    }
   ],
   "source": [
    "y_pred"
   ]
  },
  {
   "cell_type": "code",
   "execution_count": null,
   "id": "59d4b34e-1501-47e0-9724-182f2a8a14fd",
   "metadata": {},
   "outputs": [],
   "source": []
  },
  {
   "cell_type": "code",
   "execution_count": 32,
   "id": "e7e4c4dc-d99c-4484-9a70-92b1ed024891",
   "metadata": {},
   "outputs": [
    {
     "name": "stdout",
     "output_type": "stream",
     "text": [
      "[[0 0 0 1]\n",
      " [0 0 0 1]\n",
      " [0 0 0 1]\n",
      " [0 0 0 0]]\n",
      "              precision    recall  f1-score   support\n",
      "\n",
      "           0       0.00      0.00      0.00       1.0\n",
      "           1       0.00      0.00      0.00       1.0\n",
      "           4       0.00      0.00      0.00       1.0\n",
      "           6       0.00      0.00      0.00       0.0\n",
      "\n",
      "    accuracy                           0.00       3.0\n",
      "   macro avg       0.00      0.00      0.00       3.0\n",
      "weighted avg       0.00      0.00      0.00       3.0\n",
      "\n"
     ]
    },
    {
     "name": "stderr",
     "output_type": "stream",
     "text": [
      "/home/arjun/miniconda3/envs/ml/lib/python3.11/site-packages/sklearn/metrics/_classification.py:1471: UndefinedMetricWarning: Precision and F-score are ill-defined and being set to 0.0 in labels with no predicted samples. Use `zero_division` parameter to control this behavior.\n",
      "  _warn_prf(average, modifier, msg_start, len(result))\n",
      "/home/arjun/miniconda3/envs/ml/lib/python3.11/site-packages/sklearn/metrics/_classification.py:1471: UndefinedMetricWarning: Recall and F-score are ill-defined and being set to 0.0 in labels with no true samples. Use `zero_division` parameter to control this behavior.\n",
      "  _warn_prf(average, modifier, msg_start, len(result))\n",
      "/home/arjun/miniconda3/envs/ml/lib/python3.11/site-packages/sklearn/metrics/_classification.py:1471: UndefinedMetricWarning: Precision and F-score are ill-defined and being set to 0.0 in labels with no predicted samples. Use `zero_division` parameter to control this behavior.\n",
      "  _warn_prf(average, modifier, msg_start, len(result))\n",
      "/home/arjun/miniconda3/envs/ml/lib/python3.11/site-packages/sklearn/metrics/_classification.py:1471: UndefinedMetricWarning: Recall and F-score are ill-defined and being set to 0.0 in labels with no true samples. Use `zero_division` parameter to control this behavior.\n",
      "  _warn_prf(average, modifier, msg_start, len(result))\n",
      "/home/arjun/miniconda3/envs/ml/lib/python3.11/site-packages/sklearn/metrics/_classification.py:1471: UndefinedMetricWarning: Precision and F-score are ill-defined and being set to 0.0 in labels with no predicted samples. Use `zero_division` parameter to control this behavior.\n",
      "  _warn_prf(average, modifier, msg_start, len(result))\n",
      "/home/arjun/miniconda3/envs/ml/lib/python3.11/site-packages/sklearn/metrics/_classification.py:1471: UndefinedMetricWarning: Recall and F-score are ill-defined and being set to 0.0 in labels with no true samples. Use `zero_division` parameter to control this behavior.\n",
      "  _warn_prf(average, modifier, msg_start, len(result))\n"
     ]
    }
   ],
   "source": [
    "print(confusion_matrix([1,4,0], y_pred))\n",
    "print(classification_report([1,4,0], y_pred))"
   ]
  },
  {
   "cell_type": "code",
   "execution_count": null,
   "id": "3d4783a9-fc85-4445-8944-84d5a1db75c0",
   "metadata": {},
   "outputs": [],
   "source": []
  }
 ],
 "metadata": {
  "kernelspec": {
   "display_name": "Python 3 (ipykernel)",
   "language": "python",
   "name": "python3"
  },
  "language_info": {
   "codemirror_mode": {
    "name": "ipython",
    "version": 3
   },
   "file_extension": ".py",
   "mimetype": "text/x-python",
   "name": "python",
   "nbconvert_exporter": "python",
   "pygments_lexer": "ipython3",
   "version": "3.11.4"
  }
 },
 "nbformat": 4,
 "nbformat_minor": 5
}
