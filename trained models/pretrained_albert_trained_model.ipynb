{
 "cells": [
  {
   "cell_type": "code",
   "execution_count": 2,
   "id": "2087839d-5d9c-411f-89db-220bfb78de3a",
   "metadata": {
    "id": "2087839d-5d9c-411f-89db-220bfb78de3a",
    "ExecuteTime": {
     "end_time": "2023-12-07T17:44:38.782370747Z",
     "start_time": "2023-12-07T17:44:32.226704524Z"
    }
   },
   "outputs": [
    {
     "name": "stderr",
     "output_type": "stream",
     "text": [
      "2023-12-07 23:14:33.242202: I external/local_tsl/tsl/cuda/cudart_stub.cc:31] Could not find cuda drivers on your machine, GPU will not be used.\n",
      "2023-12-07 23:14:33.675243: E external/local_xla/xla/stream_executor/cuda/cuda_dnn.cc:9261] Unable to register cuDNN factory: Attempting to register factory for plugin cuDNN when one has already been registered\n",
      "2023-12-07 23:14:33.675292: E external/local_xla/xla/stream_executor/cuda/cuda_fft.cc:607] Unable to register cuFFT factory: Attempting to register factory for plugin cuFFT when one has already been registered\n",
      "2023-12-07 23:14:33.725803: E external/local_xla/xla/stream_executor/cuda/cuda_blas.cc:1515] Unable to register cuBLAS factory: Attempting to register factory for plugin cuBLAS when one has already been registered\n",
      "2023-12-07 23:14:33.831569: I external/local_tsl/tsl/cuda/cudart_stub.cc:31] Could not find cuda drivers on your machine, GPU will not be used.\n",
      "2023-12-07 23:14:33.833295: I tensorflow/core/platform/cpu_feature_guard.cc:182] This TensorFlow binary is optimized to use available CPU instructions in performance-critical operations.\n",
      "To enable the following instructions: AVX2 FMA, in other operations, rebuild TensorFlow with the appropriate compiler flags.\n",
      "2023-12-07 23:14:34.963998: W tensorflow/compiler/tf2tensorrt/utils/py_utils.cc:38] TF-TRT Warning: Could not find TensorRT\n",
      "/home/arjun/miniconda3/envs/ml/lib/python3.11/site-packages/tqdm/auto.py:21: TqdmWarning: IProgress not found. Please update jupyter and ipywidgets. See https://ipywidgets.readthedocs.io/en/stable/user_install.html\n",
      "  from .autonotebook import tqdm as notebook_tqdm\n"
     ]
    }
   ],
   "source": [
    "import tensorflow as tf\n",
    "import pandas as pd\n",
    "import numpy as np\n",
    "from transformers import AlbertTokenizer, TFAlbertForSequenceClassification\n",
    "import nltk\n",
    "from nltk.corpus import stopwords\n",
    "from nltk.stem import PorterStemmer\n",
    "from nltk.tokenize import word_tokenize\n",
    "import string"
   ]
  },
  {
   "cell_type": "code",
   "execution_count": 3,
   "id": "b5df027a-a521-49d7-9400-2494074b45e9",
   "metadata": {
    "colab": {
     "base_uri": "https://localhost:8080/",
     "height": 363
    },
    "id": "b5df027a-a521-49d7-9400-2494074b45e9",
    "outputId": "784ce409-bf35-485f-ae97-5ed6dcfd31e2",
    "ExecuteTime": {
     "end_time": "2023-12-07T17:44:42.939360441Z",
     "start_time": "2023-12-07T17:44:42.896735301Z"
    }
   },
   "outputs": [
    {
     "data": {
      "text/plain": "                                              speech       emotion\n0  From the moment that the French defenses at Se...         anger\n1  We observe today not a victory of party but a ...           joy\n2  Your Majesties, Your Highnesses, Distinguished...         trust\n3  I am honored to be with you today at your comm...  anticipation\n4  Honorable UN Secretary General Mr Ban Ki-moon,...       sadness\n5  It is with a profound sense of humility that I...       sadness\n6  My message is that we'll be watching you.\\r\\n\\...          fear\n7  Hello everybody. You know, Michelle and I have...           joy\n8  Your Majesties, Your Royal Highness, Excellenc...  anticipation\n9  Five score years ago, a great American, in who...         trust",
      "text/html": "<div>\n<style scoped>\n    .dataframe tbody tr th:only-of-type {\n        vertical-align: middle;\n    }\n\n    .dataframe tbody tr th {\n        vertical-align: top;\n    }\n\n    .dataframe thead th {\n        text-align: right;\n    }\n</style>\n<table border=\"1\" class=\"dataframe\">\n  <thead>\n    <tr style=\"text-align: right;\">\n      <th></th>\n      <th>speech</th>\n      <th>emotion</th>\n    </tr>\n  </thead>\n  <tbody>\n    <tr>\n      <th>0</th>\n      <td>From the moment that the French defenses at Se...</td>\n      <td>anger</td>\n    </tr>\n    <tr>\n      <th>1</th>\n      <td>We observe today not a victory of party but a ...</td>\n      <td>joy</td>\n    </tr>\n    <tr>\n      <th>2</th>\n      <td>Your Majesties, Your Highnesses, Distinguished...</td>\n      <td>trust</td>\n    </tr>\n    <tr>\n      <th>3</th>\n      <td>I am honored to be with you today at your comm...</td>\n      <td>anticipation</td>\n    </tr>\n    <tr>\n      <th>4</th>\n      <td>Honorable UN Secretary General Mr Ban Ki-moon,...</td>\n      <td>sadness</td>\n    </tr>\n    <tr>\n      <th>5</th>\n      <td>It is with a profound sense of humility that I...</td>\n      <td>sadness</td>\n    </tr>\n    <tr>\n      <th>6</th>\n      <td>My message is that we'll be watching you.\\r\\n\\...</td>\n      <td>fear</td>\n    </tr>\n    <tr>\n      <th>7</th>\n      <td>Hello everybody. You know, Michelle and I have...</td>\n      <td>joy</td>\n    </tr>\n    <tr>\n      <th>8</th>\n      <td>Your Majesties, Your Royal Highness, Excellenc...</td>\n      <td>anticipation</td>\n    </tr>\n    <tr>\n      <th>9</th>\n      <td>Five score years ago, a great American, in who...</td>\n      <td>trust</td>\n    </tr>\n  </tbody>\n</table>\n</div>"
     },
     "execution_count": 3,
     "metadata": {},
     "output_type": "execute_result"
    }
   ],
   "source": [
    "df=pd.read_csv('one_output_dataset.csv')\n",
    "df"
   ]
  },
  {
   "cell_type": "code",
   "execution_count": 4,
   "id": "fPjNOWUtEnl_",
   "metadata": {
    "colab": {
     "base_uri": "https://localhost:8080/",
     "height": 363
    },
    "id": "fPjNOWUtEnl_",
    "outputId": "c84721bf-dd3e-4088-fb04-43c46f9f1886",
    "ExecuteTime": {
     "end_time": "2023-12-07T17:44:45.087107932Z",
     "start_time": "2023-12-07T17:44:45.079701742Z"
    }
   },
   "outputs": [
    {
     "data": {
      "text/plain": "                                              speech  emotion\n0  From the moment that the French defenses at Se...        1\n1  We observe today not a victory of party but a ...        2\n2  Your Majesties, Your Highnesses, Distinguished...        3\n3  I am honored to be with you today at your comm...        4\n4  Honorable UN Secretary General Mr Ban Ki-moon,...        5\n5  It is with a profound sense of humility that I...        5\n6  My message is that we'll be watching you.\\r\\n\\...        6\n7  Hello everybody. You know, Michelle and I have...        2\n8  Your Majesties, Your Royal Highness, Excellenc...        4\n9  Five score years ago, a great American, in who...        3",
      "text/html": "<div>\n<style scoped>\n    .dataframe tbody tr th:only-of-type {\n        vertical-align: middle;\n    }\n\n    .dataframe tbody tr th {\n        vertical-align: top;\n    }\n\n    .dataframe thead th {\n        text-align: right;\n    }\n</style>\n<table border=\"1\" class=\"dataframe\">\n  <thead>\n    <tr style=\"text-align: right;\">\n      <th></th>\n      <th>speech</th>\n      <th>emotion</th>\n    </tr>\n  </thead>\n  <tbody>\n    <tr>\n      <th>0</th>\n      <td>From the moment that the French defenses at Se...</td>\n      <td>1</td>\n    </tr>\n    <tr>\n      <th>1</th>\n      <td>We observe today not a victory of party but a ...</td>\n      <td>2</td>\n    </tr>\n    <tr>\n      <th>2</th>\n      <td>Your Majesties, Your Highnesses, Distinguished...</td>\n      <td>3</td>\n    </tr>\n    <tr>\n      <th>3</th>\n      <td>I am honored to be with you today at your comm...</td>\n      <td>4</td>\n    </tr>\n    <tr>\n      <th>4</th>\n      <td>Honorable UN Secretary General Mr Ban Ki-moon,...</td>\n      <td>5</td>\n    </tr>\n    <tr>\n      <th>5</th>\n      <td>It is with a profound sense of humility that I...</td>\n      <td>5</td>\n    </tr>\n    <tr>\n      <th>6</th>\n      <td>My message is that we'll be watching you.\\r\\n\\...</td>\n      <td>6</td>\n    </tr>\n    <tr>\n      <th>7</th>\n      <td>Hello everybody. You know, Michelle and I have...</td>\n      <td>2</td>\n    </tr>\n    <tr>\n      <th>8</th>\n      <td>Your Majesties, Your Royal Highness, Excellenc...</td>\n      <td>4</td>\n    </tr>\n    <tr>\n      <th>9</th>\n      <td>Five score years ago, a great American, in who...</td>\n      <td>3</td>\n    </tr>\n  </tbody>\n</table>\n</div>"
     },
     "execution_count": 4,
     "metadata": {},
     "output_type": "execute_result"
    }
   ],
   "source": [
    "dict={'anger':1, 'joy':2, 'trust':3, 'anticipation':4, 'sadness':5, 'fear':6}\n",
    "df=df.replace(dict)\n",
    "df"
   ]
  },
  {
   "cell_type": "code",
   "execution_count": 5,
   "id": "cb4bcaf4-b4d1-4974-8b2f-0c712520c3b7",
   "metadata": {
    "colab": {
     "base_uri": "https://localhost:8080/"
    },
    "id": "cb4bcaf4-b4d1-4974-8b2f-0c712520c3b7",
    "outputId": "ee45d284-9341-4daa-83d9-887af503fe2d",
    "ExecuteTime": {
     "end_time": "2023-12-07T17:44:47.647607455Z",
     "start_time": "2023-12-07T17:44:46.356272060Z"
    }
   },
   "outputs": [
    {
     "name": "stderr",
     "output_type": "stream",
     "text": [
      "[nltk_data] Downloading package punkt to /home/arjun/nltk_data...\n",
      "[nltk_data]   Package punkt is already up-to-date!\n",
      "[nltk_data] Downloading package stopwords to /home/arjun/nltk_data...\n",
      "[nltk_data]   Package stopwords is already up-to-date!\n"
     ]
    }
   ],
   "source": [
    "#preprocess transcript\n",
    "\n",
    "# download necessary NLTK data\n",
    "nltk.download('punkt')\n",
    "nltk.download('stopwords')\n",
    "\n",
    "# initialize a PorterStemmer\n",
    "# stemmer = PorterStemmer()\n",
    "\n",
    "def preprocess_text(text):\n",
    "    # lowercase the text\n",
    "    text = text.lower()\n",
    "    # remove punctuation\n",
    "    text = text.translate(str.maketrans('', '', string.punctuation))\n",
    "    # tokenize the text\n",
    "    words = word_tokenize(text)\n",
    "    # remove stopwords and stem the words\n",
    "    words = [word for word in words if word not in stopwords.words('english')]\n",
    "    # join the words back into a string\n",
    "    text = ' '.join(words)\n",
    "\n",
    "    return text\n",
    "\n",
    "df['speech'] = df['speech'].apply(preprocess_text)"
   ]
  },
  {
   "cell_type": "code",
   "execution_count": 6,
   "outputs": [
    {
     "data": {
      "text/plain": "0    moment french defenses sedan meuse broken end ...\n1    observe today victory party celebration freedo...\n2    majesties highnesses distinguished guests comr...\n3    honored today commencement one finest universi...\n4    honorable un secretary general mr ban kimoon r...\n5    profound sense humility accept honor chosen be...\n6    message well watching wrong shouldnt back scho...\n7    hello everybody know michelle really milking g...\n8    majesties royal highness excellencies distingu...\n9    five score years ago great american whose symb...\nName: speech, dtype: object"
     },
     "execution_count": 6,
     "metadata": {},
     "output_type": "execute_result"
    }
   ],
   "source": [
    "df['speech']"
   ],
   "metadata": {
    "collapsed": false,
    "ExecuteTime": {
     "end_time": "2023-12-07T17:44:48.326180738Z",
     "start_time": "2023-12-07T17:44:48.318836418Z"
    }
   },
   "id": "ed51c3f9c8262e1b"
  },
  {
   "cell_type": "code",
   "execution_count": 7,
   "id": "c15a2034-bacc-4684-88e7-1e387b3263f5",
   "metadata": {
    "colab": {
     "base_uri": "https://localhost:8080/"
    },
    "id": "c15a2034-bacc-4684-88e7-1e387b3263f5",
    "outputId": "e5e9c596-90fc-447d-ab47-9a2c11d0ae43",
    "ExecuteTime": {
     "end_time": "2023-12-07T17:45:17.626065775Z",
     "start_time": "2023-12-07T17:45:14.604005613Z"
    }
   },
   "outputs": [
    {
     "name": "stderr",
     "output_type": "stream",
     "text": [
      "2023-12-07 23:15:16.614625: I external/local_xla/xla/stream_executor/cuda/cuda_executor.cc:901] successful NUMA node read from SysFS had negative value (-1), but there must be at least one NUMA node, so returning NUMA node zero. See more at https://github.com/torvalds/linux/blob/v6.0/Documentation/ABI/testing/sysfs-bus-pci#L344-L355\n",
      "2023-12-07 23:15:16.615268: W tensorflow/core/common_runtime/gpu/gpu_device.cc:2256] Cannot dlopen some GPU libraries. Please make sure the missing libraries mentioned above are installed properly if you would like to use GPU. Follow the guide at https://www.tensorflow.org/install/gpu for how to download and setup the required libraries for your platform.\n",
      "Skipping registering GPU devices...\n",
      "All PyTorch model weights were used when initializing TFAlbertForSequenceClassification.\n",
      "\n",
      "Some weights or buffers of the TF 2.0 model TFAlbertForSequenceClassification were not initialized from the PyTorch model and are newly initialized: ['classifier.weight', 'classifier.bias']\n",
      "You should probably TRAIN this model on a down-stream task to be able to use it for predictions and inference.\n"
     ]
    }
   ],
   "source": [
    "#pip install sentencepiece\n",
    "tokenizer=AlbertTokenizer.from_pretrained('albert-large-v2')\n",
    "\n",
    "model=TFAlbertForSequenceClassification.from_pretrained('albert-large-v2',num_labels=6)"
   ]
  },
  {
   "cell_type": "code",
   "execution_count": 8,
   "id": "ee54acf8-ecf1-492c-8ad7-763b0c5e1d55",
   "metadata": {
    "id": "ee54acf8-ecf1-492c-8ad7-763b0c5e1d55",
    "ExecuteTime": {
     "end_time": "2023-12-07T17:45:19.078640599Z",
     "start_time": "2023-12-07T17:45:19.068131065Z"
    }
   },
   "outputs": [],
   "source": [
    "from sklearn.model_selection import train_test_split\n",
    "\n",
    "train, test = train_test_split(df, test_size=0.2)"
   ]
  },
  {
   "cell_type": "code",
   "execution_count": 9,
   "id": "5d2f45b0-152d-434a-88e9-6e9dc3b414d1",
   "metadata": {
    "id": "5d2f45b0-152d-434a-88e9-6e9dc3b414d1",
    "ExecuteTime": {
     "end_time": "2023-12-07T17:45:20.256985831Z",
     "start_time": "2023-12-07T17:45:20.239631182Z"
    }
   },
   "outputs": [],
   "source": [
    "#split in train and test in text and labels\n",
    "train_texts = train['speech'].tolist()\n",
    "train_labels = train['emotion'].tolist()\n",
    "\n",
    "test_texts = test['speech'].tolist()\n",
    "test_labels = test['emotion'].tolist()"
   ]
  },
  {
   "cell_type": "code",
   "execution_count": 10,
   "id": "57e46441-fe6d-4948-b13c-c0d2dba19664",
   "metadata": {
    "id": "57e46441-fe6d-4948-b13c-c0d2dba19664",
    "ExecuteTime": {
     "end_time": "2023-12-07T17:45:20.554869400Z",
     "start_time": "2023-12-07T17:45:20.471372581Z"
    }
   },
   "outputs": [],
   "source": [
    "#tokenize the texts\n",
    "train_encodings = tokenizer(train_texts, truncation=True, padding=True, max_length=512)\n",
    "test_encodings = tokenizer(test_texts, truncation=True, padding=True, max_length=512)"
   ]
  },
  {
   "cell_type": "code",
   "execution_count": 11,
   "id": "7a560740-c3b5-4781-9c07-b27264980eb4",
   "metadata": {
    "id": "7a560740-c3b5-4781-9c07-b27264980eb4",
    "ExecuteTime": {
     "end_time": "2023-12-07T17:45:20.715860454Z",
     "start_time": "2023-12-07T17:45:20.672238542Z"
    }
   },
   "outputs": [],
   "source": [
    "#convert features and labels to tensors for both train and test\n",
    "train_features = {key: tf.convert_to_tensor(val) for key, val in train_encodings.items()}\n",
    "train_labels = tf.convert_to_tensor(train_labels)\n",
    "\n",
    "test_features = {key: tf.convert_to_tensor(val) for key, val in test_encodings.items()}\n",
    "test_labels = tf.convert_to_tensor(test_labels)"
   ]
  },
  {
   "cell_type": "code",
   "execution_count": 12,
   "id": "028556e4-ebb3-4155-978b-6e41862c0748",
   "metadata": {
    "id": "028556e4-ebb3-4155-978b-6e41862c0748",
    "ExecuteTime": {
     "end_time": "2023-12-07T17:45:21.002759979Z",
     "start_time": "2023-12-07T17:45:20.949890016Z"
    }
   },
   "outputs": [],
   "source": [
    "#prepare the training and testing dataset\n",
    "train_dataset = tf.data.Dataset.from_tensor_slices((train_features, train_labels))\n",
    "train_dataset = train_dataset.shuffle(10000).batch(1)\n",
    "\n",
    "test_dataset = tf.data.Dataset.from_tensor_slices((test_features, test_labels))\n",
    "test_dataset = test_dataset.batch(1)"
   ]
  },
  {
   "cell_type": "code",
   "execution_count": 13,
   "id": "978195e4-9ece-4bb5-b0de-ab44b9c77c1c",
   "metadata": {
    "id": "978195e4-9ece-4bb5-b0de-ab44b9c77c1c",
    "ExecuteTime": {
     "end_time": "2023-12-07T17:45:21.155782316Z",
     "start_time": "2023-12-07T17:45:21.114267341Z"
    }
   },
   "outputs": [],
   "source": [
    "#define model metrics\n",
    "optimizer = tf.keras.optimizers.Adam(learning_rate=3e-5)\n",
    "loss = tf.keras.losses.SparseCategoricalCrossentropy(from_logits=True)\n",
    "metrics = ['accuracy']"
   ]
  },
  {
   "cell_type": "code",
   "execution_count": 15,
   "id": "cdbe304f-aaef-43ea-b7bd-02b72e2a5a72",
   "metadata": {
    "id": "cdbe304f-aaef-43ea-b7bd-02b72e2a5a72",
    "ExecuteTime": {
     "end_time": "2023-12-07T17:46:19.707607867Z",
     "start_time": "2023-12-07T17:46:19.664724957Z"
    }
   },
   "outputs": [],
   "source": [
    "model.compile(optimizer=optimizer, loss=loss, metrics=metrics)"
   ]
  },
  {
   "cell_type": "code",
   "execution_count": 16,
   "id": "9902f105-b9ba-4511-b152-493f9b94ffb3",
   "metadata": {
    "colab": {
     "base_uri": "https://localhost:8080/"
    },
    "id": "9902f105-b9ba-4511-b152-493f9b94ffb3",
    "outputId": "5b9c8351-419e-4457-9648-c2895bb610d5",
    "ExecuteTime": {
     "end_time": "2023-12-07T17:46:26.991211172Z",
     "start_time": "2023-12-07T17:46:26.936049171Z"
    }
   },
   "outputs": [
    {
     "name": "stdout",
     "output_type": "stream",
     "text": [
      "Model: \"tf_albert_for_sequence_classification\"\n",
      "_________________________________________________________________\n",
      " Layer (type)                Output Shape              Param #   \n",
      "=================================================================\n",
      " albert (TFAlbertMainLayer)  multiple                  17683968  \n",
      "                                                                 \n",
      " dropout_4 (Dropout)         multiple                  0         \n",
      "                                                                 \n",
      " classifier (Dense)          multiple                  6150      \n",
      "                                                                 \n",
      "=================================================================\n",
      "Total params: 17690118 (67.48 MB)\n",
      "Trainable params: 17690118 (67.48 MB)\n",
      "Non-trainable params: 0 (0.00 Byte)\n",
      "_________________________________________________________________\n"
     ]
    }
   ],
   "source": [
    "model.summary()"
   ]
  },
  {
   "cell_type": "code",
   "execution_count": 17,
   "id": "5be1e11f-740d-4ac6-8b76-7a355c599b8a",
   "metadata": {
    "colab": {
     "base_uri": "https://localhost:8080/"
    },
    "id": "5be1e11f-740d-4ac6-8b76-7a355c599b8a",
    "outputId": "89a5af75-0f9f-458d-f7c1-eecc25363a30",
    "ExecuteTime": {
     "end_time": "2023-12-07T17:47:27.345913748Z",
     "start_time": "2023-12-07T17:46:33.298724646Z"
    }
   },
   "outputs": [
    {
     "name": "stdout",
     "output_type": "stream",
     "text": [
      "Epoch 1/3\n",
      "5/8 [=================>............] - ETA: 17s - loss: 1.8760 - accuracy: 0.0000e+00"
     ]
    },
    {
     "name": "stderr",
     "output_type": "stream",
     "text": [
      "2023-12-07 23:17:26.450075: W tensorflow/core/framework/op_kernel.cc:1839] OP_REQUIRES failed at sparse_xent_op.cc:103 : INVALID_ARGUMENT: Received a label value of 6 which is outside the valid range of [0, 6).  Label values: 6\n"
     ]
    },
    {
     "ename": "InvalidArgumentError",
     "evalue": "Graph execution error:\n\nDetected at node sparse_categorical_crossentropy/SparseSoftmaxCrossEntropyWithLogits/SparseSoftmaxCrossEntropyWithLogits defined at (most recent call last):\n  File \"<frozen runpy>\", line 198, in _run_module_as_main\n\n  File \"<frozen runpy>\", line 88, in _run_code\n\n  File \"/home/arjun/miniconda3/envs/ml/lib/python3.11/site-packages/ipykernel_launcher.py\", line 17, in <module>\n\n  File \"/home/arjun/miniconda3/envs/ml/lib/python3.11/site-packages/traitlets/config/application.py\", line 1043, in launch_instance\n\n  File \"/home/arjun/miniconda3/envs/ml/lib/python3.11/site-packages/ipykernel/kernelapp.py\", line 736, in start\n\n  File \"/home/arjun/miniconda3/envs/ml/lib/python3.11/site-packages/tornado/platform/asyncio.py\", line 195, in start\n\n  File \"/home/arjun/miniconda3/envs/ml/lib/python3.11/asyncio/base_events.py\", line 607, in run_forever\n\n  File \"/home/arjun/miniconda3/envs/ml/lib/python3.11/asyncio/base_events.py\", line 1922, in _run_once\n\n  File \"/home/arjun/miniconda3/envs/ml/lib/python3.11/asyncio/events.py\", line 80, in _run\n\n  File \"/home/arjun/miniconda3/envs/ml/lib/python3.11/site-packages/ipykernel/kernelbase.py\", line 516, in dispatch_queue\n\n  File \"/home/arjun/miniconda3/envs/ml/lib/python3.11/site-packages/ipykernel/kernelbase.py\", line 505, in process_one\n\n  File \"/home/arjun/miniconda3/envs/ml/lib/python3.11/site-packages/ipykernel/kernelbase.py\", line 412, in dispatch_shell\n\n  File \"/home/arjun/miniconda3/envs/ml/lib/python3.11/site-packages/ipykernel/kernelbase.py\", line 740, in execute_request\n\n  File \"/home/arjun/miniconda3/envs/ml/lib/python3.11/site-packages/ipykernel/ipkernel.py\", line 422, in do_execute\n\n  File \"/home/arjun/miniconda3/envs/ml/lib/python3.11/site-packages/ipykernel/zmqshell.py\", line 546, in run_cell\n\n  File \"/home/arjun/miniconda3/envs/ml/lib/python3.11/site-packages/IPython/core/interactiveshell.py\", line 3024, in run_cell\n\n  File \"/home/arjun/miniconda3/envs/ml/lib/python3.11/site-packages/IPython/core/interactiveshell.py\", line 3079, in _run_cell\n\n  File \"/home/arjun/miniconda3/envs/ml/lib/python3.11/site-packages/IPython/core/async_helpers.py\", line 129, in _pseudo_sync_runner\n\n  File \"/home/arjun/miniconda3/envs/ml/lib/python3.11/site-packages/IPython/core/interactiveshell.py\", line 3284, in run_cell_async\n\n  File \"/home/arjun/miniconda3/envs/ml/lib/python3.11/site-packages/IPython/core/interactiveshell.py\", line 3466, in run_ast_nodes\n\n  File \"/home/arjun/miniconda3/envs/ml/lib/python3.11/site-packages/IPython/core/interactiveshell.py\", line 3526, in run_code\n\n  File \"/tmp/ipykernel_5962/3460832999.py\", line 2, in <module>\n\n  File \"/home/arjun/miniconda3/envs/ml/lib/python3.11/site-packages/keras/src/utils/traceback_utils.py\", line 65, in error_handler\n\n  File \"/home/arjun/miniconda3/envs/ml/lib/python3.11/site-packages/keras/src/engine/training.py\", line 1807, in fit\n\n  File \"/home/arjun/miniconda3/envs/ml/lib/python3.11/site-packages/keras/src/engine/training.py\", line 1401, in train_function\n\n  File \"/home/arjun/miniconda3/envs/ml/lib/python3.11/site-packages/keras/src/engine/training.py\", line 1384, in step_function\n\n  File \"/home/arjun/miniconda3/envs/ml/lib/python3.11/site-packages/keras/src/engine/training.py\", line 1373, in run_step\n\n  File \"/home/arjun/miniconda3/envs/ml/lib/python3.11/site-packages/transformers/modeling_tf_utils.py\", line 1674, in train_step\n\n  File \"/home/arjun/miniconda3/envs/ml/lib/python3.11/site-packages/keras/src/engine/compile_utils.py\", line 277, in __call__\n\n  File \"/home/arjun/miniconda3/envs/ml/lib/python3.11/site-packages/keras/src/losses.py\", line 143, in __call__\n\n  File \"/home/arjun/miniconda3/envs/ml/lib/python3.11/site-packages/keras/src/losses.py\", line 270, in call\n\n  File \"/home/arjun/miniconda3/envs/ml/lib/python3.11/site-packages/keras/src/losses.py\", line 2454, in sparse_categorical_crossentropy\n\n  File \"/home/arjun/miniconda3/envs/ml/lib/python3.11/site-packages/keras/src/backend.py\", line 5775, in sparse_categorical_crossentropy\n\nReceived a label value of 6 which is outside the valid range of [0, 6).  Label values: 6\n\t [[{{node sparse_categorical_crossentropy/SparseSoftmaxCrossEntropyWithLogits/SparseSoftmaxCrossEntropyWithLogits}}]] [Op:__inference_train_function_34197]",
     "output_type": "error",
     "traceback": [
      "\u001B[0;31m---------------------------------------------------------------------------\u001B[0m",
      "\u001B[0;31mInvalidArgumentError\u001B[0m                      Traceback (most recent call last)",
      "Cell \u001B[0;32mIn[17], line 2\u001B[0m\n\u001B[1;32m      1\u001B[0m \u001B[38;5;66;03m#fit model to train dataset\u001B[39;00m\n\u001B[0;32m----> 2\u001B[0m \u001B[43mmodel\u001B[49m\u001B[38;5;241;43m.\u001B[39;49m\u001B[43mfit\u001B[49m\u001B[43m(\u001B[49m\u001B[43mtrain_dataset\u001B[49m\u001B[43m,\u001B[49m\u001B[43m \u001B[49m\u001B[43mepochs\u001B[49m\u001B[38;5;241;43m=\u001B[39;49m\u001B[38;5;241;43m3\u001B[39;49m\u001B[43m,\u001B[49m\u001B[43m \u001B[49m\u001B[43mvalidation_data\u001B[49m\u001B[38;5;241;43m=\u001B[39;49m\u001B[43mtest_dataset\u001B[49m\u001B[43m,\u001B[49m\u001B[43m \u001B[49m\u001B[43mbatch_size\u001B[49m\u001B[38;5;241;43m=\u001B[39;49m\u001B[38;5;241;43m1\u001B[39;49m\u001B[43m)\u001B[49m\n",
      "File \u001B[0;32m~/miniconda3/envs/ml/lib/python3.11/site-packages/keras/src/utils/traceback_utils.py:70\u001B[0m, in \u001B[0;36mfilter_traceback.<locals>.error_handler\u001B[0;34m(*args, **kwargs)\u001B[0m\n\u001B[1;32m     67\u001B[0m     filtered_tb \u001B[38;5;241m=\u001B[39m _process_traceback_frames(e\u001B[38;5;241m.\u001B[39m__traceback__)\n\u001B[1;32m     68\u001B[0m     \u001B[38;5;66;03m# To get the full stack trace, call:\u001B[39;00m\n\u001B[1;32m     69\u001B[0m     \u001B[38;5;66;03m# `tf.debugging.disable_traceback_filtering()`\u001B[39;00m\n\u001B[0;32m---> 70\u001B[0m     \u001B[38;5;28;01mraise\u001B[39;00m e\u001B[38;5;241m.\u001B[39mwith_traceback(filtered_tb) \u001B[38;5;28;01mfrom\u001B[39;00m \u001B[38;5;28;01mNone\u001B[39;00m\n\u001B[1;32m     71\u001B[0m \u001B[38;5;28;01mfinally\u001B[39;00m:\n\u001B[1;32m     72\u001B[0m     \u001B[38;5;28;01mdel\u001B[39;00m filtered_tb\n",
      "File \u001B[0;32m~/miniconda3/envs/ml/lib/python3.11/site-packages/tensorflow/python/eager/execute.py:53\u001B[0m, in \u001B[0;36mquick_execute\u001B[0;34m(op_name, num_outputs, inputs, attrs, ctx, name)\u001B[0m\n\u001B[1;32m     51\u001B[0m \u001B[38;5;28;01mtry\u001B[39;00m:\n\u001B[1;32m     52\u001B[0m   ctx\u001B[38;5;241m.\u001B[39mensure_initialized()\n\u001B[0;32m---> 53\u001B[0m   tensors \u001B[38;5;241m=\u001B[39m pywrap_tfe\u001B[38;5;241m.\u001B[39mTFE_Py_Execute(ctx\u001B[38;5;241m.\u001B[39m_handle, device_name, op_name,\n\u001B[1;32m     54\u001B[0m                                       inputs, attrs, num_outputs)\n\u001B[1;32m     55\u001B[0m \u001B[38;5;28;01mexcept\u001B[39;00m core\u001B[38;5;241m.\u001B[39m_NotOkStatusException \u001B[38;5;28;01mas\u001B[39;00m e:\n\u001B[1;32m     56\u001B[0m   \u001B[38;5;28;01mif\u001B[39;00m name \u001B[38;5;129;01mis\u001B[39;00m \u001B[38;5;129;01mnot\u001B[39;00m \u001B[38;5;28;01mNone\u001B[39;00m:\n",
      "\u001B[0;31mInvalidArgumentError\u001B[0m: Graph execution error:\n\nDetected at node sparse_categorical_crossentropy/SparseSoftmaxCrossEntropyWithLogits/SparseSoftmaxCrossEntropyWithLogits defined at (most recent call last):\n  File \"<frozen runpy>\", line 198, in _run_module_as_main\n\n  File \"<frozen runpy>\", line 88, in _run_code\n\n  File \"/home/arjun/miniconda3/envs/ml/lib/python3.11/site-packages/ipykernel_launcher.py\", line 17, in <module>\n\n  File \"/home/arjun/miniconda3/envs/ml/lib/python3.11/site-packages/traitlets/config/application.py\", line 1043, in launch_instance\n\n  File \"/home/arjun/miniconda3/envs/ml/lib/python3.11/site-packages/ipykernel/kernelapp.py\", line 736, in start\n\n  File \"/home/arjun/miniconda3/envs/ml/lib/python3.11/site-packages/tornado/platform/asyncio.py\", line 195, in start\n\n  File \"/home/arjun/miniconda3/envs/ml/lib/python3.11/asyncio/base_events.py\", line 607, in run_forever\n\n  File \"/home/arjun/miniconda3/envs/ml/lib/python3.11/asyncio/base_events.py\", line 1922, in _run_once\n\n  File \"/home/arjun/miniconda3/envs/ml/lib/python3.11/asyncio/events.py\", line 80, in _run\n\n  File \"/home/arjun/miniconda3/envs/ml/lib/python3.11/site-packages/ipykernel/kernelbase.py\", line 516, in dispatch_queue\n\n  File \"/home/arjun/miniconda3/envs/ml/lib/python3.11/site-packages/ipykernel/kernelbase.py\", line 505, in process_one\n\n  File \"/home/arjun/miniconda3/envs/ml/lib/python3.11/site-packages/ipykernel/kernelbase.py\", line 412, in dispatch_shell\n\n  File \"/home/arjun/miniconda3/envs/ml/lib/python3.11/site-packages/ipykernel/kernelbase.py\", line 740, in execute_request\n\n  File \"/home/arjun/miniconda3/envs/ml/lib/python3.11/site-packages/ipykernel/ipkernel.py\", line 422, in do_execute\n\n  File \"/home/arjun/miniconda3/envs/ml/lib/python3.11/site-packages/ipykernel/zmqshell.py\", line 546, in run_cell\n\n  File \"/home/arjun/miniconda3/envs/ml/lib/python3.11/site-packages/IPython/core/interactiveshell.py\", line 3024, in run_cell\n\n  File \"/home/arjun/miniconda3/envs/ml/lib/python3.11/site-packages/IPython/core/interactiveshell.py\", line 3079, in _run_cell\n\n  File \"/home/arjun/miniconda3/envs/ml/lib/python3.11/site-packages/IPython/core/async_helpers.py\", line 129, in _pseudo_sync_runner\n\n  File \"/home/arjun/miniconda3/envs/ml/lib/python3.11/site-packages/IPython/core/interactiveshell.py\", line 3284, in run_cell_async\n\n  File \"/home/arjun/miniconda3/envs/ml/lib/python3.11/site-packages/IPython/core/interactiveshell.py\", line 3466, in run_ast_nodes\n\n  File \"/home/arjun/miniconda3/envs/ml/lib/python3.11/site-packages/IPython/core/interactiveshell.py\", line 3526, in run_code\n\n  File \"/tmp/ipykernel_5962/3460832999.py\", line 2, in <module>\n\n  File \"/home/arjun/miniconda3/envs/ml/lib/python3.11/site-packages/keras/src/utils/traceback_utils.py\", line 65, in error_handler\n\n  File \"/home/arjun/miniconda3/envs/ml/lib/python3.11/site-packages/keras/src/engine/training.py\", line 1807, in fit\n\n  File \"/home/arjun/miniconda3/envs/ml/lib/python3.11/site-packages/keras/src/engine/training.py\", line 1401, in train_function\n\n  File \"/home/arjun/miniconda3/envs/ml/lib/python3.11/site-packages/keras/src/engine/training.py\", line 1384, in step_function\n\n  File \"/home/arjun/miniconda3/envs/ml/lib/python3.11/site-packages/keras/src/engine/training.py\", line 1373, in run_step\n\n  File \"/home/arjun/miniconda3/envs/ml/lib/python3.11/site-packages/transformers/modeling_tf_utils.py\", line 1674, in train_step\n\n  File \"/home/arjun/miniconda3/envs/ml/lib/python3.11/site-packages/keras/src/engine/compile_utils.py\", line 277, in __call__\n\n  File \"/home/arjun/miniconda3/envs/ml/lib/python3.11/site-packages/keras/src/losses.py\", line 143, in __call__\n\n  File \"/home/arjun/miniconda3/envs/ml/lib/python3.11/site-packages/keras/src/losses.py\", line 270, in call\n\n  File \"/home/arjun/miniconda3/envs/ml/lib/python3.11/site-packages/keras/src/losses.py\", line 2454, in sparse_categorical_crossentropy\n\n  File \"/home/arjun/miniconda3/envs/ml/lib/python3.11/site-packages/keras/src/backend.py\", line 5775, in sparse_categorical_crossentropy\n\nReceived a label value of 6 which is outside the valid range of [0, 6).  Label values: 6\n\t [[{{node sparse_categorical_crossentropy/SparseSoftmaxCrossEntropyWithLogits/SparseSoftmaxCrossEntropyWithLogits}}]] [Op:__inference_train_function_34197]"
     ]
    }
   ],
   "source": [
    "#fit model to train dataset\n",
    "model.fit(train_dataset, epochs=3, validation_data=test_dataset, batch_size=1)"
   ]
  },
  {
   "cell_type": "code",
   "execution_count": 15,
   "id": "80396bf4-28cf-42d2-973a-ea5c4732694f",
   "metadata": {
    "colab": {
     "base_uri": "https://localhost:8080/"
    },
    "id": "80396bf4-28cf-42d2-973a-ea5c4732694f",
    "outputId": "a0c120b4-347a-405c-82c8-5b9637b56333"
   },
   "outputs": [
    {
     "name": "stderr",
     "output_type": "stream",
     "text": [
      "/usr/local/lib/python3.10/dist-packages/transformers/generation/tf_utils.py:465: UserWarning: `seed_generator` is deprecated and will be removed in a future version.\n",
      "  warnings.warn(\"`seed_generator` is deprecated and will be removed in a future version.\", UserWarning)\n"
     ]
    }
   ],
   "source": [
    "model.save('first_model.keras')"
   ]
  },
  {
   "cell_type": "code",
   "execution_count": 14,
   "id": "s0TL31TVGJwq",
   "metadata": {
    "id": "s0TL31TVGJwq",
    "ExecuteTime": {
     "end_time": "2023-12-07T17:45:29.852711836Z",
     "start_time": "2023-12-07T17:45:28.445453735Z"
    }
   },
   "outputs": [
    {
     "name": "stdout",
     "output_type": "stream",
     "text": [
      "WARNING:tensorflow:`compile()` was not called as part of model loading because the model's `compile()` method is custom. All subclassed Models that have `compile()` overridden should also override `get_compile_config()` and `compile_from_config(config)`. Alternatively, you can call `compile()` manually after loading.\n"
     ]
    },
    {
     "name": "stderr",
     "output_type": "stream",
     "text": [
      "/home/arjun/miniconda3/envs/ml/lib/python3.11/site-packages/transformers/generation/tf_utils.py:465: UserWarning: `seed_generator` is deprecated and will be removed in a future version.\n",
      "  warnings.warn(\"`seed_generator` is deprecated and will be removed in a future version.\", UserWarning)\n"
     ]
    },
    {
     "ename": "ValueError",
     "evalue": "Layer 'pooler' expected 0 variables, but received 2 variables during loading. Expected: []",
     "output_type": "error",
     "traceback": [
      "\u001B[0;31m---------------------------------------------------------------------------\u001B[0m",
      "\u001B[0;31mValueError\u001B[0m                                Traceback (most recent call last)",
      "Cell \u001B[0;32mIn[14], line 1\u001B[0m\n\u001B[0;32m----> 1\u001B[0m loaded_model \u001B[38;5;241m=\u001B[39m \u001B[43mtf\u001B[49m\u001B[38;5;241;43m.\u001B[39;49m\u001B[43mkeras\u001B[49m\u001B[38;5;241;43m.\u001B[39;49m\u001B[43mmodels\u001B[49m\u001B[38;5;241;43m.\u001B[39;49m\u001B[43mload_model\u001B[49m\u001B[43m(\u001B[49m\u001B[38;5;124;43m'\u001B[39;49m\u001B[38;5;124;43mfirst_model.keras\u001B[39;49m\u001B[38;5;124;43m'\u001B[39;49m\u001B[43m)\u001B[49m\n",
      "File \u001B[0;32m~/miniconda3/envs/ml/lib/python3.11/site-packages/keras/src/saving/saving_api.py:254\u001B[0m, in \u001B[0;36mload_model\u001B[0;34m(filepath, custom_objects, compile, safe_mode, **kwargs)\u001B[0m\n\u001B[1;32m    249\u001B[0m     \u001B[38;5;28;01mif\u001B[39;00m kwargs:\n\u001B[1;32m    250\u001B[0m         \u001B[38;5;28;01mraise\u001B[39;00m \u001B[38;5;167;01mValueError\u001B[39;00m(\n\u001B[1;32m    251\u001B[0m             \u001B[38;5;124m\"\u001B[39m\u001B[38;5;124mThe following argument(s) are not supported \u001B[39m\u001B[38;5;124m\"\u001B[39m\n\u001B[1;32m    252\u001B[0m             \u001B[38;5;124mf\u001B[39m\u001B[38;5;124m\"\u001B[39m\u001B[38;5;124mwith the native Keras format: \u001B[39m\u001B[38;5;132;01m{\u001B[39;00m\u001B[38;5;28mlist\u001B[39m(kwargs\u001B[38;5;241m.\u001B[39mkeys())\u001B[38;5;132;01m}\u001B[39;00m\u001B[38;5;124m\"\u001B[39m\n\u001B[1;32m    253\u001B[0m         )\n\u001B[0;32m--> 254\u001B[0m     \u001B[38;5;28;01mreturn\u001B[39;00m \u001B[43msaving_lib\u001B[49m\u001B[38;5;241;43m.\u001B[39;49m\u001B[43mload_model\u001B[49m\u001B[43m(\u001B[49m\n\u001B[1;32m    255\u001B[0m \u001B[43m        \u001B[49m\u001B[43mfilepath\u001B[49m\u001B[43m,\u001B[49m\n\u001B[1;32m    256\u001B[0m \u001B[43m        \u001B[49m\u001B[43mcustom_objects\u001B[49m\u001B[38;5;241;43m=\u001B[39;49m\u001B[43mcustom_objects\u001B[49m\u001B[43m,\u001B[49m\n\u001B[1;32m    257\u001B[0m \u001B[43m        \u001B[49m\u001B[38;5;28;43mcompile\u001B[39;49m\u001B[38;5;241;43m=\u001B[39;49m\u001B[38;5;28;43mcompile\u001B[39;49m\u001B[43m,\u001B[49m\n\u001B[1;32m    258\u001B[0m \u001B[43m        \u001B[49m\u001B[43msafe_mode\u001B[49m\u001B[38;5;241;43m=\u001B[39;49m\u001B[43msafe_mode\u001B[49m\u001B[43m,\u001B[49m\n\u001B[1;32m    259\u001B[0m \u001B[43m    \u001B[49m\u001B[43m)\u001B[49m\n\u001B[1;32m    261\u001B[0m \u001B[38;5;66;03m# Legacy case.\u001B[39;00m\n\u001B[1;32m    262\u001B[0m \u001B[38;5;28;01mreturn\u001B[39;00m legacy_sm_saving_lib\u001B[38;5;241m.\u001B[39mload_model(\n\u001B[1;32m    263\u001B[0m     filepath, custom_objects\u001B[38;5;241m=\u001B[39mcustom_objects, \u001B[38;5;28mcompile\u001B[39m\u001B[38;5;241m=\u001B[39m\u001B[38;5;28mcompile\u001B[39m, \u001B[38;5;241m*\u001B[39m\u001B[38;5;241m*\u001B[39mkwargs\n\u001B[1;32m    264\u001B[0m )\n",
      "File \u001B[0;32m~/miniconda3/envs/ml/lib/python3.11/site-packages/keras/src/saving/saving_lib.py:281\u001B[0m, in \u001B[0;36mload_model\u001B[0;34m(filepath, custom_objects, compile, safe_mode)\u001B[0m\n\u001B[1;32m    278\u001B[0m             asset_store\u001B[38;5;241m.\u001B[39mclose()\n\u001B[1;32m    280\u001B[0m \u001B[38;5;28;01mexcept\u001B[39;00m \u001B[38;5;167;01mException\u001B[39;00m \u001B[38;5;28;01mas\u001B[39;00m e:\n\u001B[0;32m--> 281\u001B[0m     \u001B[38;5;28;01mraise\u001B[39;00m e\n\u001B[1;32m    282\u001B[0m \u001B[38;5;28;01melse\u001B[39;00m:\n\u001B[1;32m    283\u001B[0m     \u001B[38;5;28;01mreturn\u001B[39;00m model\n",
      "File \u001B[0;32m~/miniconda3/envs/ml/lib/python3.11/site-packages/keras/src/saving/saving_lib.py:269\u001B[0m, in \u001B[0;36mload_model\u001B[0;34m(filepath, custom_objects, compile, safe_mode)\u001B[0m\n\u001B[1;32m    266\u001B[0m \u001B[38;5;28;01melse\u001B[39;00m:\n\u001B[1;32m    267\u001B[0m     asset_store \u001B[38;5;241m=\u001B[39m \u001B[38;5;28;01mNone\u001B[39;00m\n\u001B[0;32m--> 269\u001B[0m \u001B[43m_load_state\u001B[49m\u001B[43m(\u001B[49m\n\u001B[1;32m    270\u001B[0m \u001B[43m    \u001B[49m\u001B[43mmodel\u001B[49m\u001B[43m,\u001B[49m\n\u001B[1;32m    271\u001B[0m \u001B[43m    \u001B[49m\u001B[43mweights_store\u001B[49m\u001B[38;5;241;43m=\u001B[39;49m\u001B[43mweights_store\u001B[49m\u001B[43m,\u001B[49m\n\u001B[1;32m    272\u001B[0m \u001B[43m    \u001B[49m\u001B[43massets_store\u001B[49m\u001B[38;5;241;43m=\u001B[39;49m\u001B[43masset_store\u001B[49m\u001B[43m,\u001B[49m\n\u001B[1;32m    273\u001B[0m \u001B[43m    \u001B[49m\u001B[43minner_path\u001B[49m\u001B[38;5;241;43m=\u001B[39;49m\u001B[38;5;124;43m\"\u001B[39;49m\u001B[38;5;124;43m\"\u001B[39;49m\u001B[43m,\u001B[49m\n\u001B[1;32m    274\u001B[0m \u001B[43m    \u001B[49m\u001B[43mvisited_trackables\u001B[49m\u001B[38;5;241;43m=\u001B[39;49m\u001B[38;5;28;43mset\u001B[39;49m\u001B[43m(\u001B[49m\u001B[43m)\u001B[49m\u001B[43m,\u001B[49m\n\u001B[1;32m    275\u001B[0m \u001B[43m\u001B[49m\u001B[43m)\u001B[49m\n\u001B[1;32m    276\u001B[0m weights_store\u001B[38;5;241m.\u001B[39mclose()\n\u001B[1;32m    277\u001B[0m \u001B[38;5;28;01mif\u001B[39;00m asset_store:\n",
      "File \u001B[0;32m~/miniconda3/envs/ml/lib/python3.11/site-packages/keras/src/saving/saving_lib.py:466\u001B[0m, in \u001B[0;36m_load_state\u001B[0;34m(trackable, weights_store, assets_store, inner_path, skip_mismatch, visited_trackables)\u001B[0m\n\u001B[1;32m    457\u001B[0m     _load_state(\n\u001B[1;32m    458\u001B[0m         child_obj,\n\u001B[1;32m    459\u001B[0m         weights_store,\n\u001B[0;32m   (...)\u001B[0m\n\u001B[1;32m    463\u001B[0m         visited_trackables\u001B[38;5;241m=\u001B[39mvisited_trackables,\n\u001B[1;32m    464\u001B[0m     )\n\u001B[1;32m    465\u001B[0m \u001B[38;5;28;01melif\u001B[39;00m \u001B[38;5;28misinstance\u001B[39m(child_obj, (\u001B[38;5;28mlist\u001B[39m, \u001B[38;5;28mdict\u001B[39m, \u001B[38;5;28mtuple\u001B[39m, \u001B[38;5;28mset\u001B[39m)):\n\u001B[0;32m--> 466\u001B[0m     \u001B[43m_load_container_state\u001B[49m\u001B[43m(\u001B[49m\n\u001B[1;32m    467\u001B[0m \u001B[43m        \u001B[49m\u001B[43mchild_obj\u001B[49m\u001B[43m,\u001B[49m\n\u001B[1;32m    468\u001B[0m \u001B[43m        \u001B[49m\u001B[43mweights_store\u001B[49m\u001B[43m,\u001B[49m\n\u001B[1;32m    469\u001B[0m \u001B[43m        \u001B[49m\u001B[43massets_store\u001B[49m\u001B[43m,\u001B[49m\n\u001B[1;32m    470\u001B[0m \u001B[43m        \u001B[49m\u001B[43minner_path\u001B[49m\u001B[38;5;241;43m=\u001B[39;49m\u001B[43mtf\u001B[49m\u001B[38;5;241;43m.\u001B[39;49m\u001B[43mio\u001B[49m\u001B[38;5;241;43m.\u001B[39;49m\u001B[43mgfile\u001B[49m\u001B[38;5;241;43m.\u001B[39;49m\u001B[43mjoin\u001B[49m\u001B[43m(\u001B[49m\u001B[43minner_path\u001B[49m\u001B[43m,\u001B[49m\u001B[43m \u001B[49m\u001B[43mchild_attr\u001B[49m\u001B[43m)\u001B[49m\u001B[43m,\u001B[49m\n\u001B[1;32m    471\u001B[0m \u001B[43m        \u001B[49m\u001B[43mskip_mismatch\u001B[49m\u001B[38;5;241;43m=\u001B[39;49m\u001B[43mskip_mismatch\u001B[49m\u001B[43m,\u001B[49m\n\u001B[1;32m    472\u001B[0m \u001B[43m        \u001B[49m\u001B[43mvisited_trackables\u001B[49m\u001B[38;5;241;43m=\u001B[39;49m\u001B[43mvisited_trackables\u001B[49m\u001B[43m,\u001B[49m\n\u001B[1;32m    473\u001B[0m \u001B[43m    \u001B[49m\u001B[43m)\u001B[49m\n",
      "File \u001B[0;32m~/miniconda3/envs/ml/lib/python3.11/site-packages/keras/src/saving/saving_lib.py:534\u001B[0m, in \u001B[0;36m_load_container_state\u001B[0;34m(container, weights_store, assets_store, inner_path, skip_mismatch, visited_trackables)\u001B[0m\n\u001B[1;32m    532\u001B[0m \u001B[38;5;28;01melse\u001B[39;00m:\n\u001B[1;32m    533\u001B[0m     used_names[name] \u001B[38;5;241m=\u001B[39m \u001B[38;5;241m0\u001B[39m\n\u001B[0;32m--> 534\u001B[0m \u001B[43m_load_state\u001B[49m\u001B[43m(\u001B[49m\n\u001B[1;32m    535\u001B[0m \u001B[43m    \u001B[49m\u001B[43mtrackable\u001B[49m\u001B[43m,\u001B[49m\n\u001B[1;32m    536\u001B[0m \u001B[43m    \u001B[49m\u001B[43mweights_store\u001B[49m\u001B[43m,\u001B[49m\n\u001B[1;32m    537\u001B[0m \u001B[43m    \u001B[49m\u001B[43massets_store\u001B[49m\u001B[43m,\u001B[49m\n\u001B[1;32m    538\u001B[0m \u001B[43m    \u001B[49m\u001B[43minner_path\u001B[49m\u001B[38;5;241;43m=\u001B[39;49m\u001B[43mtf\u001B[49m\u001B[38;5;241;43m.\u001B[39;49m\u001B[43mio\u001B[49m\u001B[38;5;241;43m.\u001B[39;49m\u001B[43mgfile\u001B[49m\u001B[38;5;241;43m.\u001B[39;49m\u001B[43mjoin\u001B[49m\u001B[43m(\u001B[49m\u001B[43minner_path\u001B[49m\u001B[43m,\u001B[49m\u001B[43m \u001B[49m\u001B[43mname\u001B[49m\u001B[43m)\u001B[49m\u001B[43m,\u001B[49m\n\u001B[1;32m    539\u001B[0m \u001B[43m    \u001B[49m\u001B[43mskip_mismatch\u001B[49m\u001B[38;5;241;43m=\u001B[39;49m\u001B[43mskip_mismatch\u001B[49m\u001B[43m,\u001B[49m\n\u001B[1;32m    540\u001B[0m \u001B[43m    \u001B[49m\u001B[43mvisited_trackables\u001B[49m\u001B[38;5;241;43m=\u001B[39;49m\u001B[43mvisited_trackables\u001B[49m\u001B[43m,\u001B[49m\n\u001B[1;32m    541\u001B[0m \u001B[43m\u001B[49m\u001B[43m)\u001B[49m\n",
      "File \u001B[0;32m~/miniconda3/envs/ml/lib/python3.11/site-packages/keras/src/saving/saving_lib.py:457\u001B[0m, in \u001B[0;36m_load_state\u001B[0;34m(trackable, weights_store, assets_store, inner_path, skip_mismatch, visited_trackables)\u001B[0m\n\u001B[1;32m    455\u001B[0m \u001B[38;5;28;01mfor\u001B[39;00m child_attr, child_obj \u001B[38;5;129;01min\u001B[39;00m _walk_trackable(trackable):\n\u001B[1;32m    456\u001B[0m     \u001B[38;5;28;01mif\u001B[39;00m _is_keras_trackable(child_obj):\n\u001B[0;32m--> 457\u001B[0m         \u001B[43m_load_state\u001B[49m\u001B[43m(\u001B[49m\n\u001B[1;32m    458\u001B[0m \u001B[43m            \u001B[49m\u001B[43mchild_obj\u001B[49m\u001B[43m,\u001B[49m\n\u001B[1;32m    459\u001B[0m \u001B[43m            \u001B[49m\u001B[43mweights_store\u001B[49m\u001B[43m,\u001B[49m\n\u001B[1;32m    460\u001B[0m \u001B[43m            \u001B[49m\u001B[43massets_store\u001B[49m\u001B[43m,\u001B[49m\n\u001B[1;32m    461\u001B[0m \u001B[43m            \u001B[49m\u001B[43minner_path\u001B[49m\u001B[38;5;241;43m=\u001B[39;49m\u001B[43mtf\u001B[49m\u001B[38;5;241;43m.\u001B[39;49m\u001B[43mio\u001B[49m\u001B[38;5;241;43m.\u001B[39;49m\u001B[43mgfile\u001B[49m\u001B[38;5;241;43m.\u001B[39;49m\u001B[43mjoin\u001B[49m\u001B[43m(\u001B[49m\u001B[43minner_path\u001B[49m\u001B[43m,\u001B[49m\u001B[43m \u001B[49m\u001B[43mchild_attr\u001B[49m\u001B[43m)\u001B[49m\u001B[43m,\u001B[49m\n\u001B[1;32m    462\u001B[0m \u001B[43m            \u001B[49m\u001B[43mskip_mismatch\u001B[49m\u001B[38;5;241;43m=\u001B[39;49m\u001B[43mskip_mismatch\u001B[49m\u001B[43m,\u001B[49m\n\u001B[1;32m    463\u001B[0m \u001B[43m            \u001B[49m\u001B[43mvisited_trackables\u001B[49m\u001B[38;5;241;43m=\u001B[39;49m\u001B[43mvisited_trackables\u001B[49m\u001B[43m,\u001B[49m\n\u001B[1;32m    464\u001B[0m \u001B[43m        \u001B[49m\u001B[43m)\u001B[49m\n\u001B[1;32m    465\u001B[0m     \u001B[38;5;28;01melif\u001B[39;00m \u001B[38;5;28misinstance\u001B[39m(child_obj, (\u001B[38;5;28mlist\u001B[39m, \u001B[38;5;28mdict\u001B[39m, \u001B[38;5;28mtuple\u001B[39m, \u001B[38;5;28mset\u001B[39m)):\n\u001B[1;32m    466\u001B[0m         _load_container_state(\n\u001B[1;32m    467\u001B[0m             child_obj,\n\u001B[1;32m    468\u001B[0m             weights_store,\n\u001B[0;32m   (...)\u001B[0m\n\u001B[1;32m    472\u001B[0m             visited_trackables\u001B[38;5;241m=\u001B[39mvisited_trackables,\n\u001B[1;32m    473\u001B[0m         )\n",
      "File \u001B[0;32m~/miniconda3/envs/ml/lib/python3.11/site-packages/keras/src/saving/saving_lib.py:435\u001B[0m, in \u001B[0;36m_load_state\u001B[0;34m(trackable, weights_store, assets_store, inner_path, skip_mismatch, visited_trackables)\u001B[0m\n\u001B[1;32m    428\u001B[0m             warnings\u001B[38;5;241m.\u001B[39mwarn(\n\u001B[1;32m    429\u001B[0m                 \u001B[38;5;124mf\u001B[39m\u001B[38;5;124m\"\u001B[39m\u001B[38;5;124mCould not load weights in object \u001B[39m\u001B[38;5;132;01m{\u001B[39;00mtrackable\u001B[38;5;132;01m}\u001B[39;00m\u001B[38;5;124m. \u001B[39m\u001B[38;5;124m\"\u001B[39m\n\u001B[1;32m    430\u001B[0m                 \u001B[38;5;124m\"\u001B[39m\u001B[38;5;124mSkipping object. \u001B[39m\u001B[38;5;124m\"\u001B[39m\n\u001B[1;32m    431\u001B[0m                 \u001B[38;5;124mf\u001B[39m\u001B[38;5;124m\"\u001B[39m\u001B[38;5;124mException encountered: \u001B[39m\u001B[38;5;132;01m{\u001B[39;00me\u001B[38;5;132;01m}\u001B[39;00m\u001B[38;5;124m\"\u001B[39m,\n\u001B[1;32m    432\u001B[0m                 stacklevel\u001B[38;5;241m=\u001B[39m\u001B[38;5;241m2\u001B[39m,\n\u001B[1;32m    433\u001B[0m             )\n\u001B[1;32m    434\u001B[0m     \u001B[38;5;28;01melse\u001B[39;00m:\n\u001B[0;32m--> 435\u001B[0m         \u001B[43mtrackable\u001B[49m\u001B[38;5;241;43m.\u001B[39;49m\u001B[43mload_own_variables\u001B[49m\u001B[43m(\u001B[49m\u001B[43mweights_store\u001B[49m\u001B[38;5;241;43m.\u001B[39;49m\u001B[43mget\u001B[49m\u001B[43m(\u001B[49m\u001B[43minner_path\u001B[49m\u001B[43m)\u001B[49m\u001B[43m)\u001B[49m\n\u001B[1;32m    437\u001B[0m \u001B[38;5;28;01mif\u001B[39;00m \u001B[38;5;28mhasattr\u001B[39m(trackable, \u001B[38;5;124m\"\u001B[39m\u001B[38;5;124mload_assets\u001B[39m\u001B[38;5;124m\"\u001B[39m) \u001B[38;5;129;01mand\u001B[39;00m assets_store:\n\u001B[1;32m    438\u001B[0m     \u001B[38;5;28;01mif\u001B[39;00m skip_mismatch:\n",
      "File \u001B[0;32m~/miniconda3/envs/ml/lib/python3.11/site-packages/keras/src/engine/base_layer.py:3531\u001B[0m, in \u001B[0;36mLayer.load_own_variables\u001B[0;34m(self, store)\u001B[0m\n\u001B[1;32m   3529\u001B[0m all_vars \u001B[38;5;241m=\u001B[39m \u001B[38;5;28mself\u001B[39m\u001B[38;5;241m.\u001B[39m_trainable_weights \u001B[38;5;241m+\u001B[39m \u001B[38;5;28mself\u001B[39m\u001B[38;5;241m.\u001B[39m_non_trainable_weights\n\u001B[1;32m   3530\u001B[0m \u001B[38;5;28;01mif\u001B[39;00m \u001B[38;5;28mlen\u001B[39m(store\u001B[38;5;241m.\u001B[39mkeys()) \u001B[38;5;241m!=\u001B[39m \u001B[38;5;28mlen\u001B[39m(all_vars):\n\u001B[0;32m-> 3531\u001B[0m     \u001B[38;5;28;01mraise\u001B[39;00m \u001B[38;5;167;01mValueError\u001B[39;00m(\n\u001B[1;32m   3532\u001B[0m         \u001B[38;5;124mf\u001B[39m\u001B[38;5;124m\"\u001B[39m\u001B[38;5;124mLayer \u001B[39m\u001B[38;5;124m'\u001B[39m\u001B[38;5;132;01m{\u001B[39;00m\u001B[38;5;28mself\u001B[39m\u001B[38;5;241m.\u001B[39mname\u001B[38;5;132;01m}\u001B[39;00m\u001B[38;5;124m'\u001B[39m\u001B[38;5;124m expected \u001B[39m\u001B[38;5;132;01m{\u001B[39;00m\u001B[38;5;28mlen\u001B[39m(all_vars)\u001B[38;5;132;01m}\u001B[39;00m\u001B[38;5;124m variables, \u001B[39m\u001B[38;5;124m\"\u001B[39m\n\u001B[1;32m   3533\u001B[0m         \u001B[38;5;124m\"\u001B[39m\u001B[38;5;124mbut received \u001B[39m\u001B[38;5;124m\"\u001B[39m\n\u001B[1;32m   3534\u001B[0m         \u001B[38;5;124mf\u001B[39m\u001B[38;5;124m\"\u001B[39m\u001B[38;5;132;01m{\u001B[39;00m\u001B[38;5;28mlen\u001B[39m(store\u001B[38;5;241m.\u001B[39mkeys())\u001B[38;5;132;01m}\u001B[39;00m\u001B[38;5;124m variables during loading. \u001B[39m\u001B[38;5;124m\"\u001B[39m\n\u001B[1;32m   3535\u001B[0m         \u001B[38;5;124mf\u001B[39m\u001B[38;5;124m\"\u001B[39m\u001B[38;5;124mExpected: \u001B[39m\u001B[38;5;132;01m{\u001B[39;00m[v\u001B[38;5;241m.\u001B[39mname\u001B[38;5;250m \u001B[39m\u001B[38;5;28;01mfor\u001B[39;00m\u001B[38;5;250m \u001B[39mv\u001B[38;5;250m \u001B[39m\u001B[38;5;129;01min\u001B[39;00m\u001B[38;5;250m \u001B[39mall_vars]\u001B[38;5;132;01m}\u001B[39;00m\u001B[38;5;124m\"\u001B[39m\n\u001B[1;32m   3536\u001B[0m     )\n\u001B[1;32m   3537\u001B[0m \u001B[38;5;28;01mfor\u001B[39;00m i, v \u001B[38;5;129;01min\u001B[39;00m \u001B[38;5;28menumerate\u001B[39m(all_vars):\n\u001B[1;32m   3538\u001B[0m     \u001B[38;5;66;03m# TODO(rchao): check shapes and raise errors.\u001B[39;00m\n\u001B[1;32m   3539\u001B[0m     v\u001B[38;5;241m.\u001B[39massign(store[\u001B[38;5;124mf\u001B[39m\u001B[38;5;124m\"\u001B[39m\u001B[38;5;132;01m{\u001B[39;00mi\u001B[38;5;132;01m}\u001B[39;00m\u001B[38;5;124m\"\u001B[39m])\n",
      "\u001B[0;31mValueError\u001B[0m: Layer 'pooler' expected 0 variables, but received 2 variables during loading. Expected: []"
     ]
    }
   ],
   "source": [
    "loaded_model = tf.keras.models.load_model('first_model.keras')"
   ]
  },
  {
   "cell_type": "code",
   "execution_count": 32,
   "id": "fc0f9f63-4914-4652-b7bc-d9ec60ed05e6",
   "metadata": {},
   "outputs": [
    {
     "data": {
      "text/plain": [
       "{'input_ids': <tf.Tensor: shape=(512,), dtype=int32, numpy=\n",
       " array([    2,  3957,  3302,   134,  1455,  1389, 18249,    97,   116,\n",
       "          270,  2144,   768,   340,   182,   461,  3560,  2594,   255,\n",
       "         1376,  7024,  6746,  1868,  4292,    13, 14228,    49,   833,\n",
       "          768,   797,    53,  5419,    49,    53,  3560,  2594,   255,\n",
       "         6586,  3560,  2594,   255,  1327,    13,  2291,  1523, 12860,\n",
       "         9470,  2552,    18,  2348,  1619,  8870,   930,   875,  1768,\n",
       "           49,  5873,    13,    62,  8766,    13, 27083,  2232,  7024,\n",
       "          712,   159,    13,    18, 18049,   150,  4282,  1207,  7024,\n",
       "           13, 13391,   291,   361,   229,   340,   395,   154,   511,\n",
       "         4827,   242,  7176,  1982,   376,   174,   130,  1694,  2064,\n",
       "          395,   990,   182,  1369,  7773,  6897,  1161,  2950,    40,\n",
       "         6702,   259,    44, 17837,   683,  1210,  4014, 25955,   721,\n",
       "          174,  1025,  7476,   601,    83,  3215,   302, 13735,    44,\n",
       "        17837,   844,   882,  1077,  8468,    18,    18,   519,   332,\n",
       "          159,   590,   182,  1222,  6122,   150,  1179,   357,   121,\n",
       "         6879, 11692,    18, 10391,  2029,   309, 13810,  5498,  2858,\n",
       "         3006,  1701,   585,   569,   398,   821,  1388,  2091,   123,\n",
       "         3440,   234,    19, 10301,    43,  4265,   454, 13111,  5293,\n",
       "         3547,   242,  2059,  3689, 12012,   282,  4994,  1982,  7289,\n",
       "           13,  9629,  1388,    13, 24487,   114,   596,    67,    13,\n",
       "        19003,    13, 17083,  8466, 12067,  3807,  2786,    13,   444,\n",
       "          326,   135,   282, 18203,  5567,  4856,  3182,  1222,  2029,\n",
       "        22862,  1210,  3440,   182,    13,     1,   515, 11608,    62,\n",
       "         5495,  7323,  6122,   150,  1179,   357,   121,  6879,  2062,\n",
       "        11617,    58,  2517,  2529,    13,    10,   246,  4210,   504,\n",
       "         1480, 14050,  4113,    13, 24487,  7955,    13,    10,   126,\n",
       "           13, 18021,  7175,    58,   444,   326,   135,   225,  8468,\n",
       "           38,    97,  2262,   137,   384,  1110,   786,    13, 13549,\n",
       "          493, 10647,    49,   787, 12053,  7175,    58,   444,  7024,\n",
       "         8019,    86,  8916,  1683,    49,  3820,    13, 27753,  7176,\n",
       "         1982,   786,  8468,    18,    18,   662,  2166,   326,   135,\n",
       "         3391,    13,  2291,  1523,  1042,   363,   787,   469,   390,\n",
       "          159,  7176,  1982,   944,   734,   293,    13, 13549,   786,\n",
       "          234,   367,   960,  6469,   174,  1216,  2517,   511,   494,\n",
       "          101,  7476,   182,   461,  3560,  2594,   255,   799,  1369,\n",
       "        15814,  1356,  2916,  2517,    13, 17083,   685,  4430,   759,\n",
       "         7476,   182,   395,   243,    26,   263,  3757,   408,   164,\n",
       "          229,   193,   193,  2003,   293,   126,  3290,  7955,   340,\n",
       "         1472,   101,  3531,     3,     0,     0,     0,     0,     0,\n",
       "            0,     0,     0,     0,     0,     0,     0,     0,     0,\n",
       "            0,     0,     0,     0,     0,     0,     0,     0,     0,\n",
       "            0,     0,     0,     0,     0,     0,     0,     0,     0,\n",
       "            0,     0,     0,     0,     0,     0,     0,     0,     0,\n",
       "            0,     0,     0,     0,     0,     0,     0,     0,     0,\n",
       "            0,     0,     0,     0,     0,     0,     0,     0,     0,\n",
       "            0,     0,     0,     0,     0,     0,     0,     0,     0,\n",
       "            0,     0,     0,     0,     0,     0,     0,     0,     0,\n",
       "            0,     0,     0,     0,     0,     0,     0,     0,     0,\n",
       "            0,     0,     0,     0,     0,     0,     0,     0,     0,\n",
       "            0,     0,     0,     0,     0,     0,     0,     0,     0,\n",
       "            0,     0,     0,     0,     0,     0,     0,     0,     0,\n",
       "            0,     0,     0,     0,     0,     0,     0,     0,     0,\n",
       "            0,     0,     0,     0,     0,     0,     0,     0,     0,\n",
       "            0,     0,     0,     0,     0,     0,     0,     0,     0,\n",
       "            0,     0,     0,     0,     0,     0,     0,     0,     0,\n",
       "            0,     0,     0,     0,     0,     0,     0,     0,     0,\n",
       "            0,     0,     0,     0,     0,     0,     0,     0],\n",
       "       dtype=int32)>,\n",
       " 'token_type_ids': <tf.Tensor: shape=(512,), dtype=int32, numpy=\n",
       " array([0, 0, 0, 0, 0, 0, 0, 0, 0, 0, 0, 0, 0, 0, 0, 0, 0, 0, 0, 0, 0, 0,\n",
       "        0, 0, 0, 0, 0, 0, 0, 0, 0, 0, 0, 0, 0, 0, 0, 0, 0, 0, 0, 0, 0, 0,\n",
       "        0, 0, 0, 0, 0, 0, 0, 0, 0, 0, 0, 0, 0, 0, 0, 0, 0, 0, 0, 0, 0, 0,\n",
       "        0, 0, 0, 0, 0, 0, 0, 0, 0, 0, 0, 0, 0, 0, 0, 0, 0, 0, 0, 0, 0, 0,\n",
       "        0, 0, 0, 0, 0, 0, 0, 0, 0, 0, 0, 0, 0, 0, 0, 0, 0, 0, 0, 0, 0, 0,\n",
       "        0, 0, 0, 0, 0, 0, 0, 0, 0, 0, 0, 0, 0, 0, 0, 0, 0, 0, 0, 0, 0, 0,\n",
       "        0, 0, 0, 0, 0, 0, 0, 0, 0, 0, 0, 0, 0, 0, 0, 0, 0, 0, 0, 0, 0, 0,\n",
       "        0, 0, 0, 0, 0, 0, 0, 0, 0, 0, 0, 0, 0, 0, 0, 0, 0, 0, 0, 0, 0, 0,\n",
       "        0, 0, 0, 0, 0, 0, 0, 0, 0, 0, 0, 0, 0, 0, 0, 0, 0, 0, 0, 0, 0, 0,\n",
       "        0, 0, 0, 0, 0, 0, 0, 0, 0, 0, 0, 0, 0, 0, 0, 0, 0, 0, 0, 0, 0, 0,\n",
       "        0, 0, 0, 0, 0, 0, 0, 0, 0, 0, 0, 0, 0, 0, 0, 0, 0, 0, 0, 0, 0, 0,\n",
       "        0, 0, 0, 0, 0, 0, 0, 0, 0, 0, 0, 0, 0, 0, 0, 0, 0, 0, 0, 0, 0, 0,\n",
       "        0, 0, 0, 0, 0, 0, 0, 0, 0, 0, 0, 0, 0, 0, 0, 0, 0, 0, 0, 0, 0, 0,\n",
       "        0, 0, 0, 0, 0, 0, 0, 0, 0, 0, 0, 0, 0, 0, 0, 0, 0, 0, 0, 0, 0, 0,\n",
       "        0, 0, 0, 0, 0, 0, 0, 0, 0, 0, 0, 0, 0, 0, 0, 0, 0, 0, 0, 0, 0, 0,\n",
       "        0, 0, 0, 0, 0, 0, 0, 0, 0, 0, 0, 0, 0, 0, 0, 0, 0, 0, 0, 0, 0, 0,\n",
       "        0, 0, 0, 0, 0, 0, 0, 0, 0, 0, 0, 0, 0, 0, 0, 0, 0, 0, 0, 0, 0, 0,\n",
       "        0, 0, 0, 0, 0, 0, 0, 0, 0, 0, 0, 0, 0, 0, 0, 0, 0, 0, 0, 0, 0, 0,\n",
       "        0, 0, 0, 0, 0, 0, 0, 0, 0, 0, 0, 0, 0, 0, 0, 0, 0, 0, 0, 0, 0, 0,\n",
       "        0, 0, 0, 0, 0, 0, 0, 0, 0, 0, 0, 0, 0, 0, 0, 0, 0, 0, 0, 0, 0, 0,\n",
       "        0, 0, 0, 0, 0, 0, 0, 0, 0, 0, 0, 0, 0, 0, 0, 0, 0, 0, 0, 0, 0, 0,\n",
       "        0, 0, 0, 0, 0, 0, 0, 0, 0, 0, 0, 0, 0, 0, 0, 0, 0, 0, 0, 0, 0, 0,\n",
       "        0, 0, 0, 0, 0, 0, 0, 0, 0, 0, 0, 0, 0, 0, 0, 0, 0, 0, 0, 0, 0, 0,\n",
       "        0, 0, 0, 0, 0, 0], dtype=int32)>,\n",
       " 'attention_mask': <tf.Tensor: shape=(512,), dtype=int32, numpy=\n",
       " array([1, 1, 1, 1, 1, 1, 1, 1, 1, 1, 1, 1, 1, 1, 1, 1, 1, 1, 1, 1, 1, 1,\n",
       "        1, 1, 1, 1, 1, 1, 1, 1, 1, 1, 1, 1, 1, 1, 1, 1, 1, 1, 1, 1, 1, 1,\n",
       "        1, 1, 1, 1, 1, 1, 1, 1, 1, 1, 1, 1, 1, 1, 1, 1, 1, 1, 1, 1, 1, 1,\n",
       "        1, 1, 1, 1, 1, 1, 1, 1, 1, 1, 1, 1, 1, 1, 1, 1, 1, 1, 1, 1, 1, 1,\n",
       "        1, 1, 1, 1, 1, 1, 1, 1, 1, 1, 1, 1, 1, 1, 1, 1, 1, 1, 1, 1, 1, 1,\n",
       "        1, 1, 1, 1, 1, 1, 1, 1, 1, 1, 1, 1, 1, 1, 1, 1, 1, 1, 1, 1, 1, 1,\n",
       "        1, 1, 1, 1, 1, 1, 1, 1, 1, 1, 1, 1, 1, 1, 1, 1, 1, 1, 1, 1, 1, 1,\n",
       "        1, 1, 1, 1, 1, 1, 1, 1, 1, 1, 1, 1, 1, 1, 1, 1, 1, 1, 1, 1, 1, 1,\n",
       "        1, 1, 1, 1, 1, 1, 1, 1, 1, 1, 1, 1, 1, 1, 1, 1, 1, 1, 1, 1, 1, 1,\n",
       "        1, 1, 1, 1, 1, 1, 1, 1, 1, 1, 1, 1, 1, 1, 1, 1, 1, 1, 1, 1, 1, 1,\n",
       "        1, 1, 1, 1, 1, 1, 1, 1, 1, 1, 1, 1, 1, 1, 1, 1, 1, 1, 1, 1, 1, 1,\n",
       "        1, 1, 1, 1, 1, 1, 1, 1, 1, 1, 1, 1, 1, 1, 1, 1, 1, 1, 1, 1, 1, 1,\n",
       "        1, 1, 1, 1, 1, 1, 1, 1, 1, 1, 1, 1, 1, 1, 1, 1, 1, 1, 1, 1, 1, 1,\n",
       "        1, 1, 1, 1, 1, 1, 1, 1, 1, 1, 1, 1, 1, 1, 1, 1, 1, 1, 1, 1, 1, 1,\n",
       "        1, 1, 1, 1, 1, 1, 1, 1, 1, 1, 1, 1, 1, 1, 1, 1, 1, 1, 1, 1, 1, 1,\n",
       "        1, 1, 1, 1, 1, 1, 1, 1, 1, 1, 1, 1, 1, 1, 1, 1, 0, 0, 0, 0, 0, 0,\n",
       "        0, 0, 0, 0, 0, 0, 0, 0, 0, 0, 0, 0, 0, 0, 0, 0, 0, 0, 0, 0, 0, 0,\n",
       "        0, 0, 0, 0, 0, 0, 0, 0, 0, 0, 0, 0, 0, 0, 0, 0, 0, 0, 0, 0, 0, 0,\n",
       "        0, 0, 0, 0, 0, 0, 0, 0, 0, 0, 0, 0, 0, 0, 0, 0, 0, 0, 0, 0, 0, 0,\n",
       "        0, 0, 0, 0, 0, 0, 0, 0, 0, 0, 0, 0, 0, 0, 0, 0, 0, 0, 0, 0, 0, 0,\n",
       "        0, 0, 0, 0, 0, 0, 0, 0, 0, 0, 0, 0, 0, 0, 0, 0, 0, 0, 0, 0, 0, 0,\n",
       "        0, 0, 0, 0, 0, 0, 0, 0, 0, 0, 0, 0, 0, 0, 0, 0, 0, 0, 0, 0, 0, 0,\n",
       "        0, 0, 0, 0, 0, 0, 0, 0, 0, 0, 0, 0, 0, 0, 0, 0, 0, 0, 0, 0, 0, 0,\n",
       "        0, 0, 0, 0, 0, 0], dtype=int32)>}"
      ]
     },
     "execution_count": 32,
     "metadata": {},
     "output_type": "execute_result"
    }
   ],
   "source": [
    "# test_features\n",
    "test_input={'input_ids': test_features['input_ids'][0], 'token_type_ids': test_features['token_type_ids'][0], \n",
    "            'attention_mask':  test_features['attention_mask'][0]}\n",
    "test_input"
   ]
  },
  {
   "cell_type": "code",
   "execution_count": 35,
   "id": "de8992cf-669f-4b3e-a8fc-32572a7aeca3",
   "metadata": {},
   "outputs": [
    {
     "name": "stdout",
     "output_type": "stream",
     "text": [
      "14/16 [=========================>....] - ETA: 0s"
     ]
    },
    {
     "ename": "ValueError",
     "evalue": "Unexpected result of `predict_function` (Empty batch_outputs). Please use `Model.compile(..., run_eagerly=True)`, or `tf.config.run_functions_eagerly(True)` for more information of where went wrong, or file a issue/bug to `tf.keras`.",
     "output_type": "error",
     "traceback": [
      "\u001B[0;31m---------------------------------------------------------------------------\u001B[0m",
      "\u001B[0;31mValueError\u001B[0m                                Traceback (most recent call last)",
      "Cell \u001B[0;32mIn[35], line 1\u001B[0m\n\u001B[0;32m----> 1\u001B[0m \u001B[43mloaded_model\u001B[49m\u001B[38;5;241;43m.\u001B[39;49m\u001B[43mpredict\u001B[49m\u001B[43m(\u001B[49m\u001B[43mtest_input\u001B[49m\u001B[43m)\u001B[49m\n",
      "File \u001B[0;32m~/miniconda3/envs/ml/lib/python3.11/site-packages/keras/src/utils/traceback_utils.py:70\u001B[0m, in \u001B[0;36mfilter_traceback.<locals>.error_handler\u001B[0;34m(*args, **kwargs)\u001B[0m\n\u001B[1;32m     67\u001B[0m     filtered_tb \u001B[38;5;241m=\u001B[39m _process_traceback_frames(e\u001B[38;5;241m.\u001B[39m__traceback__)\n\u001B[1;32m     68\u001B[0m     \u001B[38;5;66;03m# To get the full stack trace, call:\u001B[39;00m\n\u001B[1;32m     69\u001B[0m     \u001B[38;5;66;03m# `tf.debugging.disable_traceback_filtering()`\u001B[39;00m\n\u001B[0;32m---> 70\u001B[0m     \u001B[38;5;28;01mraise\u001B[39;00m e\u001B[38;5;241m.\u001B[39mwith_traceback(filtered_tb) \u001B[38;5;28;01mfrom\u001B[39;00m \u001B[38;5;28;01mNone\u001B[39;00m\n\u001B[1;32m     71\u001B[0m \u001B[38;5;28;01mfinally\u001B[39;00m:\n\u001B[1;32m     72\u001B[0m     \u001B[38;5;28;01mdel\u001B[39;00m filtered_tb\n",
      "File \u001B[0;32m~/miniconda3/envs/ml/lib/python3.11/site-packages/keras/src/engine/training.py:2680\u001B[0m, in \u001B[0;36mModel.predict\u001B[0;34m(self, x, batch_size, verbose, steps, callbacks, max_queue_size, workers, use_multiprocessing)\u001B[0m\n\u001B[1;32m   2676\u001B[0m             callbacks\u001B[38;5;241m.\u001B[39mon_predict_batch_end(\n\u001B[1;32m   2677\u001B[0m                 end_step, {\u001B[38;5;124m\"\u001B[39m\u001B[38;5;124moutputs\u001B[39m\u001B[38;5;124m\"\u001B[39m: batch_outputs}\n\u001B[1;32m   2678\u001B[0m             )\n\u001B[1;32m   2679\u001B[0m \u001B[38;5;28;01mif\u001B[39;00m batch_outputs \u001B[38;5;129;01mis\u001B[39;00m \u001B[38;5;28;01mNone\u001B[39;00m:\n\u001B[0;32m-> 2680\u001B[0m     \u001B[38;5;28;01mraise\u001B[39;00m \u001B[38;5;167;01mValueError\u001B[39;00m(\n\u001B[1;32m   2681\u001B[0m         \u001B[38;5;124m\"\u001B[39m\u001B[38;5;124mUnexpected result of `predict_function` \u001B[39m\u001B[38;5;124m\"\u001B[39m\n\u001B[1;32m   2682\u001B[0m         \u001B[38;5;124m\"\u001B[39m\u001B[38;5;124m(Empty batch_outputs). Please use \u001B[39m\u001B[38;5;124m\"\u001B[39m\n\u001B[1;32m   2683\u001B[0m         \u001B[38;5;124m\"\u001B[39m\u001B[38;5;124m`Model.compile(..., run_eagerly=True)`, or \u001B[39m\u001B[38;5;124m\"\u001B[39m\n\u001B[1;32m   2684\u001B[0m         \u001B[38;5;124m\"\u001B[39m\u001B[38;5;124m`tf.config.run_functions_eagerly(True)` for more \u001B[39m\u001B[38;5;124m\"\u001B[39m\n\u001B[1;32m   2685\u001B[0m         \u001B[38;5;124m\"\u001B[39m\u001B[38;5;124minformation of where went wrong, or file a \u001B[39m\u001B[38;5;124m\"\u001B[39m\n\u001B[1;32m   2686\u001B[0m         \u001B[38;5;124m\"\u001B[39m\u001B[38;5;124missue/bug to `tf.keras`.\u001B[39m\u001B[38;5;124m\"\u001B[39m\n\u001B[1;32m   2687\u001B[0m     )\n\u001B[1;32m   2688\u001B[0m \u001B[38;5;28;01mif\u001B[39;00m \u001B[38;5;28mself\u001B[39m\u001B[38;5;241m.\u001B[39mautotune_steps_per_execution:\n\u001B[1;32m   2689\u001B[0m     \u001B[38;5;28mself\u001B[39m\u001B[38;5;241m.\u001B[39m_steps_per_execution_tuner\u001B[38;5;241m.\u001B[39mstop()\n",
      "\u001B[0;31mValueError\u001B[0m: Unexpected result of `predict_function` (Empty batch_outputs). Please use `Model.compile(..., run_eagerly=True)`, or `tf.config.run_functions_eagerly(True)` for more information of where went wrong, or file a issue/bug to `tf.keras`."
     ]
    }
   ],
   "source": [
    "loaded_model.predict(test_input)"
   ]
  },
  {
   "cell_type": "code",
   "execution_count": null,
   "id": "1fa89a43-f27e-49a7-905f-c8f361d05f5a",
   "metadata": {},
   "outputs": [],
   "source": []
  },
  {
   "cell_type": "code",
   "execution_count": null,
   "id": "57152f25-bc37-4694-9d68-202218f0d77c",
   "metadata": {},
   "outputs": [],
   "source": []
  }
 ],
 "metadata": {
  "accelerator": "GPU",
  "colab": {
   "gpuType": "T4",
   "provenance": []
  },
  "kernelspec": {
   "display_name": "Python 3 (ipykernel)",
   "language": "python",
   "name": "python3"
  },
  "language_info": {
   "codemirror_mode": {
    "name": "ipython",
    "version": 3
   },
   "file_extension": ".py",
   "mimetype": "text/x-python",
   "name": "python",
   "nbconvert_exporter": "python",
   "pygments_lexer": "ipython3",
   "version": "3.11.4"
  }
 },
 "nbformat": 4,
 "nbformat_minor": 5
}
