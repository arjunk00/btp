{
 "cells": [
  {
   "cell_type": "code",
   "execution_count": 1,
   "id": "2087839d-5d9c-411f-89db-220bfb78de3a",
   "metadata": {
    "id": "2087839d-5d9c-411f-89db-220bfb78de3a",
    "ExecuteTime": {
     "end_time": "2023-11-26T17:21:20.962766586Z",
     "start_time": "2023-11-26T17:21:15.083747440Z"
    }
   },
   "outputs": [
    {
     "name": "stderr",
     "output_type": "stream",
     "text": [
      "2023-11-26 22:51:15.783837: I external/local_tsl/tsl/cuda/cudart_stub.cc:31] Could not find cuda drivers on your machine, GPU will not be used.\n",
      "2023-11-26 22:51:16.106094: E external/local_xla/xla/stream_executor/cuda/cuda_dnn.cc:9261] Unable to register cuDNN factory: Attempting to register factory for plugin cuDNN when one has already been registered\n",
      "2023-11-26 22:51:16.106167: E external/local_xla/xla/stream_executor/cuda/cuda_fft.cc:607] Unable to register cuFFT factory: Attempting to register factory for plugin cuFFT when one has already been registered\n",
      "2023-11-26 22:51:16.167358: E external/local_xla/xla/stream_executor/cuda/cuda_blas.cc:1515] Unable to register cuBLAS factory: Attempting to register factory for plugin cuBLAS when one has already been registered\n",
      "2023-11-26 22:51:16.288716: I external/local_tsl/tsl/cuda/cudart_stub.cc:31] Could not find cuda drivers on your machine, GPU will not be used.\n",
      "2023-11-26 22:51:16.290380: I tensorflow/core/platform/cpu_feature_guard.cc:182] This TensorFlow binary is optimized to use available CPU instructions in performance-critical operations.\n",
      "To enable the following instructions: AVX2 FMA, in other operations, rebuild TensorFlow with the appropriate compiler flags.\n",
      "2023-11-26 22:51:17.364046: W tensorflow/compiler/tf2tensorrt/utils/py_utils.cc:38] TF-TRT Warning: Could not find TensorRT\n",
      "/home/arjun/miniconda3/envs/ml/lib/python3.11/site-packages/tqdm/auto.py:21: TqdmWarning: IProgress not found. Please update jupyter and ipywidgets. See https://ipywidgets.readthedocs.io/en/stable/user_install.html\n",
      "  from .autonotebook import tqdm as notebook_tqdm\n"
     ]
    }
   ],
   "source": [
    "import tensorflow as tf\n",
    "import pandas as pd\n",
    "import numpy as np\n",
    "from transformers import AlbertTokenizer, TFAlbertForSequenceClassification\n",
    "import nltk\n",
    "from nltk.corpus import stopwords\n",
    "from nltk.stem import PorterStemmer\n",
    "from nltk.tokenize import word_tokenize\n",
    "import string"
   ]
  },
  {
   "cell_type": "code",
   "execution_count": 2,
   "id": "b5df027a-a521-49d7-9400-2494074b45e9",
   "metadata": {
    "colab": {
     "base_uri": "https://localhost:8080/",
     "height": 363
    },
    "collapsed": true,
    "id": "b5df027a-a521-49d7-9400-2494074b45e9",
    "jupyter": {
     "outputs_hidden": true
    },
    "outputId": "36f71da8-75cc-41a3-d3fd-30a9450a21a7",
    "ExecuteTime": {
     "end_time": "2023-11-26T17:21:24.662623495Z",
     "start_time": "2023-11-26T17:21:24.613978991Z"
    }
   },
   "outputs": [
    {
     "data": {
      "text/plain": "                                              speech       emotion\n0  From the moment that the French defenses at Se...         anger\n1  We observe today not a victory of party but a ...           joy\n2  Your Majesties, Your Highnesses, Distinguished...         trust\n3  I am honored to be with you today at your comm...  anticipation\n4  Honorable UN Secretary General Mr Ban Ki-moon,...       sadness\n5  It is with a profound sense of humility that I...       sadness\n6  My message is that we'll be watching you.\\r\\n\\...          fear\n7  Hello everybody. You know, Michelle and I have...           joy\n8  Your Majesties, Your Royal Highness, Excellenc...  anticipation\n9  Five score years ago, a great American, in who...         trust",
      "text/html": "<div>\n<style scoped>\n    .dataframe tbody tr th:only-of-type {\n        vertical-align: middle;\n    }\n\n    .dataframe tbody tr th {\n        vertical-align: top;\n    }\n\n    .dataframe thead th {\n        text-align: right;\n    }\n</style>\n<table border=\"1\" class=\"dataframe\">\n  <thead>\n    <tr style=\"text-align: right;\">\n      <th></th>\n      <th>speech</th>\n      <th>emotion</th>\n    </tr>\n  </thead>\n  <tbody>\n    <tr>\n      <th>0</th>\n      <td>From the moment that the French defenses at Se...</td>\n      <td>anger</td>\n    </tr>\n    <tr>\n      <th>1</th>\n      <td>We observe today not a victory of party but a ...</td>\n      <td>joy</td>\n    </tr>\n    <tr>\n      <th>2</th>\n      <td>Your Majesties, Your Highnesses, Distinguished...</td>\n      <td>trust</td>\n    </tr>\n    <tr>\n      <th>3</th>\n      <td>I am honored to be with you today at your comm...</td>\n      <td>anticipation</td>\n    </tr>\n    <tr>\n      <th>4</th>\n      <td>Honorable UN Secretary General Mr Ban Ki-moon,...</td>\n      <td>sadness</td>\n    </tr>\n    <tr>\n      <th>5</th>\n      <td>It is with a profound sense of humility that I...</td>\n      <td>sadness</td>\n    </tr>\n    <tr>\n      <th>6</th>\n      <td>My message is that we'll be watching you.\\r\\n\\...</td>\n      <td>fear</td>\n    </tr>\n    <tr>\n      <th>7</th>\n      <td>Hello everybody. You know, Michelle and I have...</td>\n      <td>joy</td>\n    </tr>\n    <tr>\n      <th>8</th>\n      <td>Your Majesties, Your Royal Highness, Excellenc...</td>\n      <td>anticipation</td>\n    </tr>\n    <tr>\n      <th>9</th>\n      <td>Five score years ago, a great American, in who...</td>\n      <td>trust</td>\n    </tr>\n  </tbody>\n</table>\n</div>"
     },
     "execution_count": 2,
     "metadata": {},
     "output_type": "execute_result"
    }
   ],
   "source": [
    "df=pd.read_csv('one_output_dataset.csv')\n",
    "df"
   ]
  },
  {
   "cell_type": "code",
   "execution_count": 3,
   "id": "fPjNOWUtEnl_",
   "metadata": {
    "colab": {
     "base_uri": "https://localhost:8080/",
     "height": 363
    },
    "id": "fPjNOWUtEnl_",
    "outputId": "719977c3-4461-4a6c-f03e-d013aa464b59",
    "ExecuteTime": {
     "end_time": "2023-11-26T17:21:26.859302764Z",
     "start_time": "2023-11-26T17:21:26.810170028Z"
    }
   },
   "outputs": [
    {
     "data": {
      "text/plain": "                                              speech  emotion\n0  From the moment that the French defenses at Se...      0.0\n1  We observe today not a victory of party but a ...      1.0\n2  Your Majesties, Your Highnesses, Distinguished...      2.0\n3  I am honored to be with you today at your comm...      3.0\n4  Honorable UN Secretary General Mr Ban Ki-moon,...      4.0\n5  It is with a profound sense of humility that I...      4.0\n6  My message is that we'll be watching you.\\r\\n\\...      5.0\n7  Hello everybody. You know, Michelle and I have...      1.0\n8  Your Majesties, Your Royal Highness, Excellenc...      3.0\n9  Five score years ago, a great American, in who...      2.0",
      "text/html": "<div>\n<style scoped>\n    .dataframe tbody tr th:only-of-type {\n        vertical-align: middle;\n    }\n\n    .dataframe tbody tr th {\n        vertical-align: top;\n    }\n\n    .dataframe thead th {\n        text-align: right;\n    }\n</style>\n<table border=\"1\" class=\"dataframe\">\n  <thead>\n    <tr style=\"text-align: right;\">\n      <th></th>\n      <th>speech</th>\n      <th>emotion</th>\n    </tr>\n  </thead>\n  <tbody>\n    <tr>\n      <th>0</th>\n      <td>From the moment that the French defenses at Se...</td>\n      <td>0.0</td>\n    </tr>\n    <tr>\n      <th>1</th>\n      <td>We observe today not a victory of party but a ...</td>\n      <td>1.0</td>\n    </tr>\n    <tr>\n      <th>2</th>\n      <td>Your Majesties, Your Highnesses, Distinguished...</td>\n      <td>2.0</td>\n    </tr>\n    <tr>\n      <th>3</th>\n      <td>I am honored to be with you today at your comm...</td>\n      <td>3.0</td>\n    </tr>\n    <tr>\n      <th>4</th>\n      <td>Honorable UN Secretary General Mr Ban Ki-moon,...</td>\n      <td>4.0</td>\n    </tr>\n    <tr>\n      <th>5</th>\n      <td>It is with a profound sense of humility that I...</td>\n      <td>4.0</td>\n    </tr>\n    <tr>\n      <th>6</th>\n      <td>My message is that we'll be watching you.\\r\\n\\...</td>\n      <td>5.0</td>\n    </tr>\n    <tr>\n      <th>7</th>\n      <td>Hello everybody. You know, Michelle and I have...</td>\n      <td>1.0</td>\n    </tr>\n    <tr>\n      <th>8</th>\n      <td>Your Majesties, Your Royal Highness, Excellenc...</td>\n      <td>3.0</td>\n    </tr>\n    <tr>\n      <th>9</th>\n      <td>Five score years ago, a great American, in who...</td>\n      <td>2.0</td>\n    </tr>\n  </tbody>\n</table>\n</div>"
     },
     "execution_count": 3,
     "metadata": {},
     "output_type": "execute_result"
    }
   ],
   "source": [
    "dict={'anger':0.0, 'joy':1.0, 'trust':2.0, 'anticipation':3.0, 'sadness':4.0, 'fear':5.0}\n",
    "df=df.replace(dict)\n",
    "df['emotion'] = df['emotion'].apply(pd.to_numeric)\n",
    "df"
   ]
  },
  {
   "cell_type": "markdown",
   "id": "6_FCLUvYT6y6",
   "metadata": {
    "id": "6_FCLUvYT6y6"
   },
   "source": [
    "# New Section"
   ]
  },
  {
   "cell_type": "code",
   "execution_count": 4,
   "id": "cb4bcaf4-b4d1-4974-8b2f-0c712520c3b7",
   "metadata": {
    "colab": {
     "base_uri": "https://localhost:8080/"
    },
    "id": "cb4bcaf4-b4d1-4974-8b2f-0c712520c3b7",
    "outputId": "9c6aa064-7324-44b0-a233-ba59b5e3dd29",
    "ExecuteTime": {
     "end_time": "2023-11-26T17:21:30.944831848Z",
     "start_time": "2023-11-26T17:21:29.582728192Z"
    }
   },
   "outputs": [
    {
     "name": "stderr",
     "output_type": "stream",
     "text": [
      "[nltk_data] Error loading punkt: <urlopen error [Errno 104] Connection\n",
      "[nltk_data]     reset by peer>\n",
      "[nltk_data] Error loading stopwords: <urlopen error [Errno 104]\n",
      "[nltk_data]     Connection reset by peer>\n"
     ]
    }
   ],
   "source": [
    "#preprocess transcript\n",
    "\n",
    "# download necessary NLTK data\n",
    "nltk.download('punkt')\n",
    "nltk.download('stopwords')\n",
    "\n",
    "# initialize a PorterStemmer\n",
    "stemmer = PorterStemmer()\n",
    "\n",
    "def preprocess_text(text):\n",
    "    # lowercase the text\n",
    "    text = text.lower()\n",
    "    # remove punctuation\n",
    "    text = text.translate(str.maketrans('', '', string.punctuation))\n",
    "    # tokenize the text\n",
    "    words = word_tokenize(text)\n",
    "    # remove stopwords and stem the words\n",
    "    words = [stemmer.stem(word) for word in words if word not in stopwords.words('english')]\n",
    "    # join the words back into a string\n",
    "    text = ' '.join(words)\n",
    "\n",
    "    return text\n",
    "\n",
    "df['speech'] = df['speech'].apply(preprocess_text)"
   ]
  },
  {
   "cell_type": "code",
   "execution_count": 5,
   "id": "wTWI03C7MU22",
   "metadata": {
    "colab": {
     "base_uri": "https://localhost:8080/"
    },
    "id": "wTWI03C7MU22",
    "outputId": "deb08c8e-0c63-4b5b-cec3-3835a348bd56",
    "ExecuteTime": {
     "end_time": "2023-11-26T17:21:34.211880603Z",
     "start_time": "2023-11-26T17:21:31.775365679Z"
    }
   },
   "outputs": [
    {
     "name": "stdout",
     "output_type": "stream",
     "text": [
      "Requirement already satisfied: sentencepiece in /home/arjun/miniconda3/envs/ml/lib/python3.11/site-packages (0.1.99)\r\n"
     ]
    }
   ],
   "source": [
    "!pip install sentencepiece"
   ]
  },
  {
   "cell_type": "code",
   "execution_count": 6,
   "id": "c15a2034-bacc-4684-88e7-1e387b3263f5",
   "metadata": {
    "colab": {
     "base_uri": "https://localhost:8080/"
    },
    "id": "c15a2034-bacc-4684-88e7-1e387b3263f5",
    "outputId": "c05956c6-5add-437d-c8a5-12e89139afe5",
    "ExecuteTime": {
     "end_time": "2023-11-26T17:21:46.165827080Z",
     "start_time": "2023-11-26T17:21:39.744211345Z"
    }
   },
   "outputs": [
    {
     "name": "stderr",
     "output_type": "stream",
     "text": [
      "2023-11-26 22:51:45.189296: I external/local_xla/xla/stream_executor/cuda/cuda_executor.cc:901] successful NUMA node read from SysFS had negative value (-1), but there must be at least one NUMA node, so returning NUMA node zero. See more at https://github.com/torvalds/linux/blob/v6.0/Documentation/ABI/testing/sysfs-bus-pci#L344-L355\n",
      "2023-11-26 22:51:45.189746: W tensorflow/core/common_runtime/gpu/gpu_device.cc:2256] Cannot dlopen some GPU libraries. Please make sure the missing libraries mentioned above are installed properly if you would like to use GPU. Follow the guide at https://www.tensorflow.org/install/gpu for how to download and setup the required libraries for your platform.\n",
      "Skipping registering GPU devices...\n",
      "All PyTorch model weights were used when initializing TFAlbertForSequenceClassification.\n",
      "\n",
      "Some weights or buffers of the TF 2.0 model TFAlbertForSequenceClassification were not initialized from the PyTorch model and are newly initialized: ['classifier.weight', 'classifier.bias']\n",
      "You should probably TRAIN this model on a down-stream task to be able to use it for predictions and inference.\n"
     ]
    }
   ],
   "source": [
    "tokenizer=AlbertTokenizer.from_pretrained('albert-large-v2')\n",
    "\n",
    "model=TFAlbertForSequenceClassification.from_pretrained('albert-large-v2',num_labels=6)"
   ]
  },
  {
   "cell_type": "code",
   "execution_count": 7,
   "id": "_MMOBWVM4Htm",
   "metadata": {
    "colab": {
     "base_uri": "https://localhost:8080/",
     "height": 363
    },
    "id": "_MMOBWVM4Htm",
    "outputId": "9a787ad2-d4da-43df-9832-b694d4621209",
    "ExecuteTime": {
     "end_time": "2023-11-26T17:21:47.857275966Z",
     "start_time": "2023-11-26T17:21:47.850089893Z"
    }
   },
   "outputs": [
    {
     "data": {
      "text/plain": "                                              speech  emotion\n0  moment french defens sedan meus broken end sec...      0.0\n1  observ today victori parti celebr freedomsymbo...      1.0\n2  majesti high distinguish guest comrad friend t...      2.0\n3  honor today commenc one finest univers world n...      3.0\n4  honor un secretari gener mr ban kimoon respect...      4.0\n5  profound sens humil accept honor chosen bestow...      4.0\n6  messag well watch wrong shouldnt back school s...      5.0\n7  hello everybodi know michel realli milk goodby...      1.0\n8  majesti royal high excel distinguish member no...      3.0\n9  five score year ago great american whose symbo...      2.0",
      "text/html": "<div>\n<style scoped>\n    .dataframe tbody tr th:only-of-type {\n        vertical-align: middle;\n    }\n\n    .dataframe tbody tr th {\n        vertical-align: top;\n    }\n\n    .dataframe thead th {\n        text-align: right;\n    }\n</style>\n<table border=\"1\" class=\"dataframe\">\n  <thead>\n    <tr style=\"text-align: right;\">\n      <th></th>\n      <th>speech</th>\n      <th>emotion</th>\n    </tr>\n  </thead>\n  <tbody>\n    <tr>\n      <th>0</th>\n      <td>moment french defens sedan meus broken end sec...</td>\n      <td>0.0</td>\n    </tr>\n    <tr>\n      <th>1</th>\n      <td>observ today victori parti celebr freedomsymbo...</td>\n      <td>1.0</td>\n    </tr>\n    <tr>\n      <th>2</th>\n      <td>majesti high distinguish guest comrad friend t...</td>\n      <td>2.0</td>\n    </tr>\n    <tr>\n      <th>3</th>\n      <td>honor today commenc one finest univers world n...</td>\n      <td>3.0</td>\n    </tr>\n    <tr>\n      <th>4</th>\n      <td>honor un secretari gener mr ban kimoon respect...</td>\n      <td>4.0</td>\n    </tr>\n    <tr>\n      <th>5</th>\n      <td>profound sens humil accept honor chosen bestow...</td>\n      <td>4.0</td>\n    </tr>\n    <tr>\n      <th>6</th>\n      <td>messag well watch wrong shouldnt back school s...</td>\n      <td>5.0</td>\n    </tr>\n    <tr>\n      <th>7</th>\n      <td>hello everybodi know michel realli milk goodby...</td>\n      <td>1.0</td>\n    </tr>\n    <tr>\n      <th>8</th>\n      <td>majesti royal high excel distinguish member no...</td>\n      <td>3.0</td>\n    </tr>\n    <tr>\n      <th>9</th>\n      <td>five score year ago great american whose symbo...</td>\n      <td>2.0</td>\n    </tr>\n  </tbody>\n</table>\n</div>"
     },
     "execution_count": 7,
     "metadata": {},
     "output_type": "execute_result"
    }
   ],
   "source": [
    "df"
   ]
  },
  {
   "cell_type": "code",
   "execution_count": 8,
   "id": "ee54acf8-ecf1-492c-8ad7-763b0c5e1d55",
   "metadata": {
    "id": "ee54acf8-ecf1-492c-8ad7-763b0c5e1d55",
    "ExecuteTime": {
     "end_time": "2023-11-26T17:22:08.502592589Z",
     "start_time": "2023-11-26T17:22:08.482353401Z"
    }
   },
   "outputs": [],
   "source": [
    "from sklearn.model_selection import train_test_split\n",
    "\n",
    "train, test = train_test_split(df, test_size=0.2)"
   ]
  },
  {
   "cell_type": "code",
   "execution_count": 9,
   "id": "5d2f45b0-152d-434a-88e9-6e9dc3b414d1",
   "metadata": {
    "id": "5d2f45b0-152d-434a-88e9-6e9dc3b414d1",
    "ExecuteTime": {
     "end_time": "2023-11-26T17:22:08.793727834Z",
     "start_time": "2023-11-26T17:22:08.779675635Z"
    }
   },
   "outputs": [],
   "source": [
    "#split in train and test in text and labels\n",
    "train_texts = train['speech'].tolist()\n",
    "train_labels = train['emotion'].tolist()\n",
    "\n",
    "test_texts = test['speech'].tolist()\n",
    "test_labels = test['emotion'].tolist()"
   ]
  },
  {
   "cell_type": "code",
   "execution_count": 10,
   "id": "57e46441-fe6d-4948-b13c-c0d2dba19664",
   "metadata": {
    "id": "57e46441-fe6d-4948-b13c-c0d2dba19664",
    "ExecuteTime": {
     "end_time": "2023-11-26T17:22:09.079501271Z",
     "start_time": "2023-11-26T17:22:09.026377430Z"
    }
   },
   "outputs": [],
   "source": [
    "#tokenize the texts\n",
    "train_encodings = tokenizer(train_texts, truncation=True, padding=True, max_length=512)\n",
    "test_encodings = tokenizer(test_texts, truncation=True, padding=True, max_length=512)"
   ]
  },
  {
   "cell_type": "code",
   "execution_count": 11,
   "id": "7a560740-c3b5-4781-9c07-b27264980eb4",
   "metadata": {
    "id": "7a560740-c3b5-4781-9c07-b27264980eb4",
    "ExecuteTime": {
     "end_time": "2023-11-26T17:22:09.386298696Z",
     "start_time": "2023-11-26T17:22:09.366844867Z"
    }
   },
   "outputs": [],
   "source": [
    "#convert features and labels to tensors for both train and test\n",
    "train_features = {key: tf.convert_to_tensor(val) for key, val in train_encodings.items()}\n",
    "train_labels = tf.convert_to_tensor(train_labels)\n",
    "\n",
    "test_features = {key: tf.convert_to_tensor(val) for key, val in test_encodings.items()}\n",
    "test_labels = tf.convert_to_tensor(test_labels)"
   ]
  },
  {
   "cell_type": "code",
   "execution_count": 12,
   "id": "028556e4-ebb3-4155-978b-6e41862c0748",
   "metadata": {
    "id": "028556e4-ebb3-4155-978b-6e41862c0748",
    "ExecuteTime": {
     "end_time": "2023-11-26T17:22:10.214944197Z",
     "start_time": "2023-11-26T17:22:10.178347385Z"
    }
   },
   "outputs": [],
   "source": [
    "#prepare the training and testing dataset\n",
    "train_dataset = tf.data.Dataset.from_tensor_slices((train_features, train_labels))\n",
    "train_dataset = train_dataset.shuffle(10000).batch(1)\n",
    "\n",
    "test_dataset = tf.data.Dataset.from_tensor_slices((test_features, test_labels))\n",
    "test_dataset = test_dataset.batch(1)"
   ]
  },
  {
   "cell_type": "code",
   "execution_count": 13,
   "id": "978195e4-9ece-4bb5-b0de-ab44b9c77c1c",
   "metadata": {
    "id": "978195e4-9ece-4bb5-b0de-ab44b9c77c1c",
    "ExecuteTime": {
     "end_time": "2023-11-26T17:22:14.205922177Z",
     "start_time": "2023-11-26T17:22:14.193758992Z"
    }
   },
   "outputs": [],
   "source": [
    "#define model metrics\n",
    "optimizer = tf.keras.optimizers.Adam(learning_rate=3e-5)\n",
    "loss = tf.keras.losses.SparseCategoricalCrossentropy(from_logits=True)\n",
    "metrics = ['accuracy']"
   ]
  },
  {
   "cell_type": "code",
   "execution_count": 14,
   "id": "cdbe304f-aaef-43ea-b7bd-02b72e2a5a72",
   "metadata": {
    "id": "cdbe304f-aaef-43ea-b7bd-02b72e2a5a72",
    "ExecuteTime": {
     "end_time": "2023-11-26T17:22:16.611190580Z",
     "start_time": "2023-11-26T17:22:16.600963251Z"
    }
   },
   "outputs": [],
   "source": [
    "model.compile(optimizer=optimizer, loss=loss, metrics=metrics)"
   ]
  },
  {
   "cell_type": "code",
   "execution_count": 15,
   "id": "9902f105-b9ba-4511-b152-493f9b94ffb3",
   "metadata": {
    "colab": {
     "base_uri": "https://localhost:8080/"
    },
    "id": "9902f105-b9ba-4511-b152-493f9b94ffb3",
    "outputId": "989f5f6b-3209-4d74-a73d-57ae9c956ece",
    "ExecuteTime": {
     "end_time": "2023-11-26T17:22:17.705528340Z",
     "start_time": "2023-11-26T17:22:17.563366578Z"
    }
   },
   "outputs": [
    {
     "name": "stdout",
     "output_type": "stream",
     "text": [
      "Model: \"tf_albert_for_sequence_classification\"\n",
      "_________________________________________________________________\n",
      " Layer (type)                Output Shape              Param #   \n",
      "=================================================================\n",
      " albert (TFAlbertMainLayer)  multiple                  17683968  \n",
      "                                                                 \n",
      " dropout_4 (Dropout)         multiple                  0         \n",
      "                                                                 \n",
      " classifier (Dense)          multiple                  6150      \n",
      "                                                                 \n",
      "=================================================================\n",
      "Total params: 17690118 (67.48 MB)\n",
      "Trainable params: 17690118 (67.48 MB)\n",
      "Non-trainable params: 0 (0.00 Byte)\n",
      "_________________________________________________________________\n"
     ]
    }
   ],
   "source": [
    "model.summary()"
   ]
  },
  {
   "cell_type": "code",
   "execution_count": 16,
   "id": "84G7nNbIQeRd",
   "metadata": {
    "colab": {
     "base_uri": "https://localhost:8080/"
    },
    "id": "84G7nNbIQeRd",
    "outputId": "0ce580ea-7986-4a58-854c-9b90bbed7bc7",
    "ExecuteTime": {
     "end_time": "2023-11-26T17:22:18.461844694Z",
     "start_time": "2023-11-26T17:22:18.458276353Z"
    }
   },
   "outputs": [
    {
     "data": {
      "text/plain": "<tf.Tensor: shape=(8,), dtype=float32, numpy=array([0., 4., 2., 1., 4., 3., 1., 3.], dtype=float32)>"
     },
     "execution_count": 16,
     "metadata": {},
     "output_type": "execute_result"
    }
   ],
   "source": [
    "train_labels"
   ]
  },
  {
   "cell_type": "code",
   "execution_count": 17,
   "id": "5be1e11f-740d-4ac6-8b76-7a355c599b8a",
   "metadata": {
    "colab": {
     "base_uri": "https://localhost:8080/"
    },
    "id": "5be1e11f-740d-4ac6-8b76-7a355c599b8a",
    "outputId": "dd74dc55-ef63-4b2e-ac97-ca04aa3e61d7",
    "ExecuteTime": {
     "end_time": "2023-11-26T17:25:17.983233772Z",
     "start_time": "2023-11-26T17:22:23.962064342Z"
    }
   },
   "outputs": [
    {
     "name": "stdout",
     "output_type": "stream",
     "text": [
      "Epoch 1/3\n",
      "8/8 [==============================] - 72s 7s/step - loss: 1.7633 - accuracy: 0.2500 - val_loss: 1.7402 - val_accuracy: 0.0000e+00\n",
      "Epoch 2/3\n",
      "8/8 [==============================] - 50s 6s/step - loss: 1.7886 - accuracy: 0.2500 - val_loss: 2.0379 - val_accuracy: 0.0000e+00\n",
      "Epoch 3/3\n",
      "8/8 [==============================] - 52s 7s/step - loss: 1.9025 - accuracy: 0.2500 - val_loss: 1.7425 - val_accuracy: 0.0000e+00\n"
     ]
    },
    {
     "data": {
      "text/plain": "<keras.src.callbacks.History at 0x7f31db74db10>"
     },
     "execution_count": 17,
     "metadata": {},
     "output_type": "execute_result"
    }
   ],
   "source": [
    "#fit model to train dataset\n",
    "model.fit(train_dataset, epochs=3, validation_data=test_dataset)"
   ]
  },
  {
   "cell_type": "code",
   "execution_count": 18,
   "id": "80396bf4-28cf-42d2-973a-ea5c4732694f",
   "metadata": {
    "colab": {
     "base_uri": "https://localhost:8080/"
    },
    "id": "80396bf4-28cf-42d2-973a-ea5c4732694f",
    "outputId": "5965d975-9e70-404c-a441-8ca2f8dc5f76",
    "ExecuteTime": {
     "end_time": "2023-11-26T17:25:25.445412300Z",
     "start_time": "2023-11-26T17:25:24.420231836Z"
    }
   },
   "outputs": [
    {
     "name": "stderr",
     "output_type": "stream",
     "text": [
      "/home/arjun/miniconda3/envs/ml/lib/python3.11/site-packages/transformers/generation/tf_utils.py:465: UserWarning: `seed_generator` is deprecated and will be removed in a future version.\n",
      "  warnings.warn(\"`seed_generator` is deprecated and will be removed in a future version.\", UserWarning)\n"
     ]
    }
   ],
   "source": [
    "model.save('first_model.keras')"
   ]
  },
  {
   "cell_type": "code",
   "execution_count": 25,
   "id": "7oIEAYEdq4YW",
   "metadata": {
    "colab": {
     "base_uri": "https://localhost:8080/",
     "height": 163
    },
    "id": "7oIEAYEdq4YW",
    "outputId": "bfcb9f39-a2a5-4124-f92a-e17ec530d7fb",
    "ExecuteTime": {
     "end_time": "2023-11-26T17:26:07.169998684Z",
     "start_time": "2023-11-26T17:26:07.126755327Z"
    }
   },
   "outputs": [
    {
     "data": {
      "text/plain": "'observ today victori parti celebr freedomsymbol end well beginningsignifi renew well chang sworn almighti god solemn oath forbear prescrib nearli centuri threequart ago world differ man hold mortal hand power abolish form human poverti form human life yet revolutionari belief forebear fought still issu around globeth belief right man come generos state hand god dare forget today heir first revolut let word go forth time place friend foe alik torch pass new gener americansborn centuri temper war disciplin hard bitter peac proud ancient heritageand unwil wit permit slow undo human right nation alway commit commit today home around world let everi nation know whether wish us well ill shall pay price bear burden meet hardship support friend oppos foe assur surviv success liberti much pledgeand old alli whose cultur spiritu origin share pledg loyalti faith friend unit littl host cooper ventur divid littl dofor dare meet power challeng odd split asund new state welcom rank free pledg word one form coloni control shall pass away mere replac far iron tyranni shall alway expect find support view shall alway hope find strongli support freedomand rememb past foolishli sought power ride back tiger end insid peopl hut villag half globe struggl break bond mass miseri pledg best effort help help whatev period requirednot communist may seek vote right free societi help mani poor save rich sister republ south border offer special pledgeto convert good word good deedsin new allianc progressto assist free men free govern cast chain poverti peac revolut hope becom prey hostil power let neighbor know shall join oppos aggress subvers anywher america let everi power know hemispher intend remain master hous world assembl sovereign state unit nation last best hope age instrument war far outpac instrument peac renew pledg supportto prevent becom mere forum invectiveto strengthen shield new weakand enlarg area writ may run final nation would make adversari offer pledg request side begin anew quest peac dark power destruct unleash scienc engulf human plan accident selfdestruct dare tempt weak arm suffici beyond doubt certain beyond doubt never employ neither two great power group nation take comfort present courseboth side overburden cost modern weapon rightli alarm steadi spread deadli atom yet race alter uncertain balanc terror stay hand mankind final war let us begin anewrememb side civil sign weak sincer alway subject proof let us never negoti fear let us never fear negoti let side explor problem unit us instead belabor problem divid us let side first time formul seriou precis propos inspect control armsand bring absolut power destroy nation absolut control nation let side seek invok wonder scienc instead terror togeth let us explor star conquer desert erad diseas tap ocean depth encourag art commerc let side unit heed corner earth command isaiahto undo heavi burden let oppress go free beachhead cooper may push back jungl suspicion let side join creat new endeavor new balanc power new world law strong weak secur peac preserv finish first one hundr day finish first one thousand day life administr even perhap lifetim planet let us begin hand fellow citizen mine rest final success failur cours sinc countri found gener american summon give testimoni nation loyalti grave young american answer call servic surround globe trumpet summon us againnot call bear arm though arm neednot call battl though embattl call bear burden long twilight struggl year year rejoic hope patient tribulationa struggl common enemi man tyranni poverti diseas war forg enemi grand global allianc north south east west assur fruit life mankind join histor effort long histori world gener grant role defend freedom hour maximum danger shrink responsibilityi welcom believ us would exchang place peopl gener energi faith devot bring endeavor light countri serv itand glow fire truli light world fellow american ask countri youask countri fellow citizen world ask america togeth freedom man final whether citizen america citizen world ask us high standard strength sacrific ask good conscienc sure reward histori final judg deed let us go forth lead land love ask bless help know earth god work must truli'"
     },
     "execution_count": 25,
     "metadata": {},
     "output_type": "execute_result"
    }
   ],
   "source": [
    "df['speech'][1]"
   ]
  },
  {
   "cell_type": "code",
   "execution_count": 26,
   "id": "JpLqfs4R4DqY",
   "metadata": {
    "id": "JpLqfs4R4DqY",
    "ExecuteTime": {
     "end_time": "2023-11-26T17:26:07.640916444Z",
     "start_time": "2023-11-26T17:26:07.636323434Z"
    }
   },
   "outputs": [],
   "source": [
    "new_feature = tokenizer(df['speech'][1], truncation=True, padding=True, return_tensors='tf')"
   ]
  },
  {
   "cell_type": "code",
   "execution_count": 27,
   "id": "XfHKmLn_4NHl",
   "metadata": {
    "id": "XfHKmLn_4NHl",
    "ExecuteTime": {
     "end_time": "2023-11-26T17:26:14.531671503Z",
     "start_time": "2023-11-26T17:26:11.758444004Z"
    }
   },
   "outputs": [],
   "source": [
    "predictions = model(new_feature)"
   ]
  },
  {
   "cell_type": "code",
   "execution_count": 28,
   "id": "BfThAe1m4O4v",
   "metadata": {
    "colab": {
     "base_uri": "https://localhost:8080/"
    },
    "id": "BfThAe1m4O4v",
    "outputId": "1463f2d8-bed5-4b90-84ce-11688c0222e2",
    "ExecuteTime": {
     "end_time": "2023-11-26T17:26:15.197097152Z",
     "start_time": "2023-11-26T17:26:15.174707332Z"
    }
   },
   "outputs": [
    {
     "data": {
      "text/plain": "TFSequenceClassifierOutput(loss=None, logits=<tf.Tensor: shape=(1, 6), dtype=float32, numpy=\narray([[-0.16195449, -0.0142893 ,  0.5625099 , -0.50989616,  0.69086015,\n        -0.14531057]], dtype=float32)>, hidden_states=None, attentions=None)"
     },
     "execution_count": 28,
     "metadata": {},
     "output_type": "execute_result"
    }
   ],
   "source": [
    "predictions"
   ]
  },
  {
   "cell_type": "code",
   "execution_count": 29,
   "id": "YATvjWDZ4R65",
   "metadata": {
    "id": "YATvjWDZ4R65",
    "ExecuteTime": {
     "end_time": "2023-11-26T17:26:15.611727662Z",
     "start_time": "2023-11-26T17:26:15.608793460Z"
    }
   },
   "outputs": [],
   "source": [
    "probabilities = tf.nn.softmax(predictions.logits, axis=-1)"
   ]
  },
  {
   "cell_type": "code",
   "execution_count": 30,
   "id": "LLEAK_rd43Io",
   "metadata": {
    "colab": {
     "base_uri": "https://localhost:8080/"
    },
    "id": "LLEAK_rd43Io",
    "outputId": "9db4482b-2a8e-431c-d38a-ee6d61352bd9",
    "ExecuteTime": {
     "end_time": "2023-11-26T17:26:16.028600745Z",
     "start_time": "2023-11-26T17:26:16.020340674Z"
    }
   },
   "outputs": [
    {
     "data": {
      "text/plain": "<tf.Tensor: shape=(1, 6), dtype=float32, numpy=\narray([[0.1205994 , 0.13978976, 0.24887201, 0.08516007, 0.28295532,\n        0.12262345]], dtype=float32)>"
     },
     "execution_count": 30,
     "metadata": {},
     "output_type": "execute_result"
    }
   ],
   "source": [
    "probabilities"
   ]
  },
  {
   "cell_type": "code",
   "execution_count": null,
   "id": "tSmmx_Sf8Cbj",
   "metadata": {
    "id": "tSmmx_Sf8Cbj"
   },
   "outputs": [],
   "source": []
  }
 ],
 "metadata": {
  "accelerator": "GPU",
  "colab": {
   "gpuType": "T4",
   "provenance": []
  },
  "kernelspec": {
   "display_name": "Python 3 (ipykernel)",
   "language": "python",
   "name": "python3"
  },
  "language_info": {
   "codemirror_mode": {
    "name": "ipython",
    "version": 3
   },
   "file_extension": ".py",
   "mimetype": "text/x-python",
   "name": "python",
   "nbconvert_exporter": "python",
   "pygments_lexer": "ipython3",
   "version": "3.11.4"
  }
 },
 "nbformat": 4,
 "nbformat_minor": 5
}
