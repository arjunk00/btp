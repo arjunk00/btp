{
 "cells": [
  {
   "cell_type": "code",
   "execution_count": 1,
   "id": "2087839d-5d9c-411f-89db-220bfb78de3a",
   "metadata": {
    "id": "2087839d-5d9c-411f-89db-220bfb78de3a",
    "ExecuteTime": {
     "end_time": "2023-12-08T10:10:39.841590366Z",
     "start_time": "2023-12-08T10:10:33.813396114Z"
    }
   },
   "outputs": [
    {
     "name": "stderr",
     "output_type": "stream",
     "text": [
      "2023-12-08 15:40:34.479686: I external/local_tsl/tsl/cuda/cudart_stub.cc:31] Could not find cuda drivers on your machine, GPU will not be used.\n",
      "2023-12-08 15:40:34.725317: E external/local_xla/xla/stream_executor/cuda/cuda_dnn.cc:9261] Unable to register cuDNN factory: Attempting to register factory for plugin cuDNN when one has already been registered\n",
      "2023-12-08 15:40:34.725453: E external/local_xla/xla/stream_executor/cuda/cuda_fft.cc:607] Unable to register cuFFT factory: Attempting to register factory for plugin cuFFT when one has already been registered\n",
      "2023-12-08 15:40:34.789370: E external/local_xla/xla/stream_executor/cuda/cuda_blas.cc:1515] Unable to register cuBLAS factory: Attempting to register factory for plugin cuBLAS when one has already been registered\n",
      "2023-12-08 15:40:34.917715: I external/local_tsl/tsl/cuda/cudart_stub.cc:31] Could not find cuda drivers on your machine, GPU will not be used.\n",
      "2023-12-08 15:40:34.919756: I tensorflow/core/platform/cpu_feature_guard.cc:182] This TensorFlow binary is optimized to use available CPU instructions in performance-critical operations.\n",
      "To enable the following instructions: AVX2 FMA, in other operations, rebuild TensorFlow with the appropriate compiler flags.\n",
      "2023-12-08 15:40:36.062094: W tensorflow/compiler/tf2tensorrt/utils/py_utils.cc:38] TF-TRT Warning: Could not find TensorRT\n",
      "/home/arjun/miniconda3/envs/ml/lib/python3.11/site-packages/tqdm/auto.py:21: TqdmWarning: IProgress not found. Please update jupyter and ipywidgets. See https://ipywidgets.readthedocs.io/en/stable/user_install.html\n",
      "  from .autonotebook import tqdm as notebook_tqdm\n"
     ]
    }
   ],
   "source": [
    "import tensorflow as tf\n",
    "import pandas as pd\n",
    "import numpy as np\n",
    "from transformers import AlbertTokenizer, TFAlbertForSequenceClassification\n",
    "import nltk\n",
    "from nltk.corpus import stopwords\n",
    "from nltk.stem import PorterStemmer\n",
    "from nltk.tokenize import word_tokenize\n",
    "import string"
   ]
  },
  {
   "cell_type": "code",
   "execution_count": 2,
   "id": "b5df027a-a521-49d7-9400-2494074b45e9",
   "metadata": {
    "colab": {
     "base_uri": "https://localhost:8080/",
     "height": 363
    },
    "collapsed": true,
    "id": "b5df027a-a521-49d7-9400-2494074b45e9",
    "outputId": "b02504e7-4f3a-497f-c619-1fdb140293dc",
    "ExecuteTime": {
     "end_time": "2023-12-08T05:42:29.571797377Z",
     "start_time": "2023-12-08T05:42:29.541382938Z"
    }
   },
   "outputs": [
    {
     "data": {
      "text/plain": "                                              speech       emotion\n0  From the moment that the French defenses at Se...         anger\n1  We observe today not a victory of party but a ...           joy\n2  Your Majesties, Your Highnesses, Distinguished...         trust\n3  I am honored to be with you today at your comm...  anticipation\n4  Honorable UN Secretary General Mr Ban Ki-moon,...       sadness\n5  It is with a profound sense of humility that I...       sadness\n6  My message is that we'll be watching you.\\r\\n\\...          fear\n7  Hello everybody. You know, Michelle and I have...           joy\n8  Your Majesties, Your Royal Highness, Excellenc...  anticipation\n9  Five score years ago, a great American, in who...         trust",
      "text/html": "<div>\n<style scoped>\n    .dataframe tbody tr th:only-of-type {\n        vertical-align: middle;\n    }\n\n    .dataframe tbody tr th {\n        vertical-align: top;\n    }\n\n    .dataframe thead th {\n        text-align: right;\n    }\n</style>\n<table border=\"1\" class=\"dataframe\">\n  <thead>\n    <tr style=\"text-align: right;\">\n      <th></th>\n      <th>speech</th>\n      <th>emotion</th>\n    </tr>\n  </thead>\n  <tbody>\n    <tr>\n      <th>0</th>\n      <td>From the moment that the French defenses at Se...</td>\n      <td>anger</td>\n    </tr>\n    <tr>\n      <th>1</th>\n      <td>We observe today not a victory of party but a ...</td>\n      <td>joy</td>\n    </tr>\n    <tr>\n      <th>2</th>\n      <td>Your Majesties, Your Highnesses, Distinguished...</td>\n      <td>trust</td>\n    </tr>\n    <tr>\n      <th>3</th>\n      <td>I am honored to be with you today at your comm...</td>\n      <td>anticipation</td>\n    </tr>\n    <tr>\n      <th>4</th>\n      <td>Honorable UN Secretary General Mr Ban Ki-moon,...</td>\n      <td>sadness</td>\n    </tr>\n    <tr>\n      <th>5</th>\n      <td>It is with a profound sense of humility that I...</td>\n      <td>sadness</td>\n    </tr>\n    <tr>\n      <th>6</th>\n      <td>My message is that we'll be watching you.\\r\\n\\...</td>\n      <td>fear</td>\n    </tr>\n    <tr>\n      <th>7</th>\n      <td>Hello everybody. You know, Michelle and I have...</td>\n      <td>joy</td>\n    </tr>\n    <tr>\n      <th>8</th>\n      <td>Your Majesties, Your Royal Highness, Excellenc...</td>\n      <td>anticipation</td>\n    </tr>\n    <tr>\n      <th>9</th>\n      <td>Five score years ago, a great American, in who...</td>\n      <td>trust</td>\n    </tr>\n  </tbody>\n</table>\n</div>"
     },
     "execution_count": 2,
     "metadata": {},
     "output_type": "execute_result"
    }
   ],
   "source": [
    "df=pd.read_csv('one_output_dataset.csv')\n",
    "df"
   ]
  },
  {
   "cell_type": "code",
   "source": [
    "dict={'anger':0.0, 'joy':1.0, 'trust':2.0, 'anticipation':3.0, 'sadness':4.0, 'fear':5.0}\n",
    "df=df.replace(dict)\n",
    "df['emotion'] = df['emotion'].apply(pd.to_numeric)\n",
    "df"
   ],
   "metadata": {
    "colab": {
     "base_uri": "https://localhost:8080/",
     "height": 363
    },
    "id": "fPjNOWUtEnl_",
    "outputId": "e4ed5c35-6557-41df-a737-78ab1273adbd",
    "ExecuteTime": {
     "end_time": "2023-12-08T05:42:29.923995967Z",
     "start_time": "2023-12-08T05:42:29.896819865Z"
    }
   },
   "id": "fPjNOWUtEnl_",
   "execution_count": 3,
   "outputs": [
    {
     "data": {
      "text/plain": "                                              speech  emotion\n0  From the moment that the French defenses at Se...      0.0\n1  We observe today not a victory of party but a ...      1.0\n2  Your Majesties, Your Highnesses, Distinguished...      2.0\n3  I am honored to be with you today at your comm...      3.0\n4  Honorable UN Secretary General Mr Ban Ki-moon,...      4.0\n5  It is with a profound sense of humility that I...      4.0\n6  My message is that we'll be watching you.\\r\\n\\...      5.0\n7  Hello everybody. You know, Michelle and I have...      1.0\n8  Your Majesties, Your Royal Highness, Excellenc...      3.0\n9  Five score years ago, a great American, in who...      2.0",
      "text/html": "<div>\n<style scoped>\n    .dataframe tbody tr th:only-of-type {\n        vertical-align: middle;\n    }\n\n    .dataframe tbody tr th {\n        vertical-align: top;\n    }\n\n    .dataframe thead th {\n        text-align: right;\n    }\n</style>\n<table border=\"1\" class=\"dataframe\">\n  <thead>\n    <tr style=\"text-align: right;\">\n      <th></th>\n      <th>speech</th>\n      <th>emotion</th>\n    </tr>\n  </thead>\n  <tbody>\n    <tr>\n      <th>0</th>\n      <td>From the moment that the French defenses at Se...</td>\n      <td>0.0</td>\n    </tr>\n    <tr>\n      <th>1</th>\n      <td>We observe today not a victory of party but a ...</td>\n      <td>1.0</td>\n    </tr>\n    <tr>\n      <th>2</th>\n      <td>Your Majesties, Your Highnesses, Distinguished...</td>\n      <td>2.0</td>\n    </tr>\n    <tr>\n      <th>3</th>\n      <td>I am honored to be with you today at your comm...</td>\n      <td>3.0</td>\n    </tr>\n    <tr>\n      <th>4</th>\n      <td>Honorable UN Secretary General Mr Ban Ki-moon,...</td>\n      <td>4.0</td>\n    </tr>\n    <tr>\n      <th>5</th>\n      <td>It is with a profound sense of humility that I...</td>\n      <td>4.0</td>\n    </tr>\n    <tr>\n      <th>6</th>\n      <td>My message is that we'll be watching you.\\r\\n\\...</td>\n      <td>5.0</td>\n    </tr>\n    <tr>\n      <th>7</th>\n      <td>Hello everybody. You know, Michelle and I have...</td>\n      <td>1.0</td>\n    </tr>\n    <tr>\n      <th>8</th>\n      <td>Your Majesties, Your Royal Highness, Excellenc...</td>\n      <td>3.0</td>\n    </tr>\n    <tr>\n      <th>9</th>\n      <td>Five score years ago, a great American, in who...</td>\n      <td>2.0</td>\n    </tr>\n  </tbody>\n</table>\n</div>"
     },
     "execution_count": 3,
     "metadata": {},
     "output_type": "execute_result"
    }
   ]
  },
  {
   "cell_type": "markdown",
   "source": [
    "# New Section"
   ],
   "metadata": {
    "id": "6_FCLUvYT6y6"
   },
   "id": "6_FCLUvYT6y6"
  },
  {
   "cell_type": "code",
   "execution_count": 4,
   "id": "cb4bcaf4-b4d1-4974-8b2f-0c712520c3b7",
   "metadata": {
    "colab": {
     "base_uri": "https://localhost:8080/"
    },
    "id": "cb4bcaf4-b4d1-4974-8b2f-0c712520c3b7",
    "outputId": "a4687d8e-b055-435f-b185-9bf7ea287301",
    "ExecuteTime": {
     "end_time": "2023-12-08T05:42:33.008172047Z",
     "start_time": "2023-12-08T05:42:31.757012474Z"
    }
   },
   "outputs": [
    {
     "name": "stderr",
     "output_type": "stream",
     "text": [
      "[nltk_data] Downloading package punkt to /home/arjun/nltk_data...\n",
      "[nltk_data]   Package punkt is already up-to-date!\n",
      "[nltk_data] Downloading package stopwords to /home/arjun/nltk_data...\n",
      "[nltk_data]   Package stopwords is already up-to-date!\n"
     ]
    }
   ],
   "source": [
    "#preprocess transcript\n",
    "\n",
    "# download necessary NLTK data\n",
    "nltk.download('punkt')\n",
    "nltk.download('stopwords')\n",
    "\n",
    "# initialize a PorterStemmer\n",
    "stemmer = PorterStemmer()\n",
    "\n",
    "def preprocess_text(text):\n",
    "    # lowercase the text\n",
    "    text = text.lower()\n",
    "    # remove punctuation\n",
    "    text = text.translate(str.maketrans('', '', string.punctuation))\n",
    "    # tokenize the text\n",
    "    words = word_tokenize(text)\n",
    "    # remove stopwords and stem the words\n",
    "    words = [stemmer.stem(word) for word in words if word not in stopwords.words('english')]\n",
    "    # join the words back into a string\n",
    "    text = ' '.join(words)\n",
    "\n",
    "    return text\n",
    "\n",
    "df['speech'] = df['speech'].apply(preprocess_text)"
   ]
  },
  {
   "cell_type": "code",
   "source": [
    "!pip install sentencepiece"
   ],
   "metadata": {
    "colab": {
     "base_uri": "https://localhost:8080/"
    },
    "id": "wTWI03C7MU22",
    "outputId": "50498c85-c287-4c45-95f0-69bda03b0c11"
   },
   "id": "wTWI03C7MU22",
   "execution_count": 26,
   "outputs": [
    {
     "output_type": "stream",
     "name": "stdout",
     "text": [
      "Requirement already satisfied: sentencepiece in /usr/local/lib/python3.10/dist-packages (0.1.99)\n"
     ]
    }
   ]
  },
  {
   "cell_type": "code",
   "execution_count": 5,
   "id": "c15a2034-bacc-4684-88e7-1e387b3263f5",
   "metadata": {
    "colab": {
     "base_uri": "https://localhost:8080/"
    },
    "id": "c15a2034-bacc-4684-88e7-1e387b3263f5",
    "outputId": "8c9b578d-08d0-4125-c085-b3616502e04c",
    "ExecuteTime": {
     "end_time": "2023-12-08T05:42:44.332883575Z",
     "start_time": "2023-12-08T05:42:41.215318159Z"
    }
   },
   "outputs": [
    {
     "name": "stderr",
     "output_type": "stream",
     "text": [
      "2023-12-08 11:12:43.315405: I external/local_xla/xla/stream_executor/cuda/cuda_executor.cc:901] successful NUMA node read from SysFS had negative value (-1), but there must be at least one NUMA node, so returning NUMA node zero. See more at https://github.com/torvalds/linux/blob/v6.0/Documentation/ABI/testing/sysfs-bus-pci#L344-L355\n",
      "2023-12-08 11:12:43.315854: W tensorflow/core/common_runtime/gpu/gpu_device.cc:2256] Cannot dlopen some GPU libraries. Please make sure the missing libraries mentioned above are installed properly if you would like to use GPU. Follow the guide at https://www.tensorflow.org/install/gpu for how to download and setup the required libraries for your platform.\n",
      "Skipping registering GPU devices...\n",
      "All PyTorch model weights were used when initializing TFAlbertForSequenceClassification.\n",
      "\n",
      "Some weights or buffers of the TF 2.0 model TFAlbertForSequenceClassification were not initialized from the PyTorch model and are newly initialized: ['classifier.weight', 'classifier.bias']\n",
      "You should probably TRAIN this model on a down-stream task to be able to use it for predictions and inference.\n"
     ]
    }
   ],
   "source": [
    "tokenizer=AlbertTokenizer.from_pretrained('albert-large-v2')\n",
    "\n",
    "model=TFAlbertForSequenceClassification.from_pretrained('albert-large-v2',num_labels=6)"
   ]
  },
  {
   "cell_type": "code",
   "source": [
    "df"
   ],
   "metadata": {
    "colab": {
     "base_uri": "https://localhost:8080/",
     "height": 363
    },
    "id": "_MMOBWVM4Htm",
    "outputId": "71935e7a-5d62-463f-b207-36dbca601a9d",
    "ExecuteTime": {
     "end_time": "2023-12-08T05:42:45.404371205Z",
     "start_time": "2023-12-08T05:42:45.359995906Z"
    }
   },
   "id": "_MMOBWVM4Htm",
   "execution_count": 6,
   "outputs": [
    {
     "data": {
      "text/plain": "                                              speech  emotion\n0  moment french defens sedan meus broken end sec...      0.0\n1  observ today victori parti celebr freedomsymbo...      1.0\n2  majesti high distinguish guest comrad friend t...      2.0\n3  honor today commenc one finest univers world n...      3.0\n4  honor un secretari gener mr ban kimoon respect...      4.0\n5  profound sens humil accept honor chosen bestow...      4.0\n6  messag well watch wrong shouldnt back school s...      5.0\n7  hello everybodi know michel realli milk goodby...      1.0\n8  majesti royal high excel distinguish member no...      3.0\n9  five score year ago great american whose symbo...      2.0",
      "text/html": "<div>\n<style scoped>\n    .dataframe tbody tr th:only-of-type {\n        vertical-align: middle;\n    }\n\n    .dataframe tbody tr th {\n        vertical-align: top;\n    }\n\n    .dataframe thead th {\n        text-align: right;\n    }\n</style>\n<table border=\"1\" class=\"dataframe\">\n  <thead>\n    <tr style=\"text-align: right;\">\n      <th></th>\n      <th>speech</th>\n      <th>emotion</th>\n    </tr>\n  </thead>\n  <tbody>\n    <tr>\n      <th>0</th>\n      <td>moment french defens sedan meus broken end sec...</td>\n      <td>0.0</td>\n    </tr>\n    <tr>\n      <th>1</th>\n      <td>observ today victori parti celebr freedomsymbo...</td>\n      <td>1.0</td>\n    </tr>\n    <tr>\n      <th>2</th>\n      <td>majesti high distinguish guest comrad friend t...</td>\n      <td>2.0</td>\n    </tr>\n    <tr>\n      <th>3</th>\n      <td>honor today commenc one finest univers world n...</td>\n      <td>3.0</td>\n    </tr>\n    <tr>\n      <th>4</th>\n      <td>honor un secretari gener mr ban kimoon respect...</td>\n      <td>4.0</td>\n    </tr>\n    <tr>\n      <th>5</th>\n      <td>profound sens humil accept honor chosen bestow...</td>\n      <td>4.0</td>\n    </tr>\n    <tr>\n      <th>6</th>\n      <td>messag well watch wrong shouldnt back school s...</td>\n      <td>5.0</td>\n    </tr>\n    <tr>\n      <th>7</th>\n      <td>hello everybodi know michel realli milk goodby...</td>\n      <td>1.0</td>\n    </tr>\n    <tr>\n      <th>8</th>\n      <td>majesti royal high excel distinguish member no...</td>\n      <td>3.0</td>\n    </tr>\n    <tr>\n      <th>9</th>\n      <td>five score year ago great american whose symbo...</td>\n      <td>2.0</td>\n    </tr>\n  </tbody>\n</table>\n</div>"
     },
     "execution_count": 6,
     "metadata": {},
     "output_type": "execute_result"
    }
   ]
  },
  {
   "cell_type": "code",
   "execution_count": 7,
   "id": "ee54acf8-ecf1-492c-8ad7-763b0c5e1d55",
   "metadata": {
    "id": "ee54acf8-ecf1-492c-8ad7-763b0c5e1d55",
    "ExecuteTime": {
     "end_time": "2023-12-08T05:42:48.770699328Z",
     "start_time": "2023-12-08T05:42:48.764789271Z"
    }
   },
   "outputs": [],
   "source": [
    "from sklearn.model_selection import train_test_split\n",
    "\n",
    "train, test = train_test_split(df, test_size=0.2)"
   ]
  },
  {
   "cell_type": "code",
   "execution_count": 8,
   "id": "5d2f45b0-152d-434a-88e9-6e9dc3b414d1",
   "metadata": {
    "id": "5d2f45b0-152d-434a-88e9-6e9dc3b414d1",
    "ExecuteTime": {
     "end_time": "2023-12-08T05:42:48.963119143Z",
     "start_time": "2023-12-08T05:42:48.956450730Z"
    }
   },
   "outputs": [],
   "source": [
    "#split in train and test in text and labels\n",
    "train_texts = train['speech'].tolist()\n",
    "train_labels = train['emotion'].tolist()\n",
    "\n",
    "test_texts = test['speech'].tolist()\n",
    "test_labels = test['emotion'].tolist()"
   ]
  },
  {
   "cell_type": "code",
   "execution_count": 9,
   "id": "57e46441-fe6d-4948-b13c-c0d2dba19664",
   "metadata": {
    "id": "57e46441-fe6d-4948-b13c-c0d2dba19664",
    "ExecuteTime": {
     "end_time": "2023-12-08T05:42:49.439641468Z",
     "start_time": "2023-12-08T05:42:49.367863726Z"
    }
   },
   "outputs": [],
   "source": [
    "#tokenize the texts\n",
    "train_encodings = tokenizer(train_texts, truncation=True, padding=True, max_length=512)\n",
    "test_encodings = tokenizer(test_texts, truncation=True, padding=True, max_length=512)"
   ]
  },
  {
   "cell_type": "code",
   "execution_count": 10,
   "id": "7a560740-c3b5-4781-9c07-b27264980eb4",
   "metadata": {
    "id": "7a560740-c3b5-4781-9c07-b27264980eb4",
    "ExecuteTime": {
     "end_time": "2023-12-08T05:42:49.932692366Z",
     "start_time": "2023-12-08T05:42:49.922415361Z"
    }
   },
   "outputs": [],
   "source": [
    "#convert features and labels to tensors for both train and test\n",
    "train_features = {key: tf.convert_to_tensor(val) for key, val in train_encodings.items()}\n",
    "train_labels = tf.convert_to_tensor(train_labels)\n",
    "\n",
    "test_features = {key: tf.convert_to_tensor(val) for key, val in test_encodings.items()}\n",
    "test_labels = tf.convert_to_tensor(test_labels)"
   ]
  },
  {
   "cell_type": "code",
   "execution_count": 11,
   "id": "028556e4-ebb3-4155-978b-6e41862c0748",
   "metadata": {
    "id": "028556e4-ebb3-4155-978b-6e41862c0748",
    "ExecuteTime": {
     "end_time": "2023-12-08T05:42:52.413687631Z",
     "start_time": "2023-12-08T05:42:52.401647193Z"
    }
   },
   "outputs": [],
   "source": [
    "#prepare the training and testing dataset\n",
    "train_dataset = tf.data.Dataset.from_tensor_slices((train_features, train_labels))\n",
    "train_dataset = train_dataset.shuffle(10000).batch(1)\n",
    "\n",
    "test_dataset = tf.data.Dataset.from_tensor_slices((test_features, test_labels))\n",
    "test_dataset = test_dataset.batch(1)"
   ]
  },
  {
   "cell_type": "code",
   "execution_count": 34,
   "id": "978195e4-9ece-4bb5-b0de-ab44b9c77c1c",
   "metadata": {
    "id": "978195e4-9ece-4bb5-b0de-ab44b9c77c1c"
   },
   "outputs": [],
   "source": [
    "#define model metrics\n",
    "optimizer = tf.keras.optimizers.Adam(learning_rate=3e-5)\n",
    "loss = tf.keras.losses.SparseCategoricalCrossentropy(from_logits=True)\n",
    "metrics = ['accuracy']"
   ]
  },
  {
   "cell_type": "code",
   "execution_count": 35,
   "id": "cdbe304f-aaef-43ea-b7bd-02b72e2a5a72",
   "metadata": {
    "id": "cdbe304f-aaef-43ea-b7bd-02b72e2a5a72"
   },
   "outputs": [],
   "source": [
    "model.compile(optimizer=optimizer, loss=loss, metrics=metrics)"
   ]
  },
  {
   "cell_type": "code",
   "execution_count": 36,
   "id": "9902f105-b9ba-4511-b152-493f9b94ffb3",
   "metadata": {
    "colab": {
     "base_uri": "https://localhost:8080/"
    },
    "id": "9902f105-b9ba-4511-b152-493f9b94ffb3",
    "outputId": "fc3d4f38-2e9c-42be-ae73-e097d31fa96b"
   },
   "outputs": [
    {
     "output_type": "stream",
     "name": "stdout",
     "text": [
      "Model: \"tf_albert_for_sequence_classification_1\"\n",
      "_________________________________________________________________\n",
      " Layer (type)                Output Shape              Param #   \n",
      "=================================================================\n",
      " albert (TFAlbertMainLayer)  multiple                  17683968  \n",
      "                                                                 \n",
      " dropout_9 (Dropout)         multiple                  0         \n",
      "                                                                 \n",
      " classifier (Dense)          multiple                  6150      \n",
      "                                                                 \n",
      "=================================================================\n",
      "Total params: 17690118 (67.48 MB)\n",
      "Trainable params: 17690118 (67.48 MB)\n",
      "Non-trainable params: 0 (0.00 Byte)\n",
      "_________________________________________________________________\n"
     ]
    }
   ],
   "source": [
    "model.summary()"
   ]
  },
  {
   "cell_type": "code",
   "source": [
    "train_labels"
   ],
   "metadata": {
    "colab": {
     "base_uri": "https://localhost:8080/"
    },
    "id": "84G7nNbIQeRd",
    "outputId": "07aabdeb-c2d2-484e-a68f-242150841db6"
   },
   "id": "84G7nNbIQeRd",
   "execution_count": 37,
   "outputs": [
    {
     "output_type": "execute_result",
     "data": {
      "text/plain": [
       "<tf.Tensor: shape=(8,), dtype=float32, numpy=array([1., 4., 0., 1., 5., 3., 4., 2.], dtype=float32)>"
      ]
     },
     "metadata": {},
     "execution_count": 37
    }
   ]
  },
  {
   "cell_type": "code",
   "execution_count": 38,
   "id": "5be1e11f-740d-4ac6-8b76-7a355c599b8a",
   "metadata": {
    "colab": {
     "base_uri": "https://localhost:8080/"
    },
    "id": "5be1e11f-740d-4ac6-8b76-7a355c599b8a",
    "outputId": "a75fb4a2-d8d7-48fc-c112-187412592cdf"
   },
   "outputs": [
    {
     "output_type": "stream",
     "name": "stdout",
     "text": [
      "Epoch 1/3\n",
      "8/8 [==============================] - 41s 1s/step - loss: 2.2385 - accuracy: 0.0000e+00 - val_loss: 1.7831 - val_accuracy: 0.0000e+00\n",
      "Epoch 2/3\n",
      "8/8 [==============================] - 3s 441ms/step - loss: 1.9003 - accuracy: 0.1250 - val_loss: 1.8552 - val_accuracy: 0.0000e+00\n",
      "Epoch 3/3\n",
      "8/8 [==============================] - 3s 444ms/step - loss: 1.8872 - accuracy: 0.1250 - val_loss: 1.8955 - val_accuracy: 0.0000e+00\n"
     ]
    },
    {
     "output_type": "execute_result",
     "data": {
      "text/plain": [
       "<keras.src.callbacks.History at 0x782f513c5510>"
      ]
     },
     "metadata": {},
     "execution_count": 38
    }
   ],
   "source": [
    "#fit model to train dataset\n",
    "model.fit(train_dataset, epochs=3, validation_data=test_dataset)"
   ]
  },
  {
   "cell_type": "code",
   "execution_count": 39,
   "id": "80396bf4-28cf-42d2-973a-ea5c4732694f",
   "metadata": {
    "id": "80396bf4-28cf-42d2-973a-ea5c4732694f"
   },
   "outputs": [],
   "source": [
    "model.save_weights('first_model.h5')"
   ]
  },
  {
   "cell_type": "code",
   "source": [
    "new_model=TFAlbertForSequenceClassification.from_pretrained('albert-large-v2',num_labels=6)"
   ],
   "metadata": {
    "colab": {
     "base_uri": "https://localhost:8080/"
    },
    "id": "svguKr7ZbmXh",
    "outputId": "53edc6b9-c3fd-4ea1-ce6e-bb4a31b96c8a",
    "ExecuteTime": {
     "end_time": "2023-12-08T05:43:05.682192393Z",
     "start_time": "2023-12-08T05:43:04.641977944Z"
    }
   },
   "id": "svguKr7ZbmXh",
   "execution_count": 12,
   "outputs": [
    {
     "name": "stderr",
     "output_type": "stream",
     "text": [
      "All PyTorch model weights were used when initializing TFAlbertForSequenceClassification.\n",
      "\n",
      "Some weights or buffers of the TF 2.0 model TFAlbertForSequenceClassification were not initialized from the PyTorch model and are newly initialized: ['classifier.weight', 'classifier.bias']\n",
      "You should probably TRAIN this model on a down-stream task to be able to use it for predictions and inference.\n"
     ]
    }
   ]
  },
  {
   "cell_type": "code",
   "source": [
    "new_model.load_weights('first_model.h5')"
   ],
   "metadata": {
    "id": "6wBZvvjhbtpo",
    "ExecuteTime": {
     "end_time": "2023-12-08T05:43:07.368780231Z",
     "start_time": "2023-12-08T05:43:07.280635859Z"
    }
   },
   "id": "6wBZvvjhbtpo",
   "execution_count": 13,
   "outputs": []
  },
  {
   "cell_type": "code",
   "source": [
    "df['speech'][0]"
   ],
   "metadata": {
    "colab": {
     "base_uri": "https://localhost:8080/",
     "height": 163
    },
    "id": "7oIEAYEdq4YW",
    "outputId": "156e7468-a7a6-4232-ad0d-c0434903cd35",
    "ExecuteTime": {
     "end_time": "2023-12-08T05:43:10.367628258Z",
     "start_time": "2023-12-08T05:43:10.324189690Z"
    }
   },
   "id": "7oIEAYEdq4YW",
   "execution_count": 14,
   "outputs": [
    {
     "data": {
      "text/plain": "'moment french defens sedan meus broken end second week may rapid retreat amien south could save british french armi enter belgium appeal belgian king strateg fact immedi realiz french high command hope would abl close gap armi north order moreov retir kind would involv almost certainli destruct fine belgian armi 20 divis abandon whole belgium therefor forc scope german penetr realiz new french generalissimo gener weygand assum command place gener gamelin effort made french british armi belgium keep hold right hand belgian give right hand newli creat french armi advanc across somm great strength grasp howev german erupt swept like sharp scyth around right rear armi north eight nine armor divis four hundr armor vehicl differ kind care assort complementari divis small selfcontain unit cut commun us main french armi sever commun food ammunit ran first amien afterward abbevil shore way coast boulogn calai almost dunkirk behind armor mechan onslaught came number german divis lorri behind plod compar slowli dull brute mass ordinari german armi german peopl alway readi led trampl land liberti comfort never known said armor scythestrok almost reach dunkirkalmost quit boulogn calai scene desper fight guard defend boulogn withdrawn order countri rifl brigad 60th rifl queen victoria ’ rifl battalion british tank 1000 frenchmen four thousand strong defend calai last british brigadi given hour surrend spurn offer four day intens street fight pass silenc reign calai mark end memor resist 30 unwound survivor brought navi know fate comrad sacrific howev vain least two armor divis otherwis would turn british expeditionari forc sent overcom ad anoth page glori light divis time gain enabl gravelin water line flood held french troop thu port dunkirk kept open found imposs armi north reopen commun amien main french armi one choic remain seem inde forlorn belgian british french armi almost surround sole line retreat singl port neighbor beach press everi side heavi attack far outnumb air week ago today ask hous fix afternoon occas statement fear would hard lot announc greatest militari disast long histori thoughtand good judg agre methat perhap 20000 30000 men might reembark certainli seem whole french first armi whole british expeditionari forc north amiensabbevil gap would broken open field els would capitul lack food ammunit hard heavi tide call upon hous nation prepar week ago whole root core brain british armi around build build great british armi later year war seem perish upon field led ignomini starv captiv prospect week ago anoth blow might well prove final yet fall upon us king belgian call upon us come aid ruler govern sever alli rescu countri extinct late war sought refug prove fatal neutral french british armi might well outset save belgium perhap even poland yet last moment belgium alreadi invad king leopold call upon us come aid even last moment came brave effici armi nearli half million strong guard left flank thu kept open line retreat sea suddenli without prior consult least possibl notic without advic minist upon person act sent plenipotentiari german command surrend armi expos whole flank mean retreat ask hous week ago suspend judgment fact clear feel reason exist form opinion upon piti episod surrend belgian armi compel british shortest notic cover flank sea 30 mile length otherwis would cut would share fate king leopold condemn finest armi countri ever form expos flank anyon follow oper map see contact lost british two three corp form first french armi still farther coast seem imposs larg number alli troop could reach coast enemi attack side great strength fierc main power power far numer air forc thrown battl els concentr upon dunkirk beach press upon narrow exit east west enemi began fire cannon upon beach alon ship could approach depart sow magnet mine channel sea sent repeat wave hostil aircraft sometim hundr strong one format cast bomb upon singl pier remain upon sand dune upon troop eye shelter uboat one sunk motor launch took toll vast traffic began four five day intens struggl reign armor divisionsor left themtogeth great mass infantri artilleri hurl vain upon evernarrow evercontract appendix within british french armi fought meanwhil royal navi will help countless merchant seamen strain everi nerv embark british alli troop 220 light warship 650 vessel engag oper upon difficult coast often advers weather almost ceaseless hail bomb increas concentr artilleri fire sea said free mine torpedo condit men carri littl rest day night end make trip trip across danger water bring alway men rescu number brought back measur devot courag hospit ship brought mani thousand british french wound plainli mark special target nazi bomb men women board never falter duti meanwhil royal air forc alreadi interven battl far rang would allow home base use part main metropolitan fighter strength struck german bomber fighter larg number protect struggl protract fierc suddenli scene clear crash thunder momentbut momentdi away miracl deliver achiev valor persever perfect disciplin faultless servic resourc skill unconquer fidel manifest us enemi hurl back retreat british french troop roughli handl hurri departur serious royal air forc engag main strength german air forc inflict upon loss least four one navi use nearli 1000 ship kind carri 335000 men french british jaw death shame nativ land task lie immedi ahead must care assign deliver attribut victori war evacu victori insid deliver note gain air forc mani soldier come back seen air forc work saw bomber escap protect attack underr achiev heard much talk go way say tell great trial strength british german air forc conceiv greater object german air make evacu beach imposs sink ship display almost extent thousand could object greater militari import signific whole purpos war tri hard beaten back frustrat task got armi away paid fourfold loss inflict larg format german aeroplanesand know brave racehav turn sever occas attack onequart number royal air forc dispers differ direct twelv aeroplan hunt two one aeroplan driven water cast away mere charg british aeroplan ammunit typesth hurrican spitfir new defiantand pilot vindic superior present face consid much greater would advantag defend air island oversea attack must say find fact sure basi upon practic reassur thought may rest pay tribut young airmen great french armi larg time cast back disturb onrush thousand armor vehicl may also caus civil defend skill devot thousand airmen never suppos world histori war opportun youth knight round tabl crusad fall back pastnot distant prosaic young men go forth everi morn guard nativ land stand hold hand instrument coloss shatter power may said everi morn brought forth nobl chanc everi chanc brought forth nobl knight deserv gratitud brave men mani way mani occas readi continu readi give life nativ land return armi long seri fierc battl front fight three front battl fought two three divis equal somewhat larger number enemi fought fierc old ground mani us knew wellin battl loss men exceed 30000 kill wound miss take occas express sympathi hous suffer bereav still anxiou presid board trade sir andrew duncan today son kill mani hous felt pang afflict sharpest form say miss larg number wound come home safe countri would say miss may mani report miss come back home day one way anoth confus fight inevit mani left posit honor requir resist loss 30000 men set far heavier loss certainli inflict upon enemi loss materi enorm perhap lost onethird men lost open day battl 21st march 1918 lost nearli mani gun — nearli one thousandand transport armor vehicl armi north loss impos delay expans militari strength expans proceed far hope best give gone british expeditionari forc although number tank articl equip desir well fine equip armi firstfruit industri give gone delay long long last depend upon exert make island effort like never seen record made work proceed everywher night day sunday week day capit labor cast asid interest right custom put common stock alreadi flow munit leap forward reason month overtak sudden seriou loss come upon us without retard develop gener program nevertheless thank escap armi mani men whose love one pass agon week must blind us fact happen franc belgium coloss militari disast french armi weaken belgian armi lost larg part fortifi line upon much faith repos gone mani valuabl mine district factori pass enemi ’ possess whole channel port hand tragic consequ follow must expect anoth blow struck almost immedi us franc told herr hitler plan invad british isl often thought napoleon lay boulogn year flatbottom boat grand armi told someon “ bitter weed england ” certainli great mani sinc british expeditionari forc return whole question home defens invas cours power affect fact time island incompar power militari forc ever moment war last continu shall content defens war duti alli reconstitut build british expeditionari forc gallant commanderinchief lord gort train interv must put defens island high state organ fewest possibl number requir give effect secur largest possibl potenti offens effort may realiz engag conveni desir hous enter upon subject secret session govern would necessarili abl reveal great detail militari secret like discuss free without restraint impos fact read next day enemi govern would benefit view freeli express part hous member knowledg mani differ part countri understand request made upon subject readili acced majesti ’ govern found necessari take measur increas stringenc enemi alien suspici charact nation also british subject may becom danger nuisanc war transport unit kingdom know great mani peopl affect order made passion enemi nazi germani sorri present time present stress draw distinct like parachut land attempt fierc fight attend upon follow unfortun peopl would far better way sake well howev anoth class feel slightest sympathi parliament given us power put fifth column activ strong hand shall use power subject supervis correct hous without slightest hesit satisfi satisfi malign midst effect stamp turn time gener question invas would observ never period long centuri boast absolut guarante invas still less seriou raid could given peopl day napoleon wind would carri transport across channel might driven away blockad fleet alway chanc chanc excit befool imagin mani continent tyrant mani tale told assur novel method adopt see origin malic ingenu aggress enemi display may certainli prepar everi kind novel stratagem everi kind brutal treacher maneuv think idea outlandish consid view search time hope steadi eye must never forget solid assur sea power belong air power local exercis full confid duti noth neglect best arrang made made shall prove abl defend island home ride storm war outliv menac tyranni necessari year necessari alon rate go tri resolv majesti ’ governmenteveri man parliament nation british empir french republ link togeth caus need defend death nativ soil aid like good comrad utmost strength even though larg tract europ mani old famou state fallen may fall grip gestapo odiou apparatu nazi rule shall flag fail shall go end shall fight franc shall fight sea ocean shall fight grow confid grow strength air shall defend island whatev cost may shall fight beach shall fight land ground shall fight field street shall fight hill shall never surrend even moment believ island larg part subjug starv empir beyond sea arm guard british fleet would carri struggl god ’ good time new world power might step forth rescu liber old'"
     },
     "execution_count": 14,
     "metadata": {},
     "output_type": "execute_result"
    }
   ]
  },
  {
   "cell_type": "code",
   "source": [
    "new_feature = tokenizer(df['speech'][9], truncation=True, padding=True, return_tensors='tf')"
   ],
   "metadata": {
    "id": "JpLqfs4R4DqY",
    "ExecuteTime": {
     "end_time": "2023-12-08T05:43:17.136731312Z",
     "start_time": "2023-12-08T05:43:17.113231147Z"
    }
   },
   "id": "JpLqfs4R4DqY",
   "execution_count": 15,
   "outputs": []
  },
  {
   "cell_type": "code",
   "source": [
    "predictions = new_model(new_feature)"
   ],
   "metadata": {
    "id": "XfHKmLn_4NHl",
    "ExecuteTime": {
     "end_time": "2023-12-08T05:43:20.956221486Z",
     "start_time": "2023-12-08T05:43:18.422687750Z"
    }
   },
   "id": "XfHKmLn_4NHl",
   "execution_count": 16,
   "outputs": []
  },
  {
   "cell_type": "code",
   "source": [
    "predictions"
   ],
   "metadata": {
    "colab": {
     "base_uri": "https://localhost:8080/"
    },
    "id": "BfThAe1m4O4v",
    "outputId": "d24bf121-7cb6-48c1-fa50-e0bb66df1b02",
    "ExecuteTime": {
     "end_time": "2023-12-08T05:43:22.036339745Z",
     "start_time": "2023-12-08T05:43:22.015961473Z"
    }
   },
   "id": "BfThAe1m4O4v",
   "execution_count": 17,
   "outputs": [
    {
     "data": {
      "text/plain": "TFSequenceClassifierOutput(loss=None, logits=<tf.Tensor: shape=(1, 6), dtype=float32, numpy=\narray([[0.41225204, 0.17466132, 0.06562152, 0.1853608 , 0.15262227,\n        0.34886542]], dtype=float32)>, hidden_states=None, attentions=None)"
     },
     "execution_count": 17,
     "metadata": {},
     "output_type": "execute_result"
    }
   ]
  },
  {
   "cell_type": "code",
   "source": [
    "probabilities = tf.nn.softmax(predictions.logits, axis=-1)"
   ],
   "metadata": {
    "id": "YATvjWDZ4R65",
    "ExecuteTime": {
     "end_time": "2023-12-08T05:43:25.069176637Z",
     "start_time": "2023-12-08T05:43:25.050575179Z"
    }
   },
   "id": "YATvjWDZ4R65",
   "execution_count": 18,
   "outputs": []
  },
  {
   "cell_type": "code",
   "source": [
    "probabilities"
   ],
   "metadata": {
    "id": "LLEAK_rd43Io",
    "colab": {
     "base_uri": "https://localhost:8080/"
    },
    "outputId": "84e98606-2ae7-4d36-bd5d-7a2083c3b688",
    "ExecuteTime": {
     "end_time": "2023-12-08T05:43:25.229930384Z",
     "start_time": "2023-12-08T05:43:25.224513759Z"
    }
   },
   "id": "LLEAK_rd43Io",
   "execution_count": 19,
   "outputs": [
    {
     "data": {
      "text/plain": "<tf.Tensor: shape=(1, 6), dtype=float32, numpy=\narray([[0.19989938, 0.15762572, 0.14134216, 0.1593213 , 0.15418981,\n        0.18762165]], dtype=float32)>"
     },
     "execution_count": 19,
     "metadata": {},
     "output_type": "execute_result"
    }
   ]
  },
  {
   "cell_type": "code",
   "source": [
    "np_probabilities=probabilities.numpy()"
   ],
   "metadata": {
    "id": "tSmmx_Sf8Cbj",
    "ExecuteTime": {
     "end_time": "2023-12-08T05:47:33.652940716Z",
     "start_time": "2023-12-08T05:47:33.619745992Z"
    }
   },
   "id": "tSmmx_Sf8Cbj",
   "execution_count": 20,
   "outputs": []
  },
  {
   "cell_type": "code",
   "source": [
    "np_probabilities"
   ],
   "metadata": {
    "colab": {
     "base_uri": "https://localhost:8080/"
    },
    "id": "uN9WlIcPcKoT",
    "outputId": "65ce56f2-dd34-4095-ba13-12a80790f90a",
    "ExecuteTime": {
     "end_time": "2023-12-08T05:47:35.056609139Z",
     "start_time": "2023-12-08T05:47:35.050507333Z"
    }
   },
   "id": "uN9WlIcPcKoT",
   "execution_count": 21,
   "outputs": [
    {
     "data": {
      "text/plain": "array([[0.19989938, 0.15762572, 0.14134216, 0.1593213 , 0.15418981,\n        0.18762165]], dtype=float32)"
     },
     "execution_count": 21,
     "metadata": {},
     "output_type": "execute_result"
    }
   ]
  },
  {
   "cell_type": "code",
   "source": [
    "prob=np_probabilities.tolist()[0]"
   ],
   "metadata": {
    "id": "0C8kFta_dDna",
    "ExecuteTime": {
     "end_time": "2023-12-08T05:47:38.706278641Z",
     "start_time": "2023-12-08T05:47:38.660429998Z"
    }
   },
   "id": "0C8kFta_dDna",
   "execution_count": 22,
   "outputs": []
  },
  {
   "cell_type": "code",
   "source": [
    "prob"
   ],
   "metadata": {
    "colab": {
     "base_uri": "https://localhost:8080/"
    },
    "id": "SOs8c5jZdShl",
    "outputId": "c5e6de10-8762-4259-b5ec-fc5ed84e6bbd",
    "ExecuteTime": {
     "end_time": "2023-12-08T05:47:39.119907682Z",
     "start_time": "2023-12-08T05:47:39.108096123Z"
    }
   },
   "id": "SOs8c5jZdShl",
   "execution_count": 23,
   "outputs": [
    {
     "data": {
      "text/plain": "[0.19989937543869019,\n 0.1576257199048996,\n 0.1413421630859375,\n 0.15932129323482513,\n 0.1541898101568222,\n 0.18762165307998657]"
     },
     "execution_count": 23,
     "metadata": {},
     "output_type": "execute_result"
    }
   ]
  },
  {
   "cell_type": "code",
   "source": [
    "max_two=[prob.index(x) for x in sorted(prob, reverse=True)[:2]]\n",
    "max_two"
   ],
   "metadata": {
    "colab": {
     "base_uri": "https://localhost:8080/"
    },
    "id": "goJnFqWAdbM9",
    "outputId": "138336ba-a9e7-4ba4-dd83-127cae783104",
    "ExecuteTime": {
     "end_time": "2023-12-08T05:47:45.202974743Z",
     "start_time": "2023-12-08T05:47:45.174699032Z"
    }
   },
   "id": "goJnFqWAdbM9",
   "execution_count": 24,
   "outputs": [
    {
     "data": {
      "text/plain": "[0, 5]"
     },
     "execution_count": 24,
     "metadata": {},
     "output_type": "execute_result"
    }
   ]
  },
  {
   "cell_type": "code",
   "source": [
    "indices_to_emotion={0:'anger', 1:'joy', 2:'trust', 3:'anticipation',4:'sadness',5:'fear'}"
   ],
   "metadata": {
    "id": "Nlj-X_vhf3qV",
    "ExecuteTime": {
     "end_time": "2023-12-08T05:47:50.224770593Z",
     "start_time": "2023-12-08T05:47:50.207788373Z"
    }
   },
   "id": "Nlj-X_vhf3qV",
   "execution_count": 25,
   "outputs": []
  },
  {
   "cell_type": "code",
   "source": [
    "emotion1=indices_to_emotion[max_two[0]]\n",
    "emotion2=indices_to_emotion[max_two[1]]"
   ],
   "metadata": {
    "id": "_XcOJ6Eagp9J",
    "ExecuteTime": {
     "end_time": "2023-12-08T05:47:53.478154301Z",
     "start_time": "2023-12-08T05:47:53.473081609Z"
    }
   },
   "id": "_XcOJ6Eagp9J",
   "execution_count": 26,
   "outputs": []
  },
  {
   "cell_type": "code",
   "source": [
    "primary_dyads = {('joy','trust'): 'love', ('fear','trust'): 'submission', ('fear','surprise'): 'alarm',\n",
    "                 ('sadness','surprise'): 'disappointment', ('disgust','sadness'): 'remorse', ('anger','disgust'): 'contempt',\n",
    "                 ('anger','anticipation'): 'aggressiveness', ('anticipation','joy'): 'optimism'}\n",
    "\n",
    "secondary_dyads = {('anticipation','trust'):'hope',('fear','joy'):'guilt',('surprise','trust'):'curiosity',('fear','sadness'):'dispair',\n",
    "                   ('anger','sadness'):'envy',('anticipation','disgust'):'cynism',('anger','joy'):'pride'}\n",
    "\n",
    "tertiary_dyads = {('anger','trust'):'dominance',('anticipation','fear'):'anxiety',('joy','surprise'):'delight',\n",
    "                  ('sadness','trust'):'sentimentality',('disgust','fear'):'shame',('anger','surprise'):'outrage',\n",
    "                  ('anticipation','sadness'):'pessimism',('disgust','joy'):'morbidness'}\n",
    "\n",
    "opposite_dyads = {('joy','sadness'):'bittersweetness',('disgust','trust'):'ambivalence',('anger','fear'):'frozenness',\n",
    "                  ('anticipation','surprise'):'confusion'}\n",
    "plutchik_wheel = ['joy', 'trust', 'fear', 'surprise', 'sadness', 'disgust', 'anger', 'anticipation']"
   ],
   "metadata": {
    "id": "cVIgdhn0iDiI",
    "ExecuteTime": {
     "end_time": "2023-12-08T05:47:55.615078719Z",
     "start_time": "2023-12-08T05:47:55.590391232Z"
    }
   },
   "id": "cVIgdhn0iDiI",
   "execution_count": 27,
   "outputs": []
  },
  {
   "cell_type": "code",
   "source": [
    "def find_state(emotion1, emotion2):\n",
    "    if emotion1<emotion2:\n",
    "        emo1=emotion1\n",
    "        emo2=emotion2\n",
    "    else:\n",
    "        emo1=emotion2\n",
    "        emo2=emotion1\n",
    "    index1=plutchik_wheel.index(emo1)\n",
    "    index2=plutchik_wheel.index(emo2)\n",
    "    distance=abs(index1-index2) % 8\n",
    "\n",
    "    if distance>4:\n",
    "        distance=8-distance\n",
    "    if distance==1:\n",
    "        print(primary_dyads[(emo1, emo2)])\n",
    "    elif distance==2:\n",
    "        print(secondary_dyads[(emo1, emo2)])\n",
    "    elif distance==3:\n",
    "        print(tertiary_dyads[(emo1, emo2)])\n",
    "    elif distance==4:\n",
    "        print(opposite_dyads[(emo1, emo2)])\n",
    "    else:\n",
    "        print(\"error\")"
   ],
   "metadata": {
    "id": "30WX4k-yiO2J",
    "ExecuteTime": {
     "end_time": "2023-12-08T05:48:07.889420817Z",
     "start_time": "2023-12-08T05:48:07.886048657Z"
    }
   },
   "id": "30WX4k-yiO2J",
   "execution_count": 28,
   "outputs": []
  },
  {
   "cell_type": "code",
   "source": [
    "find_state(emotion1, emotion2)"
   ],
   "metadata": {
    "colab": {
     "base_uri": "https://localhost:8080/"
    },
    "id": "aJN5PAiiiQrp",
    "outputId": "e784a149-36c8-48a0-da1a-d42d278418eb",
    "ExecuteTime": {
     "end_time": "2023-12-08T05:48:10.127387646Z",
     "start_time": "2023-12-08T05:48:10.122054153Z"
    }
   },
   "id": "aJN5PAiiiQrp",
   "execution_count": 29,
   "outputs": [
    {
     "name": "stdout",
     "output_type": "stream",
     "text": [
      "frozenness\n"
     ]
    }
   ]
  },
  {
   "cell_type": "code",
   "execution_count": 30,
   "outputs": [
    {
     "data": {
      "text/plain": "<Axes: >"
     },
     "execution_count": 30,
     "metadata": {},
     "output_type": "execute_result"
    },
    {
     "data": {
      "text/plain": "<Figure size 800x800 with 1 Axes>",
      "image/png": "[encoded data removed]"
     },
     "metadata": {},
     "output_type": "display_data"
    }
   ],
   "source": [
    "#plot wheel\n",
    "from pyplutchik import plutchik\n",
    "emotions={\n",
    "    'joy':prob[1],\n",
    "    'trust':prob[2],\n",
    "    'fear':prob[5],\n",
    "    'surprise':0,\n",
    "    'sadness':prob[4],\n",
    "    'disgust':0,\n",
    "    'anger':prob[0],\n",
    "    'anticipation':prob[3]\n",
    "}\n",
    "plutchik(emotions)"
   ],
   "metadata": {
    "collapsed": false,
    "ExecuteTime": {
     "end_time": "2023-12-08T05:48:14.674638719Z",
     "start_time": "2023-12-08T05:48:14.189258059Z"
    }
   },
   "id": "86119e223f9c9d4d"
  },
  {
   "cell_type": "code",
   "source": [
    "test_results = {}\n",
    "\n",
    "test_results['model'] = model.evaluate(\n",
    "    train_features, train_labels, verbose=0)\n",
    "\n",
    "print(f\" Accuracy: {test_results}\")"
   ],
   "metadata": {
    "colab": {
     "base_uri": "https://localhost:8080/"
    },
    "id": "aHqI60vSib8Q",
    "outputId": "547c6a5f-896b-4452-8c9c-2f0ee7bc8c28",
    "ExecuteTime": {
     "end_time": "2023-12-08T05:48:31.583270449Z",
     "start_time": "2023-12-08T05:48:31.110034047Z"
    }
   },
   "id": "aHqI60vSib8Q",
   "execution_count": 31,
   "outputs": [
    {
     "ename": "RuntimeError",
     "evalue": "You must compile your model before training/testing. Use `model.compile(optimizer, loss)`.",
     "output_type": "error",
     "traceback": [
      "\u001B[0;31m---------------------------------------------------------------------------\u001B[0m",
      "\u001B[0;31mRuntimeError\u001B[0m                              Traceback (most recent call last)",
      "Cell \u001B[0;32mIn[31], line 3\u001B[0m\n\u001B[1;32m      1\u001B[0m test_results \u001B[38;5;241m=\u001B[39m {}\n\u001B[0;32m----> 3\u001B[0m test_results[\u001B[38;5;124m'\u001B[39m\u001B[38;5;124mmodel\u001B[39m\u001B[38;5;124m'\u001B[39m] \u001B[38;5;241m=\u001B[39m \u001B[43mmodel\u001B[49m\u001B[38;5;241;43m.\u001B[39;49m\u001B[43mevaluate\u001B[49m\u001B[43m(\u001B[49m\n\u001B[1;32m      4\u001B[0m \u001B[43m    \u001B[49m\u001B[43mtrain_features\u001B[49m\u001B[43m,\u001B[49m\u001B[43m \u001B[49m\u001B[43mtrain_labels\u001B[49m\u001B[43m,\u001B[49m\u001B[43m \u001B[49m\u001B[43mverbose\u001B[49m\u001B[38;5;241;43m=\u001B[39;49m\u001B[38;5;241;43m0\u001B[39;49m\u001B[43m)\u001B[49m\n\u001B[1;32m      6\u001B[0m \u001B[38;5;28mprint\u001B[39m(\u001B[38;5;124mf\u001B[39m\u001B[38;5;124m\"\u001B[39m\u001B[38;5;124m Accuracy: \u001B[39m\u001B[38;5;132;01m{\u001B[39;00mtest_results\u001B[38;5;132;01m}\u001B[39;00m\u001B[38;5;124m\"\u001B[39m)\n",
      "File \u001B[0;32m~/miniconda3/envs/ml/lib/python3.11/site-packages/keras/src/utils/traceback_utils.py:70\u001B[0m, in \u001B[0;36mfilter_traceback.<locals>.error_handler\u001B[0;34m(*args, **kwargs)\u001B[0m\n\u001B[1;32m     67\u001B[0m     filtered_tb \u001B[38;5;241m=\u001B[39m _process_traceback_frames(e\u001B[38;5;241m.\u001B[39m__traceback__)\n\u001B[1;32m     68\u001B[0m     \u001B[38;5;66;03m# To get the full stack trace, call:\u001B[39;00m\n\u001B[1;32m     69\u001B[0m     \u001B[38;5;66;03m# `tf.debugging.disable_traceback_filtering()`\u001B[39;00m\n\u001B[0;32m---> 70\u001B[0m     \u001B[38;5;28;01mraise\u001B[39;00m e\u001B[38;5;241m.\u001B[39mwith_traceback(filtered_tb) \u001B[38;5;28;01mfrom\u001B[39;00m \u001B[38;5;28;01mNone\u001B[39;00m\n\u001B[1;32m     71\u001B[0m \u001B[38;5;28;01mfinally\u001B[39;00m:\n\u001B[1;32m     72\u001B[0m     \u001B[38;5;28;01mdel\u001B[39;00m filtered_tb\n",
      "File \u001B[0;32m~/miniconda3/envs/ml/lib/python3.11/site-packages/keras/src/engine/training.py:3983\u001B[0m, in \u001B[0;36mModel._assert_compile_was_called\u001B[0;34m(self)\u001B[0m\n\u001B[1;32m   3977\u001B[0m \u001B[38;5;28;01mdef\u001B[39;00m \u001B[38;5;21m_assert_compile_was_called\u001B[39m(\u001B[38;5;28mself\u001B[39m):\n\u001B[1;32m   3978\u001B[0m     \u001B[38;5;66;03m# Checks whether `compile` has been called. If it has been called,\u001B[39;00m\n\u001B[1;32m   3979\u001B[0m     \u001B[38;5;66;03m# then the optimizer is set. This is different from whether the\u001B[39;00m\n\u001B[1;32m   3980\u001B[0m     \u001B[38;5;66;03m# model is compiled\u001B[39;00m\n\u001B[1;32m   3981\u001B[0m     \u001B[38;5;66;03m# (i.e. whether the model is built and its inputs/outputs are set).\u001B[39;00m\n\u001B[1;32m   3982\u001B[0m     \u001B[38;5;28;01mif\u001B[39;00m \u001B[38;5;129;01mnot\u001B[39;00m \u001B[38;5;28mself\u001B[39m\u001B[38;5;241m.\u001B[39m_is_compiled:\n\u001B[0;32m-> 3983\u001B[0m         \u001B[38;5;28;01mraise\u001B[39;00m \u001B[38;5;167;01mRuntimeError\u001B[39;00m(\n\u001B[1;32m   3984\u001B[0m             \u001B[38;5;124m\"\u001B[39m\u001B[38;5;124mYou must compile your model before \u001B[39m\u001B[38;5;124m\"\u001B[39m\n\u001B[1;32m   3985\u001B[0m             \u001B[38;5;124m\"\u001B[39m\u001B[38;5;124mtraining/testing. \u001B[39m\u001B[38;5;124m\"\u001B[39m\n\u001B[1;32m   3986\u001B[0m             \u001B[38;5;124m\"\u001B[39m\u001B[38;5;124mUse `model.compile(optimizer, loss)`.\u001B[39m\u001B[38;5;124m\"\u001B[39m\n\u001B[1;32m   3987\u001B[0m         )\n",
      "\u001B[0;31mRuntimeError\u001B[0m: You must compile your model before training/testing. Use `model.compile(optimizer, loss)`."
     ]
    }
   ]
  },
  {
   "cell_type": "code",
   "source": [
    "model.predict(test_features)"
   ],
   "metadata": {
    "id": "NbI58cqlk7Q5",
    "ExecuteTime": {
     "end_time": "2023-12-08T05:55:25.147672741Z",
     "start_time": "2023-12-08T05:55:15.727643673Z"
    }
   },
   "id": "NbI58cqlk7Q5",
   "execution_count": 32,
   "outputs": [
    {
     "name": "stdout",
     "output_type": "stream",
     "text": [
      "1/1 [==============================] - 9s 9s/step\n"
     ]
    },
    {
     "data": {
      "text/plain": "TFSequenceClassifierOutput(loss=None, logits=array([[-0.14047754,  0.3345204 ,  0.53231156, -0.64712846,  0.39203188,\n         0.18751253],\n       [-0.23937094,  0.32823318,  0.4432897 , -0.6843817 ,  0.42273876,\n         0.2532632 ]], dtype=float32), hidden_states=None, attentions=None)"
     },
     "execution_count": 32,
     "metadata": {},
     "output_type": "execute_result"
    }
   ]
  },
  {
   "cell_type": "code",
   "execution_count": null,
   "outputs": [],
   "source": [],
   "metadata": {
    "collapsed": false
   },
   "id": "9e410c3adcb78b01"
  }
 ],
 "metadata": {
  "kernelspec": {
   "name": "python3",
   "language": "python",
   "display_name": "Python 3 (ipykernel)"
  },
  "language_info": {
   "codemirror_mode": {
    "name": "ipython",
    "version": 3
   },
   "file_extension": ".py",
   "mimetype": "text/x-python",
   "name": "python",
   "nbconvert_exporter": "python",
   "pygments_lexer": "ipython3",
   "version": "3.11.4"
  },
  "colab": {
   "provenance": [],
   "gpuType": "T4"
  },
  "accelerator": "GPU"
 },
 "nbformat": 4,
 "nbformat_minor": 5
}
